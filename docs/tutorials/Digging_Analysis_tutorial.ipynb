{
  "cells": [
    {
      "cell_type": "markdown",
      "metadata": {
        "id": "ceZMUf7hIZsg"
      },
      "source": [
        "\n",
        "# Digging Analysis "
      ]
    },
    {
      "cell_type": "markdown",
      "metadata": {
        "id": "XdoDboCtNhUB"
      },
      "source": [
        "In this notebook we'll show examples of how to perform digging behavior analysis."
      ]
    },
    {
      "cell_type": "code",
      "source": [
        "import pandas as pd\n",
        "import matplotlib.pyplot as plt"
      ],
      "metadata": {
        "id": "YtUrMLM_fv8S"
      },
      "execution_count": null,
      "outputs": []
    },
    {
      "cell_type": "code",
      "source": [
        "df_gt = pd.read_excel('/content/timestamp.xlsx')"
      ],
      "metadata": {
        "id": "1u1vvyr-f1Oe"
      },
      "execution_count": null,
      "outputs": []
    },
    {
      "cell_type": "code",
      "source": [
        "df_gt.head()"
      ],
      "metadata": {
        "id": "v3Lx5lGmrl2E"
      },
      "execution_count": null,
      "outputs": []
    },
    {
      "cell_type": "code",
      "source": [
        "fps = 29.97"
      ],
      "metadata": {
        "id": "BVu_Bs7HhISf"
      },
      "execution_count": null,
      "outputs": []
    },
    {
      "cell_type": "code",
      "source": [
        "box_x1, box_y1, box_x2, box_y2 = 324, 178, 570, 344"
      ],
      "metadata": {
        "id": "Ibv3IMGhrRSM"
      },
      "execution_count": null,
      "outputs": []
    },
    {
      "cell_type": "code",
      "source": [
        "def convert_time_to_frame_number(time_stamp, fps=29.97):\n",
        "    h, m, s = time_stamp.split(':')\n",
        "    seconds, milliseconds = s.split('.')\n",
        "    total_seconds = int(h) * 3600 + int(m) * 60 + int(seconds)\n",
        "    total_frames = int(total_seconds * fps) + int(milliseconds) * fps // 1000\n",
        "    return int(total_frames)\n"
      ],
      "metadata": {
        "id": "c9AOUOUehnQ0"
      },
      "execution_count": null,
      "outputs": []
    },
    {
      "cell_type": "code",
      "source": [
        "def convert_frame_number_to_time(fps, frame_number):\n",
        "    total_seconds = frame_number / fps\n",
        "    hours = int(total_seconds // 3600)\n",
        "    minutes = int((total_seconds % 3600) // 60)\n",
        "    seconds = int(total_seconds % 60)\n",
        "    milliseconds = int((total_seconds - int(total_seconds)) * 1000)\n",
        "    time_stamp = f\"{hours:02d}:{minutes:02d}:{seconds:02d}.{milliseconds:03d}\"\n",
        "    return time_stamp\n"
      ],
      "metadata": {
        "id": "RW-Uw65rhpfK"
      },
      "execution_count": null,
      "outputs": []
    },
    {
      "cell_type": "code",
      "source": [
        "df_gt = df_gt['R2142_40-20-2022'].dropna().apply(convert_time_to_frame_number)"
      ],
      "metadata": {
        "id": "hw4JPq-exHhq"
      },
      "execution_count": null,
      "outputs": []
    },
    {
      "cell_type": "code",
      "source": [
        "df_gt.values"
      ],
      "metadata": {
        "id": "9C1Ajtjc92x-"
      },
      "execution_count": null,
      "outputs": []
    },
    {
      "cell_type": "code",
      "source": [
        "df_pred = pd.read_csv('/content/rats_coco_dataset_R2142_04-20-2022_mask_rcnn_tracking_results_with_segmentation.csv')"
      ],
      "metadata": {
        "id": "uXDwalvqnOkY"
      },
      "execution_count": null,
      "outputs": []
    },
    {
      "cell_type": "code",
      "source": [
        "df_pred.head()"
      ],
      "metadata": {
        "id": "xO9_m6D2nOwC"
      },
      "execution_count": null,
      "outputs": []
    },
    {
      "cell_type": "code",
      "source": [
        "df_pred.columns"
      ],
      "metadata": {
        "id": "IxJnSOclnbbH"
      },
      "execution_count": null,
      "outputs": []
    },
    {
      "cell_type": "code",
      "source": [
        "df_cup = df_pred[df_pred['instance_name']=='cup']"
      ],
      "metadata": {
        "id": "KHLDKpVLwbSk"
      },
      "execution_count": null,
      "outputs": []
    },
    {
      "cell_type": "code",
      "source": [
        "df_cup.frame_number"
      ],
      "metadata": {
        "id": "ycqND_clt1Eu"
      },
      "execution_count": null,
      "outputs": []
    },
    {
      "cell_type": "code",
      "source": [
        "import ast\n",
        "from pycocotools import mask as mask_util\n",
        "def mask_area(mask):\n",
        "    \"\"\"Calulate the area of a RLE mask.\n",
        "    \"\"\"\n",
        "    try:\n",
        "        area = mask_util.area(mask)\n",
        "    except TypeError:\n",
        "        mask = ast.literal_eval(mask)\n",
        "        area = mask_util.area(mask)\n",
        "    return area"
      ],
      "metadata": {
        "id": "5P3PeYPKygwP"
      },
      "execution_count": null,
      "outputs": []
    },
    {
      "cell_type": "code",
      "source": [
        "df_cup['mask_area'] = df_cup.segmentation.apply(mask_area)"
      ],
      "metadata": {
        "id": "NG6wB5e_y8zs"
      },
      "execution_count": null,
      "outputs": []
    },
    {
      "cell_type": "code",
      "source": [
        "df_cup.head()"
      ],
      "metadata": {
        "id": "yeUqDqqIuIby"
      },
      "execution_count": null,
      "outputs": []
    },
    {
      "cell_type": "code",
      "source": [
        "df_cup['mask_area'].describe()"
      ],
      "metadata": {
        "id": "wWhdvxJXzKPt"
      },
      "execution_count": null,
      "outputs": []
    },
    {
      "cell_type": "code",
      "source": [
        "df_cup.class_score.describe()"
      ],
      "metadata": {
        "id": "N5HRgj97ttR3"
      },
      "execution_count": null,
      "outputs": []
    },
    {
      "cell_type": "code",
      "source": [
        "df_cup = df_cup[df_cup.mask_area > 400]"
      ],
      "metadata": {
        "id": "NaVKUhzpP6gQ"
      },
      "execution_count": null,
      "outputs": []
    },
    {
      "cell_type": "code",
      "source": [
        "df_cup = df_cup[df_cup.class_score > 0.88]"
      ],
      "metadata": {
        "id": "J5lNTuYqFFdX"
      },
      "execution_count": null,
      "outputs": []
    },
    {
      "cell_type": "code",
      "source": [
        "df_cup.frame_number"
      ],
      "metadata": {
        "id": "ZNIRHyTxFf-5"
      },
      "execution_count": null,
      "outputs": []
    },
    {
      "cell_type": "code",
      "source": [
        "df_cups = df_pred[df_pred.frame_number.isin(df_cup.frame_number)]"
      ],
      "metadata": {
        "id": "8cgt6Hobwzv7"
      },
      "execution_count": null,
      "outputs": []
    },
    {
      "cell_type": "code",
      "source": [
        "df_cups.frame_number"
      ],
      "metadata": {
        "id": "WwwBHDFlErs3"
      },
      "execution_count": null,
      "outputs": []
    },
    {
      "cell_type": "code",
      "source": [
        "df_cups_rats = df_cups[df_cups.frame_number.isin(df_cups[df_cups.instance_name == 'rat'].frame_number.unique())]"
      ],
      "metadata": {
        "id": "EqCiW1-Cym0X"
      },
      "execution_count": null,
      "outputs": []
    },
    {
      "cell_type": "code",
      "source": [
        "df_cups_rats[df_cups_rats.frame_number == 5064]"
      ],
      "metadata": {
        "id": "OXTroSFtcrP6"
      },
      "execution_count": null,
      "outputs": []
    },
    {
      "cell_type": "code",
      "source": [
        "import pandas as pd\n",
        "\n",
        "# Step 1: Filter dataframe to include frames with rat head and cup instances\n",
        "rat_cup_df = df_cups_rats #df[(df['instance_name'] == 'rat head') | (df['instance_name'] == 'cup')]\n",
        "# Step 2: Compute IoU for each frame\n",
        "iou_list = []\n",
        "for frame_num in rat_cup_df.frame_number:\n",
        "    # Get binary masks for rat head and cup instances\n",
        "    df_cur = rat_cup_df[rat_cup_df.frame_number == frame_num]\n",
        "    rat_mask = df_cur[df_cur.instance_name == 'rat']['segmentation'].values[0]\n",
        "    cup_mask = df_cur[df_cur.instance_name == 'cup']['segmentation'].values[0]\n",
        "    rat_rle = ast.literal_eval(rat_mask)\n",
        "    cup_rle = ast.literal_eval(cup_mask)\n",
        "    # calculate the IoU between the rat and cup masks\n",
        "    iou = mask_util.iou([rat_rle], [cup_rle], [0])[0][0]  # we assume there is only one rat and one cup mask\n",
        "    iou_list.append((frame_num, iou))\n",
        "\n",
        "# Convert results to dataframe\n",
        "iou_df = pd.DataFrame(iou_list, columns=['frame_number', 'iou'])"
      ],
      "metadata": {
        "id": "WOt2JRsvIj3i"
      },
      "execution_count": null,
      "outputs": []
    },
    {
      "cell_type": "code",
      "source": [
        "smoothed_iou = iou_df['iou'].rolling(15).mean()"
      ],
      "metadata": {
        "id": "4f0V8dbpOFFA"
      },
      "execution_count": null,
      "outputs": []
    },
    {
      "cell_type": "code",
      "source": [
        "iou_df['smoothed_iou'] = smoothed_iou"
      ],
      "metadata": {
        "id": "1EuyXPC4NexF"
      },
      "execution_count": null,
      "outputs": []
    },
    {
      "cell_type": "code",
      "source": [
        "iou_df"
      ],
      "metadata": {
        "id": "6Hd3txGpyJGZ"
      },
      "execution_count": null,
      "outputs": []
    },
    {
      "cell_type": "code",
      "source": [
        "iou_df['diff_iou'] = iou_df.smoothed_iou.diff()\n"
      ],
      "metadata": {
        "id": "aB_CdfMIOb0B"
      },
      "execution_count": null,
      "outputs": []
    },
    {
      "cell_type": "code",
      "source": [
        "# Compute rolling window of size 15 and count non-zero values\n",
        "window_size = 15\n",
        "nonzero_counts = iou_df['iou'].rolling(window_size).apply(lambda x: (x > 0).sum())\n"
      ],
      "metadata": {
        "id": "heMMHWHs06hL"
      },
      "execution_count": null,
      "outputs": []
    },
    {
      "cell_type": "code",
      "source": [
        "iou_df['nonzero_counts'] = nonzero_counts"
      ],
      "metadata": {
        "id": "FLV5CpfQ1KqR"
      },
      "execution_count": null,
      "outputs": []
    },
    {
      "cell_type": "code",
      "source": [
        "iou_df.describe()"
      ],
      "metadata": {
        "id": "MA8r6jhNzUWM"
      },
      "execution_count": null,
      "outputs": []
    },
    {
      "cell_type": "code",
      "source": [
        "prev_iou = 0.0\n",
        "res = set()\n",
        "for idx, row in iou_df.iterrows():\n",
        "    if row.nonzero_counts >=1 and row.diff_iou > 0.000001 and  0 <= prev_iou <= 0.00000000000001:\n",
        "        res.add(row.frame_number)\n",
        "    prev_iou = row.diff_iou"
      ],
      "metadata": {
        "id": "yPhh4zRlV0TC"
      },
      "execution_count": null,
      "outputs": []
    },
    {
      "cell_type": "code",
      "source": [
        "preds = [int(fn) for fn in sorted(res)]\n"
      ],
      "metadata": {
        "id": "Y6TYSriEYiRR"
      },
      "execution_count": null,
      "outputs": []
    },
    {
      "cell_type": "code",
      "source": [
        "def reduce_array(arr):\n",
        "    result = [arr[0]]  # initialize result array with first element of input array\n",
        "    for i in range(1, len(arr)):\n",
        "        if arr[i] - result[-1] < 400:\n",
        "            result[-1] = min(result[-1], arr[i])\n",
        "        else:\n",
        "            result.append(arr[i])\n",
        "    return result"
      ],
      "metadata": {
        "id": "KPENnPY-LaFH"
      },
      "execution_count": null,
      "outputs": []
    },
    {
      "cell_type": "code",
      "source": [
        "frames_cup_not_on_bottom = set(df_cup[(df_cup.cy < box_y1) | (df_cup.cy > box_y2) | (df_cup.cx < box_x1) | (df_cup.cx > box_x2)].frame_number.unique())\n"
      ],
      "metadata": {
        "id": "EFJDEiYvUkT6"
      },
      "execution_count": null,
      "outputs": []
    },
    {
      "cell_type": "code",
      "source": [
        "preds = [pred for pred in preds if pred not in frames_cup_not_on_bottom]"
      ],
      "metadata": {
        "id": "LpKh_fCuVKSA"
      },
      "execution_count": null,
      "outputs": []
    },
    {
      "cell_type": "code",
      "source": [
        "df_cup[df_cup.frame_number == 142073]"
      ],
      "metadata": {
        "id": "OwRnhPuCPXEz"
      },
      "execution_count": null,
      "outputs": []
    },
    {
      "cell_type": "code",
      "source": [
        "preds = reduce_array(preds)"
      ],
      "metadata": {
        "id": "CKXe_XOLLfNl"
      },
      "execution_count": null,
      "outputs": []
    },
    {
      "cell_type": "code",
      "source": [
        "len(preds), print(str(preds))"
      ],
      "metadata": {
        "id": "sqhmuBkCzoC6"
      },
      "execution_count": null,
      "outputs": []
    },
    {
      "cell_type": "code",
      "source": [
        "len(df_gt.values), print(str(df_gt.values))"
      ],
      "metadata": {
        "id": "2gjVBxAr5Asx"
      },
      "execution_count": null,
      "outputs": []
    },
    {
      "cell_type": "code",
      "source": [
        "time_stamps = []\n",
        "for pred in preds:\n",
        "    time_stamps.append(convert_frame_number_to_time(fps,pred))\n"
      ],
      "metadata": {
        "id": "KIxuYeVO5QJO"
      },
      "execution_count": null,
      "outputs": []
    },
    {
      "cell_type": "code",
      "source": [
        "time_stamps"
      ],
      "metadata": {
        "id": "qXM4EcWt56Pp"
      },
      "execution_count": null,
      "outputs": []
    },
    {
      "cell_type": "code",
      "source": [
        "pred_s = pd.Series(time_stamps)"
      ],
      "metadata": {
        "id": "Ynl79_YndmCg"
      },
      "execution_count": null,
      "outputs": []
    },
    {
      "cell_type": "code",
      "source": [
        "pred_s.to_csv('predicted_R2142_04-20-2022.csv', index=False)"
      ],
      "metadata": {
        "id": "RzZXtIhZd3Kc"
      },
      "execution_count": null,
      "outputs": []
    },
    {
      "cell_type": "code",
      "source": [
        "# create the plot\n",
        "fig, ax = plt.subplots(figsize=(16, 8))\n",
        "\n",
        "# plot the data\n",
        "ax.plot(iou_df[\"frame_number\"], iou_df[\"smoothed_iou\"], label=\"Smoothed IoU\")\n",
        "ax.plot(iou_df[\"frame_number\"], iou_df[\"diff_iou\"], label=\"Difference of IoU\")\n",
        "\n",
        "# plot the special marks\n",
        "x_gt = df_gt.values\n",
        "y_gt = [ax.get_ylim()[1]] * len(x_gt)\n",
        "ax.scatter(x_gt, y_gt, marker=\"|\", color=\"red\", s=150, label=\"Ground Truth\")\n",
        "x_pred = preds\n",
        "y_pred = [ax.get_ylim()[1]] * len(x_pred)\n",
        "ax.scatter(x_pred, y_pred, marker='|',color='green', s=150, label=\"Predictions\")\n",
        "\n",
        "# add legend\n",
        "ax.legend(loc=\"lower left\")\n",
        "\n",
        "# show the plot\n",
        "plt.show()"
      ],
      "metadata": {
        "id": "3yYbcmqqbyXy"
      },
      "execution_count": null,
      "outputs": []
    }
  ],
  "metadata": {
    "colab": {
      "provenance": []
    },
    "kernelspec": {
      "display_name": "Python 3",
      "language": "python",
      "name": "python3"
    },
    "language_info": {
      "codemirror_mode": {
        "name": "ipython",
        "version": 3
      },
      "file_extension": ".py",
      "mimetype": "text/x-python",
      "name": "python",
      "nbconvert_exporter": "python",
      "pygments_lexer": "ipython3",
      "version": "3.6.12"
    }
  },
  "nbformat": 4,
  "nbformat_minor": 0
}