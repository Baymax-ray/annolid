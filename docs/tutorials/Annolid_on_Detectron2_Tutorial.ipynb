{
  "nbformat": 4,
  "nbformat_minor": 0,
  "metadata": {
    "colab": {
      "name": "Annolid of Detectron2 Tutorial.ipynb",
      "provenance": [],
      "collapsed_sections": []
    },
    "kernelspec": {
      "name": "python3",
      "display_name": "Python 3"
    },
    "language_info": {
      "name": "python"
    },
    "accelerator": "GPU"
  },
  "cells": [
    {
      "cell_type": "markdown",
      "source": [
        "<a href=\"https://colab.research.google.com/github/healthonrails/annolid/blob/main/docs/tutorials/Annolid_on_Detectron2_Tutorial.ipynb\" target=\"_blank\"><img src=\"https://colab.research.google.com/assets/colab-badge.svg\" alt=\"Open In Colab\"/></a>"
      ],
      "metadata": {
        "id": "mlCWlQ2pTc88"
      }
    },
    {
      "cell_type": "markdown",
      "source": [
        "# Annolid on Detectron2 Tutorial\n",
        "\n",
        "<img src=\"https://dl.fbaipublicfiles.com/detectron2/Detectron2-Logo-Horz.png\" width=\"500\">\n",
        "\n",
        "Welcome to Annolid on detectron2! This is modified from the official colab tutorial of detectron2. Here, we will go through some basics usage of detectron2, including the following:\n",
        "* Run inference on images or videos, with an existing detectron2 model\n",
        "* Train a detectron2 model on a new dataset\n",
        "\n",
        "You can make a copy of this tutorial by \"File -> Open in playground mode\" and play with it yourself. __DO NOT__ request access to this tutorial.\n"
      ],
      "metadata": {
        "id": "QHnVupBBn9eR"
      }
    },
    {
      "cell_type": "markdown",
      "source": [
        "# Install detectron2"
      ],
      "metadata": {
        "id": "vM54r6jlKTII"
      }
    },
    {
      "cell_type": "code",
      "execution_count": null,
      "source": [
        "# install dependencies: \n",
        "!pip install pyyaml==5.3\n",
        "import torch, torchvision\n",
        "TORCH_VERSION = \".\".join(torch.__version__.split(\".\")[:2])\n",
        "CUDA_VERSION = torch.__version__.split(\"+\")[-1]\n",
        "print(\"torch: \", TORCH_VERSION, \"; cuda: \", CUDA_VERSION)\n",
        "# Install detectron2 that matches the above pytorch version\n",
        "# See https://detectron2.readthedocs.io/tutorials/install.html for instructions\n",
        "!pip install detectron2 -f https://dl.fbaipublicfiles.com/detectron2/wheels/$CUDA_VERSION/torch$TORCH_VERSION/index.html\n",
        "# If there is not yet a detectron2 release that matches the given torch + CUDA version, you need to install a different pytorch.\n",
        "\n",
        "# exit(0)  # After installation, you may need to \"restart runtime\" in Colab. This line can also restart runtime"
      ],
      "outputs": [],
      "metadata": {
        "id": "9_FzH13EjseR"
      }
    },
    {
      "cell_type": "code",
      "execution_count": null,
      "source": [
        "# Some basic setup:\n",
        "# Setup detectron2 logger\n",
        "import detectron2\n",
        "from detectron2.utils.logger import setup_logger\n",
        "setup_logger()\n",
        "\n",
        "# import some common libraries\n",
        "import numpy as np\n",
        "import os, json, cv2, random, glob\n",
        "from google.colab.patches import cv2_imshow\n",
        "\n",
        "# import some common detectron2 utilities\n",
        "from detectron2 import model_zoo\n",
        "from detectron2.engine import DefaultPredictor\n",
        "from detectron2.config import get_cfg\n",
        "from detectron2.utils.visualizer import Visualizer\n",
        "from detectron2.data import MetadataCatalog, DatasetCatalog"
      ],
      "outputs": [],
      "metadata": {
        "id": "ZyAvNCJMmvFF"
      }
    },
    {
      "cell_type": "markdown",
      "source": [
        "## Upload a labeled dataset as follows.\n",
        "Note: please make sure the is no white space in your file path if you encounter file not found issues.\n",
        "\n",
        "**Error in Firefox:  See https://github.com/googlecolab/colabtools/issues/51**\n",
        "\n",
        "**Solution : please try to use chrome**"
      ],
      "metadata": {
        "id": "9GXik0-s9zda"
      }
    },
    {
      "cell_type": "code",
      "execution_count": null,
      "source": [
        "from google.colab import files\n",
        "uploaded = files.upload()\n",
        "dataset =  list(uploaded.keys())[0]  #\"/content/dataset.zip\""
      ],
      "outputs": [],
      "metadata": {
        "id": "JcWvszD899W4"
      }
    },
    {
      "cell_type": "markdown",
      "source": [
        "## Note: (This step is optional) \n",
        "### Please skip this step if have uploaded your own dataset in the previous cell\n",
        "You can uncomment the following cell and download an example dataset"
      ],
      "metadata": {
        "id": "Uq2Az7cL0yrU"
      }
    },
    {
      "cell_type": "code",
      "source": [
        "# !gdown --id 1fUXCLnoJ5SwXg54mj0NBKGzidsV8ALVR\n",
        "# dataset = '/content/novelctrlk6_8_coco_dataset.zip'"
      ],
      "metadata": {
        "id": "xDHQQHll1nD-"
      },
      "execution_count": null,
      "outputs": []
    },
    {
      "cell_type": "code",
      "execution_count": null,
      "source": [
        "!unzip $dataset -d /content/"
      ],
      "outputs": [],
      "metadata": {
        "id": "7gD2vEWtmZQ8"
      }
    },
    {
      "cell_type": "markdown",
      "source": [
        "## Auto extract DATASET_NAME and DATASET_DIR or you can replace them with your own strings like `**DATASET_NAME** = \"MYDATASET_1\"` and `DATASETDIR=\"MYDATASET_DIR\"`"
      ],
      "metadata": {
        "id": "pWfb29Cy9EdH"
      }
    },
    {
      "cell_type": "code",
      "execution_count": null,
      "source": [
        "DATASET_NAME = f\"{os.path.basename(dataset).split('_')[0]}\" \n",
        "DATASET_DIR = f\"{dataset.replace('.zip','')}\"  \n"
      ],
      "outputs": [],
      "metadata": {
        "id": "21PxYqli7Y67"
      }
    },
    {
      "cell_type": "code",
      "execution_count": null,
      "source": [
        "DATASET_NAME"
      ],
      "outputs": [],
      "metadata": {
        "id": "KzRZngMi_ujx"
      }
    },
    {
      "cell_type": "code",
      "execution_count": null,
      "source": [
        "DATASET_DIR"
      ],
      "outputs": [],
      "metadata": {
        "id": "Gak3KwomHghD"
      }
    },
    {
      "cell_type": "markdown",
      "source": [
        "# Run a pre-trained detectron2 model"
      ],
      "metadata": {
        "id": "Vk4gID50K03a"
      }
    },
    {
      "cell_type": "markdown",
      "source": [
        "First, we check a random selected image from the our COCO training dataset:"
      ],
      "metadata": {
        "id": "JgKyUL4pngvE"
      }
    },
    {
      "cell_type": "code",
      "execution_count": null,
      "source": [
        "# select and display one random image from the training set\n",
        "img_file = random.choice(glob.glob(f\"{DATASET_DIR}/train/JPEGImages/*.*\"))\n",
        "im = cv2.imread(img_file)\n",
        "cv2_imshow(im)"
      ],
      "outputs": [],
      "metadata": {
        "id": "dq9GY37ml1kr"
      }
    },
    {
      "cell_type": "markdown",
      "source": [
        "Then, we create a Detectron2 config and a detectron2 `DefaultPredictor` to run inference on this image."
      ],
      "metadata": {
        "id": "uM1thbN-ntjI"
      }
    },
    {
      "cell_type": "code",
      "execution_count": null,
      "source": [
        "cfg = get_cfg()\n",
        "# add project-specific config (e.g., TensorMask) here if you're not running a model in detectron2's core library\n",
        "cfg.merge_from_file(model_zoo.get_config_file(\"COCO-InstanceSegmentation/mask_rcnn_R_50_FPN_3x.yaml\"))\n",
        "cfg.MODEL.ROI_HEADS.SCORE_THRESH_TEST = 0.1  # set threshold for this model\n",
        "# Find a model from Detectron2's model zoo. You can use the https://dl.fbaipublicfiles... url as well\n",
        "cfg.MODEL.WEIGHTS = model_zoo.get_checkpoint_url(\"COCO-InstanceSegmentation/mask_rcnn_R_50_FPN_3x.yaml\")\n",
        "predictor = DefaultPredictor(cfg)\n",
        "outputs = predictor(im)"
      ],
      "outputs": [],
      "metadata": {
        "id": "HUjkwRsOn1O0"
      }
    },
    {
      "cell_type": "code",
      "execution_count": null,
      "source": [
        "# look at the outputs. See https://detectron2.readthedocs.io/tutorials/models.html#model-output-format for specification\n",
        "print(outputs[\"instances\"].pred_classes)\n",
        "print(outputs[\"instances\"].pred_boxes)"
      ],
      "outputs": [],
      "metadata": {
        "id": "7d3KxiHO_0gb"
      }
    },
    {
      "cell_type": "code",
      "execution_count": null,
      "source": [
        "outputs['instances'].pred_masks"
      ],
      "outputs": [],
      "metadata": {
        "id": "eM728kMR0ACL"
      }
    },
    {
      "cell_type": "code",
      "execution_count": null,
      "source": [
        "MetadataCatalog.get(cfg.DATASETS.TRAIN[0])"
      ],
      "outputs": [],
      "metadata": {
        "id": "NWnR6KMx2KK7"
      }
    },
    {
      "cell_type": "code",
      "execution_count": null,
      "source": [
        "# We can use `Visualizer` to draw the predictions on the image.\n",
        "v = Visualizer(im[:, :, ::-1], MetadataCatalog.get(cfg.DATASETS.TRAIN[0]), scale=1.2)\n",
        "out = v.draw_instance_predictions(outputs[\"instances\"].to(\"cpu\"))\n",
        "cv2_imshow(out.get_image()[:, :, ::-1])"
      ],
      "outputs": [],
      "metadata": {
        "id": "8IRGo8d0qkgR"
      }
    },
    {
      "cell_type": "markdown",
      "source": [
        "# Train on a custom dataset"
      ],
      "metadata": {
        "id": "b2bjrfb2LDeo"
      }
    },
    {
      "cell_type": "markdown",
      "source": [
        "In this section, we show how to train an existing detectron2 model on a custom dataset in COCO format.\n",
        "\n",
        "## Prepare the dataset"
      ],
      "metadata": {
        "id": "tjbUIhSxUdm_"
      }
    },
    {
      "cell_type": "markdown",
      "source": [
        "Register the custom dataset to Detectron2, following the [detectron2 custom dataset tutorial](https://detectron2.readthedocs.io/tutorials/datasets.html).\n",
        "Here, the dataset is in COCO format, therefore we register  into Detectron2's standard format. User should write such a function when using a dataset in custom format. See the tutorial for more details.\n"
      ],
      "metadata": {
        "id": "tVJoOm6LVJwW"
      }
    },
    {
      "cell_type": "code",
      "execution_count": null,
      "source": [
        "# if your dataset is in COCO format, this cell can be run by the following three lines:\n",
        "from detectron2.data.datasets import register_coco_instances\n",
        "register_coco_instances(f\"{DATASET_NAME}_train\", {}, f\"{DATASET_DIR}/train/annotations.json\", f\"{DATASET_DIR}/train/\")\n",
        "register_coco_instances(f\"{DATASET_NAME}_valid\", {}, f\"{DATASET_DIR}/valid/annotations.json\", f\"{DATASET_DIR}/valid/\")\n"
      ],
      "outputs": [],
      "metadata": {
        "id": "PIbAM2pv-urF"
      }
    },
    {
      "cell_type": "code",
      "execution_count": null,
      "source": [
        "from detectron2.data import get_detection_dataset_dicts\n",
        "from detectron2.data.datasets import  builtin_meta"
      ],
      "outputs": [],
      "metadata": {
        "id": "9F93EZ2m_clN"
      }
    },
    {
      "cell_type": "code",
      "execution_count": null,
      "source": [
        "dataset_dicts = get_detection_dataset_dicts([f\"{DATASET_NAME}_train\"])"
      ],
      "outputs": [],
      "metadata": {
        "id": "GzKzTlwU_iHh"
      }
    },
    {
      "cell_type": "code",
      "execution_count": null,
      "source": [
        "_dataset_metadata = MetadataCatalog.get(f\"{DATASET_NAME}_train\")\n",
        "_dataset_metadata.thing_colors = [cc['color'] for cc in builtin_meta.COCO_CATEGORIES]"
      ],
      "outputs": [],
      "metadata": {
        "id": "FVJnolv9__eE"
      }
    },
    {
      "cell_type": "code",
      "execution_count": null,
      "source": [
        "_dataset_metadata"
      ],
      "outputs": [],
      "metadata": {
        "id": "h-dEBJmW447_"
      }
    },
    {
      "cell_type": "code",
      "execution_count": null,
      "source": [
        "NUM_CLASSES = len(_dataset_metadata.thing_classes)\n",
        "print(f\"{NUM_CLASSES} Number of classes in the dataset\")"
      ],
      "outputs": [],
      "metadata": {
        "id": "llntrPobA2CM"
      }
    },
    {
      "cell_type": "markdown",
      "source": [
        "To verify the data loading is correct, let's visualize the annotations of randomly selected samples in the training set:\n",
        "\n"
      ],
      "metadata": {
        "id": "6ljbWTX0Wi8E"
      }
    },
    {
      "cell_type": "code",
      "execution_count": null,
      "source": [
        "for d in random.sample(dataset_dicts, 2):\n",
        "    if '\\\\' in d['file_name']:\n",
        "        d['file_name'] = d['file_name'].replace('\\\\','/')\n",
        "    img = cv2.imread(d[\"file_name\"])\n",
        "    visualizer = Visualizer(img[:, :, ::-1], metadata=_dataset_metadata, scale=0.5)\n",
        "    out = visualizer.draw_dataset_dict(d)\n",
        "    cv2_imshow(out.get_image()[:, :, ::-1])"
      ],
      "outputs": [],
      "metadata": {
        "id": "UkNbUzUOLYf0"
      }
    },
    {
      "cell_type": "markdown",
      "source": [
        "## Train!\n",
        "\n",
        "Now, let's fine-tune a COCO-pretrained R50-FPN Mask R-CNN model on the dataset. It takes ~2 hours to train 3000 iterations on Colab's K80 GPU, or ~1.5 hours on a P100 GPU.\n"
      ],
      "metadata": {
        "id": "wlqXIXXhW8dA"
      }
    },
    {
      "cell_type": "code",
      "execution_count": null,
      "source": [
        "!nvidia-smi"
      ],
      "outputs": [],
      "metadata": {
        "id": "w9vyoXX0xZcM"
      }
    },
    {
      "cell_type": "code",
      "execution_count": null,
      "source": [
        "from detectron2.engine import DefaultTrainer\n",
        "\n",
        "cfg = get_cfg()\n",
        "cfg.merge_from_file(model_zoo.get_config_file(\"COCO-InstanceSegmentation/mask_rcnn_R_50_FPN_3x.yaml\"))\n",
        "cfg.DATASETS.TRAIN = (f\"{DATASET_NAME}_train\",)\n",
        "cfg.DATASETS.TEST = ()\n",
        "cfg.DATALOADER.NUM_WORKERS = 2 #@param\n",
        "cfg.DATALOADER.SAMPLER_TRAIN = \"RepeatFactorTrainingSampler\"\n",
        "cfg.DATALOADER.REPEAT_THRESHOLD = 0.3\n",
        "cfg.MODEL.WEIGHTS = model_zoo.get_checkpoint_url(\"COCO-InstanceSegmentation/mask_rcnn_R_50_FPN_3x.yaml\")  # Let training initialize from model zoo\n",
        "cfg.SOLVER.IMS_PER_BATCH =  8#@param\n",
        "cfg.SOLVER.BASE_LR = 0.0025 #@param # pick a good LR\n",
        "cfg.SOLVER.MAX_ITER = 3000 #@param    # 300 iterations seems good enough for 100 frames dataset; you will need to train longer for a practical dataset\n",
        "cfg.SOLVER.CHECKPOINT_PERIOD = 1000 #@param \n",
        "cfg.MODEL.ROI_HEADS.BATCH_SIZE_PER_IMAGE = 128 #@param   # faster, and good enough for this toy dataset (default: 512)\n",
        "cfg.MODEL.ROI_HEADS.NUM_CLASSES = NUM_CLASSES  #  (see https://detectron2.readthedocs.io/tutorials/datasets.html#update-the-config-for-new-datasets)\n",
        "os.makedirs(cfg.OUTPUT_DIR, exist_ok=True)\n",
        "trainer = DefaultTrainer(cfg) \n",
        "trainer.resume_or_load(resume=False)\n"
      ],
      "outputs": [],
      "metadata": {
        "id": "7unkuuiqLdqd"
      }
    },
    {
      "cell_type": "code",
      "execution_count": null,
      "source": [
        "# Look at training curves in tensorboard:\n",
        "%load_ext tensorboard\n",
        "%tensorboard --logdir output"
      ],
      "outputs": [],
      "metadata": {
        "id": "hBXeH8UXFcqU"
      }
    },
    {
      "cell_type": "code",
      "execution_count": null,
      "source": [
        "trainer.train()"
      ],
      "outputs": [],
      "metadata": {
        "id": "aKs8eu8u8_mr"
      }
    },
    {
      "cell_type": "markdown",
      "source": [
        "## Inference & evaluation using the trained model\n",
        "Now, let's run inference with the trained model on the validation dataset. First, let's create a predictor using the model we just trained:\n",
        "\n"
      ],
      "metadata": {
        "id": "0e4vdDIOXyxF"
      }
    },
    {
      "cell_type": "code",
      "execution_count": null,
      "source": [
        "# Inference should use the config with parameters that are used in training\n",
        "# cfg now already contains everything we've set previously. We changed it a little bit for inference:\n",
        "cfg.MODEL.WEIGHTS = os.path.join(cfg.OUTPUT_DIR, \"model_final.pth\")  # path to the model we just trained\n",
        "# set a custom testing threshold\n",
        "cfg.MODEL.ROI_HEADS.SCORE_THRESH_TEST = 0.15   #@param {type: \"slider\", min:0.0, max:1.0, step: 0.01}\n",
        "predictor = DefaultPredictor(cfg)"
      ],
      "outputs": [],
      "metadata": {
        "id": "Ya5nEuMELeq8"
      }
    },
    {
      "cell_type": "markdown",
      "source": [
        "Then, we randomly select several samples to visualize the prediction results."
      ],
      "metadata": {
        "id": "qWq1XHfDWiXO"
      }
    },
    {
      "cell_type": "code",
      "execution_count": null,
      "source": [
        "from detectron2.utils.visualizer import ColorMode\n",
        "dataset_dicts = get_detection_dataset_dicts([f\"{DATASET_NAME}_valid\"])\n",
        "for d in random.sample(dataset_dicts, 4):    \n",
        "    im = cv2.imread(d[\"file_name\"])\n",
        "    outputs = predictor(im)  # format is documented at https://detectron2.readthedocs.io/tutorials/models.html#model-output-format\n",
        "    v = Visualizer(im[:, :, ::-1],\n",
        "                   metadata=_dataset_metadata, \n",
        "                   scale=0.5, \n",
        "                   instance_mode=ColorMode.SEGMENTATION   # remove the colors of unsegmented pixels. This option is only available for segmentation models\n",
        "    )\n",
        "    out = v.draw_instance_predictions(outputs[\"instances\"].to(\"cpu\"))\n",
        "    cv2_imshow(out.get_image()[:, :, ::-1])"
      ],
      "outputs": [],
      "metadata": {
        "id": "U5LhISJqWXgM"
      }
    },
    {
      "cell_type": "markdown",
      "source": [
        "We can also evaluate its performance using AP metric implemented in COCO API.\n",
        "This gives an AP of ~50. Not bad!"
      ],
      "metadata": {
        "id": "kblA1IyFvWbT"
      }
    },
    {
      "cell_type": "code",
      "execution_count": null,
      "source": [
        "from detectron2.evaluation import COCOEvaluator, inference_on_dataset\n",
        "from detectron2.data import build_detection_test_loader\n",
        "evaluator = COCOEvaluator(f\"{DATASET_NAME}_valid\", cfg, False, output_dir=\"/content/eval_output/\")\n",
        "val_loader = build_detection_test_loader(cfg, f\"{DATASET_NAME}_valid\")\n",
        "print(inference_on_dataset(predictor.model, val_loader, evaluator))\n",
        "# another equivalent way to evaluate the model is to use `trainer.test`"
      ],
      "outputs": [],
      "metadata": {
        "id": "h9tECBQCvMv3"
      }
    },
    {
      "cell_type": "markdown",
      "source": [
        "# Upload or Download a video and test it based on your trained model"
      ],
      "metadata": {
        "id": "HFuPzChWzU6Q"
      }
    },
    {
      "cell_type": "markdown",
      "source": [
        "##Download a video from a URL"
      ],
      "metadata": {
        "id": "Ajsf88l3AAWU"
      }
    },
    {
      "cell_type": "code",
      "execution_count": null,
      "source": [
        "#e.g.\n",
        "#!wget https://xxx.com/video.MP4"
      ],
      "outputs": [],
      "metadata": {
        "id": "GY5wFYbotW9i"
      }
    },
    {
      "cell_type": "markdown",
      "source": [
        "### Please change the VIDEO_INPUT to the path of your inference video"
      ],
      "metadata": {
        "id": "606Pdue7BRP3"
      }
    },
    {
      "cell_type": "code",
      "execution_count": null,
      "source": [
        "VIDEO_INPUT=\"/content/video60.mkv\" #@param {type: \"string\"}"
      ],
      "outputs": [],
      "metadata": {
        "id": "5K5hZpsWDqnY"
      }
    },
    {
      "cell_type": "code",
      "execution_count": null,
      "source": [
        "import cv2\n",
        "video = cv2.VideoCapture(VIDEO_INPUT)\n",
        "width = int(video.get(cv2.CAP_PROP_FRAME_WIDTH))\n",
        "height = int(video.get(cv2.CAP_PROP_FRAME_HEIGHT))\n",
        "frames_per_second = video.get(cv2.CAP_PROP_FPS)\n",
        "num_frames = int(video.get(cv2.CAP_PROP_FRAME_COUNT))\n",
        "basename = os.path.basename(VIDEO_INPUT)"
      ],
      "outputs": [],
      "metadata": {
        "id": "xn0LVJTWtLhJ"
      }
    },
    {
      "cell_type": "code",
      "execution_count": null,
      "source": [
        "OUTPUT_DIR = \"/content/eval_output\"\n",
        "import os \n",
        "os.makedirs(OUTPUT_DIR,exist_ok=True)"
      ],
      "outputs": [],
      "metadata": {
        "id": "TXLpO4_AtgGO"
      }
    },
    {
      "cell_type": "code",
      "execution_count": null,
      "source": [
        "def _frame_from_video(video):\n",
        "  attempt = 0\n",
        "  for i in range(num_frames):\n",
        "      success, frame = video.read()\n",
        "      if success:\n",
        "          yield frame\n",
        "      else:\n",
        "          attempt += 1\n",
        "          if attempt >= 2000:\n",
        "              break\n",
        "          else:\n",
        "              video.set(cv2.CAP_PROP_POS_FRAMES, i+1)\n",
        "              print('Cannot read this frame:', i)\n",
        "              continue"
      ],
      "outputs": [],
      "metadata": {
        "id": "14VKYjHr2gGg"
      }
    },
    {
      "cell_type": "code",
      "execution_count": null,
      "source": [
        "import pandas as pd\n",
        "import pycocotools.mask as mask_util"
      ],
      "outputs": [],
      "metadata": {
        "id": "_JHTT5XKIBsf"
      }
    },
    {
      "cell_type": "code",
      "execution_count": null,
      "source": [
        "class_names = _dataset_metadata.thing_classes\n",
        "print(class_names)"
      ],
      "outputs": [],
      "metadata": {
        "id": "AIG71LHZPsgs"
      }
    },
    {
      "cell_type": "code",
      "execution_count": null,
      "source": [
        "frame_number = 0\n",
        "tracking_results = []\n",
        "VIS = True\n",
        "for frame in _frame_from_video(video): \n",
        "    im = frame\n",
        "    outputs = predictor(im)\n",
        "    out_dict = {}  \n",
        "    instances = outputs[\"instances\"].to(\"cpu\")\n",
        "    num_instance = len(instances)\n",
        "    if num_instance == 0:\n",
        "        out_dict['frame_number'] = frame_number\n",
        "        out_dict['x1'] = None\n",
        "        out_dict['y1'] = None\n",
        "        out_dict['x2'] = None\n",
        "        out_dict['y2'] = None\n",
        "        out_dict['instance_name'] = None\n",
        "        out_dict['class_score'] = None\n",
        "        out_dict['segmentation'] = None\n",
        "        tracking_results.append(out_dict)\n",
        "        out_dict = {}\n",
        "    else:\n",
        "        boxes = instances.pred_boxes.tensor.numpy()\n",
        "        boxes = boxes.tolist()\n",
        "        scores = instances.scores.tolist()\n",
        "        classes = instances.pred_classes.tolist()\n",
        "\n",
        "        has_mask = instances.has(\"pred_masks\")\n",
        "\n",
        "        if has_mask:\n",
        "            rles =[\n",
        "                   mask_util.encode(np.array(mask[:,:,None], order=\"F\", dtype=\"uint8\"))[0]\n",
        "                   for mask in instances.pred_masks\n",
        "            ]\n",
        "            for rle in rles:\n",
        "              rle[\"counts\"] = rle[\"counts\"].decode(\"utf-8\")\n",
        "\n",
        "        assert len(rles) == len(boxes)\n",
        "        for k in range(num_instance):\n",
        "            box = boxes[k]\n",
        "            out_dict['frame_number'] = frame_number\n",
        "            out_dict['x1'] = box[0]\n",
        "            out_dict['y1'] = box[1]\n",
        "            out_dict['x2'] = box[2]\n",
        "            out_dict['y2'] = box[3]\n",
        "            out_dict['instance_name'] = class_names[classes[k]]\n",
        "            out_dict['class_score'] = scores[k]\n",
        "            out_dict['segmentation'] = rles[k]\n",
        "            if frame_number % 1000 == 0:\n",
        "              print(f\"Frame number {frame_number}: {out_dict}\")\n",
        "            tracking_results.append(out_dict)\n",
        "            out_dict = {}\n",
        "        \n",
        "    # format is documented at https://detectron2.readthedocs.io/tutorials/models.html#model-output-format\n",
        "    if VIS:\n",
        "        v = Visualizer(im[:, :, ::-1],\n",
        "                    metadata=_dataset_metadata, \n",
        "                    scale=0.5, \n",
        "                    instance_mode=ColorMode.IMAGE_BW   # remove the colors of unsegmented pixels. This option is only available for segmentation models\n",
        "         )\n",
        "        out = v.draw_instance_predictions(outputs[\"instances\"].to(\"cpu\"))\n",
        "        out_image = out.get_image()[:, :, ::-1]\n",
        "        if frame_number % 1000 == 0:\n",
        "            cv2_imshow(out_image)\n",
        "            #Trun off the visulization to save time after the first frame\n",
        "            VIS = False\n",
        "    frame_number += 1\n",
        "    print(f\"Processing frame number {frame_number}\")\n",
        "\n",
        "video.release()"
      ],
      "outputs": [],
      "metadata": {
        "id": "MYI_Cv-GBplZ"
      }
    },
    {
      "cell_type": "markdown",
      "source": [
        "## All the tracking results will be saved to this Pandas dataframe. \n",
        "\n"
      ],
      "metadata": {
        "id": "uGtm3KALxyqp"
      }
    },
    {
      "cell_type": "code",
      "execution_count": null,
      "source": [
        "df = pd.DataFrame(tracking_results)"
      ],
      "outputs": [],
      "metadata": {
        "id": "3W6dRQXoN85C"
      }
    },
    {
      "cell_type": "code",
      "execution_count": null,
      "source": [
        "df.head()"
      ],
      "outputs": [],
      "metadata": {
        "id": "lIR1fe6zODRq"
      }
    },
    {
      "cell_type": "markdown",
      "source": [
        "## Calculate the bbox center point x, y locations"
      ],
      "metadata": {
        "id": "DgI8caT9-mlO"
      }
    },
    {
      "cell_type": "code",
      "execution_count": null,
      "source": [
        "cx = (df.x1 + df.x2)/2\n",
        "cy = (df.y1 + df.y2)/2\n",
        "df['cx'] = cx\n",
        "df['cy'] = cy"
      ],
      "outputs": [],
      "metadata": {
        "id": "UGBFdG8RIcZo"
      }
    },
    {
      "cell_type": "code",
      "execution_count": null,
      "source": [
        "df.tail()"
      ],
      "outputs": [],
      "metadata": {
        "id": "1R2Xii899cob"
      }
    },
    {
      "cell_type": "markdown",
      "source": [
        "## Only save the top 1 prediction for each frame for each class\n",
        "Note: You can change the number to save top n predictions for each frame and an instance name. head(2), head(5), or head(n)\n",
        "To save all the predictions, please use `df.to_csv('my_tracking_results.csv')`."
      ],
      "metadata": {
        "id": "_0NJtjZUsoQK"
      }
    },
    {
      "cell_type": "code",
      "execution_count": null,
      "source": [
        "df_top = df.groupby(['frame_number','instance_name'],sort=False).head(1)"
      ],
      "outputs": [],
      "metadata": {
        "id": "qAJ5dU-EhDXP"
      }
    },
    {
      "cell_type": "code",
      "execution_count": null,
      "source": [
        "df_top.head()"
      ],
      "outputs": [],
      "metadata": {
        "id": "27jn0z3_hTKS"
      }
    },
    {
      "cell_type": "markdown",
      "source": [
        "## Visualize the center points with plotly scatter plot"
      ],
      "metadata": {
        "id": "5A1KvDDe_K8P"
      }
    },
    {
      "cell_type": "code",
      "execution_count": null,
      "source": [
        "df_vis = df_top[df_top.instance_name != 'Text'][['frame_number','cx','cy','instance_name']]"
      ],
      "outputs": [],
      "metadata": {
        "id": "5oY3tHTOTc-Z"
      }
    },
    {
      "cell_type": "code",
      "execution_count": null,
      "source": [
        "import plotly.express as px\n",
        "import plotly.graph_objects as go\n",
        "import numpy as np\n",
        "\n",
        "fig = px.scatter(df_vis, \n",
        "                 x=\"cx\",\n",
        "                 y=\"cy\", \n",
        "                 color=\"instance_name\",\n",
        "                 hover_data=['frame_number','cx','cy'])\n",
        "fig.show()"
      ],
      "outputs": [],
      "metadata": {
        "id": "ZhxX1tpGI1LX"
      }
    },
    {
      "cell_type": "code",
      "execution_count": null,
      "source": [
        "from pathlib import  Path\n",
        "tracking_results_csv = f\"{Path(dataset).stem}_{Path(VIDEO_INPUT).stem}_{cfg.SOLVER.MAX_ITER}_iters_mask_rcnn_tracking_results_with_segmenation.csv\"\n",
        "df_top.to_csv(tracking_results_csv)"
      ],
      "outputs": [],
      "metadata": {
        "id": "2pfF0eecelCY"
      }
    },
    {
      "cell_type": "markdown",
      "source": [
        "## Download the tracking result CSV file to your local device"
      ],
      "metadata": {
        "id": "DlVKcxTW5tIa"
      }
    },
    {
      "cell_type": "code",
      "execution_count": null,
      "source": [
        "from google.colab import files\n",
        "files.download(tracking_results_csv)"
      ],
      "outputs": [],
      "metadata": {
        "id": "dFpaGUfsPvJZ"
      }
    },
    {
      "cell_type": "markdown",
      "source": [
        "# The following sections are optional. "
      ],
      "metadata": {
        "id": "zQUPfuDFNGLK"
      }
    },
    {
      "cell_type": "markdown",
      "source": [
        "## Caculate the distance of a pair of instances in a given frame"
      ],
      "metadata": {
        "id": "KcHDEwHF_t0k"
      }
    },
    {
      "cell_type": "code",
      "execution_count": null,
      "source": [
        "def paired_distance(frame_number,\n",
        "                    this_instance='frog_m_2',\n",
        "                    other_instance='frog_f_2'):\n",
        "    df_dis = df_top[df_top[\"frame_number\"]==frame_number][['cx','cy','instance_name']]\n",
        "    df_this = df_dis[df_dis.instance_name == this_instance]\n",
        "    df_other = df_dis[df_dis.instance_name == other_instance]\n",
        "    try:\n",
        "      dist = np.linalg.norm(df_this[['cx','cy']].values-df_other[['cx','cy']].values)\n",
        "    except:\n",
        "      dist = None\n",
        "\n",
        "\n",
        "    return dist"
      ],
      "outputs": [],
      "metadata": {
        "id": "AG2I6f50FeQW"
      }
    },
    {
      "cell_type": "markdown",
      "source": [
        "## Calculate the distance of the instance from the current and previous frame"
      ],
      "metadata": {
        "id": "HdofIPlHMy_F"
      }
    },
    {
      "cell_type": "code",
      "execution_count": null,
      "source": [
        "def instance_distance_between_frame(frame_number,\n",
        "                                    instance_name='frog_m_1'):\n",
        "    if frame_number < 1:\n",
        "      return 0\n",
        "    previous_frame_number = frame_number - 1\n",
        "    df_dis = df_top[df_top[\"frame_number\"]==frame_number][['cx','cy','instance_name']]\n",
        "    df_dis_prev = df_top[df_top[\"frame_number\"]==previous_frame_number][['cx','cy','instance_name']]\n",
        "    df_dis = df_dis[df_dis.instance_name == instance_name]\n",
        "    df_dis_prev = df_dis_prev[df_dis_prev.instance_name == instance_name]\n",
        "\n",
        "    try:\n",
        "      dist = np.linalg.norm(df_dis[['cx','cy']].values-df_dis_prev[['cx','cy']].values)\n",
        "    except:\n",
        "      dist = None\n",
        "    \n",
        "    return dist\n",
        "    "
      ],
      "outputs": [],
      "metadata": {
        "id": "gOqMSj-_tqCI"
      }
    },
    {
      "cell_type": "code",
      "execution_count": null,
      "source": [
        "df_top['dist_from_previous_frame_frog_m_1'] = df_top.frame_number.apply(instance_distance_between_frame)"
      ],
      "outputs": [],
      "metadata": {
        "id": "mJ2njLTh1ykg"
      }
    },
    {
      "cell_type": "markdown",
      "source": [
        "## The total distance traveled for frog male in Tank 1 in pixels"
      ],
      "metadata": {
        "id": "-aePsYWl9aZD"
      }
    },
    {
      "cell_type": "code",
      "execution_count": null,
      "source": [
        "df_top['dist_from_previous_frame_frog_m_1'].sum()\n"
      ],
      "outputs": [],
      "metadata": {
        "id": "FHHbQ1k48E3o"
      }
    },
    {
      "cell_type": "code",
      "execution_count": null,
      "source": [
        "\n",
        "fig = px.line(x=df_top.frame_number, y=df_top.dist_from_previous_frame_frog_m_1, labels={'x':'frame_number', 'y':'distance from previous frame frog_m_1'})\n",
        "fig.show()"
      ],
      "outputs": [],
      "metadata": {
        "id": "Hmu7v7mq4hXc"
      }
    },
    {
      "cell_type": "markdown",
      "source": [
        "## Distance between frog male in tank 2 and frog female in tank 2 in pixels"
      ],
      "metadata": {
        "id": "N8a6yPdm9xLn"
      }
    },
    {
      "cell_type": "code",
      "execution_count": null,
      "source": [
        "df_top['dist_frog_m2_f2'] = df_top.frame_number.apply(paired_distance)"
      ],
      "outputs": [],
      "metadata": {
        "id": "Y_foH7jn-DQe"
      }
    },
    {
      "cell_type": "code",
      "execution_count": null,
      "source": [
        "\n",
        "fig = px.line(x=df_top.frame_number, y=df_top.dist_frog_m2_f2, labels={'x':'frame_number', 'y':'distance between frog male in tank 2 to frog female in tank 2'})\n",
        "fig.show()"
      ],
      "outputs": [],
      "metadata": {
        "id": "Dbscz2qYgHHg"
      }
    },
    {
      "cell_type": "markdown",
      "source": [
        "## Download and save the results to your local device"
      ],
      "metadata": {
        "id": "oZhLFRIPTUzj"
      }
    },
    {
      "cell_type": "markdown",
      "source": [
        "### Please change the desired CSV file name"
      ],
      "metadata": {
        "id": "fHgj_P1rCJ7D"
      }
    },
    {
      "cell_type": "code",
      "execution_count": null,
      "source": [
        "tracking_results_with_area_perimeter_csv = f\"{tracking_results_csv.replace('.csv','_final.csv')}\"\n",
        "df_top.to_csv(tracking_results_with_area_perimeter_csv)\n",
        "files.download(tracking_results_with_area_perimeter_csv)"
      ],
      "outputs": [],
      "metadata": {
        "id": "rh8dfLzzrBEQ"
      }
    },
    {
      "cell_type": "markdown",
      "source": [
        "## Save and download the trained model weights"
      ],
      "metadata": {
        "id": "-u2dGs54Ctuo"
      }
    },
    {
      "cell_type": "code",
      "execution_count": null,
      "source": [
        "final_model_file = os.path.join(cfg.OUTPUT_DIR,'model_final.pth')\n",
        "files.download(final_model_file)"
      ],
      "outputs": [],
      "metadata": {
        "id": "BSpX5Yr-Cyq-"
      }
    }
  ]
}