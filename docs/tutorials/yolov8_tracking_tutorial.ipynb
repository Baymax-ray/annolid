{
  "nbformat": 4,
  "nbformat_minor": 0,
  "metadata": {
    "colab": {
      "provenance": []
    },
    "kernelspec": {
      "name": "python3",
      "display_name": "Python 3"
    },
    "language_info": {
      "name": "python"
    }
  },
  "cells": [
    {
      "cell_type": "markdown",
      "metadata": {
        "id": "AIGuIpRFAo18"
      },
      "source": [
        "# Setup\n",
        "\n",
        "Clone repo, install dependencies and check PyTorch and GPU."
      ]
    },
    {
      "cell_type": "code",
      "metadata": {
        "id": "taGCP-gCgqX8"
      },
      "source": [
        "!git clone --recurse-submodules https://github.com/mikel-brostrom/yolov8_tracking.git  # clone repo\n",
        "%pip install -qr requirements.txt  # install dependencies\n",
        "%pip install thop                  # install dependencies\n",
        "%pip install sentry_sdk\n",
        "import torch\n",
        "from IPython.display import Image, clear_output  # to display images\n",
        "\n",
        "clear_output()\n",
        "print(f\"Setup complete. Using torch {torch.__version__} ({torch.cuda.get_device_properties(0).name if torch.cuda.is_available() else 'CPU'})\")"
      ],
      "execution_count": null,
      "outputs": []
    },
    {
      "cell_type": "code",
      "source": [
        "from google.colab import files\n",
        "upload = files.upload()\n",
        "dataset =  list(upload.keys())[0]"
      ],
      "metadata": {
        "id": "YLv8dBr-99Ok"
      },
      "execution_count": null,
      "outputs": []
    },
    {
      "cell_type": "code",
      "source": [
        "#!unzip /content/datasets/test_mouse.zip -d /content/datasets/\n",
        "!unzip $dataset"
      ],
      "metadata": {
        "id": "FyQwu_Va-O-k"
      },
      "execution_count": null,
      "outputs": []
    },
    {
      "cell_type": "markdown",
      "source": [
        "# Train a new model based on the custom new dataset"
      ],
      "metadata": {
        "id": "GIrPSu2AgRtq"
      }
    },
    {
      "cell_type": "code",
      "source": [
        "from ultralytics import YOLO\n",
        "\n",
        "# Load a model\n",
        "#model = YOLO(\"yolov8n-seg.yaml\")  # build a new model from scratch\n",
        "model = YOLO(\"yolov8n.pt\")  # load a pretrained model (recommended for training)\n",
        "\n",
        "# Train the model\n",
        "model.train(data=\"/content/datasets/test_mouse/data.yaml\", epochs=100)"
      ],
      "metadata": {
        "id": "rcrYk4lW931p"
      },
      "execution_count": null,
      "outputs": []
    },
    {
      "cell_type": "markdown",
      "metadata": {
        "id": "1JQRVPMtA9Cr"
      },
      "source": [
        "# Download data\n",
        "\n",
        "Get test video from repo and extract the first 2 seconds of it "
      ]
    },
    {
      "cell_type": "code",
      "source": [
        "%cd /content/yolov8_tracking"
      ],
      "metadata": {
        "id": "LAup6YJy71B-"
      },
      "execution_count": null,
      "outputs": []
    },
    {
      "cell_type": "code",
      "metadata": {
        "id": "4Acf_nRZ7yS6"
      },
      "source": [
        "\n",
        "# upload your video or get the test video from the repo\n",
        "!wget -nc https://github.com/mikel-brostrom/yolov8_tracking/releases/download/v.2.0/test.avi\n",
        "# extract 3 seconds worth of video frames of it\n",
        "!yes | ffmpeg -ss 00:00:00 -i test.avi -t 00:00:01 -vf fps=30 out.avi"
      ],
      "execution_count": null,
      "outputs": []
    },
    {
      "cell_type": "markdown",
      "metadata": {
        "id": "oqIP5shr9HQd"
      },
      "source": [
        "## Run inference on video\n",
        "\n",
        "The ``cv2.imshow()`` and ``cv.imshow()`` functions from the [opencv-python](https://github.com/skvark/opencv-python) package are incompatible with Jupyter notebook; see https://github.com/jupyter/notebook/issues/3935. \n",
        "\n",
        "Hence we chose to save it to file in this notebook. Locally you can use the ``--show-vid`` flag in order visualize the tracking in real-time"
      ]
    },
    {
      "cell_type": "code",
      "metadata": {
        "id": "4yEraJfKhBku"
      },
      "source": [
        "!python track.py --yolo-weights /content/yolov8_tracking/runs/track/detect/train3/weights/last.pt --tracking-method ocsort --reid-weights osnet_x0_25_msmt17.pt --source /mouse.mp4 --save-vid"
      ],
      "execution_count": null,
      "outputs": []
    },
    {
      "cell_type": "code",
      "source": [
        "!pip install pytube"
      ],
      "metadata": {
        "id": "709TMkfuZKtV"
      },
      "execution_count": null,
      "outputs": []
    },
    {
      "cell_type": "code",
      "source": [
        "from pytube import YouTube\n",
        "import os\n",
        "\n",
        "def downloadYouTube(videourl, path):\n",
        "\n",
        "    yt = YouTube(videourl)\n",
        "    yt = yt.streams.filter(progressive=True, file_extension='mp4').order_by('resolution').desc().first()\n",
        "    if not os.path.exists(path):\n",
        "        os.makedirs(path)\n",
        "    yt.download(path)\n",
        "\n",
        "downloadYouTube('https://youtu.be/58z1OuCd6m8', '/content')"
      ],
      "metadata": {
        "id": "K2GRU2nrZJyt"
      },
      "execution_count": null,
      "outputs": []
    },
    {
      "cell_type": "code",
      "source": [
        "!python track.py --yolo-weights yolov8n-seg.pt --tracking-method ocsort --reid-weights osnet_x0_25_msmt17.pt --source '/content/bird.mp4' --save-vid\n"
      ],
      "metadata": {
        "id": "ghrzfpSbXkJV"
      },
      "execution_count": null,
      "outputs": []
    },
    {
      "cell_type": "markdown",
      "metadata": {
        "id": "vd-CFrVGBoEU"
      },
      "source": [
        "# Show results\n",
        "\n",
        "https://stackoverflow.com/questions/60977179/how-to-play-avi-file-in-google-colab\n",
        "\n",
        "https://stackoverflow.com/questions/57377185/how-play-mp4-video-in-google-colab\n",
        "\n",
        "Compress the video file to a format supported by Google Colab (mpeg4 (native) -> h264 (libx264))"
      ]
    },
    {
      "cell_type": "code",
      "metadata": {
        "id": "Q-4tlUaCBjDC"
      },
      "source": [
        "!ffmpeg -i /content/yolov8_tracking/runs/track/exp11/bird.mp4 -vf fps=30 -vcodec libx264 output.mp4"
      ],
      "execution_count": null,
      "outputs": []
    },
    {
      "cell_type": "markdown",
      "metadata": {
        "id": "j7XAlRteC9qI"
      },
      "source": [
        "Get the file content into data_url"
      ]
    },
    {
      "cell_type": "code",
      "metadata": {
        "id": "-ObuFb7dBwxK"
      },
      "source": [
        "from IPython.display import HTML\n",
        "from base64 import b64encode\n",
        "mp4 = open('output.mp4','rb').read()\n",
        "data_url = \"data:video/mp4;base64,\" + b64encode(mp4).decode()"
      ],
      "execution_count": null,
      "outputs": []
    },
    {
      "cell_type": "markdown",
      "metadata": {
        "id": "kLvggIUZDC6R"
      },
      "source": [
        "Display it with HTML"
      ]
    },
    {
      "cell_type": "code",
      "metadata": {
        "id": "RyXr0xsZB897"
      },
      "source": [
        "HTML(\"\"\"\n",
        "<video controls>\n",
        "      <source src=\"%s\" type=\"video/mp4\">\n",
        "</video>\n",
        "\"\"\" % data_url)"
      ],
      "execution_count": null,
      "outputs": []
    },
    {
      "cell_type": "markdown",
      "source": [
        "## Reference: https://github.com/mikel-brostrom/yolov8_tracking"
      ],
      "metadata": {
        "id": "JHQcY9mwWXc7"
      }
    }
  ]
}