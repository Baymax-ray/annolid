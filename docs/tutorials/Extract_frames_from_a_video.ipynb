{
  "nbformat": 4,
  "nbformat_minor": 0,
  "metadata": {
    "colab": {
      "name": "Extract frames from a video.ipynb",
      "provenance": [],
      "collapsed_sections": []
    },
    "kernelspec": {
      "name": "python3",
      "display_name": "Python 3"
    }
  },
  "cells": [
    {
      "cell_type": "markdown",
      "metadata": {
        "id": "TxAFRwRkk824",
        "colab_type": "text"
      },
      "source": [
        "[![Open In Colab](https://colab.research.google.com/assets/colab-badge.svg)](https://colab.research.google.com/github/healthonrails/annolid/blob/master/docs/tutorials/Extract_frames_from_a_video.ipynb)\n"
      ]
    },
    {
      "cell_type": "markdown",
      "metadata": {
        "id": "MxEUxKFQgXH2",
        "colab_type": "text"
      },
      "source": [
        "## Upload a video file"
      ]
    },
    {
      "cell_type": "code",
      "metadata": {
        "id": "of1otpd8gher",
        "colab_type": "code",
        "colab": {}
      },
      "source": [
        "from google.colab import files\n",
        "my_vidoe = files.upload()"
      ],
      "execution_count": null,
      "outputs": []
    },
    {
      "cell_type": "markdown",
      "metadata": {
        "id": "dkf44S4phXT1",
        "colab_type": "text"
      },
      "source": [
        "## Clone and Install Annolid"
      ]
    },
    {
      "cell_type": "code",
      "metadata": {
        "id": "Ukc8U43Kgq7X",
        "colab_type": "code",
        "colab": {}
      },
      "source": [
        "# The root folder\n",
        "%cd /content\n",
        "# Clone the repo\n",
        "!git clone --recurse-submodules https://github.com/healthonrails/annolid.git\n"
      ],
      "execution_count": null,
      "outputs": []
    },
    {
      "cell_type": "code",
      "metadata": {
        "id": "SNmoUKrDh0ix",
        "colab_type": "code",
        "colab": {}
      },
      "source": [
        "# install annolid\n",
        "%cd /content/annolid/\n",
        "!pip install -e ."
      ],
      "execution_count": null,
      "outputs": []
    },
    {
      "cell_type": "markdown",
      "metadata": {
        "id": "MXqnKffAid95",
        "colab_type": "text"
      },
      "source": [
        "# Extract frames from a video"
      ]
    },
    {
      "cell_type": "code",
      "metadata": {
        "id": "CkYQTznQih67",
        "colab_type": "code",
        "colab": {}
      },
      "source": [
        "# You can upload a video or use gdown to download video from Google drive\n",
        "!python annolid/main.py -v /content/wbc.mp4 --extract_frames=10 --algo=random"
      ],
      "execution_count": null,
      "outputs": []
    }
  ]
}