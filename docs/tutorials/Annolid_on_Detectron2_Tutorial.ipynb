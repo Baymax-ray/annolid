{
 "cells": [
  {
   "cell_type": "markdown",
   "metadata": {
    "id": "mlCWlQ2pTc88"
   },
   "source": [
    "<a href=\"https://colab.research.google.com/github/healthonrails/annolid/blob/main/docs/tutorials/Annolid_on_Detectron2_Tutorial.ipynb\" target=\"_blank\"><img src=\"https://colab.research.google.com/assets/colab-badge.svg\" alt=\"Open In Colab\"/></a>"
   ]
  },
  {
   "cell_type": "markdown",
   "metadata": {
    "id": "QHnVupBBn9eR"
   },
   "source": [
    "# Annolid on Detectron2 Tutorial\n",
    "\n",
    "<img src=\"https://dl.fbaipublicfiles.com/detectron2/Detectron2-Logo-Horz.png\" width=\"500\">\n",
    "\n",
    "Welcome to Annolid on detectron2! This is modified from the official colab tutorial of detectron2. Here, we will go through some basics usage of detectron2, including the following:\n",
    "* Run inference on images or videos, with an existing detectron2 model\n",
    "* Train a detectron2 model on a new dataset\n",
    "\n",
    "You can make a copy of this tutorial by \"File -> Open in playground mode\" and play with it yourself. __DO NOT__ request access to this tutorial.\n"
   ]
  },
  {
   "cell_type": "markdown",
   "metadata": {
    "id": "vM54r6jlKTII"
   },
   "source": [
    "# Install detectron2"
   ]
  },
  {
   "cell_type": "code",
   "execution_count": 1,
   "metadata": {},
   "outputs": [],
   "source": [
    "# Is running in colab or in jupyter-notebook\n",
    "try:\n",
    "  import google.colab\n",
    "  IN_COLAB = True\n",
    "except:\n",
    "  IN_COLAB = False"
   ]
  },
  {
   "cell_type": "code",
   "execution_count": 2,
   "metadata": {
    "id": "9_FzH13EjseR"
   },
   "outputs": [
    {
     "name": "stdout",
     "output_type": "stream",
     "text": [
      "\u001b[33mWARNING: Ignoring invalid distribution -etectron2 (/home/jeremy/anaconda3/lib/python3.7/site-packages)\u001b[0m\n",
      "\u001b[33mWARNING: Ignoring invalid distribution -etectron2 (/home/jeremy/anaconda3/lib/python3.7/site-packages)\u001b[0m\n",
      "Requirement already satisfied: pyyaml==5.3 in /home/jeremy/anaconda3/lib/python3.7/site-packages (5.3)\n",
      "\u001b[33mWARNING: Ignoring invalid distribution -etectron2 (/home/jeremy/anaconda3/lib/python3.7/site-packages)\u001b[0m\n",
      "\u001b[33mWARNING: Ignoring invalid distribution -etectron2 (/home/jeremy/anaconda3/lib/python3.7/site-packages)\u001b[0m\n",
      "\u001b[33mWARNING: Ignoring invalid distribution -etectron2 (/home/jeremy/anaconda3/lib/python3.7/site-packages)\u001b[0m\n",
      "torch:  1.9 ; cuda:  cu102\n",
      "\u001b[33mWARNING: Ignoring invalid distribution -etectron2 (/home/jeremy/anaconda3/lib/python3.7/site-packages)\u001b[0m\n",
      "\u001b[33mWARNING: Ignoring invalid distribution -etectron2 (/home/jeremy/anaconda3/lib/python3.7/site-packages)\u001b[0m\n",
      "Looking in links: https://dl.fbaipublicfiles.com/detectron2/wheels/cu102/torch1.9/index.html\n",
      "Requirement already satisfied: detectron2 in /mnt/home_nas/jeremy/Recherches/Postdoc/CPLab/Projects/Annolid/annolid/detectron2 (0.6)\n",
      "Requirement already satisfied: Pillow>=7.1 in /home/jeremy/anaconda3/lib/python3.7/site-packages (from detectron2) (8.2.0)\n",
      "Requirement already satisfied: matplotlib in /home/jeremy/anaconda3/lib/python3.7/site-packages (from detectron2) (3.2.2)\n",
      "Requirement already satisfied: pycocotools>=2.0.2 in /home/jeremy/anaconda3/lib/python3.7/site-packages (from detectron2) (2.0.2)\n",
      "Requirement already satisfied: termcolor>=1.1 in /home/jeremy/anaconda3/lib/python3.7/site-packages (from detectron2) (1.1.0)\n",
      "Requirement already satisfied: yacs>=0.1.8 in /home/jeremy/anaconda3/lib/python3.7/site-packages (from detectron2) (0.1.8)\n",
      "Requirement already satisfied: tabulate in /home/jeremy/anaconda3/lib/python3.7/site-packages (from detectron2) (0.8.9)\n",
      "Requirement already satisfied: cloudpickle in /home/jeremy/anaconda3/lib/python3.7/site-packages (from detectron2) (1.6.0)\n",
      "Requirement already satisfied: tqdm>4.29.0 in /home/jeremy/anaconda3/lib/python3.7/site-packages (from detectron2) (4.56.0)\n",
      "Requirement already satisfied: tensorboard in /home/jeremy/anaconda3/lib/python3.7/site-packages (from detectron2) (2.7.0)\n",
      "Requirement already satisfied: fvcore<0.1.6,>=0.1.5 in /home/jeremy/anaconda3/lib/python3.7/site-packages (from detectron2) (0.1.5.post20211023)\n",
      "Requirement already satisfied: iopath<0.1.10,>=0.1.7 in /home/jeremy/anaconda3/lib/python3.7/site-packages (from detectron2) (0.1.9)\n",
      "Requirement already satisfied: future in /home/jeremy/anaconda3/lib/python3.7/site-packages (from detectron2) (0.18.2)\n",
      "Requirement already satisfied: pydot in /home/jeremy/anaconda3/lib/python3.7/site-packages (from detectron2) (1.4.2)\n",
      "Requirement already satisfied: omegaconf>=2.1 in /home/jeremy/anaconda3/lib/python3.7/site-packages (from detectron2) (2.1.1)\n",
      "Requirement already satisfied: hydra-core>=1.1 in /home/jeremy/anaconda3/lib/python3.7/site-packages (from detectron2) (1.1.1)\n",
      "Requirement already satisfied: black==21.4b2 in /home/jeremy/anaconda3/lib/python3.7/site-packages (from detectron2) (21.4b2)\n",
      "Requirement already satisfied: typed-ast>=1.4.2 in /home/jeremy/anaconda3/lib/python3.7/site-packages (from black==21.4b2->detectron2) (1.4.3)\n",
      "Requirement already satisfied: pathspec<1,>=0.8.1 in /home/jeremy/anaconda3/lib/python3.7/site-packages (from black==21.4b2->detectron2) (0.8.1)\n",
      "Requirement already satisfied: toml>=0.10.1 in /home/jeremy/anaconda3/lib/python3.7/site-packages (from black==21.4b2->detectron2) (0.10.2)\n",
      "Requirement already satisfied: click>=7.1.2 in /home/jeremy/anaconda3/lib/python3.7/site-packages (from black==21.4b2->detectron2) (7.1.2)\n",
      "Requirement already satisfied: regex>=2020.1.8 in /home/jeremy/anaconda3/lib/python3.7/site-packages (from black==21.4b2->detectron2) (2021.4.4)\n",
      "Requirement already satisfied: appdirs in /home/jeremy/anaconda3/lib/python3.7/site-packages (from black==21.4b2->detectron2) (1.4.4)\n",
      "Requirement already satisfied: mypy-extensions>=0.4.3 in /home/jeremy/anaconda3/lib/python3.7/site-packages (from black==21.4b2->detectron2) (0.4.3)\n",
      "Requirement already satisfied: typing-extensions>=3.7.4 in /home/jeremy/anaconda3/lib/python3.7/site-packages (from black==21.4b2->detectron2) (3.7.4.3)\n",
      "Requirement already satisfied: pyyaml>=5.1 in /home/jeremy/anaconda3/lib/python3.7/site-packages (from fvcore<0.1.6,>=0.1.5->detectron2) (5.3)\n",
      "Requirement already satisfied: numpy in /home/jeremy/anaconda3/lib/python3.7/site-packages (from fvcore<0.1.6,>=0.1.5->detectron2) (1.20.1)\n",
      "Requirement already satisfied: importlib-resources in /home/jeremy/anaconda3/lib/python3.7/site-packages (from hydra-core>=1.1->detectron2) (5.1.0)\n",
      "Requirement already satisfied: antlr4-python3-runtime==4.8 in /home/jeremy/anaconda3/lib/python3.7/site-packages (from hydra-core>=1.1->detectron2) (4.8)\n",
      "Requirement already satisfied: portalocker in /home/jeremy/anaconda3/lib/python3.7/site-packages (from iopath<0.1.10,>=0.1.7->detectron2) (2.3.2)\n",
      "Requirement already satisfied: setuptools>=18.0 in /home/jeremy/anaconda3/lib/python3.7/site-packages (from pycocotools>=2.0.2->detectron2) (52.0.0.post20210125)\n",
      "Requirement already satisfied: cython>=0.27.3 in /home/jeremy/anaconda3/lib/python3.7/site-packages (from pycocotools>=2.0.2->detectron2) (0.29.23)\n",
      "Requirement already satisfied: pyparsing!=2.0.4,!=2.1.2,!=2.1.6,>=2.0.1 in /home/jeremy/anaconda3/lib/python3.7/site-packages (from matplotlib->detectron2) (2.4.7)\n",
      "Requirement already satisfied: python-dateutil>=2.1 in /home/jeremy/anaconda3/lib/python3.7/site-packages (from matplotlib->detectron2) (2.8.1)\n",
      "Requirement already satisfied: kiwisolver>=1.0.1 in /home/jeremy/anaconda3/lib/python3.7/site-packages (from matplotlib->detectron2) (1.3.1)\n",
      "Requirement already satisfied: cycler>=0.10 in /home/jeremy/anaconda3/lib/python3.7/site-packages (from matplotlib->detectron2) (0.10.0)\n",
      "Requirement already satisfied: absl-py>=0.4 in /home/jeremy/anaconda3/lib/python3.7/site-packages (from tensorboard->detectron2) (0.13.0)\n",
      "Requirement already satisfied: requests<3,>=2.21.0 in /home/jeremy/anaconda3/lib/python3.7/site-packages (from tensorboard->detectron2) (2.25.1)\n",
      "Requirement already satisfied: tensorboard-data-server<0.7.0,>=0.6.0 in /home/jeremy/anaconda3/lib/python3.7/site-packages (from tensorboard->detectron2) (0.6.1)\n",
      "Requirement already satisfied: wheel>=0.26 in /home/jeremy/anaconda3/lib/python3.7/site-packages (from tensorboard->detectron2) (0.36.2)\n",
      "Requirement already satisfied: grpcio>=1.24.3 in /home/jeremy/anaconda3/lib/python3.7/site-packages (from tensorboard->detectron2) (1.42.0)\n",
      "Requirement already satisfied: google-auth-oauthlib<0.5,>=0.4.1 in /home/jeremy/anaconda3/lib/python3.7/site-packages (from tensorboard->detectron2) (0.4.6)\n",
      "Requirement already satisfied: protobuf>=3.6.0 in /home/jeremy/anaconda3/lib/python3.7/site-packages (from tensorboard->detectron2) (3.14.0)\n",
      "Requirement already satisfied: tensorboard-plugin-wit>=1.6.0 in /home/jeremy/anaconda3/lib/python3.7/site-packages (from tensorboard->detectron2) (1.8.0)\n",
      "Requirement already satisfied: markdown>=2.6.8 in /home/jeremy/anaconda3/lib/python3.7/site-packages (from tensorboard->detectron2) (3.3.4)\n",
      "Requirement already satisfied: google-auth<3,>=1.6.3 in /home/jeremy/anaconda3/lib/python3.7/site-packages (from tensorboard->detectron2) (1.24.0)\n",
      "Requirement already satisfied: werkzeug>=0.11.15 in /home/jeremy/anaconda3/lib/python3.7/site-packages (from tensorboard->detectron2) (2.0.1)\n",
      "Requirement already satisfied: six in /home/jeremy/anaconda3/lib/python3.7/site-packages (from absl-py>=0.4->tensorboard->detectron2) (1.15.0)\n",
      "Requirement already satisfied: pyasn1-modules>=0.2.1 in /home/jeremy/anaconda3/lib/python3.7/site-packages (from google-auth<3,>=1.6.3->tensorboard->detectron2) (0.2.8)\n",
      "Requirement already satisfied: rsa<5,>=3.1.4 in /home/jeremy/anaconda3/lib/python3.7/site-packages (from google-auth<3,>=1.6.3->tensorboard->detectron2) (4.7.2)\n",
      "Requirement already satisfied: cachetools<5.0,>=2.0.0 in /home/jeremy/anaconda3/lib/python3.7/site-packages (from google-auth<3,>=1.6.3->tensorboard->detectron2) (4.2.2)\n",
      "Requirement already satisfied: requests-oauthlib>=0.7.0 in /home/jeremy/anaconda3/lib/python3.7/site-packages (from google-auth-oauthlib<0.5,>=0.4.1->tensorboard->detectron2) (1.3.0)\n",
      "Requirement already satisfied: importlib-metadata in /home/jeremy/anaconda3/lib/python3.7/site-packages (from markdown>=2.6.8->tensorboard->detectron2) (3.10.0)\n"
     ]
    },
    {
     "name": "stdout",
     "output_type": "stream",
     "text": [
      "Requirement already satisfied: urllib3<1.27,>=1.21.1 in /home/jeremy/anaconda3/lib/python3.7/site-packages (from requests<3,>=2.21.0->tensorboard->detectron2) (1.26.4)\n",
      "Requirement already satisfied: chardet<5,>=3.0.2 in /home/jeremy/anaconda3/lib/python3.7/site-packages (from requests<3,>=2.21.0->tensorboard->detectron2) (4.0.0)\n",
      "Requirement already satisfied: certifi>=2017.4.17 in /home/jeremy/anaconda3/lib/python3.7/site-packages (from requests<3,>=2.21.0->tensorboard->detectron2) (2021.10.8)\n",
      "Requirement already satisfied: idna<3,>=2.5 in /home/jeremy/anaconda3/lib/python3.7/site-packages (from requests<3,>=2.21.0->tensorboard->detectron2) (2.10)\n",
      "Requirement already satisfied: zipp>=0.4 in /home/jeremy/anaconda3/lib/python3.7/site-packages (from importlib-resources->hydra-core>=1.1->detectron2) (3.4.1)\n",
      "Requirement already satisfied: pyasn1<0.5.0,>=0.4.6 in /home/jeremy/anaconda3/lib/python3.7/site-packages (from pyasn1-modules>=0.2.1->google-auth<3,>=1.6.3->tensorboard->detectron2) (0.4.8)\n",
      "Requirement already satisfied: oauthlib>=3.0.0 in /home/jeremy/anaconda3/lib/python3.7/site-packages (from requests-oauthlib>=0.7.0->google-auth-oauthlib<0.5,>=0.4.1->tensorboard->detectron2) (3.1.0)\n",
      "\u001b[33mWARNING: Ignoring invalid distribution -etectron2 (/home/jeremy/anaconda3/lib/python3.7/site-packages)\u001b[0m\n",
      "\u001b[33mWARNING: Ignoring invalid distribution -etectron2 (/home/jeremy/anaconda3/lib/python3.7/site-packages)\u001b[0m\n",
      "\u001b[33mWARNING: Ignoring invalid distribution -etectron2 (/home/jeremy/anaconda3/lib/python3.7/site-packages)\u001b[0m\n"
     ]
    }
   ],
   "source": [
    "# install dependencies: \n",
    "!pip install pyyaml==5.3\n",
    "import torch, torchvision\n",
    "TORCH_VERSION = \".\".join(torch.__version__.split(\".\")[:2])\n",
    "CUDA_VERSION = torch.__version__.split(\"+\")[-1]\n",
    "print(\"torch: \", TORCH_VERSION, \"; cuda: \", CUDA_VERSION)\n",
    "# Install detectron2 that matches the above pytorch version\n",
    "# See https://detectron2.readthedocs.io/tutorials/install.html for instructions\n",
    "!pip install detectron2 -f https://dl.fbaipublicfiles.com/detectron2/wheels/$CUDA_VERSION/torch$TORCH_VERSION/index.html\n",
    "# If there is not yet a detectron2 release that matches the given torch + CUDA version, you need to install a different pytorch.\n",
    "\n",
    "# exit(0)  # After installation, you may need to \"restart runtime\" in Colab. This line can also restart runtime"
   ]
  },
  {
   "cell_type": "code",
   "execution_count": 3,
   "metadata": {
    "id": "ZyAvNCJMmvFF"
   },
   "outputs": [],
   "source": [
    "# Some basic setup:\n",
    "# Setup detectron2 logger\n",
    "import detectron2\n",
    "from detectron2.utils.logger import setup_logger\n",
    "setup_logger()\n",
    "\n",
    "# import some common libraries\n",
    "import numpy as np\n",
    "import os, json, cv2, random, glob\n",
    "if IN_COLAB:\n",
    "  from google.colab.patches import cv2_imshow\n",
    "else:\n",
    "  import cv2\n",
    "# import some common detectron2 utilities\n",
    "from detectron2 import model_zoo\n",
    "from detectron2.engine import DefaultPredictor\n",
    "from detectron2.config import get_cfg\n",
    "from detectron2.utils.visualizer import Visualizer\n",
    "from detectron2.data import MetadataCatalog, DatasetCatalog"
   ]
  },
  {
   "cell_type": "markdown",
   "metadata": {
    "id": "9GXik0-s9zda"
   },
   "source": [
    "## Upload a labeled dataset as follows.\n",
    "Note: please make sure the is no white space in your file path if you encounter file not found issues."
   ]
  },
  {
   "cell_type": "code",
   "execution_count": 4,
   "metadata": {
    "id": "JcWvszD899W4"
   },
   "outputs": [
    {
     "name": "stdout",
     "output_type": "stream",
     "text": [
      "Enabling notebook extension jupyter-js-widgets/extension...\r\n",
      "      - Validating: \u001b[32mOK\u001b[0m\r\n"
     ]
    }
   ],
   "source": [
    "if IN_COLAB:\n",
    "    from google.colab import files\n",
    "else:\n",
    "    from ipywidgets import FileUpload\n",
    "    from IPython.display import display\n",
    "    !jupyter nbextension enable --py widgetsnbextension"
   ]
  },
  {
   "cell_type": "code",
   "execution_count": 5,
   "metadata": {},
   "outputs": [],
   "source": [
    "if IN_COLAB:\n",
    "    uploaded = files.upload()\n",
    "else:\n",
    "    uploaded = FileUpload()"
   ]
  },
  {
   "cell_type": "code",
   "execution_count": 6,
   "metadata": {},
   "outputs": [
    {
     "data": {
      "application/vnd.jupyter.widget-view+json": {
       "model_id": "f640cba3119a42d881b5120d755c14ef",
       "version_major": 2,
       "version_minor": 0
      },
      "text/plain": [
       "FileUpload(value={}, description='Upload')"
      ]
     },
     "metadata": {},
     "output_type": "display_data"
    }
   ],
   "source": [
    "display(uploaded)"
   ]
  },
  {
   "cell_type": "code",
   "execution_count": 8,
   "metadata": {},
   "outputs": [],
   "source": [
    "if IN_COLAB:\n",
    "    dataset =  list(uploaded.keys())[0]\n",
    "else:\n",
    "    dataset = list(uploaded.value.keys())[0]"
   ]
  },
  {
   "cell_type": "code",
   "execution_count": null,
   "metadata": {
    "id": "7gD2vEWtmZQ8"
   },
   "outputs": [],
   "source": [
    "if IN_COLAB:\n",
    "    !unzip $dataset -d /content/\n",
    "else:\n",
    "    #TODO generalize this\n",
    "    !unzip ../../sample_video/$dataset -d ."
   ]
  },
  {
   "cell_type": "markdown",
   "metadata": {
    "id": "pWfb29Cy9EdH"
   },
   "source": [
    "## Auto extract DATASET_NAME and DATASET_DIR or you can replace them with your own strings like `**DATASET_NAME** = \"MYDATASET_1\"` and `DATASETDIR=\"MYDATASET_DIR\"`"
   ]
  },
  {
   "cell_type": "code",
   "execution_count": 9,
   "metadata": {
    "id": "21PxYqli7Y67"
   },
   "outputs": [],
   "source": [
    "DATASET_NAME = f\"{os.path.basename(dataset).split('_')[0]}\" \n",
    "DATASET_DIR = f\"{dataset.replace('.zip','')}\"  "
   ]
  },
  {
   "cell_type": "code",
   "execution_count": 10,
   "metadata": {
    "id": "KzRZngMi_ujx",
    "scrolled": true
   },
   "outputs": [
    {
     "data": {
      "text/plain": [
       "'sample'"
      ]
     },
     "execution_count": 10,
     "metadata": {},
     "output_type": "execute_result"
    }
   ],
   "source": [
    "DATASET_NAME"
   ]
  },
  {
   "cell_type": "code",
   "execution_count": 11,
   "metadata": {
    "id": "Gak3KwomHghD"
   },
   "outputs": [
    {
     "data": {
      "text/plain": [
       "'sample_video_coco_dataset'"
      ]
     },
     "execution_count": 11,
     "metadata": {},
     "output_type": "execute_result"
    }
   ],
   "source": [
    "DATASET_DIR"
   ]
  },
  {
   "cell_type": "markdown",
   "metadata": {
    "id": "Vk4gID50K03a"
   },
   "source": [
    "# Run a pre-trained detectron2 model"
   ]
  },
  {
   "cell_type": "markdown",
   "metadata": {
    "id": "JgKyUL4pngvE"
   },
   "source": [
    "First, we check a random selected image from the our COCO training dataset:"
   ]
  },
  {
   "cell_type": "code",
   "execution_count": 12,
   "metadata": {
    "id": "dq9GY37ml1kr"
   },
   "outputs": [],
   "source": [
    "# select and display one random image from the training set\n",
    "img_file = random.choice(glob.glob(f\"{DATASET_DIR}/train/JPEGImages/*.*\"))\n",
    "im = cv2.imread(img_file)\n",
    "if IN_COLAB:\n",
    "    cv2_imshow(im)\n",
    "else:\n",
    "#     cv2.imshow('image', im)\n",
    "#     cv2.waitKey(0)\n",
    "#     cv2.destroyAllWindows() \n",
    "    pass"
   ]
  },
  {
   "cell_type": "markdown",
   "metadata": {
    "id": "uM1thbN-ntjI"
   },
   "source": [
    "Then, we create a Detectron2 config and a detectron2 `DefaultPredictor` to run inference on this image."
   ]
  },
  {
   "cell_type": "code",
   "execution_count": null,
   "metadata": {
    "id": "HUjkwRsOn1O0"
   },
   "outputs": [],
   "source": [
    "cfg = get_cfg()\n",
    "# add project-specific config (e.g., TensorMask) here if you're not running a model in detectron2's core library\n",
    "cfg.merge_from_file(model_zoo.get_config_file(\"COCO-InstanceSegmentation/mask_rcnn_R_50_FPN_3x.yaml\"))\n",
    "cfg.MODEL.ROI_HEADS.SCORE_THRESH_TEST = 0.1  # set threshold for this model\n",
    "# Find a model from Detectron2's model zoo. You can use the https://dl.fbaipublicfiles... url as well\n",
    "cfg.MODEL.WEIGHTS = model_zoo.get_checkpoint_url(\"COCO-InstanceSegmentation/mask_rcnn_R_50_FPN_3x.yaml\")\n",
    "predictor = DefaultPredictor(cfg)\n",
    "outputs = predictor(im)"
   ]
  },
  {
   "cell_type": "code",
   "execution_count": null,
   "metadata": {
    "id": "7d3KxiHO_0gb"
   },
   "outputs": [],
   "source": [
    "# look at the outputs. See https://detectron2.readthedocs.io/tutorials/models.html#model-output-format for specification\n",
    "print(outputs[\"instances\"].pred_classes)\n",
    "print(outputs[\"instances\"].pred_boxes)"
   ]
  },
  {
   "cell_type": "code",
   "execution_count": null,
   "metadata": {
    "id": "eM728kMR0ACL"
   },
   "outputs": [],
   "source": [
    "outputs['instances'].pred_masks"
   ]
  },
  {
   "cell_type": "code",
   "execution_count": null,
   "metadata": {
    "id": "NWnR6KMx2KK7"
   },
   "outputs": [],
   "source": [
    "MetadataCatalog.get(cfg.DATASETS.TRAIN[0])"
   ]
  },
  {
   "cell_type": "code",
   "execution_count": null,
   "metadata": {
    "id": "8IRGo8d0qkgR"
   },
   "outputs": [],
   "source": [
    "# We can use `Visualizer` to draw the predictions on the image.\n",
    "v = Visualizer(im[:, :, ::-1], MetadataCatalog.get(cfg.DATASETS.TRAIN[0]), scale=1.2)\n",
    "out = v.draw_instance_predictions(outputs[\"instances\"].to(\"cpu\"))\n",
    "cv2_imshow(out.get_image()[:, :, ::-1])"
   ]
  },
  {
   "cell_type": "markdown",
   "metadata": {
    "id": "b2bjrfb2LDeo"
   },
   "source": [
    "# Train on a custom dataset"
   ]
  },
  {
   "cell_type": "markdown",
   "metadata": {
    "id": "tjbUIhSxUdm_"
   },
   "source": [
    "In this section, we show how to train an existing detectron2 model on a custom dataset in COCO format.\n",
    "\n",
    "## Prepare the dataset"
   ]
  },
  {
   "cell_type": "markdown",
   "metadata": {
    "id": "tVJoOm6LVJwW"
   },
   "source": [
    "Register the custom dataset to Detectron2, following the [detectron2 custom dataset tutorial](https://detectron2.readthedocs.io/tutorials/datasets.html).\n",
    "Here, the dataset is in COCO format, therefore we register  into Detectron2's standard format. User should write such a function when using a dataset in custom format. See the tutorial for more details.\n"
   ]
  },
  {
   "cell_type": "code",
   "execution_count": 14,
   "metadata": {
    "id": "PIbAM2pv-urF"
   },
   "outputs": [],
   "source": [
    "# if your dataset is in COCO format, this cell can be run by the following three lines:\n",
    "from detectron2.data.datasets import register_coco_instances\n",
    "register_coco_instances(f\"{DATASET_NAME}_train\", {}, f\"{DATASET_DIR}/train/annotations.json\", f\"{DATASET_DIR}/train/\")\n",
    "register_coco_instances(f\"{DATASET_NAME}_valid\", {}, f\"{DATASET_DIR}/valid/annotations.json\", f\"{DATASET_DIR}/valid/\")\n"
   ]
  },
  {
   "cell_type": "code",
   "execution_count": 15,
   "metadata": {
    "id": "9F93EZ2m_clN"
   },
   "outputs": [],
   "source": [
    "from detectron2.data import get_detection_dataset_dicts\n",
    "from detectron2.data.datasets import  builtin_meta"
   ]
  },
  {
   "cell_type": "code",
   "execution_count": 16,
   "metadata": {
    "id": "GzKzTlwU_iHh"
   },
   "outputs": [
    {
     "name": "stdout",
     "output_type": "stream",
     "text": [
      "\u001b[5m\u001b[31mWARNING\u001b[0m \u001b[32m[01/05 15:54:18 d2.data.datasets.coco]: \u001b[0m\n",
      "Category ids in annotations are not in [1, #categories]! We'll apply a mapping for you.\n",
      "\n",
      "\u001b[32m[01/05 15:54:18 d2.data.datasets.coco]: \u001b[0mLoaded 11 images in COCO format from sample_video_coco_dataset/train/annotations.json\n",
      "\u001b[32m[01/05 15:54:18 d2.data.build]: \u001b[0mRemoved 0 images with no usable annotations. 11 images left.\n",
      "\u001b[32m[01/05 15:54:18 d2.data.build]: \u001b[0mDistribution of instances among all 16 categories:\n",
      "\u001b[36m|   category    | #instances   |   category    | #instances   |  category  | #instances   |\n",
      "|:-------------:|:-------------|:-------------:|:-------------|:----------:|:-------------|\n",
      "| _background_  | 0            |     mouse     | 9            |    body    | 0            |\n",
      "| body_centroid | 0            |   left_ear    | 11           | right_ear  | 11           |\n",
      "|     nose      | 11           |     head      | 0            |    wall    | 0            |\n",
      "|    corner     | 0            | base_of_tail  | 11           |  grooming  | 0            |\n",
      "|    rearing    | 0            | object_inve.. | 2            |  tea_ball  | 9            |\n",
      "|     hand      | 0            |               |              |            |              |\n",
      "|     total     | 64           |               |              |            |              |\u001b[0m\n"
     ]
    }
   ],
   "source": [
    "dataset_dicts = get_detection_dataset_dicts([f\"{DATASET_NAME}_train\"])"
   ]
  },
  {
   "cell_type": "code",
   "execution_count": 17,
   "metadata": {
    "id": "FVJnolv9__eE"
   },
   "outputs": [],
   "source": [
    "_dataset_metadata = MetadataCatalog.get(f\"{DATASET_NAME}_train\")\n",
    "_dataset_metadata.thing_colors = [cc['color'] for cc in builtin_meta.COCO_CATEGORIES]"
   ]
  },
  {
   "cell_type": "code",
   "execution_count": 18,
   "metadata": {
    "id": "h-dEBJmW447_"
   },
   "outputs": [
    {
     "data": {
      "text/plain": [
       "namespace(name='sample_train',\n",
       "          json_file='sample_video_coco_dataset/train/annotations.json',\n",
       "          image_root='sample_video_coco_dataset/train/',\n",
       "          evaluator_type='coco',\n",
       "          thing_classes=['_background_',\n",
       "                         'mouse',\n",
       "                         'body',\n",
       "                         'body_centroid',\n",
       "                         'left_ear',\n",
       "                         'right_ear',\n",
       "                         'nose',\n",
       "                         'head',\n",
       "                         'wall',\n",
       "                         'corner',\n",
       "                         'base_of_tail',\n",
       "                         'grooming',\n",
       "                         'rearing',\n",
       "                         'object_investigation',\n",
       "                         'tea_ball',\n",
       "                         'hand'],\n",
       "          thing_dataset_id_to_contiguous_id={0: 0,\n",
       "                                             1: 1,\n",
       "                                             2: 2,\n",
       "                                             3: 3,\n",
       "                                             4: 4,\n",
       "                                             5: 5,\n",
       "                                             6: 6,\n",
       "                                             7: 7,\n",
       "                                             8: 8,\n",
       "                                             9: 9,\n",
       "                                             10: 10,\n",
       "                                             11: 11,\n",
       "                                             12: 12,\n",
       "                                             13: 13,\n",
       "                                             14: 14,\n",
       "                                             15: 15},\n",
       "          thing_colors=[[220, 20, 60],\n",
       "                        [119, 11, 32],\n",
       "                        [0, 0, 142],\n",
       "                        [0, 0, 230],\n",
       "                        [106, 0, 228],\n",
       "                        [0, 60, 100],\n",
       "                        [0, 80, 100],\n",
       "                        [0, 0, 70],\n",
       "                        [0, 0, 192],\n",
       "                        [250, 170, 30],\n",
       "                        [100, 170, 30],\n",
       "                        [220, 220, 0],\n",
       "                        [175, 116, 175],\n",
       "                        [250, 0, 30],\n",
       "                        [165, 42, 42],\n",
       "                        [255, 77, 255],\n",
       "                        [0, 226, 252],\n",
       "                        [182, 182, 255],\n",
       "                        [0, 82, 0],\n",
       "                        [120, 166, 157],\n",
       "                        [110, 76, 0],\n",
       "                        [174, 57, 255],\n",
       "                        [199, 100, 0],\n",
       "                        [72, 0, 118],\n",
       "                        [255, 179, 240],\n",
       "                        [0, 125, 92],\n",
       "                        [209, 0, 151],\n",
       "                        [188, 208, 182],\n",
       "                        [0, 220, 176],\n",
       "                        [255, 99, 164],\n",
       "                        [92, 0, 73],\n",
       "                        [133, 129, 255],\n",
       "                        [78, 180, 255],\n",
       "                        [0, 228, 0],\n",
       "                        [174, 255, 243],\n",
       "                        [45, 89, 255],\n",
       "                        [134, 134, 103],\n",
       "                        [145, 148, 174],\n",
       "                        [255, 208, 186],\n",
       "                        [197, 226, 255],\n",
       "                        [171, 134, 1],\n",
       "                        [109, 63, 54],\n",
       "                        [207, 138, 255],\n",
       "                        [151, 0, 95],\n",
       "                        [9, 80, 61],\n",
       "                        [84, 105, 51],\n",
       "                        [74, 65, 105],\n",
       "                        [166, 196, 102],\n",
       "                        [208, 195, 210],\n",
       "                        [255, 109, 65],\n",
       "                        [0, 143, 149],\n",
       "                        [179, 0, 194],\n",
       "                        [209, 99, 106],\n",
       "                        [5, 121, 0],\n",
       "                        [227, 255, 205],\n",
       "                        [147, 186, 208],\n",
       "                        [153, 69, 1],\n",
       "                        [3, 95, 161],\n",
       "                        [163, 255, 0],\n",
       "                        [119, 0, 170],\n",
       "                        [0, 182, 199],\n",
       "                        [0, 165, 120],\n",
       "                        [183, 130, 88],\n",
       "                        [95, 32, 0],\n",
       "                        [130, 114, 135],\n",
       "                        [110, 129, 133],\n",
       "                        [166, 74, 118],\n",
       "                        [219, 142, 185],\n",
       "                        [79, 210, 114],\n",
       "                        [178, 90, 62],\n",
       "                        [65, 70, 15],\n",
       "                        [127, 167, 115],\n",
       "                        [59, 105, 106],\n",
       "                        [142, 108, 45],\n",
       "                        [196, 172, 0],\n",
       "                        [95, 54, 80],\n",
       "                        [128, 76, 255],\n",
       "                        [201, 57, 1],\n",
       "                        [246, 0, 122],\n",
       "                        [191, 162, 208],\n",
       "                        [255, 255, 128],\n",
       "                        [147, 211, 203],\n",
       "                        [150, 100, 100],\n",
       "                        [168, 171, 172],\n",
       "                        [146, 112, 198],\n",
       "                        [210, 170, 100],\n",
       "                        [92, 136, 89],\n",
       "                        [218, 88, 184],\n",
       "                        [241, 129, 0],\n",
       "                        [217, 17, 255],\n",
       "                        [124, 74, 181],\n",
       "                        [70, 70, 70],\n",
       "                        [255, 228, 255],\n",
       "                        [154, 208, 0],\n",
       "                        [193, 0, 92],\n",
       "                        [76, 91, 113],\n",
       "                        [255, 180, 195],\n",
       "                        [106, 154, 176],\n",
       "                        [230, 150, 140],\n",
       "                        [60, 143, 255],\n",
       "                        [128, 64, 128],\n",
       "                        [92, 82, 55],\n",
       "                        [254, 212, 124],\n",
       "                        [73, 77, 174],\n",
       "                        [255, 160, 98],\n",
       "                        [255, 255, 255],\n",
       "                        [104, 84, 109],\n",
       "                        [169, 164, 131],\n",
       "                        [225, 199, 255],\n",
       "                        [137, 54, 74],\n",
       "                        [135, 158, 223],\n",
       "                        [7, 246, 231],\n",
       "                        [107, 255, 200],\n",
       "                        [58, 41, 149],\n",
       "                        [183, 121, 142],\n",
       "                        [255, 73, 97],\n",
       "                        [107, 142, 35],\n",
       "                        [190, 153, 153],\n",
       "                        [146, 139, 141],\n",
       "                        [70, 130, 180],\n",
       "                        [134, 199, 156],\n",
       "                        [209, 226, 140],\n",
       "                        [96, 36, 108],\n",
       "                        [96, 96, 96],\n",
       "                        [64, 170, 64],\n",
       "                        [152, 251, 152],\n",
       "                        [208, 229, 228],\n",
       "                        [206, 186, 171],\n",
       "                        [152, 161, 64],\n",
       "                        [116, 112, 0],\n",
       "                        [0, 114, 143],\n",
       "                        [102, 102, 156],\n",
       "                        [250, 141, 255]])"
      ]
     },
     "execution_count": 18,
     "metadata": {},
     "output_type": "execute_result"
    }
   ],
   "source": [
    "_dataset_metadata"
   ]
  },
  {
   "cell_type": "code",
   "execution_count": 19,
   "metadata": {
    "id": "llntrPobA2CM"
   },
   "outputs": [
    {
     "name": "stdout",
     "output_type": "stream",
     "text": [
      "16 Number of classes in the dataset\n"
     ]
    }
   ],
   "source": [
    "NUM_CLASSES = len(_dataset_metadata.thing_classes)\n",
    "print(f\"{NUM_CLASSES} Number of classes in the dataset\")"
   ]
  },
  {
   "cell_type": "markdown",
   "metadata": {
    "id": "6ljbWTX0Wi8E"
   },
   "source": [
    "To verify the data loading is correct, let's visualize the annotations of randomly selected samples in the training set:\n",
    "\n"
   ]
  },
  {
   "cell_type": "code",
   "execution_count": 21,
   "metadata": {
    "id": "UkNbUzUOLYf0"
   },
   "outputs": [],
   "source": [
    "for d in random.sample(dataset_dicts, 2):\n",
    "    if '\\\\' in d['file_name']:\n",
    "        d['file_name'] = d['file_name'].replace('\\\\','/')\n",
    "    img = cv2.imread(d[\"file_name\"])\n",
    "    visualizer = Visualizer(img[:, :, ::-1], metadata=_dataset_metadata, scale=0.5)\n",
    "    out = visualizer.draw_dataset_dict(d)\n",
    "    if IN_COLAB:\n",
    "        cv2_imshow(out.get_image()[:, :, ::-1])"
   ]
  },
  {
   "cell_type": "markdown",
   "metadata": {
    "id": "wlqXIXXhW8dA"
   },
   "source": [
    "## Train!\n",
    "\n",
    "Now, let's fine-tune a COCO-pretrained R50-FPN Mask R-CNN model on the dataset. It takes ~2 hours to train 3000 iterations on Colab's K80 GPU, or ~1.5 hours on a P100 GPU.\n"
   ]
  },
  {
   "cell_type": "code",
   "execution_count": 22,
   "metadata": {
    "id": "w9vyoXX0xZcM"
   },
   "outputs": [
    {
     "name": "stdout",
     "output_type": "stream",
     "text": [
      "/bin/bash: nvidia-smi: command not found\r\n"
     ]
    }
   ],
   "source": [
    "!nvidia-smi"
   ]
  },
  {
   "cell_type": "code",
   "execution_count": null,
   "metadata": {
    "id": "7unkuuiqLdqd"
   },
   "outputs": [],
   "source": [
    "from detectron2.engine import DefaultTrainer\n",
    "\n",
    "cfg = get_cfg()\n",
    "cfg.merge_from_file(model_zoo.get_config_file(\"COCO-InstanceSegmentation/mask_rcnn_R_50_FPN_3x.yaml\"))\n",
    "cfg.DATASETS.TRAIN = (f\"{DATASET_NAME}_train\",)\n",
    "cfg.DATASETS.TEST = ()\n",
    "cfg.DATALOADER.NUM_WORKERS = 2 #@param\n",
    "cfg.DATALOADER.SAMPLER_TRAIN = \"RepeatFactorTrainingSampler\"\n",
    "cfg.DATALOADER.REPEAT_THRESHOLD = 0.3\n",
    "cfg.MODEL.WEIGHTS = model_zoo.get_checkpoint_url(\"COCO-InstanceSegmentation/mask_rcnn_R_50_FPN_3x.yaml\")  # Let training initialize from model zoo\n",
    "cfg.SOLVER.IMS_PER_BATCH =  8#@param\n",
    "cfg.SOLVER.BASE_LR = 0.0025 #@param # pick a good LR\n",
    "cfg.SOLVER.MAX_ITER = 3000 #@param    # 300 iterations seems good enough for 100 frames dataset; you will need to train longer for a practical dataset\n",
    "cfg.SOLVER.CHECKPOINT_PERIOD = 1000 #@param \n",
    "cfg.MODEL.ROI_HEADS.BATCH_SIZE_PER_IMAGE = 128 #@param   # faster, and good enough for this toy dataset (default: 512)\n",
    "cfg.MODEL.ROI_HEADS.NUM_CLASSES = NUM_CLASSES  #  (see https://detectron2.readthedocs.io/tutorials/datasets.html#update-the-config-for-new-datasets)\n",
    "os.makedirs(cfg.OUTPUT_DIR, exist_ok=True)\n",
    "trainer = DefaultTrainer(cfg) \n",
    "trainer.resume_or_load(resume=False)\n"
   ]
  },
  {
   "cell_type": "code",
   "execution_count": null,
   "metadata": {
    "id": "hBXeH8UXFcqU"
   },
   "outputs": [],
   "source": [
    "# Look at training curves in tensorboard:\n",
    "%load_ext tensorboard\n",
    "%tensorboard --logdir output"
   ]
  },
  {
   "cell_type": "code",
   "execution_count": null,
   "metadata": {
    "id": "aKs8eu8u8_mr"
   },
   "outputs": [],
   "source": [
    "trainer.train()"
   ]
  },
  {
   "cell_type": "markdown",
   "metadata": {
    "id": "0e4vdDIOXyxF"
   },
   "source": [
    "## Inference & evaluation using the trained model\n",
    "Now, let's run inference with the trained model on the validation dataset. First, let's create a predictor using the model we just trained:\n",
    "\n"
   ]
  },
  {
   "cell_type": "code",
   "execution_count": null,
   "metadata": {
    "id": "Ya5nEuMELeq8"
   },
   "outputs": [],
   "source": [
    "# Inference should use the config with parameters that are used in training\n",
    "# cfg now already contains everything we've set previously. We changed it a little bit for inference:\n",
    "cfg.MODEL.WEIGHTS = os.path.join(cfg.OUTPUT_DIR, \"model_final.pth\")  # path to the model we just trained\n",
    "# set a custom testing threshold\n",
    "cfg.MODEL.ROI_HEADS.SCORE_THRESH_TEST = 0.15   #@param {type: \"slider\", min:0.0, max:1.0, step: 0.01}\n",
    "predictor = DefaultPredictor(cfg)"
   ]
  },
  {
   "cell_type": "markdown",
   "metadata": {
    "id": "qWq1XHfDWiXO"
   },
   "source": [
    "Then, we randomly select several samples to visualize the prediction results."
   ]
  },
  {
   "cell_type": "code",
   "execution_count": null,
   "metadata": {
    "id": "U5LhISJqWXgM"
   },
   "outputs": [],
   "source": [
    "from detectron2.utils.visualizer import ColorMode\n",
    "dataset_dicts = get_detection_dataset_dicts([f\"{DATASET_NAME}_valid\"])\n",
    "for d in random.sample(dataset_dicts, 4):    \n",
    "    im = cv2.imread(d[\"file_name\"])\n",
    "    outputs = predictor(im)  # format is documented at https://detectron2.readthedocs.io/tutorials/models.html#model-output-format\n",
    "    v = Visualizer(im[:, :, ::-1],\n",
    "                   metadata=_dataset_metadata, \n",
    "                   scale=0.5, \n",
    "                   instance_mode=ColorMode.SEGMENTATION   # remove the colors of unsegmented pixels. This option is only available for segmentation models\n",
    "    )\n",
    "    out = v.draw_instance_predictions(outputs[\"instances\"].to(\"cpu\"))\n",
    "    cv2_imshow(out.get_image()[:, :, ::-1])"
   ]
  },
  {
   "cell_type": "markdown",
   "metadata": {
    "id": "kblA1IyFvWbT"
   },
   "source": [
    "We can also evaluate its performance using AP metric implemented in COCO API.\n",
    "This gives an AP of ~50. Not bad!"
   ]
  },
  {
   "cell_type": "code",
   "execution_count": null,
   "metadata": {
    "id": "h9tECBQCvMv3"
   },
   "outputs": [],
   "source": [
    "from detectron2.evaluation import COCOEvaluator, inference_on_dataset\n",
    "from detectron2.data import build_detection_test_loader\n",
    "evaluator = COCOEvaluator(f\"{DATASET_NAME}_valid\", cfg, False, output_dir=\"/content/eval_output/\")\n",
    "val_loader = build_detection_test_loader(cfg, f\"{DATASET_NAME}_valid\")\n",
    "print(inference_on_dataset(predictor.model, val_loader, evaluator))\n",
    "# another equivalent way to evaluate the model is to use `trainer.test`"
   ]
  },
  {
   "cell_type": "markdown",
   "metadata": {
    "id": "HFuPzChWzU6Q"
   },
   "source": [
    "# Upload or Download a video and test it based on your trained model"
   ]
  },
  {
   "cell_type": "markdown",
   "metadata": {
    "id": "Ajsf88l3AAWU"
   },
   "source": [
    "##Download a video from a URL"
   ]
  },
  {
   "cell_type": "code",
   "execution_count": null,
   "metadata": {
    "id": "GY5wFYbotW9i"
   },
   "outputs": [],
   "source": [
    "#e.g.\n",
    "#!wget https://hosting-website.com/your-video.mp4"
   ]
  },
  {
   "cell_type": "markdown",
   "metadata": {
    "id": "606Pdue7BRP3"
   },
   "source": [
    "### Please change the VIDEO_INPUT to the path of your inference video"
   ]
  },
  {
   "cell_type": "code",
   "execution_count": null,
   "metadata": {
    "id": "5K5hZpsWDqnY"
   },
   "outputs": [],
   "source": [
    "VIDEO_INPUT=\"/content/video60.mkv\" #@param {type: \"string\"}"
   ]
  },
  {
   "cell_type": "code",
   "execution_count": null,
   "metadata": {
    "id": "xn0LVJTWtLhJ"
   },
   "outputs": [],
   "source": [
    "import cv2\n",
    "video = cv2.VideoCapture(VIDEO_INPUT)\n",
    "width = int(video.get(cv2.CAP_PROP_FRAME_WIDTH))\n",
    "height = int(video.get(cv2.CAP_PROP_FRAME_HEIGHT))\n",
    "frames_per_second = video.get(cv2.CAP_PROP_FPS)\n",
    "num_frames = int(video.get(cv2.CAP_PROP_FRAME_COUNT))\n",
    "basename = os.path.basename(VIDEO_INPUT)"
   ]
  },
  {
   "cell_type": "code",
   "execution_count": null,
   "metadata": {
    "id": "TXLpO4_AtgGO"
   },
   "outputs": [],
   "source": [
    "OUTPUT_DIR = \"/content/eval_output\"\n",
    "import os \n",
    "os.makedirs(OUTPUT_DIR,exist_ok=True)"
   ]
  },
  {
   "cell_type": "code",
   "execution_count": null,
   "metadata": {
    "id": "14VKYjHr2gGg"
   },
   "outputs": [],
   "source": [
    "def _frame_from_video(video):\n",
    "  attempt = 0\n",
    "  for i in range(num_frames):\n",
    "      success, frame = video.read()\n",
    "      if success:\n",
    "          yield frame\n",
    "      else:\n",
    "          attempt += 1\n",
    "          if attempt >= 2000:\n",
    "              break\n",
    "          else:\n",
    "              video.set(cv2.CAP_PROP_POS_FRAMES, i+1)\n",
    "              print('Cannot read this frame:', i)\n",
    "              continue"
   ]
  },
  {
   "cell_type": "code",
   "execution_count": null,
   "metadata": {
    "id": "_JHTT5XKIBsf"
   },
   "outputs": [],
   "source": [
    "import pandas as pd\n",
    "import pycocotools.mask as mask_util"
   ]
  },
  {
   "cell_type": "code",
   "execution_count": null,
   "metadata": {
    "id": "AIG71LHZPsgs"
   },
   "outputs": [],
   "source": [
    "class_names = _dataset_metadata.thing_classes\n",
    "print(class_names)"
   ]
  },
  {
   "cell_type": "code",
   "execution_count": null,
   "metadata": {
    "id": "MYI_Cv-GBplZ"
   },
   "outputs": [],
   "source": [
    "frame_number = 0\n",
    "tracking_results = []\n",
    "VIS = True\n",
    "for frame in _frame_from_video(video): \n",
    "    im = frame\n",
    "    outputs = predictor(im)\n",
    "    out_dict = {}  \n",
    "    instances = outputs[\"instances\"].to(\"cpu\")\n",
    "    num_instance = len(instances)\n",
    "    if num_instance == 0:\n",
    "        out_dict['frame_number'] = frame_number\n",
    "        out_dict['x1'] = None\n",
    "        out_dict['y1'] = None\n",
    "        out_dict['x2'] = None\n",
    "        out_dict['y2'] = None\n",
    "        out_dict['instance_name'] = None\n",
    "        out_dict['class_score'] = None\n",
    "        out_dict['segmentation'] = None\n",
    "        tracking_results.append(out_dict)\n",
    "        out_dict = {}\n",
    "    else:\n",
    "        boxes = instances.pred_boxes.tensor.numpy()\n",
    "        boxes = boxes.tolist()\n",
    "        scores = instances.scores.tolist()\n",
    "        classes = instances.pred_classes.tolist()\n",
    "\n",
    "        has_mask = instances.has(\"pred_masks\")\n",
    "\n",
    "        if has_mask:\n",
    "            rles =[\n",
    "                   mask_util.encode(np.array(mask[:,:,None], order=\"F\", dtype=\"uint8\"))[0]\n",
    "                   for mask in instances.pred_masks\n",
    "            ]\n",
    "            for rle in rles:\n",
    "              rle[\"counts\"] = rle[\"counts\"].decode(\"utf-8\")\n",
    "\n",
    "        assert len(rles) == len(boxes)\n",
    "        for k in range(num_instance):\n",
    "            box = boxes[k]\n",
    "            out_dict['frame_number'] = frame_number\n",
    "            out_dict['x1'] = box[0]\n",
    "            out_dict['y1'] = box[1]\n",
    "            out_dict['x2'] = box[2]\n",
    "            out_dict['y2'] = box[3]\n",
    "            out_dict['instance_name'] = class_names[classes[k]]\n",
    "            out_dict['class_score'] = scores[k]\n",
    "            out_dict['segmentation'] = rles[k]\n",
    "            if frame_number % 1000 == 0:\n",
    "              print(f\"Frame number {frame_number}: {out_dict}\")\n",
    "            tracking_results.append(out_dict)\n",
    "            out_dict = {}\n",
    "        \n",
    "    # format is documented at https://detectron2.readthedocs.io/tutorials/models.html#model-output-format\n",
    "    if VIS:\n",
    "        v = Visualizer(im[:, :, ::-1],\n",
    "                    metadata=_dataset_metadata, \n",
    "                    scale=0.5, \n",
    "                    instance_mode=ColorMode.IMAGE_BW   # remove the colors of unsegmented pixels. This option is only available for segmentation models\n",
    "         )\n",
    "        out = v.draw_instance_predictions(outputs[\"instances\"].to(\"cpu\"))\n",
    "        out_image = out.get_image()[:, :, ::-1]\n",
    "        if frame_number % 1000 == 0:\n",
    "            cv2_imshow(out_image)\n",
    "            #Trun off the visulization to save time after the first frame\n",
    "            VIS = False\n",
    "    frame_number += 1\n",
    "    print(f\"Processing frame number {frame_number}\")\n",
    "\n",
    "video.release()"
   ]
  },
  {
   "cell_type": "markdown",
   "metadata": {
    "id": "uGtm3KALxyqp"
   },
   "source": [
    "## All the tracking results will be saved to this Pandas dataframe. \n",
    "\n"
   ]
  },
  {
   "cell_type": "code",
   "execution_count": null,
   "metadata": {
    "id": "3W6dRQXoN85C"
   },
   "outputs": [],
   "source": [
    "df = pd.DataFrame(tracking_results)"
   ]
  },
  {
   "cell_type": "code",
   "execution_count": null,
   "metadata": {
    "id": "lIR1fe6zODRq"
   },
   "outputs": [],
   "source": [
    "df.head()"
   ]
  },
  {
   "cell_type": "markdown",
   "metadata": {
    "id": "DgI8caT9-mlO"
   },
   "source": [
    "## Calculate the bbox center point x, y locations"
   ]
  },
  {
   "cell_type": "code",
   "execution_count": null,
   "metadata": {
    "id": "UGBFdG8RIcZo"
   },
   "outputs": [],
   "source": [
    "cx = (df.x1 + df.x2)/2\n",
    "cy = (df.y1 + df.y2)/2\n",
    "df['cx'] = cx\n",
    "df['cy'] = cy"
   ]
  },
  {
   "cell_type": "code",
   "execution_count": null,
   "metadata": {
    "id": "1R2Xii899cob"
   },
   "outputs": [],
   "source": [
    "df.tail()"
   ]
  },
  {
   "cell_type": "markdown",
   "metadata": {
    "id": "_0NJtjZUsoQK"
   },
   "source": [
    "## Only save the top 1 prediction for each frame for each class\n",
    "Note: You can change the number to save top n predictions for each frame and an instance name. head(2), head(5), or head(n)\n",
    "To save all the predictions, please use `df.to_csv('my_tracking_results.csv')`."
   ]
  },
  {
   "cell_type": "code",
   "execution_count": null,
   "metadata": {
    "id": "qAJ5dU-EhDXP"
   },
   "outputs": [],
   "source": [
    "df_top = df.groupby(['frame_number','instance_name'],sort=False).head(1)"
   ]
  },
  {
   "cell_type": "code",
   "execution_count": null,
   "metadata": {
    "id": "27jn0z3_hTKS"
   },
   "outputs": [],
   "source": [
    "df_top.head()"
   ]
  },
  {
   "cell_type": "markdown",
   "metadata": {
    "id": "5A1KvDDe_K8P"
   },
   "source": [
    "## Visualize the center points with plotly scatter plot"
   ]
  },
  {
   "cell_type": "code",
   "execution_count": null,
   "metadata": {
    "id": "5oY3tHTOTc-Z"
   },
   "outputs": [],
   "source": [
    "df_vis = df_top[df_top.instance_name != 'Text'][['frame_number','cx','cy','instance_name']]"
   ]
  },
  {
   "cell_type": "code",
   "execution_count": null,
   "metadata": {
    "id": "ZhxX1tpGI1LX"
   },
   "outputs": [],
   "source": [
    "import plotly.express as px\n",
    "import plotly.graph_objects as go\n",
    "import numpy as np\n",
    "\n",
    "fig = px.scatter(df_vis, \n",
    "                 x=\"cx\",\n",
    "                 y=\"cy\", \n",
    "                 color=\"instance_name\",\n",
    "                 hover_data=['frame_number','cx','cy'])\n",
    "fig.show()"
   ]
  },
  {
   "cell_type": "code",
   "execution_count": null,
   "metadata": {
    "id": "2pfF0eecelCY"
   },
   "outputs": [],
   "source": [
    "from pathlib import  Path\n",
    "tracking_results_csv = f\"{Path(dataset).stem}_{Path(VIDEO_INPUT).stem}_{cfg.SOLVER.MAX_ITER}_iters_mask_rcnn_tracking_results_with_segmenation.csv\"\n",
    "df_top.to_csv(tracking_results_csv)"
   ]
  },
  {
   "cell_type": "markdown",
   "metadata": {
    "id": "DlVKcxTW5tIa"
   },
   "source": [
    "## Download the tracking result CSV file to your local device"
   ]
  },
  {
   "cell_type": "code",
   "execution_count": null,
   "metadata": {
    "id": "dFpaGUfsPvJZ"
   },
   "outputs": [],
   "source": [
    "from google.colab import files\n",
    "files.download(tracking_results_csv)"
   ]
  },
  {
   "cell_type": "markdown",
   "metadata": {
    "id": "zQUPfuDFNGLK"
   },
   "source": [
    "# The following sections are optional. "
   ]
  },
  {
   "cell_type": "markdown",
   "metadata": {
    "id": "KcHDEwHF_t0k"
   },
   "source": [
    "## Caculate the distance of a pair of instances in a given frame"
   ]
  },
  {
   "cell_type": "code",
   "execution_count": null,
   "metadata": {
    "id": "AG2I6f50FeQW"
   },
   "outputs": [],
   "source": [
    "def paired_distance(frame_number,\n",
    "                    this_instance='frog_m_2',\n",
    "                    other_instance='frog_f_2'):\n",
    "    df_dis = df_top[df_top[\"frame_number\"]==frame_number][['cx','cy','instance_name']]\n",
    "    df_this = df_dis[df_dis.instance_name == this_instance]\n",
    "    df_other = df_dis[df_dis.instance_name == other_instance]\n",
    "    try:\n",
    "      dist = np.linalg.norm(df_this[['cx','cy']].values-df_other[['cx','cy']].values)\n",
    "    except:\n",
    "      dist = None\n",
    "\n",
    "\n",
    "    return dist"
   ]
  },
  {
   "cell_type": "markdown",
   "metadata": {
    "id": "HdofIPlHMy_F"
   },
   "source": [
    "## Calculate the distance of the instance from the current and previous frame"
   ]
  },
  {
   "cell_type": "code",
   "execution_count": null,
   "metadata": {
    "id": "gOqMSj-_tqCI"
   },
   "outputs": [],
   "source": [
    "def instance_distance_between_frame(frame_number,\n",
    "                                    instance_name='frog_m_1'):\n",
    "    if frame_number < 1:\n",
    "      return 0\n",
    "    previous_frame_number = frame_number - 1\n",
    "    df_dis = df_top[df_top[\"frame_number\"]==frame_number][['cx','cy','instance_name']]\n",
    "    df_dis_prev = df_top[df_top[\"frame_number\"]==previous_frame_number][['cx','cy','instance_name']]\n",
    "    df_dis = df_dis[df_dis.instance_name == instance_name]\n",
    "    df_dis_prev = df_dis_prev[df_dis_prev.instance_name == instance_name]\n",
    "\n",
    "    try:\n",
    "      dist = np.linalg.norm(df_dis[['cx','cy']].values-df_dis_prev[['cx','cy']].values)\n",
    "    except:\n",
    "      dist = None\n",
    "    \n",
    "    return dist\n",
    "    "
   ]
  },
  {
   "cell_type": "code",
   "execution_count": null,
   "metadata": {
    "id": "mJ2njLTh1ykg"
   },
   "outputs": [],
   "source": [
    "df_top['dist_from_previous_frame_frog_m_1'] = df_top.frame_number.apply(instance_distance_between_frame)"
   ]
  },
  {
   "cell_type": "markdown",
   "metadata": {
    "id": "-aePsYWl9aZD"
   },
   "source": [
    "## The total distance traveled for frog male in Tank 1 in pixels"
   ]
  },
  {
   "cell_type": "code",
   "execution_count": null,
   "metadata": {
    "id": "FHHbQ1k48E3o"
   },
   "outputs": [],
   "source": [
    "df_top['dist_from_previous_frame_frog_m_1'].sum()\n"
   ]
  },
  {
   "cell_type": "code",
   "execution_count": null,
   "metadata": {
    "id": "Hmu7v7mq4hXc"
   },
   "outputs": [],
   "source": [
    "\n",
    "fig = px.line(x=df_top.frame_number, y=df_top.dist_from_previous_frame_frog_m_1, labels={'x':'frame_number', 'y':'distance from previous frame frog_m_1'})\n",
    "fig.show()"
   ]
  },
  {
   "cell_type": "markdown",
   "metadata": {
    "id": "N8a6yPdm9xLn"
   },
   "source": [
    "## Distance between frog male in tank 2 and frog female in tank 2 in pixels"
   ]
  },
  {
   "cell_type": "code",
   "execution_count": null,
   "metadata": {
    "id": "Y_foH7jn-DQe"
   },
   "outputs": [],
   "source": [
    "df_top['dist_frog_m2_f2'] = df_top.frame_number.apply(paired_distance)"
   ]
  },
  {
   "cell_type": "code",
   "execution_count": null,
   "metadata": {
    "id": "Dbscz2qYgHHg"
   },
   "outputs": [],
   "source": [
    "\n",
    "fig = px.line(x=df_top.frame_number, y=df_top.dist_frog_m2_f2, labels={'x':'frame_number', 'y':'distance between frog male in tank 2 to frog female in tank 2'})\n",
    "fig.show()"
   ]
  },
  {
   "cell_type": "markdown",
   "metadata": {
    "id": "oZhLFRIPTUzj"
   },
   "source": [
    "## Download and save the results to your local device"
   ]
  },
  {
   "cell_type": "markdown",
   "metadata": {
    "id": "fHgj_P1rCJ7D"
   },
   "source": [
    "### Please change the desired CSV file name"
   ]
  },
  {
   "cell_type": "code",
   "execution_count": null,
   "metadata": {
    "id": "rh8dfLzzrBEQ"
   },
   "outputs": [],
   "source": [
    "tracking_results_with_area_perimeter_csv = f\"{tracking_results_csv.replace('.csv','_final.csv')}\"\n",
    "df_top.to_csv(tracking_results_with_area_perimeter_csv)\n",
    "files.download(tracking_results_with_area_perimeter_csv)"
   ]
  },
  {
   "cell_type": "markdown",
   "metadata": {
    "id": "-u2dGs54Ctuo"
   },
   "source": [
    "## Save and download the trained model weights"
   ]
  },
  {
   "cell_type": "code",
   "execution_count": null,
   "metadata": {
    "id": "BSpX5Yr-Cyq-"
   },
   "outputs": [],
   "source": [
    "final_model_file = os.path.join(cfg.OUTPUT_DIR,'model_final.pth')\n",
    "files.download(final_model_file)"
   ]
  }
 ],
 "metadata": {
  "accelerator": "GPU",
  "colab": {
   "collapsed_sections": [],
   "name": "Annolid of Detectron2 Tutorial.ipynb",
   "provenance": []
  },
  "kernelspec": {
   "display_name": "Python 3",
   "language": "python",
   "name": "python3"
  },
  "language_info": {
   "codemirror_mode": {
    "name": "ipython",
    "version": 3
   },
   "file_extension": ".py",
   "mimetype": "text/x-python",
   "name": "python",
   "nbconvert_exporter": "python",
   "pygments_lexer": "ipython3",
   "version": "3.7.9"
  }
 },
 "nbformat": 4,
 "nbformat_minor": 2
}
