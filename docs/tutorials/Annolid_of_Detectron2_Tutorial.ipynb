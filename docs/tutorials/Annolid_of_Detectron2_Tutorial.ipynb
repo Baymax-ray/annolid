{
  "nbformat": 4,
  "nbformat_minor": 0,
  "metadata": {
    "accelerator": "GPU",
    "colab": {
      "name": "Annolid of Detectron2 Tutorial.ipynb",
      "provenance": [],
      "collapsed_sections": []
    },
    "kernelspec": {
      "display_name": "Python 3",
      "name": "python3"
    }
  },
  "cells": [
    {
      "cell_type": "markdown",
      "metadata": {
        "id": "mlCWlQ2pTc88"
      },
      "source": [
        "<a href=\"https://colab.research.google.com/github/healthonrails/annolid/blob/master/docs/tutorials/Annolid_of_Detectron2_Tutorial.ipynb\" target=\"_blank\"><img src=\"https://colab.research.google.com/assets/colab-badge.svg\" alt=\"Open In Colab\"/></a>"
      ]
    },
    {
      "cell_type": "markdown",
      "metadata": {
        "id": "QHnVupBBn9eR"
      },
      "source": [
        "# Detectron2 Beginner's Tutorial\n",
        "\n",
        "<img src=\"https://dl.fbaipublicfiles.com/detectron2/Detectron2-Logo-Horz.png\" width=\"500\">\n",
        "\n",
        "Welcome to detectron2! This is modified from the official colab tutorial of detectron2. Here, we will go through some basics usage of detectron2, including the following:\n",
        "* Run inference on images or videos, with an existing detectron2 model\n",
        "* Train a detectron2 model on a new dataset\n",
        "\n",
        "You can make a copy of this tutorial by \"File -> Open in playground mode\" and play with it yourself. __DO NOT__ request access to this tutorial.\n"
      ]
    },
    {
      "cell_type": "markdown",
      "metadata": {
        "id": "vM54r6jlKTII"
      },
      "source": [
        "# Install detectron2"
      ]
    },
    {
      "cell_type": "code",
      "metadata": {
        "id": "9_FzH13EjseR"
      },
      "source": [
        "# install dependencies: \n",
        "!pip install pyyaml==5.3\n",
        "import torch, torchvision\n",
        "print(torch.__version__, torch.cuda.is_available())\n",
        "!gcc --version\n",
        "# opencv is pre-installed on colab"
      ],
      "execution_count": null,
      "outputs": []
    },
    {
      "cell_type": "code",
      "metadata": {
        "id": "b-i4hmGYk1dL"
      },
      "source": [
        "# install detectron2: (Colab has CUDA 10.1 + torch 1.8)\n",
        "# See https://detectron2.readthedocs.io/tutorials/install.html for instructions\n",
        "import torch\n",
        "assert torch.__version__.startswith(\"1.8\")   # need to manually install torch 1.8 if Colab changes its default version\n",
        "!pip install detectron2 -f https://dl.fbaipublicfiles.com/detectron2/wheels/cu101/torch1.8/index.html\n",
        "# exit(0)  # After installation, you need to \"restart runtime\" in Colab. This line can also restart runtime"
      ],
      "execution_count": null,
      "outputs": []
    },
    {
      "cell_type": "code",
      "metadata": {
        "id": "ZyAvNCJMmvFF"
      },
      "source": [
        "# Some basic setup:\n",
        "# Setup detectron2 logger\n",
        "import detectron2\n",
        "from detectron2.utils.logger import setup_logger\n",
        "setup_logger()\n",
        "\n",
        "# import some common libraries\n",
        "import numpy as np\n",
        "import os, json, cv2, random\n",
        "from google.colab.patches import cv2_imshow\n",
        "\n",
        "# import some common detectron2 utilities\n",
        "from detectron2 import model_zoo\n",
        "from detectron2.engine import DefaultPredictor\n",
        "from detectron2.config import get_cfg\n",
        "from detectron2.utils.visualizer import Visualizer\n",
        "from detectron2.data import MetadataCatalog, DatasetCatalog"
      ],
      "execution_count": null,
      "outputs": []
    },
    {
      "cell_type": "markdown",
      "metadata": {
        "id": "4tUPpCF2vqg_"
      },
      "source": [
        "## Download an example COCO format dataset\n",
        "\n",
        "\n",
        "\n",
        "\n",
        "\n"
      ]
    },
    {
      "cell_type": "code",
      "metadata": {
        "id": "ulZtZtE8087p"
      },
      "source": [
        "!gdown --id 1_kkJ8rlnoMymj0uw8VZkVEuFIMfLDwPh -O /content/novelctrl_coco_dataset.zip\n",
        "!unzip /content/novelctrl_coco_dataset.zip -d /content/"
      ],
      "execution_count": null,
      "outputs": []
    },
    {
      "cell_type": "markdown",
      "metadata": {
        "id": "9GXik0-s9zda"
      },
      "source": [
        "## Or you can upload a labeled dataset as follows."
      ]
    },
    {
      "cell_type": "code",
      "metadata": {
        "id": "JcWvszD899W4"
      },
      "source": [
        "from google.colab import files\n",
        "uploaded = files.upload()\n",
        "dataset =  list(uploaded.keys())[0]  #\"/content/dataset.zip\""
      ],
      "execution_count": null,
      "outputs": []
    },
    {
      "cell_type": "code",
      "metadata": {
        "id": "7gD2vEWtmZQ8"
      },
      "source": [
        "!unzip $dataset -d /content/"
      ],
      "execution_count": null,
      "outputs": []
    },
    {
      "cell_type": "markdown",
      "metadata": {
        "id": "pWfb29Cy9EdH"
      },
      "source": [
        "## Please select and change your DATASET NAME and DIR"
      ]
    },
    {
      "cell_type": "code",
      "metadata": {
        "id": "21PxYqli7Y67"
      },
      "source": [
        "DATASET_NAME = f\"{os.path.basename(dataset).split('_')[0]}\" \n",
        "DATASET_DIR = f\"{dataset.replace('.zip','')}\"  \n"
      ],
      "execution_count": null,
      "outputs": []
    },
    {
      "cell_type": "code",
      "metadata": {
        "id": "KzRZngMi_ujx"
      },
      "source": [
        "DATASET_NAME"
      ],
      "execution_count": null,
      "outputs": []
    },
    {
      "cell_type": "markdown",
      "metadata": {
        "id": "Vk4gID50K03a"
      },
      "source": [
        "# Run a pre-trained detectron2 model"
      ]
    },
    {
      "cell_type": "markdown",
      "metadata": {
        "id": "JgKyUL4pngvE"
      },
      "source": [
        "We first check an image from the our COCO dataset:"
      ]
    },
    {
      "cell_type": "code",
      "metadata": {
        "id": "dq9GY37ml1kr"
      },
      "source": [
        "img_name = \"00001980_61.jpg\" #@param {type: \"string\"}\n",
        "im = cv2.imread(f\"{DATASET_DIR}/train/JPEGImages/{img_name}\")\n",
        "cv2_imshow(im)"
      ],
      "execution_count": null,
      "outputs": []
    },
    {
      "cell_type": "markdown",
      "metadata": {
        "id": "uM1thbN-ntjI"
      },
      "source": [
        "Then, we create a detectron2 config and a detectron2 `DefaultPredictor` to run inference on this image."
      ]
    },
    {
      "cell_type": "code",
      "metadata": {
        "id": "HUjkwRsOn1O0"
      },
      "source": [
        "cfg = get_cfg()\n",
        "# add project-specific config (e.g., TensorMask) here if you're not running a model in detectron2's core library\n",
        "cfg.merge_from_file(model_zoo.get_config_file(\"COCO-InstanceSegmentation/mask_rcnn_R_50_FPN_3x.yaml\"))\n",
        "cfg.MODEL.ROI_HEADS.SCORE_THRESH_TEST = 0.1  # set threshold for this model\n",
        "# Find a model from detectron2's model zoo. You can use the https://dl.fbaipublicfiles... url as well\n",
        "cfg.MODEL.WEIGHTS = model_zoo.get_checkpoint_url(\"COCO-InstanceSegmentation/mask_rcnn_R_50_FPN_3x.yaml\")\n",
        "predictor = DefaultPredictor(cfg)\n",
        "outputs = predictor(im)"
      ],
      "execution_count": null,
      "outputs": []
    },
    {
      "cell_type": "code",
      "metadata": {
        "id": "7d3KxiHO_0gb"
      },
      "source": [
        "# look at the outputs. See https://detectron2.readthedocs.io/tutorials/models.html#model-output-format for specification\n",
        "print(outputs[\"instances\"].pred_classes)\n",
        "print(outputs[\"instances\"].pred_boxes)"
      ],
      "execution_count": null,
      "outputs": []
    },
    {
      "cell_type": "code",
      "metadata": {
        "id": "eM728kMR0ACL"
      },
      "source": [
        "outputs['instances'].pred_masks"
      ],
      "execution_count": null,
      "outputs": []
    },
    {
      "cell_type": "code",
      "metadata": {
        "id": "NWnR6KMx2KK7"
      },
      "source": [
        "MetadataCatalog.get(cfg.DATASETS.TRAIN[0])"
      ],
      "execution_count": null,
      "outputs": []
    },
    {
      "cell_type": "code",
      "metadata": {
        "id": "8IRGo8d0qkgR"
      },
      "source": [
        "# We can use `Visualizer` to draw the predictions on the image.\n",
        "v = Visualizer(im[:, :, ::-1], MetadataCatalog.get(cfg.DATASETS.TRAIN[0]), scale=1.2)\n",
        "out = v.draw_instance_predictions(outputs[\"instances\"].to(\"cpu\"))\n",
        "cv2_imshow(out.get_image()[:, :, ::-1])"
      ],
      "execution_count": null,
      "outputs": []
    },
    {
      "cell_type": "markdown",
      "metadata": {
        "id": "b2bjrfb2LDeo"
      },
      "source": [
        "# Train on a custom dataset"
      ]
    },
    {
      "cell_type": "markdown",
      "metadata": {
        "id": "tjbUIhSxUdm_"
      },
      "source": [
        "In this section, we show how to train an existing detectron2 model on a custom dataset in a new format.\n",
        "\n",
        "The example novelctrl segmentation dataset\n",
        "has 23 class: mouse, object, left_ear, right_ear and other body parts.\n",
        "We'll train a mouse segmentation model from an existing model pre-trained on COCO dataset, available in detectron2's model zoo.\n",
        "\n",
        "Note that COCO dataset does not have the \"mouse\" category. We'll be able to recognize this new class in a few minutes.\n",
        "\n",
        "## Prepare the dataset"
      ]
    },
    {
      "cell_type": "markdown",
      "metadata": {
        "id": "tVJoOm6LVJwW"
      },
      "source": [
        "Register the custom dataset to detectron2, following the [detectron2 custom dataset tutorial](https://detectron2.readthedocs.io/tutorials/datasets.html).\n",
        "Here, the dataset is in COCO format, therefore we register  into detectron2's standard format. User should write such a function when using a dataset in custom format. See the tutorial for more details.\n"
      ]
    },
    {
      "cell_type": "code",
      "metadata": {
        "id": "PIbAM2pv-urF"
      },
      "source": [
        "# if your dataset is in COCO format, this cell can be replaced by the following three lines:\n",
        "from detectron2.data.datasets import register_coco_instances\n",
        "register_coco_instances(f\"{DATASET_NAME}_train\", {}, f\"{DATASET_DIR}/train/annotations.json\", f\"{DATASET_DIR}/train/\")\n",
        "register_coco_instances(f\"{DATASET_NAME}_valid\", {}, f\"{DATASET_DIR}/valid/annotations.json\", f\"{DATASET_DIR}/valid/\")\n"
      ],
      "execution_count": null,
      "outputs": []
    },
    {
      "cell_type": "code",
      "metadata": {
        "id": "9F93EZ2m_clN"
      },
      "source": [
        "from detectron2.data import get_detection_dataset_dicts\n",
        "from detectron2.data.datasets import  builtin_meta"
      ],
      "execution_count": null,
      "outputs": []
    },
    {
      "cell_type": "code",
      "metadata": {
        "id": "GzKzTlwU_iHh"
      },
      "source": [
        "dataset_dicts = get_detection_dataset_dicts([f\"{DATASET_NAME}_train\"])"
      ],
      "execution_count": null,
      "outputs": []
    },
    {
      "cell_type": "code",
      "metadata": {
        "id": "FVJnolv9__eE"
      },
      "source": [
        "_dataset_metadata = MetadataCatalog.get(f\"{DATASET_NAME}_train\")\n",
        "_dataset_metadata.thing_colors = [cc['color'] for cc in builtin_meta.COCO_CATEGORIES]"
      ],
      "execution_count": null,
      "outputs": []
    },
    {
      "cell_type": "code",
      "metadata": {
        "id": "h-dEBJmW447_"
      },
      "source": [
        "_dataset_metadata"
      ],
      "execution_count": null,
      "outputs": []
    },
    {
      "cell_type": "code",
      "metadata": {
        "id": "llntrPobA2CM"
      },
      "source": [
        "NUM_CLASSES = len(_dataset_metadata.thing_classes)\n",
        "print(f\"{NUM_CLASSES} Number of classes in the dataset\")"
      ],
      "execution_count": null,
      "outputs": []
    },
    {
      "cell_type": "markdown",
      "metadata": {
        "id": "6ljbWTX0Wi8E"
      },
      "source": [
        "To verify the data loading is correct, let's visualize the annotations of randomly selected samples in the training set:\n",
        "\n"
      ]
    },
    {
      "cell_type": "code",
      "metadata": {
        "id": "UkNbUzUOLYf0"
      },
      "source": [
        "for d in random.sample(dataset_dicts, 3):\n",
        "    img = cv2.imread(d[\"file_name\"])\n",
        "    visualizer = Visualizer(img[:, :, ::-1], metadata=_dataset_metadata, scale=0.5)\n",
        "    out = visualizer.draw_dataset_dict(d)\n",
        "    cv2_imshow(out.get_image()[:, :, ::-1])"
      ],
      "execution_count": null,
      "outputs": []
    },
    {
      "cell_type": "markdown",
      "metadata": {
        "id": "wlqXIXXhW8dA"
      },
      "source": [
        "## Train!\n",
        "\n",
        "Now, let's fine-tune a COCO-pretrained R50-FPN Mask R-CNN model on the dataset. It takes ~2 hours to train 3000 iterations on Colab's K80 GPU, or ~1.5 hours on a P100 GPU.\n"
      ]
    },
    {
      "cell_type": "code",
      "metadata": {
        "id": "w9vyoXX0xZcM"
      },
      "source": [
        "!nvidia-smi"
      ],
      "execution_count": null,
      "outputs": []
    },
    {
      "cell_type": "code",
      "metadata": {
        "id": "7unkuuiqLdqd"
      },
      "source": [
        "from detectron2.engine import DefaultTrainer\n",
        "\n",
        "cfg = get_cfg()\n",
        "cfg.merge_from_file(model_zoo.get_config_file(\"COCO-InstanceSegmentation/mask_rcnn_R_50_FPN_3x.yaml\"))\n",
        "cfg.DATASETS.TRAIN = (f\"{DATASET_NAME}_train\",)\n",
        "cfg.DATASETS.TEST = ()\n",
        "cfg.DATALOADER.NUM_WORKERS = 2 #@param\n",
        "cfg.DATALOADER.SAMPLER_TRAIN = \"RepeatFactorTrainingSampler\"\n",
        "cfg.DATALOADER.REPEAT_THRESHOLD = 0.3\n",
        "cfg.MODEL.WEIGHTS = model_zoo.get_checkpoint_url(\"COCO-InstanceSegmentation/mask_rcnn_R_50_FPN_3x.yaml\")  # Let training initialize from model zoo\n",
        "cfg.SOLVER.IMS_PER_BATCH = 8 #@param\n",
        "cfg.SOLVER.BASE_LR = 0.0025 #@param # pick a good LR\n",
        "cfg.SOLVER.MAX_ITER = 6000 #@param    # 300 iterations seems good enough for 100 frames dataset; you will need to train longer for a practical dataset\n",
        "cfg.SOLVER.CHECKPOINT_PERIOD = 1000 #@param \n",
        "cfg.MODEL.ROI_HEADS.BATCH_SIZE_PER_IMAGE = 128 #@param   # faster, and good enough for this toy dataset (default: 512)\n",
        "cfg.MODEL.ROI_HEADS.NUM_CLASSES = NUM_CLASSES  #  (see https://detectron2.readthedocs.io/tutorials/datasets.html#update-the-config-for-new-datasets)\n",
        "os.makedirs(cfg.OUTPUT_DIR, exist_ok=True)\n",
        "trainer = DefaultTrainer(cfg) \n",
        "trainer.resume_or_load(resume=False)\n"
      ],
      "execution_count": null,
      "outputs": []
    },
    {
      "cell_type": "code",
      "metadata": {
        "id": "hBXeH8UXFcqU"
      },
      "source": [
        "# Look at training curves in tensorboard:\n",
        "%load_ext tensorboard\n",
        "%tensorboard --logdir output"
      ],
      "execution_count": null,
      "outputs": []
    },
    {
      "cell_type": "code",
      "metadata": {
        "id": "aKs8eu8u8_mr"
      },
      "source": [
        "trainer.train()"
      ],
      "execution_count": null,
      "outputs": []
    },
    {
      "cell_type": "markdown",
      "metadata": {
        "id": "0e4vdDIOXyxF"
      },
      "source": [
        "## Inference & evaluation using the trained model\n",
        "Now, let's run inference with the trained model on the validation dataset. First, let's create a predictor using the model we just trained:\n",
        "\n"
      ]
    },
    {
      "cell_type": "code",
      "metadata": {
        "id": "GCVJ6P2Hwuws"
      },
      "source": [
        "# Please uncomment the gdown line for the pretrained model\n",
        "#https://drive.google.com/file/d/1-HRlM_1gGE9hiVD-7vInUxhHFRL9LSku/view?usp=sharing\n",
        "#!gdown --id 1-HRlM_1gGE9hiVD-7vInUxhHFRL9LSku -O /content/output/model_final.pth"
      ],
      "execution_count": null,
      "outputs": []
    },
    {
      "cell_type": "code",
      "metadata": {
        "id": "Ya5nEuMELeq8"
      },
      "source": [
        "# Inference should use the config with parameters that are used in training\n",
        "# cfg now already contains everything we've set previously. We changed it a little bit for inference:\n",
        "cfg.MODEL.WEIGHTS = os.path.join(cfg.OUTPUT_DIR, \"model_final.pth\")  # path to the model we just trained\n",
        "cfg.MODEL.ROI_HEADS.SCORE_THRESH_TEST = 0.15   # set a custom testing threshold\n",
        "predictor = DefaultPredictor(cfg)"
      ],
      "execution_count": null,
      "outputs": []
    },
    {
      "cell_type": "markdown",
      "metadata": {
        "id": "qWq1XHfDWiXO"
      },
      "source": [
        "Then, we randomly select several samples to visualize the prediction results."
      ]
    },
    {
      "cell_type": "code",
      "metadata": {
        "id": "U5LhISJqWXgM"
      },
      "source": [
        "from detectron2.utils.visualizer import ColorMode\n",
        "dataset_dicts = get_detection_dataset_dicts([f\"{DATASET_NAME}_valid\"])\n",
        "for d in random.sample(dataset_dicts, 10):    \n",
        "    im = cv2.imread(d[\"file_name\"])\n",
        "    outputs = predictor(im)  # format is documented at https://detectron2.readthedocs.io/tutorials/models.html#model-output-format\n",
        "    v = Visualizer(im[:, :, ::-1],\n",
        "                   metadata=_dataset_metadata, \n",
        "                   scale=0.5, \n",
        "                   instance_mode=ColorMode.SEGMENTATION   # remove the colors of unsegmented pixels. This option is only available for segmentation models\n",
        "    )\n",
        "    out = v.draw_instance_predictions(outputs[\"instances\"].to(\"cpu\"))\n",
        "    cv2_imshow(out.get_image()[:, :, ::-1])"
      ],
      "execution_count": null,
      "outputs": []
    },
    {
      "cell_type": "code",
      "metadata": {
        "id": "snNgdvamJECp"
      },
      "source": [],
      "execution_count": null,
      "outputs": []
    },
    {
      "cell_type": "markdown",
      "metadata": {
        "id": "kblA1IyFvWbT"
      },
      "source": [
        "We can also evaluate its performance using AP metric implemented in COCO API.\n",
        "This gives an AP of ~50. Not bad!"
      ]
    },
    {
      "cell_type": "code",
      "metadata": {
        "id": "h9tECBQCvMv3"
      },
      "source": [
        "from detectron2.evaluation import COCOEvaluator, inference_on_dataset\n",
        "from detectron2.data import build_detection_test_loader\n",
        "evaluator = COCOEvaluator(f\"{DATASET_NAME}_valid\", cfg, False, output_dir=\"/content/eval_output/\")\n",
        "val_loader = build_detection_test_loader(cfg, f\"{DATASET_NAME}_valid\")\n",
        "print(inference_on_dataset(trainer.model, val_loader, evaluator))\n",
        "# another equivalent way to evaluate the model is to use `trainer.test`"
      ],
      "execution_count": null,
      "outputs": []
    },
    {
      "cell_type": "markdown",
      "metadata": {
        "id": "HFuPzChWzU6Q"
      },
      "source": [
        "## Download the original video and test it based on your trained model"
      ]
    },
    {
      "cell_type": "code",
      "metadata": {
        "id": "JYUgqo3czd5d"
      },
      "source": [
        "# https://drive.google.com/file/d/1_UDnyYKQplOLMzv1hphk1gVqepmLeyGD/view?usp=sharing\n",
        "!gdown --id 1_UDnyYKQplOLMzv1hphk1gVqepmLeyGD -O /content/novelctrl.mkv "
      ],
      "execution_count": null,
      "outputs": []
    },
    {
      "cell_type": "code",
      "metadata": {
        "id": "5K5hZpsWDqnY"
      },
      "source": [
        "VIDEO_INPUT=\"/content/novelobjectK8Ftest.mkv\" #@param {type: \"string\"}"
      ],
      "execution_count": null,
      "outputs": []
    },
    {
      "cell_type": "code",
      "metadata": {
        "id": "xn0LVJTWtLhJ"
      },
      "source": [
        "import cv2\n",
        "video = cv2.VideoCapture(VIDEO_INPUT)\n",
        "width = int(video.get(cv2.CAP_PROP_FRAME_WIDTH))\n",
        "height = int(video.get(cv2.CAP_PROP_FRAME_HEIGHT))\n",
        "frames_per_second = video.get(cv2.CAP_PROP_FPS)\n",
        "num_frames = int(video.get(cv2.CAP_PROP_FRAME_COUNT))\n",
        "basename = os.path.basename(VIDEO_INPUT)"
      ],
      "execution_count": null,
      "outputs": []
    },
    {
      "cell_type": "code",
      "metadata": {
        "id": "TXLpO4_AtgGO"
      },
      "source": [
        "OUTPUT_DIR = \"/content/eval_output\"\n",
        "import os \n",
        "os.makedirs(OUTPUT_DIR,exist_ok=True)"
      ],
      "execution_count": null,
      "outputs": []
    },
    {
      "cell_type": "code",
      "metadata": {
        "id": "3oKfJh6ct8cq"
      },
      "source": [
        "output_fname = os.path.join(OUTPUT_DIR, basename)\n",
        "output_fname = os.path.splitext(output_fname)[0] + \"_mask_tracked.mp4\""
      ],
      "execution_count": null,
      "outputs": []
    },
    {
      "cell_type": "code",
      "metadata": {
        "id": "5t2Vl9P2z_RV"
      },
      "source": [
        "output_fname"
      ],
      "execution_count": null,
      "outputs": []
    },
    {
      "cell_type": "code",
      "metadata": {
        "id": "NBXNDyN4uLxa"
      },
      "source": [
        "output_file = cv2.VideoWriter(\n",
        "                filename=output_fname,\n",
        "                # some installation of opencv may not support x264 (due to its license),\n",
        "                # you can try other format (e.g. MPEG)\n",
        "                fourcc=cv2.VideoWriter_fourcc(*\"mp4v\"),\n",
        "                fps=float(frames_per_second),\n",
        "                frameSize=(width, height),\n",
        "                isColor=True,\n",
        "            )"
      ],
      "execution_count": null,
      "outputs": []
    },
    {
      "cell_type": "code",
      "metadata": {
        "id": "tOdZ7cW-xyXc"
      },
      "source": [
        "cfg"
      ],
      "execution_count": null,
      "outputs": []
    },
    {
      "cell_type": "code",
      "metadata": {
        "id": "0yZ2xuc6CV-_"
      },
      "source": [
        "def _frame_from_video(video):\n",
        "  while video.isOpened():\n",
        "      success, frame = video.read()\n",
        "      if success:\n",
        "          yield frame\n",
        "      else:\n",
        "          break"
      ],
      "execution_count": null,
      "outputs": []
    },
    {
      "cell_type": "code",
      "metadata": {
        "id": "_JHTT5XKIBsf"
      },
      "source": [
        "import pandas as pd\n",
        "import pycocotools.mask as mask_util"
      ],
      "execution_count": null,
      "outputs": []
    },
    {
      "cell_type": "code",
      "metadata": {
        "id": "AIG71LHZPsgs"
      },
      "source": [
        "class_names = _dataset_metadata.thing_classes\n",
        "print(class_names)"
      ],
      "execution_count": null,
      "outputs": []
    },
    {
      "cell_type": "code",
      "metadata": {
        "id": "MYI_Cv-GBplZ"
      },
      "source": [
        "frame_number = 0\n",
        "tracking_results = []\n",
        "VIS = True\n",
        "for frame in _frame_from_video(video): \n",
        "    im = frame\n",
        "    outputs = predictor(im)\n",
        "    out_dict = {}  \n",
        "    instances = outputs[\"instances\"].to(\"cpu\")\n",
        "    num_instance = len(instances)\n",
        "    if num_instance == 0:\n",
        "        out_dict['frame_number'] = frame_number\n",
        "        out_dict['x1'] = None\n",
        "        out_dict['y1'] = None\n",
        "        out_dict['x2'] = None\n",
        "        out_dict['y2'] = None\n",
        "        out_dict['instance_name'] = None\n",
        "        out_dict['class_score'] = None\n",
        "        out_dict['segmentation'] = None\n",
        "        tracking_results.append(out_dict)\n",
        "        out_dict = {}\n",
        "    else:\n",
        "        boxes = instances.pred_boxes.tensor.numpy()\n",
        "        boxes = boxes.tolist()\n",
        "        scores = instances.scores.tolist()\n",
        "        classes = instances.pred_classes.tolist()\n",
        "\n",
        "        has_mask = instances.has(\"pred_masks\")\n",
        "\n",
        "        if has_mask:\n",
        "            rles =[\n",
        "                   mask_util.encode(np.array(mask[:,:,None], order=\"F\", dtype=\"uint8\"))[0]\n",
        "                   for mask in instances.pred_masks\n",
        "            ]\n",
        "            for rle in rles:\n",
        "              rle[\"counts\"] = rle[\"counts\"].decode(\"utf-8\")\n",
        "\n",
        "        assert len(rles) == len(boxes)\n",
        "        for k in range(num_instance):\n",
        "            box = boxes[k]\n",
        "            out_dict['frame_number'] = frame_number\n",
        "            out_dict['x1'] = box[0]\n",
        "            out_dict['y1'] = box[1]\n",
        "            out_dict['x2'] = box[2]\n",
        "            out_dict['y2'] = box[3]\n",
        "            out_dict['instance_name'] = class_names[classes[k]]\n",
        "            out_dict['class_score'] = scores[k]\n",
        "            out_dict['segmentation'] = rles[k]\n",
        "            if frame_number % 1000 == 0:\n",
        "              print(f\"Frame number {frame_number}: {out_dict}\")\n",
        "            tracking_results.append(out_dict)\n",
        "            out_dict = {}\n",
        "        \n",
        "    # format is documented at https://detectron2.readthedocs.io/tutorials/models.html#model-output-format\n",
        "    if VIS:\n",
        "        v = Visualizer(im[:, :, ::-1],\n",
        "                    metadata=_dataset_metadata, \n",
        "                    scale=0.5, \n",
        "                    instance_mode=ColorMode.IMAGE_BW   # remove the colors of unsegmented pixels. This option is only available for segmentation models\n",
        "         )\n",
        "        out = v.draw_instance_predictions(outputs[\"instances\"].to(\"cpu\"))\n",
        "        out_image = out.get_image()[:, :, ::-1]\n",
        "        output_file.write(out_image)\n",
        "        if frame_number % 1000 == 0:\n",
        "            cv2_imshow(out_image)\n",
        "    frame_number += 1\n",
        "    print(f\"Processing frame number {frame_number}\")"
      ],
      "execution_count": null,
      "outputs": []
    },
    {
      "cell_type": "code",
      "metadata": {
        "id": "jB8WbGKi03oK"
      },
      "source": [
        "video.release()\n",
        "output_file.release()"
      ],
      "execution_count": null,
      "outputs": []
    },
    {
      "cell_type": "code",
      "metadata": {
        "id": "3W6dRQXoN85C"
      },
      "source": [
        "df = pd.DataFrame(tracking_results)"
      ],
      "execution_count": null,
      "outputs": []
    },
    {
      "cell_type": "code",
      "metadata": {
        "id": "lIR1fe6zODRq"
      },
      "source": [
        "df.head()"
      ],
      "execution_count": null,
      "outputs": []
    },
    {
      "cell_type": "code",
      "metadata": {
        "id": "1R2Xii899cob"
      },
      "source": [
        "df.tail()"
      ],
      "execution_count": null,
      "outputs": []
    },
    {
      "cell_type": "markdown",
      "metadata": {
        "id": "_0NJtjZUsoQK"
      },
      "source": [
        "## Only save the top 1 prediction for each frame for each class"
      ]
    },
    {
      "cell_type": "code",
      "metadata": {
        "id": "qAJ5dU-EhDXP"
      },
      "source": [
        "df_top = df.groupby(['frame_number','instance_name'],sort=False).head(1)"
      ],
      "execution_count": null,
      "outputs": []
    },
    {
      "cell_type": "code",
      "metadata": {
        "id": "27jn0z3_hTKS"
      },
      "source": [
        "df_top.head()"
      ],
      "execution_count": null,
      "outputs": []
    },
    {
      "cell_type": "code",
      "metadata": {
        "id": "2pfF0eecelCY"
      },
      "source": [
        "tracking_results_csv = \"/content/trackingK6_8_K8test_6000iters_mask_rcnn_tracking_results_with_segmenation.csv\" #@param\n",
        "df_top.to_csv(tracking_results_csv)"
      ],
      "execution_count": null,
      "outputs": []
    },
    {
      "cell_type": "code",
      "metadata": {
        "id": "dFpaGUfsPvJZ"
      },
      "source": [
        "from google.colab import files\n",
        "files.download(tracking_results_csv)"
      ],
      "execution_count": null,
      "outputs": []
    },
    {
      "cell_type": "code",
      "metadata": {
        "id": "HbWnkmooiF9q"
      },
      "source": [],
      "execution_count": null,
      "outputs": []
    }
  ]
}