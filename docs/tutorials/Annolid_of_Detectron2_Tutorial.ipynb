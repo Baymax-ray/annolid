{
  "nbformat": 4,
  "nbformat_minor": 0,
  "metadata": {
    "colab": {
      "name": "Annolid of Detectron2 Tutorial.ipynb",
      "provenance": [],
      "collapsed_sections": []
    },
    "kernelspec": {
      "name": "python3",
      "display_name": "Python 3"
    },
    "language_info": {
      "name": "python"
    },
    "accelerator": "GPU"
  },
  "cells": [
    {
      "cell_type": "markdown",
      "metadata": {
        "id": "mlCWlQ2pTc88"
      },
      "source": [
        "<a href=\"https://colab.research.google.com/github/healthonrails/annolid/blob/master/docs/tutorials/Annolid_of_Detectron2_Tutorial.ipynb\" target=\"_blank\"><img src=\"https://colab.research.google.com/assets/colab-badge.svg\" alt=\"Open In Colab\"/></a>"
      ]
    },
    {
      "cell_type": "markdown",
      "metadata": {
        "id": "QHnVupBBn9eR"
      },
      "source": [
        "# Annolid on Detectron2 Tutorial\n",
        "\n",
        "<img src=\"https://dl.fbaipublicfiles.com/detectron2/Detectron2-Logo-Horz.png\" width=\"500\">\n",
        "\n",
        "Welcome to Annolid on detectron2! This is modified from the official colab tutorial of detectron2. Here, we will go through some basics usage of detectron2, including the following:\n",
        "* Run inference on images or videos, with an existing detectron2 model\n",
        "* Train a detectron2 model on a new dataset\n",
        "\n",
        "You can make a copy of this tutorial by \"File -> Open in playground mode\" and play with it yourself. __DO NOT__ request access to this tutorial.\n"
      ]
    },
    {
      "cell_type": "markdown",
      "metadata": {
        "id": "vM54r6jlKTII"
      },
      "source": [
        "# Install detectron2"
      ]
    },
    {
      "cell_type": "code",
      "metadata": {
        "id": "9_FzH13EjseR"
      },
      "source": [
        "# install dependencies: \n",
        "!pip install pyyaml==5.3\n",
        "import torch, torchvision\n",
        "print(torch.__version__, torch.cuda.is_available())\n",
        "!gcc --version\n",
        "# opencv is pre-installed on colab"
      ],
      "execution_count": null,
      "outputs": []
    },
    {
      "cell_type": "code",
      "metadata": {
        "id": "KRlf47FT6X85"
      },
      "source": [
        "# This is the current pytorch version on Colab. Uncomment this if Colab changes its pytorch version\n",
        "# !pip install torch==1.9.0+cu102 torchvision==0.10.0+cu102 -f https://download.pytorch.org/whl/torch_stable.html\n",
        "\n",
        "# Install detectron2 that matches the above pytorch version\n",
        "# See https://detectron2.readthedocs.io/tutorials/install.html for instructions\n",
        "!pip install detectron2 -f https://dl.fbaipublicfiles.com/detectron2/wheels/cu102/torch1.9/index.html\n",
        "# exit(0)  # After installation, you need to \"restart runtime\" in Colab. This line can also restart runtime"
      ],
      "execution_count": null,
      "outputs": []
    },
    {
      "cell_type": "code",
      "metadata": {
        "id": "b-i4hmGYk1dL"
      },
      "source": [
        "# check pytorch installation: \n",
        "import torch, torchvision\n",
        "print(torch.__version__, torch.cuda.is_available())\n",
        "assert torch.__version__.startswith(\"1.9\")   # please manually install torch 1.9 if Colab changes its default version"
      ],
      "execution_count": null,
      "outputs": []
    },
    {
      "cell_type": "code",
      "metadata": {
        "id": "ZyAvNCJMmvFF"
      },
      "source": [
        "# Some basic setup:\n",
        "# Setup detectron2 logger\n",
        "import detectron2\n",
        "from detectron2.utils.logger import setup_logger\n",
        "setup_logger()\n",
        "\n",
        "# import some common libraries\n",
        "import numpy as np\n",
        "import os, json, cv2, random, glob\n",
        "from google.colab.patches import cv2_imshow\n",
        "\n",
        "# import some common detectron2 utilities\n",
        "from detectron2 import model_zoo\n",
        "from detectron2.engine import DefaultPredictor\n",
        "from detectron2.config import get_cfg\n",
        "from detectron2.utils.visualizer import Visualizer\n",
        "from detectron2.data import MetadataCatalog, DatasetCatalog"
      ],
      "execution_count": null,
      "outputs": []
    },
    {
      "cell_type": "markdown",
      "metadata": {
        "id": "9GXik0-s9zda"
      },
      "source": [
        "## Upload a labeled dataset as follows.\n",
        "Note: please make sure the is no white space in your file path if you encounter file not found issues."
      ]
    },
    {
      "cell_type": "code",
      "metadata": {
        "id": "JcWvszD899W4"
      },
      "source": [
        "from google.colab import files\n",
        "uploaded = files.upload()\n",
        "dataset =  list(uploaded.keys())[0]  #\"/content/dataset.zip\""
      ],
      "execution_count": null,
      "outputs": []
    },
    {
      "cell_type": "code",
      "metadata": {
        "id": "7gD2vEWtmZQ8"
      },
      "source": [
        "!unzip $dataset -d /content/"
      ],
      "execution_count": null,
      "outputs": []
    },
    {
      "cell_type": "markdown",
      "metadata": {
        "id": "pWfb29Cy9EdH"
      },
      "source": [
        "## Auto extract DATASET_NAME and DATASET_DIR or you can replace them with your own strings like `**DATASET_NAME** = \"MYDATASET_1\"` and `DATASETDIR=\"MYDATASET_DIR\"`"
      ]
    },
    {
      "cell_type": "code",
      "metadata": {
        "id": "21PxYqli7Y67"
      },
      "source": [
        "DATASET_NAME = f\"{os.path.basename(dataset).split('_')[0]}\" \n",
        "DATASET_DIR = f\"{dataset.replace('.zip','')}\"  \n"
      ],
      "execution_count": null,
      "outputs": []
    },
    {
      "cell_type": "code",
      "metadata": {
        "id": "KzRZngMi_ujx"
      },
      "source": [
        "DATASET_NAME"
      ],
      "execution_count": null,
      "outputs": []
    },
    {
      "cell_type": "code",
      "metadata": {
        "id": "Gak3KwomHghD"
      },
      "source": [
        "DATASET_DIR"
      ],
      "execution_count": null,
      "outputs": []
    },
    {
      "cell_type": "markdown",
      "metadata": {
        "id": "Vk4gID50K03a"
      },
      "source": [
        "# Run a pre-trained detectron2 model"
      ]
    },
    {
      "cell_type": "markdown",
      "metadata": {
        "id": "JgKyUL4pngvE"
      },
      "source": [
        "First, we check a random selected image from the our COCO training dataset:"
      ]
    },
    {
      "cell_type": "code",
      "metadata": {
        "id": "dq9GY37ml1kr"
      },
      "source": [
        "# select and display one random image from the training set\n",
        "img_file = random.choice(glob.glob(f\"{DATASET_DIR}/train/JPEGImages/*.*\"))\n",
        "im = cv2.imread(img_file)\n",
        "cv2_imshow(im)"
      ],
      "execution_count": null,
      "outputs": []
    },
    {
      "cell_type": "markdown",
      "metadata": {
        "id": "uM1thbN-ntjI"
      },
      "source": [
        "Then, we create a Detectron2 config and a detectron2 `DefaultPredictor` to run inference on this image."
      ]
    },
    {
      "cell_type": "code",
      "metadata": {
        "id": "HUjkwRsOn1O0"
      },
      "source": [
        "cfg = get_cfg()\n",
        "# add project-specific config (e.g., TensorMask) here if you're not running a model in detectron2's core library\n",
        "cfg.merge_from_file(model_zoo.get_config_file(\"COCO-InstanceSegmentation/mask_rcnn_R_50_FPN_3x.yaml\"))\n",
        "cfg.MODEL.ROI_HEADS.SCORE_THRESH_TEST = 0.1  # set threshold for this model\n",
        "# Find a model from Detectron2's model zoo. You can use the https://dl.fbaipublicfiles... url as well\n",
        "cfg.MODEL.WEIGHTS = model_zoo.get_checkpoint_url(\"COCO-InstanceSegmentation/mask_rcnn_R_50_FPN_3x.yaml\")\n",
        "predictor = DefaultPredictor(cfg)\n",
        "outputs = predictor(im)"
      ],
      "execution_count": null,
      "outputs": []
    },
    {
      "cell_type": "code",
      "metadata": {
        "id": "7d3KxiHO_0gb"
      },
      "source": [
        "# look at the outputs. See https://detectron2.readthedocs.io/tutorials/models.html#model-output-format for specification\n",
        "print(outputs[\"instances\"].pred_classes)\n",
        "print(outputs[\"instances\"].pred_boxes)"
      ],
      "execution_count": null,
      "outputs": []
    },
    {
      "cell_type": "code",
      "metadata": {
        "id": "eM728kMR0ACL"
      },
      "source": [
        "outputs['instances'].pred_masks"
      ],
      "execution_count": null,
      "outputs": []
    },
    {
      "cell_type": "code",
      "metadata": {
        "id": "NWnR6KMx2KK7"
      },
      "source": [
        "MetadataCatalog.get(cfg.DATASETS.TRAIN[0])"
      ],
      "execution_count": null,
      "outputs": []
    },
    {
      "cell_type": "code",
      "metadata": {
        "id": "8IRGo8d0qkgR"
      },
      "source": [
        "# We can use `Visualizer` to draw the predictions on the image.\n",
        "v = Visualizer(im[:, :, ::-1], MetadataCatalog.get(cfg.DATASETS.TRAIN[0]), scale=1.2)\n",
        "out = v.draw_instance_predictions(outputs[\"instances\"].to(\"cpu\"))\n",
        "cv2_imshow(out.get_image()[:, :, ::-1])"
      ],
      "execution_count": null,
      "outputs": []
    },
    {
      "cell_type": "markdown",
      "metadata": {
        "id": "b2bjrfb2LDeo"
      },
      "source": [
        "# Train on a custom dataset"
      ]
    },
    {
      "cell_type": "markdown",
      "metadata": {
        "id": "tjbUIhSxUdm_"
      },
      "source": [
        "In this section, we show how to train an existing detectron2 model on a custom dataset in COCO format.\n",
        "\n",
        "The example novelctrl segmentation dataset\n",
        "has 23 class: mouse, object, left_ear, right_ear and other body parts.\n",
        "We'll train a mouse segmentation model from an existing model pre-trained on COCO dataset, available in Detectron2's model zoo.\n",
        "\n",
        "Note that COCO dataset does not have the \"mouse\" category. We'll be able to recognize this new class in a few minutes.\n",
        "\n",
        "## Prepare the dataset"
      ]
    },
    {
      "cell_type": "markdown",
      "metadata": {
        "id": "tVJoOm6LVJwW"
      },
      "source": [
        "Register the custom dataset to Detectron2, following the [detectron2 custom dataset tutorial](https://detectron2.readthedocs.io/tutorials/datasets.html).\n",
        "Here, the dataset is in COCO format, therefore we register  into Detectron2's standard format. User should write such a function when using a dataset in custom format. See the tutorial for more details.\n"
      ]
    },
    {
      "cell_type": "code",
      "metadata": {
        "id": "PIbAM2pv-urF"
      },
      "source": [
        "# if your dataset is in COCO format, this cell can be run by the following three lines:\n",
        "from detectron2.data.datasets import register_coco_instances\n",
        "register_coco_instances(f\"{DATASET_NAME}_train\", {}, f\"{DATASET_DIR}/train/annotations.json\", f\"{DATASET_DIR}/train/\")\n",
        "register_coco_instances(f\"{DATASET_NAME}_valid\", {}, f\"{DATASET_DIR}/valid/annotations.json\", f\"{DATASET_DIR}/valid/\")\n"
      ],
      "execution_count": null,
      "outputs": []
    },
    {
      "cell_type": "code",
      "metadata": {
        "id": "9F93EZ2m_clN"
      },
      "source": [
        "from detectron2.data import get_detection_dataset_dicts\n",
        "from detectron2.data.datasets import  builtin_meta"
      ],
      "execution_count": null,
      "outputs": []
    },
    {
      "cell_type": "code",
      "metadata": {
        "id": "GzKzTlwU_iHh"
      },
      "source": [
        "dataset_dicts = get_detection_dataset_dicts([f\"{DATASET_NAME}_train\"])"
      ],
      "execution_count": null,
      "outputs": []
    },
    {
      "cell_type": "code",
      "metadata": {
        "id": "FVJnolv9__eE"
      },
      "source": [
        "_dataset_metadata = MetadataCatalog.get(f\"{DATASET_NAME}_train\")\n",
        "_dataset_metadata.thing_colors = [cc['color'] for cc in builtin_meta.COCO_CATEGORIES]"
      ],
      "execution_count": null,
      "outputs": []
    },
    {
      "cell_type": "code",
      "metadata": {
        "id": "h-dEBJmW447_"
      },
      "source": [
        "_dataset_metadata"
      ],
      "execution_count": null,
      "outputs": []
    },
    {
      "cell_type": "code",
      "metadata": {
        "id": "llntrPobA2CM"
      },
      "source": [
        "NUM_CLASSES = len(_dataset_metadata.thing_classes)\n",
        "print(f\"{NUM_CLASSES} Number of classes in the dataset\")"
      ],
      "execution_count": null,
      "outputs": []
    },
    {
      "cell_type": "markdown",
      "metadata": {
        "id": "6ljbWTX0Wi8E"
      },
      "source": [
        "To verify the data loading is correct, let's visualize the annotations of randomly selected samples in the training set:\n",
        "\n"
      ]
    },
    {
      "cell_type": "code",
      "metadata": {
        "id": "UkNbUzUOLYf0"
      },
      "source": [
        "for d in random.sample(dataset_dicts, 2):\n",
        "    if '\\\\' in d['file_name']:\n",
        "        d['file_name'] = d['file_name'].replace('\\\\','/')\n",
        "    img = cv2.imread(d[\"file_name\"])\n",
        "    visualizer = Visualizer(img[:, :, ::-1], metadata=_dataset_metadata, scale=0.5)\n",
        "    out = visualizer.draw_dataset_dict(d)\n",
        "    cv2_imshow(out.get_image()[:, :, ::-1])"
      ],
      "execution_count": null,
      "outputs": []
    },
    {
      "cell_type": "markdown",
      "metadata": {
        "id": "wlqXIXXhW8dA"
      },
      "source": [
        "## Train!\n",
        "\n",
        "Now, let's fine-tune a COCO-pretrained R50-FPN Mask R-CNN model on the dataset. It takes ~2 hours to train 3000 iterations on Colab's K80 GPU, or ~1.5 hours on a P100 GPU.\n"
      ]
    },
    {
      "cell_type": "code",
      "metadata": {
        "id": "w9vyoXX0xZcM"
      },
      "source": [
        "!nvidia-smi"
      ],
      "execution_count": null,
      "outputs": []
    },
    {
      "cell_type": "code",
      "metadata": {
        "id": "7unkuuiqLdqd"
      },
      "source": [
        "from detectron2.engine import DefaultTrainer\n",
        "\n",
        "cfg = get_cfg()\n",
        "cfg.merge_from_file(model_zoo.get_config_file(\"COCO-InstanceSegmentation/mask_rcnn_R_50_FPN_3x.yaml\"))\n",
        "cfg.DATASETS.TRAIN = (f\"{DATASET_NAME}_train\",)\n",
        "cfg.DATASETS.TEST = ()\n",
        "cfg.DATALOADER.NUM_WORKERS = 2 #@param\n",
        "cfg.DATALOADER.SAMPLER_TRAIN = \"RepeatFactorTrainingSampler\"\n",
        "cfg.DATALOADER.REPEAT_THRESHOLD = 0.3\n",
        "cfg.MODEL.WEIGHTS = model_zoo.get_checkpoint_url(\"COCO-InstanceSegmentation/mask_rcnn_R_50_FPN_3x.yaml\")  # Let training initialize from model zoo\n",
        "cfg.SOLVER.IMS_PER_BATCH =  8#@param\n",
        "cfg.SOLVER.BASE_LR = 0.0025 #@param # pick a good LR\n",
        "cfg.SOLVER.MAX_ITER = 3000 #@param    # 300 iterations seems good enough for 100 frames dataset; you will need to train longer for a practical dataset\n",
        "cfg.SOLVER.CHECKPOINT_PERIOD = 1000 #@param \n",
        "cfg.MODEL.ROI_HEADS.BATCH_SIZE_PER_IMAGE = 128 #@param   # faster, and good enough for this toy dataset (default: 512)\n",
        "cfg.MODEL.ROI_HEADS.NUM_CLASSES = NUM_CLASSES  #  (see https://detectron2.readthedocs.io/tutorials/datasets.html#update-the-config-for-new-datasets)\n",
        "os.makedirs(cfg.OUTPUT_DIR, exist_ok=True)\n",
        "trainer = DefaultTrainer(cfg) \n",
        "trainer.resume_or_load(resume=False)\n"
      ],
      "execution_count": null,
      "outputs": []
    },
    {
      "cell_type": "code",
      "metadata": {
        "id": "hBXeH8UXFcqU"
      },
      "source": [
        "# Look at training curves in tensorboard:\n",
        "%load_ext tensorboard\n",
        "%tensorboard --logdir output"
      ],
      "execution_count": null,
      "outputs": []
    },
    {
      "cell_type": "code",
      "metadata": {
        "id": "aKs8eu8u8_mr"
      },
      "source": [
        "trainer.train()"
      ],
      "execution_count": null,
      "outputs": []
    },
    {
      "cell_type": "markdown",
      "metadata": {
        "id": "0e4vdDIOXyxF"
      },
      "source": [
        "## Inference & evaluation using the trained model\n",
        "Now, let's run inference with the trained model on the validation dataset. First, let's create a predictor using the model we just trained:\n",
        "\n"
      ]
    },
    {
      "cell_type": "code",
      "metadata": {
        "id": "Ya5nEuMELeq8"
      },
      "source": [
        "# Inference should use the config with parameters that are used in training\n",
        "# cfg now already contains everything we've set previously. We changed it a little bit for inference:\n",
        "cfg.MODEL.WEIGHTS = os.path.join(cfg.OUTPUT_DIR, \"model_final.pth\")  # path to the model we just trained\n",
        "# set a custom testing threshold\n",
        "cfg.MODEL.ROI_HEADS.SCORE_THRESH_TEST = 0.15   #@param {type: \"slider\", min:0.0, max:1.0, step: 0.01}\n",
        "predictor = DefaultPredictor(cfg)"
      ],
      "execution_count": null,
      "outputs": []
    },
    {
      "cell_type": "markdown",
      "metadata": {
        "id": "qWq1XHfDWiXO"
      },
      "source": [
        "Then, we randomly select several samples to visualize the prediction results."
      ]
    },
    {
      "cell_type": "code",
      "metadata": {
        "id": "U5LhISJqWXgM"
      },
      "source": [
        "from detectron2.utils.visualizer import ColorMode\n",
        "dataset_dicts = get_detection_dataset_dicts([f\"{DATASET_NAME}_valid\"])\n",
        "for d in random.sample(dataset_dicts, 4):    \n",
        "    im = cv2.imread(d[\"file_name\"])\n",
        "    outputs = predictor(im)  # format is documented at https://detectron2.readthedocs.io/tutorials/models.html#model-output-format\n",
        "    v = Visualizer(im[:, :, ::-1],\n",
        "                   metadata=_dataset_metadata, \n",
        "                   scale=0.5, \n",
        "                   instance_mode=ColorMode.SEGMENTATION   # remove the colors of unsegmented pixels. This option is only available for segmentation models\n",
        "    )\n",
        "    out = v.draw_instance_predictions(outputs[\"instances\"].to(\"cpu\"))\n",
        "    cv2_imshow(out.get_image()[:, :, ::-1])"
      ],
      "execution_count": null,
      "outputs": []
    },
    {
      "cell_type": "markdown",
      "metadata": {
        "id": "kblA1IyFvWbT"
      },
      "source": [
        "We can also evaluate its performance using AP metric implemented in COCO API.\n",
        "This gives an AP of ~50. Not bad!"
      ]
    },
    {
      "cell_type": "code",
      "metadata": {
        "id": "h9tECBQCvMv3"
      },
      "source": [
        "from detectron2.evaluation import COCOEvaluator, inference_on_dataset\n",
        "from detectron2.data import build_detection_test_loader\n",
        "evaluator = COCOEvaluator(f\"{DATASET_NAME}_valid\", cfg, False, output_dir=\"/content/eval_output/\")\n",
        "val_loader = build_detection_test_loader(cfg, f\"{DATASET_NAME}_valid\")\n",
        "print(inference_on_dataset(predictor.model, val_loader, evaluator))\n",
        "# another equivalent way to evaluate the model is to use `trainer.test`"
      ],
      "execution_count": null,
      "outputs": []
    },
    {
      "cell_type": "markdown",
      "metadata": {
        "id": "HFuPzChWzU6Q"
      },
      "source": [
        "# Upload or Download a video and test it based on your trained model"
      ]
    },
    {
      "cell_type": "markdown",
      "metadata": {
        "id": "Ajsf88l3AAWU"
      },
      "source": [
        "##Download a video from a URL"
      ]
    },
    {
      "cell_type": "code",
      "metadata": {
        "id": "GY5wFYbotW9i"
      },
      "source": [
        "#e.g.\n",
        "#!wget https://xxx.com/video.MP4"
      ],
      "execution_count": null,
      "outputs": []
    },
    {
      "cell_type": "markdown",
      "metadata": {
        "id": "606Pdue7BRP3"
      },
      "source": [
        "### Please change the VIDEO_INPUT to the path of your inference video"
      ]
    },
    {
      "cell_type": "code",
      "metadata": {
        "id": "5K5hZpsWDqnY"
      },
      "source": [
        "VIDEO_INPUT=\"/content/video60.mkv\" #@param {type: \"string\"}"
      ],
      "execution_count": null,
      "outputs": []
    },
    {
      "cell_type": "code",
      "metadata": {
        "id": "xn0LVJTWtLhJ"
      },
      "source": [
        "import cv2\n",
        "video = cv2.VideoCapture(VIDEO_INPUT)\n",
        "width = int(video.get(cv2.CAP_PROP_FRAME_WIDTH))\n",
        "height = int(video.get(cv2.CAP_PROP_FRAME_HEIGHT))\n",
        "frames_per_second = video.get(cv2.CAP_PROP_FPS)\n",
        "num_frames = int(video.get(cv2.CAP_PROP_FRAME_COUNT))\n",
        "basename = os.path.basename(VIDEO_INPUT)"
      ],
      "execution_count": null,
      "outputs": []
    },
    {
      "cell_type": "code",
      "metadata": {
        "id": "TXLpO4_AtgGO"
      },
      "source": [
        "OUTPUT_DIR = \"/content/eval_output\"\n",
        "import os \n",
        "os.makedirs(OUTPUT_DIR,exist_ok=True)"
      ],
      "execution_count": null,
      "outputs": []
    },
    {
      "cell_type": "code",
      "metadata": {
        "id": "14VKYjHr2gGg"
      },
      "source": [
        "def _frame_from_video(video):\n",
        "  attempt = 0\n",
        "  for i in range(num_frames):\n",
        "      success, frame = video.read()\n",
        "      if success:\n",
        "          yield frame\n",
        "      else:\n",
        "          attempt += 1\n",
        "          if attempt >= 2000:\n",
        "              break\n",
        "          else:\n",
        "              video.set(cv2.CAP_PROP_POS_FRAMES, i+1)\n",
        "              print('Cannot read this frame:', i)\n",
        "              continue"
      ],
      "execution_count": null,
      "outputs": []
    },
    {
      "cell_type": "code",
      "metadata": {
        "id": "_JHTT5XKIBsf"
      },
      "source": [
        "import pandas as pd\n",
        "import pycocotools.mask as mask_util"
      ],
      "execution_count": null,
      "outputs": []
    },
    {
      "cell_type": "code",
      "metadata": {
        "id": "AIG71LHZPsgs"
      },
      "source": [
        "class_names = _dataset_metadata.thing_classes\n",
        "print(class_names)"
      ],
      "execution_count": null,
      "outputs": []
    },
    {
      "cell_type": "code",
      "metadata": {
        "id": "MYI_Cv-GBplZ"
      },
      "source": [
        "frame_number = 0\n",
        "tracking_results = []\n",
        "VIS = True\n",
        "for frame in _frame_from_video(video): \n",
        "    im = frame\n",
        "    outputs = predictor(im)\n",
        "    out_dict = {}  \n",
        "    instances = outputs[\"instances\"].to(\"cpu\")\n",
        "    num_instance = len(instances)\n",
        "    if num_instance == 0:\n",
        "        out_dict['frame_number'] = frame_number\n",
        "        out_dict['x1'] = None\n",
        "        out_dict['y1'] = None\n",
        "        out_dict['x2'] = None\n",
        "        out_dict['y2'] = None\n",
        "        out_dict['instance_name'] = None\n",
        "        out_dict['class_score'] = None\n",
        "        out_dict['segmentation'] = None\n",
        "        tracking_results.append(out_dict)\n",
        "        out_dict = {}\n",
        "    else:\n",
        "        boxes = instances.pred_boxes.tensor.numpy()\n",
        "        boxes = boxes.tolist()\n",
        "        scores = instances.scores.tolist()\n",
        "        classes = instances.pred_classes.tolist()\n",
        "\n",
        "        has_mask = instances.has(\"pred_masks\")\n",
        "\n",
        "        if has_mask:\n",
        "            rles =[\n",
        "                   mask_util.encode(np.array(mask[:,:,None], order=\"F\", dtype=\"uint8\"))[0]\n",
        "                   for mask in instances.pred_masks\n",
        "            ]\n",
        "            for rle in rles:\n",
        "              rle[\"counts\"] = rle[\"counts\"].decode(\"utf-8\")\n",
        "\n",
        "        assert len(rles) == len(boxes)\n",
        "        for k in range(num_instance):\n",
        "            box = boxes[k]\n",
        "            out_dict['frame_number'] = frame_number\n",
        "            out_dict['x1'] = box[0]\n",
        "            out_dict['y1'] = box[1]\n",
        "            out_dict['x2'] = box[2]\n",
        "            out_dict['y2'] = box[3]\n",
        "            out_dict['instance_name'] = class_names[classes[k]]\n",
        "            out_dict['class_score'] = scores[k]\n",
        "            out_dict['segmentation'] = rles[k]\n",
        "            if frame_number % 1000 == 0:\n",
        "              print(f\"Frame number {frame_number}: {out_dict}\")\n",
        "            tracking_results.append(out_dict)\n",
        "            out_dict = {}\n",
        "        \n",
        "    # format is documented at https://detectron2.readthedocs.io/tutorials/models.html#model-output-format\n",
        "    if VIS:\n",
        "        v = Visualizer(im[:, :, ::-1],\n",
        "                    metadata=_dataset_metadata, \n",
        "                    scale=0.5, \n",
        "                    instance_mode=ColorMode.IMAGE_BW   # remove the colors of unsegmented pixels. This option is only available for segmentation models\n",
        "         )\n",
        "        out = v.draw_instance_predictions(outputs[\"instances\"].to(\"cpu\"))\n",
        "        out_image = out.get_image()[:, :, ::-1]\n",
        "        if frame_number % 1000 == 0:\n",
        "            cv2_imshow(out_image)\n",
        "            #Trun off the visulization to save time after the first frame\n",
        "            VIS = False\n",
        "    frame_number += 1\n",
        "    print(f\"Processing frame number {frame_number}\")\n",
        "\n",
        "video.release()"
      ],
      "execution_count": null,
      "outputs": []
    },
    {
      "cell_type": "markdown",
      "metadata": {
        "id": "uGtm3KALxyqp"
      },
      "source": [
        "## All the tracking results will be saved to this Pandas dataframe. \n",
        "\n"
      ]
    },
    {
      "cell_type": "code",
      "metadata": {
        "id": "3W6dRQXoN85C"
      },
      "source": [
        "df = pd.DataFrame(tracking_results)"
      ],
      "execution_count": null,
      "outputs": []
    },
    {
      "cell_type": "code",
      "metadata": {
        "id": "lIR1fe6zODRq"
      },
      "source": [
        "df.head()"
      ],
      "execution_count": null,
      "outputs": []
    },
    {
      "cell_type": "markdown",
      "metadata": {
        "id": "DgI8caT9-mlO"
      },
      "source": [
        "## Calculate the bbox center point x, y locations"
      ]
    },
    {
      "cell_type": "code",
      "metadata": {
        "id": "UGBFdG8RIcZo"
      },
      "source": [
        "cx = (df.x1 + df.x2)/2\n",
        "cy = (df.y1 + df.y2)/2\n",
        "df['cx'] = cx\n",
        "df['cy'] = cy"
      ],
      "execution_count": null,
      "outputs": []
    },
    {
      "cell_type": "markdown",
      "metadata": {
        "id": "kmg6FHqKvq9z"
      },
      "source": [
        "## Fix the left right switch by checking the middle point of the video width. It works best for non-moving or objects not cross the middle.\n",
        "### We assume your labels have Left and Right in it e.g. LeftZone, RightZone, LeftTeaball, or RightTeaball. \n"
      ]
    },
    {
      "cell_type": "code",
      "metadata": {
        "id": "-iPHr6O-vZpi"
      },
      "source": [
        "def switch_left_right(row,width=800):\n",
        "    instance_name = row['instance_name']\n",
        "    if 'cx' in row:\n",
        "        x_val = row['cx']\n",
        "    else:\n",
        "        x_val = row['x1']\n",
        "    if 'Left' in instance_name and x_val >= width / 2:\n",
        "        return instance_name.replace('Left','Right')\n",
        "    elif 'Right' in instance_name and x_val < width / 2:\n",
        "        return instance_name.replace('Right','Left')\n",
        "    return instance_name "
      ],
      "execution_count": null,
      "outputs": []
    },
    {
      "cell_type": "code",
      "metadata": {
        "id": "Mj0Yu_lmvglE"
      },
      "source": [
        "df['instance_name'] = df.apply(lambda row: switch_left_right(row,width),axis=1)"
      ],
      "execution_count": null,
      "outputs": []
    },
    {
      "cell_type": "code",
      "metadata": {
        "id": "1R2Xii899cob"
      },
      "source": [
        "df.tail()"
      ],
      "execution_count": null,
      "outputs": []
    },
    {
      "cell_type": "markdown",
      "metadata": {
        "id": "UCeVukLXvlkX"
      },
      "source": [
        "## Optional: Please skip the following three cells if you don't want to perform this post-processing step.\n",
        "## Fill the left zone and right zone with mode "
      ]
    },
    {
      "cell_type": "code",
      "metadata": {
        "id": "WthOj0vvuHXL"
      },
      "source": [
        "df_leftzone = df[df.instance_name == 'LeftZone'].mode().iloc[0]\n",
        "df_rightzone = df[df.instance_name == 'RightZone'].mode().iloc[0]\n",
        "#Fill missing LeftZone\n",
        "instance_name = 'LeftZone'\n",
        "fill_value = df_leftzone\n",
        "for frame_number in df.frame_number:\n",
        "    instance_names = df[df.frame_number == frame_number].instance_name.to_list()\n",
        "    if instance_name not in instance_names:\n",
        "        fill_value.frame_number = frame_number\n",
        "        df = df.append(fill_value, ignore_index=True)\n",
        "\n",
        "#Fill missing RightZone\n",
        "instance_name = 'RightZone'\n",
        "fill_value = df_rightzone\n",
        "for frame_number in df.frame_number:\n",
        "    instance_names = df[df.frame_number == frame_number].instance_name.to_list()\n",
        "    if instance_name not in instance_names:\n",
        "        fill_value.frame_number = frame_number\n",
        "        df = df.append(fill_value, ignore_index=True)"
      ],
      "execution_count": null,
      "outputs": []
    },
    {
      "cell_type": "markdown",
      "metadata": {
        "id": "_DX3L2SfSyQs"
      },
      "source": [
        "## Optional: Please skip this cell if you don't want to perform this post-processing step.\n",
        "### Fix missing predicted instances for each frame with in the given moving window."
      ]
    },
    {
      "cell_type": "code",
      "metadata": {
        "id": "q48rRMrHxj3H"
      },
      "source": [
        "#disable false positive warning\n",
        "pd.options.mode.chained_assignment = None\n",
        "moving_window=5\n",
        "all_instance_names = set(df.instance_name.unique())\n",
        "count = 0\n",
        "excluded_instances = set(['Nose','Center','Tailbase','LeftInteract','RightInteract'])\n",
        "# do not fill body parts\n",
        "all_instance_names = all_instance_names - excluded_instances\n",
        "print(\"Fill the instane with name in the list: \", all_instance_names)\n",
        "missing_predictions = []\n",
        "max_frame_number = df.frame_number.max()\n",
        "for frame_number in df.frame_number:\n",
        "    pred_instance = set(\n",
        "        df[df.frame_number==frame_number].instance_name.unique()\n",
        "        )\n",
        "    missing_instance = all_instance_names - pred_instance\n",
        "    for instance_name in missing_instance:\n",
        "        frame_range_end=frame_number + moving_window\n",
        "        if frame_range_end > max_frame_number:\n",
        "            df_instance = df[(df.frame_number.between(max_frame_number-moving_window,\n",
        "                                                      max_frame_number)) &\n",
        "                             (df.instance_name == instance_name)\n",
        "                            ]\n",
        "           \n",
        "        else:\n",
        "            \n",
        "            df_instance = df[\n",
        "                            (df.frame_number.between(frame_number,\n",
        "                                                      frame_range_end))\n",
        "                            & (df.instance_name == instance_name)\n",
        "                            ]\n",
        "        if df_instance.shape[0] >= 1:\n",
        "            fill_value = df_instance.iloc[0]\n",
        "        else:\n",
        "            #(f\"No instances {instance_name} in this window\")\n",
        "            # move to the next frame\n",
        "            continue\n",
        "        fill_value.frame_number = frame_number\n",
        "        missing_predictions.append(fill_value)\n",
        "        count += 1\n",
        "        if count % 1000 == 0:\n",
        "            print(f'Filling {count} missing {instance_name}')\n",
        "df = df.append(missing_predictions, ignore_index=True)"
      ],
      "execution_count": null,
      "outputs": []
    },
    {
      "cell_type": "markdown",
      "metadata": {
        "id": "_0NJtjZUsoQK"
      },
      "source": [
        "## Only save the top 1 prediction for each frame for each class\n",
        "Note: You can change the number to save top n predictions for each frame and an instance name. head(2), head(5), or head(n)\n",
        "To save all the predictions, please use `df.to_csv('my_tracking_results.csv')`."
      ]
    },
    {
      "cell_type": "code",
      "metadata": {
        "id": "qAJ5dU-EhDXP"
      },
      "source": [
        "df_top = df.groupby(['frame_number','instance_name'],sort=False).head(1)"
      ],
      "execution_count": null,
      "outputs": []
    },
    {
      "cell_type": "code",
      "metadata": {
        "id": "27jn0z3_hTKS"
      },
      "source": [
        "df_top.head()"
      ],
      "execution_count": null,
      "outputs": []
    },
    {
      "cell_type": "markdown",
      "metadata": {
        "id": "5A1KvDDe_K8P"
      },
      "source": [
        "## Visualize the center points with plotly scatter plot"
      ]
    },
    {
      "cell_type": "code",
      "metadata": {
        "id": "5oY3tHTOTc-Z"
      },
      "source": [
        "df_vis = df_top[df_top.instance_name != 'Text'][['frame_number','cx','cy','instance_name']]"
      ],
      "execution_count": null,
      "outputs": []
    },
    {
      "cell_type": "code",
      "metadata": {
        "id": "ZhxX1tpGI1LX"
      },
      "source": [
        "import plotly.express as px\n",
        "import plotly.graph_objects as go\n",
        "import numpy as np\n",
        "\n",
        "fig = px.scatter(df_vis, \n",
        "                 x=\"cx\",\n",
        "                 y=\"cy\", \n",
        "                 color=\"instance_name\",\n",
        "                 hover_data=['frame_number','cx','cy'])\n",
        "fig.show()"
      ],
      "execution_count": null,
      "outputs": []
    },
    {
      "cell_type": "code",
      "metadata": {
        "id": "2pfF0eecelCY"
      },
      "source": [
        "from pathlib import  Path\n",
        "tracking_results_csv = f\"{Path(dataset).stem}_{Path(VIDEO_INPUT).stem}_{cfg.SOLVER.MAX_ITER}_iters_mask_rcnn_tracking_results_with_segmenation.csv\"\n",
        "df_top.to_csv(tracking_results_csv)"
      ],
      "execution_count": null,
      "outputs": []
    },
    {
      "cell_type": "markdown",
      "metadata": {
        "id": "DlVKcxTW5tIa"
      },
      "source": [
        "## Download the tracking result CSV file to your local device"
      ]
    },
    {
      "cell_type": "code",
      "metadata": {
        "id": "dFpaGUfsPvJZ"
      },
      "source": [
        "from google.colab import files\n",
        "files.download(tracking_results_csv)"
      ],
      "execution_count": null,
      "outputs": []
    },
    {
      "cell_type": "markdown",
      "metadata": {
        "id": "zQUPfuDFNGLK"
      },
      "source": [
        "# The following sections are optional. "
      ]
    },
    {
      "cell_type": "markdown",
      "metadata": {
        "id": "KcHDEwHF_t0k"
      },
      "source": [
        "## Caculate the distance of a pair of instances in a given frame"
      ]
    },
    {
      "cell_type": "code",
      "metadata": {
        "id": "AG2I6f50FeQW"
      },
      "source": [
        "def paired_distance(frame_number,\n",
        "                    this_instance='frog_m_2',\n",
        "                    other_instance='frog_f_2'):\n",
        "    df_dis = df_top[df_top[\"frame_number\"]==frame_number][['cx','cy','instance_name']]\n",
        "    df_this = df_dis[df_dis.instance_name == this_instance]\n",
        "    df_other = df_dis[df_dis.instance_name == other_instance]\n",
        "    try:\n",
        "      dist = np.linalg.norm(df_this[['cx','cy']].values-df_other[['cx','cy']].values)\n",
        "    except:\n",
        "      dist = None\n",
        "\n",
        "\n",
        "    return dist"
      ],
      "execution_count": null,
      "outputs": []
    },
    {
      "cell_type": "markdown",
      "metadata": {
        "id": "HdofIPlHMy_F"
      },
      "source": [
        "## Calculate the distance of the instance from the current and previous frame"
      ]
    },
    {
      "cell_type": "code",
      "metadata": {
        "id": "gOqMSj-_tqCI"
      },
      "source": [
        "def instance_distance_between_frame(frame_number,\n",
        "                                    instance_name='frog_m_1'):\n",
        "    if frame_number < 1:\n",
        "      return 0\n",
        "    previous_frame_number = frame_number - 1\n",
        "    df_dis = df_top[df_top[\"frame_number\"]==frame_number][['cx','cy','instance_name']]\n",
        "    df_dis_prev = df_top[df_top[\"frame_number\"]==previous_frame_number][['cx','cy','instance_name']]\n",
        "    df_dis = df_dis[df_dis.instance_name == instance_name]\n",
        "    df_dis_prev = df_dis_prev[df_dis_prev.instance_name == instance_name]\n",
        "\n",
        "    try:\n",
        "      dist = np.linalg.norm(df_dis[['cx','cy']].values-df_dis_prev[['cx','cy']].values)\n",
        "    except:\n",
        "      dist = None\n",
        "    \n",
        "    return dist\n",
        "    "
      ],
      "execution_count": null,
      "outputs": []
    },
    {
      "cell_type": "code",
      "metadata": {
        "id": "mJ2njLTh1ykg"
      },
      "source": [
        "df_top['dist_from_previous_frame_frog_m_1'] = df_top.frame_number.apply(instance_distance_between_frame)"
      ],
      "execution_count": null,
      "outputs": []
    },
    {
      "cell_type": "markdown",
      "metadata": {
        "id": "-aePsYWl9aZD"
      },
      "source": [
        "## The total distance traveled for frog male in Tank 1 in pixels"
      ]
    },
    {
      "cell_type": "code",
      "metadata": {
        "id": "FHHbQ1k48E3o"
      },
      "source": [
        "df_top['dist_from_previous_frame_frog_m_1'].sum()\n"
      ],
      "execution_count": null,
      "outputs": []
    },
    {
      "cell_type": "code",
      "metadata": {
        "id": "Hmu7v7mq4hXc"
      },
      "source": [
        "\n",
        "fig = px.line(x=df_top.frame_number, y=df_top.dist_from_previous_frame_frog_m_1, labels={'x':'frame_number', 'y':'distance from previous frame frog_m_1'})\n",
        "fig.show()"
      ],
      "execution_count": null,
      "outputs": []
    },
    {
      "cell_type": "markdown",
      "metadata": {
        "id": "N8a6yPdm9xLn"
      },
      "source": [
        "## Distance between frog male in tank 2 and frog female in tank 2 in pixels"
      ]
    },
    {
      "cell_type": "code",
      "metadata": {
        "id": "Y_foH7jn-DQe"
      },
      "source": [
        "df_top['dist_frog_m2_f2'] = df_top.frame_number.apply(paired_distance)"
      ],
      "execution_count": null,
      "outputs": []
    },
    {
      "cell_type": "code",
      "metadata": {
        "id": "Dbscz2qYgHHg"
      },
      "source": [
        "\n",
        "fig = px.line(x=df_top.frame_number, y=df_top.dist_frog_m2_f2, labels={'x':'frame_number', 'y':'distance between frog male in tank 2 to frog female in tank 2'})\n",
        "fig.show()"
      ],
      "execution_count": null,
      "outputs": []
    },
    {
      "cell_type": "markdown",
      "metadata": {
        "id": "HbWnkmooiF9q"
      },
      "source": [
        "## Save mask perimeters in a new column"
      ]
    },
    {
      "cell_type": "code",
      "metadata": {
        "id": "keCHjizSrBEL"
      },
      "source": [
        "import ast\n",
        "def mask_perimeter(mask):\n",
        "    \"\"\"calculate perimeter for a given binary mask\n",
        "    \"\"\"\n",
        "    try:\n",
        "        mask = mask_util.decode(mask)\n",
        "    except TypeError:\n",
        "        mask = ast.literal_eval(mask)\n",
        "        rle = [mask]\n",
        "        mask = mask_util.decode(rle)\n",
        "    contours, hierarchy = cv2.findContours(mask, cv2.RETR_CCOMP,\n",
        "                           cv2.CHAIN_APPROX_SIMPLE)\n",
        "    cnt = contours[0]\n",
        "    perimeter = cv2.arcLength(cnt, True)\n",
        "    return perimeter"
      ],
      "execution_count": null,
      "outputs": []
    },
    {
      "cell_type": "code",
      "metadata": {
        "id": "1V9k2kcErBEP"
      },
      "source": [
        "df_top['mask_perimeter'] = df_top.segmentation.apply(mask_perimeter)"
      ],
      "execution_count": null,
      "outputs": []
    },
    {
      "cell_type": "markdown",
      "metadata": {
        "id": "wuKangV2rBEP"
      },
      "source": [
        "## Save mask areas to a new column"
      ]
    },
    {
      "cell_type": "code",
      "metadata": {
        "id": "9bEh2e8CrBEP"
      },
      "source": [
        "def mask_area(mask):\n",
        "    \"\"\"Calulate the area of a RLE mask.\n",
        "    \"\"\"\n",
        "    try:\n",
        "        area = mask_util.area(mask)\n",
        "    except TypeError:\n",
        "        mask = ast.literal_eval(mask)\n",
        "        area = mask_util.area(mask)\n",
        "    return area"
      ],
      "execution_count": null,
      "outputs": []
    },
    {
      "cell_type": "code",
      "metadata": {
        "id": "bOWFHk76rBEQ"
      },
      "source": [
        "df_top['mask_area'] = df_top.segmentation.apply(mask_area)"
      ],
      "execution_count": null,
      "outputs": []
    },
    {
      "cell_type": "markdown",
      "metadata": {
        "id": "Gb3ajuC8xaiu"
      },
      "source": [
        "## Calculate IOU between two RLE masks"
      ]
    },
    {
      "cell_type": "code",
      "metadata": {
        "id": "-9XVpAvgxhUU"
      },
      "source": [
        "def mask_iou(this_mask, other_mask):\n",
        "    \"\"\"\n",
        "    Calculate intersection over union between two masks.\n",
        "    \"\"\"\n",
        "    try:\n",
        "        _iou = mask_util.iou([this_mask],[other_mask],[False,False])\n",
        "    except Exception:\n",
        "        this_mask = ast.literal_eval(this_mask)\n",
        "        other_mask = ast.literal_eval(other_mask)\n",
        "        _iou = mask_util.iou([this_mask],[other_mask],[False,False])\n",
        "    return _iou.flatten()[0]"
      ],
      "execution_count": null,
      "outputs": []
    },
    {
      "cell_type": "markdown",
      "metadata": {
        "id": "_wDOJbHUSrqP"
      },
      "source": [
        "## Get all the RLE encoded mask from frame 1"
      ]
    },
    {
      "cell_type": "code",
      "metadata": {
        "id": "Os0c0_pmx-AV"
      },
      "source": [
        "masks = df_top[df_top[\"frame_number\"]==1]['segmentation'].values\n",
        "# if you see assertion error, please check the frame number that contains more than 1 mask\n",
        "assert len(masks) >= 2"
      ],
      "execution_count": null,
      "outputs": []
    },
    {
      "cell_type": "markdown",
      "metadata": {
        "id": "QnaukyMTSSYk"
      },
      "source": [
        "## e.g. Compute the IOU between the first and the third mask"
      ]
    },
    {
      "cell_type": "code",
      "metadata": {
        "id": "PzRHGKiMyaew"
      },
      "source": [
        "mask_iou(masks[0],masks[2])"
      ],
      "execution_count": null,
      "outputs": []
    },
    {
      "cell_type": "markdown",
      "metadata": {
        "id": "QHSPJXqfS7LW"
      },
      "source": [
        "## Compute all the IOUs for all the mask pairs in a given frame"
      ]
    },
    {
      "cell_type": "code",
      "metadata": {
        "id": "LR57SW6g3FvV"
      },
      "source": [
        "masks = [ast.literal_eval(mask) for mask in masks]"
      ],
      "execution_count": null,
      "outputs": []
    },
    {
      "cell_type": "code",
      "metadata": {
        "id": "yu5X2XH02z1d"
      },
      "source": [
        "ious = mask_util.iou(masks,masks,[False]*len(masks))"
      ],
      "execution_count": null,
      "outputs": []
    },
    {
      "cell_type": "markdown",
      "metadata": {
        "id": "IHDQbXgTB25x"
      },
      "source": [
        "### Compute the sum of all the IOUs in a given frame"
      ]
    },
    {
      "cell_type": "code",
      "metadata": {
        "id": "6ngBon_QcMZ5"
      },
      "source": [
        "ious.sum() - ious.trace()"
      ],
      "execution_count": null,
      "outputs": []
    },
    {
      "cell_type": "code",
      "metadata": {
        "id": "9LH3DafRcRm7"
      },
      "source": [
        "(ious.sum() - ious.trace())/2"
      ],
      "execution_count": null,
      "outputs": []
    },
    {
      "cell_type": "code",
      "metadata": {
        "id": "7t0MDXx1-G7I"
      },
      "source": [
        "def paired_mask_ious(frame_number):\n",
        "    masks = df_top[df_top[\"frame_number\"]==frame_number]['segmentation'].values\n",
        "    masks = [ast.literal_eval(mask) for mask in masks]\n",
        "    ious = mask_util.iou(masks, masks, [False]*len(masks))\n",
        "    return ious"
      ],
      "execution_count": null,
      "outputs": []
    },
    {
      "cell_type": "code",
      "metadata": {
        "id": "yIUZ9KiA-uwI"
      },
      "source": [
        "df_top['ious'] = df_top.frame_number.apply(paired_mask_ious)"
      ],
      "execution_count": null,
      "outputs": []
    },
    {
      "cell_type": "code",
      "metadata": {
        "id": "SODB9Upk_D0o"
      },
      "source": [
        "df_top.ious"
      ],
      "execution_count": null,
      "outputs": []
    },
    {
      "cell_type": "markdown",
      "metadata": {
        "id": "oZhLFRIPTUzj"
      },
      "source": [
        "## Download and save the results to your local device"
      ]
    },
    {
      "cell_type": "markdown",
      "metadata": {
        "id": "fHgj_P1rCJ7D"
      },
      "source": [
        "### Please change the desired CSV file name"
      ]
    },
    {
      "cell_type": "code",
      "metadata": {
        "id": "rh8dfLzzrBEQ"
      },
      "source": [
        "tracking_results_with_area_perimeter_csv = f\"{tracking_results_csv.replace('.csv','_with_area_perimeter.csv')}\"\n",
        "df_top.to_csv(tracking_results_with_area_perimeter_csv)\n",
        "files.download(tracking_results_with_area_perimeter_csv)"
      ],
      "execution_count": null,
      "outputs": []
    },
    {
      "cell_type": "markdown",
      "metadata": {
        "id": "-u2dGs54Ctuo"
      },
      "source": [
        "## Save and download the trained model weights"
      ]
    },
    {
      "cell_type": "code",
      "metadata": {
        "id": "BSpX5Yr-Cyq-"
      },
      "source": [
        "final_model_file = os.path.join(cfg.OUTPUT_DIR,'model_final.pth')\n",
        "files.download(final_model_file)"
      ],
      "execution_count": null,
      "outputs": []
    }
  ]
}