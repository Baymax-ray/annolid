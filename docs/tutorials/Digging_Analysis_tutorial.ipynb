{
  "cells": [
    {
      "cell_type": "markdown",
      "metadata": {
        "id": "ceZMUf7hIZsg"
      },
      "source": [
        "\n",
        "# Digging Analysis "
      ]
    },
    {
      "cell_type": "markdown",
      "metadata": {
        "id": "XdoDboCtNhUB"
      },
      "source": [
        "<a href=\"https://colab.research.google.com/github.com/healthonrails/annolid/blob/main/docs/tutorials/Digging_Analysis_tutorial.ipynb\" target=\"_parent\">\n",
        "  <img src=\"https://colab.research.google.com/assets/colab-badge.svg\" alt=\"Open In Colab\"/>\n",
        "</a>\n",
        "\n",
        "In this notebook, we'll show examples of how to perform digging behavior analysis.\n"
      ]
    },
    {
      "cell_type": "code",
      "source": [
        "import pandas as pd\n",
        "import matplotlib.pyplot as plt"
      ],
      "metadata": {
        "id": "YtUrMLM_fv8S"
      },
      "execution_count": null,
      "outputs": []
    },
    {
      "cell_type": "markdown",
      "source": [
        "## Constant values"
      ],
      "metadata": {
        "id": "_ZXxziyKmu3-"
      }
    },
    {
      "cell_type": "code",
      "source": [
        "has_gt = False # Set has_gt to True if you have it"
      ],
      "metadata": {
        "id": "FBMgvb5RMmnu"
      },
      "execution_count": null,
      "outputs": []
    },
    {
      "cell_type": "code",
      "source": [
        "fps = 29.97\n",
        "box_x1, box_y1, box_x2, box_y2 = 324, 178, 570, 344"
      ],
      "metadata": {
        "id": "BVu_Bs7HhISf"
      },
      "execution_count": null,
      "outputs": []
    },
    {
      "cell_type": "markdown",
      "source": [
        "# Util functions"
      ],
      "metadata": {
        "id": "_W9aV3TNnPZW"
      }
    },
    {
      "cell_type": "code",
      "source": [
        "def convert_time_to_frame_number(time_stamp, fps=29.97):\n",
        "    h, m, s = time_stamp.split(':')\n",
        "    seconds, milliseconds = s.split('.')\n",
        "    total_seconds = int(h) * 3600 + int(m) * 60 + int(seconds)\n",
        "    total_frames = int(total_seconds * fps) + int(milliseconds) * fps // 1000\n",
        "    return int(total_frames)\n"
      ],
      "metadata": {
        "id": "c9AOUOUehnQ0"
      },
      "execution_count": null,
      "outputs": []
    },
    {
      "cell_type": "code",
      "source": [
        "def convert_frame_number_to_time(frame_number,fps=fps):\n",
        "    total_seconds = frame_number / fps\n",
        "    hours = int(total_seconds // 3600)\n",
        "    minutes = int((total_seconds % 3600) // 60)\n",
        "    seconds = int(total_seconds % 60)\n",
        "    milliseconds = int((total_seconds - int(total_seconds)) * 1000)\n",
        "    time_stamp = f\"{hours:02d}:{minutes:02d}:{seconds:02d}.{milliseconds:03d}\"\n",
        "    return time_stamp\n"
      ],
      "metadata": {
        "id": "RW-Uw65rhpfK"
      },
      "execution_count": null,
      "outputs": []
    },
    {
      "cell_type": "code",
      "source": [
        "import ast\n",
        "from pycocotools import mask as mask_util\n",
        "def mask_area(mask):\n",
        "    \"\"\"Calulate the area of a RLE mask.\n",
        "    \"\"\"\n",
        "    try:\n",
        "        area = mask_util.area(mask)\n",
        "    except TypeError:\n",
        "        mask = ast.literal_eval(mask)\n",
        "        area = mask_util.area(mask)\n",
        "    return area"
      ],
      "metadata": {
        "id": "5P3PeYPKygwP"
      },
      "execution_count": null,
      "outputs": []
    },
    {
      "cell_type": "markdown",
      "source": [
        "# This section focuses on spiking neuron recordings. Skip it if it's not relevant to your project.\n",
        "\n",
        "\n",
        "\n",
        "\n"
      ],
      "metadata": {
        "id": "wpYsF2DY-JyI"
      }
    },
    {
      "cell_type": "code",
      "source": [
        "spiking_csv = '/content/R2142_04-02-2022_nlx_mtx.csv'\n",
        "df_spike = pd.read_csv(spiking_csv,header=None)"
      ],
      "metadata": {
        "id": "F9eXxtQo2PZM"
      },
      "execution_count": null,
      "outputs": []
    },
    {
      "cell_type": "code",
      "source": [
        "df_spike.head()"
      ],
      "metadata": {
        "id": "ETKKlj1A2bvt"
      },
      "execution_count": null,
      "outputs": []
    },
    {
      "cell_type": "code",
      "source": [
        "df_spike.describe()"
      ],
      "metadata": {
        "id": "nEj6rMNc3oFe"
      },
      "execution_count": null,
      "outputs": []
    },
    {
      "cell_type": "code",
      "source": [
        "df_spike_time = df_spike[df_spike[3]>0][[0,3]]"
      ],
      "metadata": {
        "id": "xJtq5ffL27Kh"
      },
      "execution_count": null,
      "outputs": []
    },
    {
      "cell_type": "code",
      "source": [
        "df_spike_time.head()"
      ],
      "metadata": {
        "id": "Yqz0sbHX33dA"
      },
      "execution_count": null,
      "outputs": []
    },
    {
      "cell_type": "code",
      "source": [
        "def convert_seconds_to_frame_number(seconds, frame_rate=fps):\n",
        "    frame_number = int(seconds * frame_rate)\n",
        "    return frame_number"
      ],
      "metadata": {
        "id": "fU9JYR8XLdaQ"
      },
      "execution_count": null,
      "outputs": []
    },
    {
      "cell_type": "code",
      "source": [
        "df_spike_time['Frame_number'] = df_spike[0].apply(convert_seconds_to_frame_number)"
      ],
      "metadata": {
        "id": "LsqPPAGE33wm"
      },
      "execution_count": null,
      "outputs": []
    },
    {
      "cell_type": "code",
      "source": [
        "timestamps = df_spike_time.Frame_number.apply(convert_frame_number_to_time)"
      ],
      "metadata": {
        "id": "nv8P-LTo5HW_"
      },
      "execution_count": null,
      "outputs": []
    },
    {
      "cell_type": "code",
      "source": [
        "df_spike_time['Timestamp'] = timestamps"
      ],
      "metadata": {
        "id": "KMB09_OWMjyZ"
      },
      "execution_count": null,
      "outputs": []
    },
    {
      "cell_type": "code",
      "source": [
        "frame_number_mark_type = pd.Series(list(zip(df_spike_time.Frame_number,['event_end'] * len(df_spike_time.Frame_number) ))).astype('str')"
      ],
      "metadata": {
        "id": "ZzuMwYax7MFy"
      },
      "execution_count": null,
      "outputs": []
    },
    {
      "cell_type": "code",
      "source": [
        "df_spike_time.head()"
      ],
      "metadata": {
        "id": "Zt6U5gbMMsV6"
      },
      "execution_count": null,
      "outputs": []
    },
    {
      "cell_type": "code",
      "source": [
        "df_spike_time['Frame_number'] = frame_number_mark_type"
      ],
      "metadata": {
        "id": "CQSlELGv7eQD"
      },
      "execution_count": null,
      "outputs": []
    },
    {
      "cell_type": "code",
      "source": [
        "df_spike_time.describe()"
      ],
      "metadata": {
        "id": "ChuUyxJpMtpa"
      },
      "execution_count": null,
      "outputs": []
    },
    {
      "cell_type": "code",
      "source": [
        "df_spike_time[3].value_counts()"
      ],
      "metadata": {
        "id": "hCTMmxL4NN9J"
      },
      "execution_count": null,
      "outputs": []
    },
    {
      "cell_type": "code",
      "source": [
        "df_19_05 = df_spike_time[df_spike_time[3]==19.05]"
      ],
      "metadata": {
        "id": "Uin7pmk6-7Hr"
      },
      "execution_count": null,
      "outputs": []
    },
    {
      "cell_type": "code",
      "source": [
        "df_17_04 = df_spike_time[df_spike_time[3]==17.04]"
      ],
      "metadata": {
        "id": "gGUygK20N45G"
      },
      "execution_count": null,
      "outputs": []
    },
    {
      "cell_type": "code",
      "source": [
        "df_17_03 = df_spike_time[df_spike_time[3]==17.03]"
      ],
      "metadata": {
        "id": "qAqNygdyOEq6"
      },
      "execution_count": null,
      "outputs": []
    },
    {
      "cell_type": "code",
      "source": [
        "df_19_06 = df_spike_time[df_spike_time[3]==19.06]"
      ],
      "metadata": {
        "id": "lf8uIfoB_9md"
      },
      "execution_count": null,
      "outputs": []
    },
    {
      "cell_type": "code",
      "source": [
        "df_20_14 = df_spike_time[df_spike_time[3]==20.14]"
      ],
      "metadata": {
        "id": "40ty1MUbOwRD"
      },
      "execution_count": null,
      "outputs": []
    },
    {
      "cell_type": "code",
      "source": [
        "df_20_14.head()"
      ],
      "metadata": {
        "id": "eSjZrQ1HQ0Re"
      },
      "execution_count": null,
      "outputs": []
    },
    {
      "cell_type": "code",
      "source": [
        "# create the plot\n",
        "fig, ax = plt.subplots(figsize=(16, 8))\n",
        "\n",
        "# plot the ground truth if available\n",
        "if has_gt:\n",
        "    x_gt = df_gt.values\n",
        "    y_gt = [ax.get_ylim()[1]] * len(x_gt) \n",
        "    ax.scatter(x_gt, y_gt, marker=\"|\", color=\"red\", s=150, label=\"Ground Truth\")\n",
        "\n",
        "# plot the predictions in separate rows\n",
        "predictions = [\n",
        "    (df_19_05[\"Timestamp\"].apply(convert_time_to_frame_number).values, \"19.5\", \"green\"),\n",
        "    (df_17_03[\"Timestamp\"].apply(convert_time_to_frame_number).values, \"17.3\", \"blue\"),\n",
        "    (df_17_04[\"Timestamp\"].apply(convert_time_to_frame_number).values, \"17.4\", \"orange\"),\n",
        "    (df_19_06[\"Timestamp\"].apply(convert_time_to_frame_number).values, \"19.6\", \"purple\"),\n",
        "    (df_20_14[\"Timestamp\"].apply(convert_time_to_frame_number).values, \"20.14\", \"brown\")\n",
        "]\n",
        "\n",
        "# loop over the predictions and plot each set in a separate row\n",
        "for i, (x_pred, label, color) in enumerate(predictions):\n",
        "    y_pred = [ax.get_ylim()[1] + 2] * len(x_pred)\n",
        "    ax.scatter(x_pred, y_pred, marker='|', color=color, s=150, label=label)\n",
        "\n",
        "# add legend\n",
        "#ax.legend(loc=\"lower right\")\n",
        "\n",
        "# show the plot\n",
        "plt.show()"
      ],
      "metadata": {
        "id": "x_W55FF5Y9Cb"
      },
      "execution_count": null,
      "outputs": []
    },
    {
      "cell_type": "code",
      "source": [
        "df_spike_time.Frame_number.values"
      ],
      "metadata": {
        "id": "uMo5sSQz8Bjv"
      },
      "execution_count": null,
      "outputs": []
    },
    {
      "cell_type": "code",
      "source": [
        "df_spike_time_save = df_19_05[['Timestamp','Frame_number']]"
      ],
      "metadata": {
        "id": "8I_Xn21E8GGg"
      },
      "execution_count": null,
      "outputs": []
    },
    {
      "cell_type": "code",
      "source": [
        "df_spike_time_save.dropna(inplace=True)"
      ],
      "metadata": {
        "id": "9QjeHId18-nl"
      },
      "execution_count": null,
      "outputs": []
    },
    {
      "cell_type": "code",
      "source": [
        "df_spike_time_save.head()"
      ],
      "metadata": {
        "id": "BjFtq0IW9Qvj"
      },
      "execution_count": null,
      "outputs": []
    },
    {
      "cell_type": "code",
      "source": [
        "df_spike_time_save.to_csv(\"/content/timestamps_nlx_mtx.csv\",index=False)"
      ],
      "metadata": {
        "id": "Z5YlMp8q8PY8"
      },
      "execution_count": null,
      "outputs": []
    },
    {
      "cell_type": "markdown",
      "source": [
        "## If you need to compare the results, you should reload the ground truth timestamps.\n",
        "\n",
        "\n",
        "\n",
        "\n",
        "\n",
        "\n"
      ],
      "metadata": {
        "id": "P_7opX7bmQmE"
      }
    },
    {
      "cell_type": "code",
      "source": [
        "df_gt = pd.read_excel('/content/timestamp _2202.xlsx')"
      ],
      "metadata": {
        "id": "1u1vvyr-f1Oe"
      },
      "execution_count": null,
      "outputs": []
    },
    {
      "cell_type": "code",
      "source": [
        "df_gt.head()\n"
      ],
      "metadata": {
        "id": "v3Lx5lGmrl2E"
      },
      "execution_count": null,
      "outputs": []
    },
    {
      "cell_type": "code",
      "source": [
        "df_gt = df_gt['R_04-02-2022'].dropna().apply(convert_time_to_frame_number)\n",
        "df_gt.values    "
      ],
      "metadata": {
        "id": "hw4JPq-exHhq"
      },
      "execution_count": null,
      "outputs": []
    },
    {
      "cell_type": "code",
      "source": [
        "len(df_gt.values)"
      ],
      "metadata": {
        "id": "Xi1ej0ER37K4"
      },
      "execution_count": null,
      "outputs": []
    },
    {
      "cell_type": "markdown",
      "source": [
        "## Load and process Annolid predict results"
      ],
      "metadata": {
        "id": "Qs9fspz9nThe"
      }
    },
    {
      "cell_type": "code",
      "source": [
        "annolid_results_csv = \"/content/rats_v2_coco_dataset_R2202_12-21-2022_mask_rcnn_tracking_results_with_segmentation.csv\" #@param\n",
        "df_pred = pd.read_csv(annolid_results_csv)"
      ],
      "metadata": {
        "id": "uXDwalvqnOkY"
      },
      "execution_count": null,
      "outputs": []
    },
    {
      "cell_type": "code",
      "source": [
        "df_pred.head()"
      ],
      "metadata": {
        "id": "xO9_m6D2nOwC"
      },
      "execution_count": null,
      "outputs": []
    },
    {
      "cell_type": "code",
      "source": [
        "df = df_pred"
      ],
      "metadata": {
        "id": "ZSRM3jfFAW6o"
      },
      "execution_count": null,
      "outputs": []
    },
    {
      "cell_type": "code",
      "source": [
        "import pandas as pd\n",
        "import numpy as np\n",
        "from scipy.spatial import distance\n",
        "\n",
        "# Step 1: Filter the dataframe for the rat instances\n",
        "threshold = 0.9  # Adjust the threshold as needed\n",
        "filtered_df = df[(df['instance_name'] == 'rat') & (df['class_score'] > threshold)]\n",
        "filtered_cup = df[(df['instance_name'] == 'cup') & (df['class_score'] > threshold)]"
      ],
      "metadata": {
        "id": "O3mR7tEnAfq7"
      },
      "execution_count": null,
      "outputs": []
    },
    {
      "cell_type": "code",
      "source": [
        "# Step 2: Extract relevant columns for rat and cup positions\n",
        "rat_positions = filtered_df[['frame_number', 'cx', 'cy']]\n",
        "cup_positions = filtered_df[['frame_number', 'x1', 'y1', 'x2', 'y2']]\n"
      ],
      "metadata": {
        "id": "ut-_WEQR5cId"
      },
      "execution_count": null,
      "outputs": []
    },
    {
      "cell_type": "code",
      "source": [
        "\n",
        "# Step 3: Calculate distances between rat and cup for each frame\n",
        "distances = []\n",
        "for _, rat_row in rat_positions.iterrows():\n",
        "    frame_number = rat_row['frame_number']\n",
        "    rat_coords = (rat_row['cx'], rat_row['cy'])\n",
        "    cup_coords = cup_positions[cup_positions['frame_number'] == frame_number][['x1', 'y1', 'x2', 'y2']].values\n",
        "    if len(cup_coords) > 0:\n",
        "        cup_center = ((cup_coords[:, 0] + cup_coords[:, 2]) / 2, (cup_coords[:, 1] + cup_coords[:, 3]) / 2)\n",
        "        dist = np.min([distance.euclidean(rat_coords, center) for center in cup_center])\n",
        "        distances.append((frame_number, dist))"
      ],
      "metadata": {
        "id": "UDQLEYzcBbiB"
      },
      "execution_count": null,
      "outputs": []
    },
    {
      "cell_type": "code",
      "source": [
        "# Step 4: Apply time series analysis techniques\n",
        "dist_df = pd.DataFrame(distances, columns=['frame_number', 'distance'])\n",
        "dist_df['moving_average'] = dist_df['distance'].rolling(window=5, min_periods=1).mean()  # Moving average example\n"
      ],
      "metadata": {
        "id": "rlyA3OvmDPHq"
      },
      "execution_count": null,
      "outputs": []
    },
    {
      "cell_type": "code",
      "source": [
        "# Step 5: Identify frames where rat is close to the cup\n",
        "threshold_distance = 50  # Adjust the threshold as needed\n",
        "close_frames = dist_df[dist_df['distance'] < threshold_distance]['frame_number']\n",
        "\n",
        "# Print the close frames\n",
        "print(\"Frame numbers where rat is close to the cup:\")\n",
        "print(close_frames)\n"
      ],
      "metadata": {
        "id": "rkDjvPELAVfj"
      },
      "execution_count": null,
      "outputs": []
    },
    {
      "cell_type": "code",
      "source": [
        "# Step 6: Calculate velocity and acceleration\n",
        "frame_numbers = [frame_number for frame_number, _ in distances]\n",
        "dist_values = [distance for _, distance in distances]\n",
        "\n",
        "# Calculate time intervals between frames\n",
        "time_intervals = np.diff(frame_numbers)\n",
        "\n",
        "# Calculate velocity as change in distance per unit time\n",
        "velocity = np.diff(dist_values) / time_intervals\n",
        "\n",
        "# Calculate acceleration as change in velocity per unit time\n",
        "acceleration = np.diff(velocity) / time_intervals[:-1]\n",
        "\n",
        "# Print the velocity and acceleration\n",
        "print(\"Velocity:\", velocity)\n",
        "print(\"Acceleration:\", acceleration)"
      ],
      "metadata": {
        "id": "q8o1qfroEV3-"
      },
      "execution_count": null,
      "outputs": []
    },
    {
      "cell_type": "code",
      "source": [
        "# Thresholds for movement and reaching the cup\n",
        "movement_threshold = -0.1  # Negative velocity threshold for movement\n",
        "about_to_reach_threshold = 0.01  # Acceleration threshold for about to reach the cup\n",
        "\n",
        "# Determine moments when the rat is moving towards the cup\n",
        "moving_towards_cup_frames = [frame for frame, velocity in zip(frame_numbers[1:], velocity) if velocity < movement_threshold]\n",
        "\n",
        "# Determine moments when the rat is about to reach the cup\n",
        "about_to_reach_frames = [frame for frame, acceleration in zip(frame_numbers[2:], acceleration) if acceleration < about_to_reach_threshold]\n",
        "\n",
        "# Print the frames when the rat is moving towards the cup and about to reach the cup\n",
        "print(\"Frames when rat is moving towards the cup:\", moving_towards_cup_frames)\n",
        "print(\"Frames when rat is about to reach the cup:\", about_to_reach_frames)\n"
      ],
      "metadata": {
        "id": "HcZevcwrFEAi"
      },
      "execution_count": null,
      "outputs": []
    },
    {
      "cell_type": "code",
      "source": [
        "# Thresholds\n",
        "gap_threshold = 200  # Number of frames without a cup to consider as a gap\n",
        "distance_threshold = 100  # Threshold distance for frame numbers in each group\n",
        "\n",
        "# Step 7: Divide frames into periods with no cups for more than 100 frames\n",
        "frame_gaps = []\n",
        "current_gap = []\n",
        "for frame_number in frame_numbers:\n",
        "    if len(current_gap) == 0 or frame_number - current_gap[-1] == 1:\n",
        "        current_gap.append(frame_number)\n",
        "    else:\n",
        "        if len(current_gap) > gap_threshold:\n",
        "            frame_gaps.append(current_gap)\n",
        "        current_gap = []\n",
        "if len(current_gap) > gap_threshold:\n",
        "    frame_gaps.append(current_gap)\n",
        "\n",
        "# Step 8: Filter frame numbers in each group based on the distance threshold\n",
        "filtered_frame_numbers = []\n",
        "for gap in frame_gaps:\n",
        "    gap_frame_numbers = [frame for frame in gap if frame in moving_towards_cup_frames]\n",
        "    filtered_frame_numbers.extend(gap_frame_numbers)\n",
        "\n",
        "# Print the filtered frame numbers\n",
        "print(\"Filtered frame numbers:\")\n",
        "print(filtered_frame_numbers)\n"
      ],
      "metadata": {
        "id": "2WZ7FWcTFLRm"
      },
      "execution_count": null,
      "outputs": []
    },
    {
      "cell_type": "code",
      "source": [
        "df_cup = df_pred[df_pred['instance_name']=='cup']"
      ],
      "metadata": {
        "id": "KHLDKpVLwbSk"
      },
      "execution_count": null,
      "outputs": []
    },
    {
      "cell_type": "code",
      "source": [
        "df_cup['mask_area'] = df_cup.segmentation.apply(mask_area)"
      ],
      "metadata": {
        "id": "NG6wB5e_y8zs"
      },
      "execution_count": null,
      "outputs": []
    },
    {
      "cell_type": "code",
      "source": [
        "df_cup.head()"
      ],
      "metadata": {
        "id": "yeUqDqqIuIby"
      },
      "execution_count": null,
      "outputs": []
    },
    {
      "cell_type": "code",
      "source": [
        "df_cup[df_cup.frame_number == 29956]"
      ],
      "metadata": {
        "id": "fB3PKZIAWJTq"
      },
      "execution_count": null,
      "outputs": []
    },
    {
      "cell_type": "code",
      "source": [
        "df_cup['mask_area'].describe()"
      ],
      "metadata": {
        "id": "wWhdvxJXzKPt"
      },
      "execution_count": null,
      "outputs": []
    },
    {
      "cell_type": "code",
      "source": [
        "df_cup.class_score.describe()"
      ],
      "metadata": {
        "id": "N5HRgj97ttR3"
      },
      "execution_count": null,
      "outputs": []
    },
    {
      "cell_type": "code",
      "source": [
        "df_cup = df_cup[df_cup.mask_area > 700]"
      ],
      "metadata": {
        "id": "NaVKUhzpP6gQ"
      },
      "execution_count": null,
      "outputs": []
    },
    {
      "cell_type": "code",
      "source": [
        "df_cup = df_cup[df_cup.class_score > 0.99]"
      ],
      "metadata": {
        "id": "J5lNTuYqFFdX"
      },
      "execution_count": null,
      "outputs": []
    },
    {
      "cell_type": "code",
      "source": [
        "df_cups = df_pred[df_pred.frame_number.isin(df_cup.frame_number)]"
      ],
      "metadata": {
        "id": "8cgt6Hobwzv7"
      },
      "execution_count": null,
      "outputs": []
    },
    {
      "cell_type": "code",
      "source": [
        "df_cups_rats = df_cups[df_cups.frame_number.isin(df_cups[df_cups.instance_name == 'rat'].frame_number.unique())]"
      ],
      "metadata": {
        "id": "EqCiW1-Cym0X"
      },
      "execution_count": null,
      "outputs": []
    },
    {
      "cell_type": "code",
      "source": [
        "df_cups_rats[df_cups_rats.frame_number == 38205]"
      ],
      "metadata": {
        "id": "OXTroSFtcrP6"
      },
      "execution_count": null,
      "outputs": []
    },
    {
      "cell_type": "code",
      "source": [
        "import pandas as pd\n",
        "\n",
        "# Step 1: Filter dataframe to include frames with rat head and cup instances\n",
        "rat_cup_df = df_cups_rats #df[(df['instance_name'] == 'rat head') | (df['instance_name'] == 'cup')]\n",
        "# Step 2: Compute IoU for each frame\n",
        "iou_list = []\n",
        "for frame_num in rat_cup_df.frame_number:\n",
        "    # Get binary masks for rat head and cup instances\n",
        "    df_cur = rat_cup_df[rat_cup_df.frame_number == frame_num]\n",
        "    rat_mask = df_cur[df_cur.instance_name == 'rat']['segmentation'].values[0]\n",
        "    cup_mask = df_cur[df_cur.instance_name == 'cup']['segmentation'].values[0]\n",
        "    rat_rle = ast.literal_eval(rat_mask)\n",
        "    cup_rle = ast.literal_eval(cup_mask)\n",
        "    # calculate the IoU between the rat and cup masks\n",
        "    iou = mask_util.iou([rat_rle], [cup_rle], [0])[0][0]  # we assume there is only one rat and one cup mask\n",
        "    iou_list.append((frame_num, iou))\n",
        "\n",
        "# Convert results to dataframe\n",
        "iou_df = pd.DataFrame(iou_list, columns=['frame_number', 'iou'])"
      ],
      "metadata": {
        "id": "WOt2JRsvIj3i"
      },
      "execution_count": null,
      "outputs": []
    },
    {
      "cell_type": "code",
      "source": [
        "smoothed_iou = iou_df['iou'].rolling(15).mean()"
      ],
      "metadata": {
        "id": "4f0V8dbpOFFA"
      },
      "execution_count": null,
      "outputs": []
    },
    {
      "cell_type": "code",
      "source": [
        "iou_df['smoothed_iou'] = smoothed_iou"
      ],
      "metadata": {
        "id": "1EuyXPC4NexF"
      },
      "execution_count": null,
      "outputs": []
    },
    {
      "cell_type": "code",
      "source": [
        "iou_df['diff_iou'] = iou_df.smoothed_iou.diff()\n"
      ],
      "metadata": {
        "id": "aB_CdfMIOb0B"
      },
      "execution_count": null,
      "outputs": []
    },
    {
      "cell_type": "code",
      "source": [
        "# Compute rolling window of size 15 and count non-zero values\n",
        "window_size = 15\n",
        "nonzero_counts = iou_df['iou'].rolling(window_size).apply(lambda x: (x > 0).sum())\n"
      ],
      "metadata": {
        "id": "heMMHWHs06hL"
      },
      "execution_count": null,
      "outputs": []
    },
    {
      "cell_type": "code",
      "source": [
        "iou_df['nonzero_counts'] = nonzero_counts"
      ],
      "metadata": {
        "id": "FLV5CpfQ1KqR"
      },
      "execution_count": null,
      "outputs": []
    },
    {
      "cell_type": "code",
      "source": [
        "iou_df.describe()"
      ],
      "metadata": {
        "id": "MA8r6jhNzUWM"
      },
      "execution_count": null,
      "outputs": []
    },
    {
      "cell_type": "code",
      "source": [
        "prev_iou = 0.0\n",
        "nonzeros_count_in_window = 1\n",
        "res = set()\n",
        "for idx, row in iou_df.iterrows():\n",
        "    if row.nonzero_counts >= nonzeros_count_in_window and row.diff_iou > 0.000001 and  0 <= prev_iou <= 0.00000000000001:\n",
        "        res.add(row.frame_number)\n",
        "    prev_iou = row.diff_iou"
      ],
      "metadata": {
        "id": "yPhh4zRlV0TC"
      },
      "execution_count": null,
      "outputs": []
    },
    {
      "cell_type": "code",
      "source": [
        "def reduce_array(arr,window_threshold = 500):\n",
        "    result = [arr[0]]  # initialize result array with first element of input array\n",
        "    for i in range(1, len(arr)):\n",
        "        if arr[i] - result[-1] < window_threshold:\n",
        "            result[-1] = min(result[-1], arr[i])\n",
        "        else:\n",
        "            result.append(arr[i])\n",
        "    return result"
      ],
      "metadata": {
        "id": "KPENnPY-LaFH"
      },
      "execution_count": null,
      "outputs": []
    },
    {
      "cell_type": "code",
      "source": [
        "res = [int(m) for m in medians]"
      ],
      "metadata": {
        "id": "kQc4z57-LdHI"
      },
      "execution_count": null,
      "outputs": []
    },
    {
      "cell_type": "code",
      "source": [
        "preds = [int(fn) for fn in sorted(res)]\n"
      ],
      "metadata": {
        "id": "Y6TYSriEYiRR"
      },
      "execution_count": null,
      "outputs": []
    },
    {
      "cell_type": "code",
      "source": [
        "res = reduce_array(preds,45)"
      ],
      "metadata": {
        "id": "ex1m0ey3LhPF"
      },
      "execution_count": null,
      "outputs": []
    },
    {
      "cell_type": "code",
      "source": [
        "len(res)"
      ],
      "metadata": {
        "id": "F8LqOqRlLxu1"
      },
      "execution_count": null,
      "outputs": []
    },
    {
      "cell_type": "code",
      "source": [
        "preds = res"
      ],
      "metadata": {
        "id": "9ODnGQv6L7_e"
      },
      "execution_count": null,
      "outputs": []
    },
    {
      "cell_type": "code",
      "source": [
        "frames_cup_not_on_bottom = set(df_cup[(df_cup.cy < box_y1) | (df_cup.cy > box_y2) | (df_cup.cx < box_x1) | (df_cup.cx > box_x2)].frame_number.unique())\n"
      ],
      "metadata": {
        "id": "EFJDEiYvUkT6"
      },
      "execution_count": null,
      "outputs": []
    },
    {
      "cell_type": "code",
      "source": [
        "preds = [pred for pred in preds if pred not in frames_cup_not_on_bottom]"
      ],
      "metadata": {
        "id": "LpKh_fCuVKSA"
      },
      "execution_count": null,
      "outputs": []
    },
    {
      "cell_type": "code",
      "source": [
        "df_cup[df_cup.frame_number == 142073]"
      ],
      "metadata": {
        "id": "OwRnhPuCPXEz"
      },
      "execution_count": null,
      "outputs": []
    },
    {
      "cell_type": "code",
      "source": [
        "preds = reduce_array(preds)"
      ],
      "metadata": {
        "id": "CKXe_XOLLfNl"
      },
      "execution_count": null,
      "outputs": []
    },
    {
      "cell_type": "code",
      "source": [
        "len(preds), print(str(preds))"
      ],
      "metadata": {
        "id": "sqhmuBkCzoC6"
      },
      "execution_count": null,
      "outputs": []
    },
    {
      "cell_type": "code",
      "source": [
        "time_stamps = []\n",
        "for pred in preds:\n",
        "    time_stamps.append(convert_frame_number_to_time(fps,pred))\n"
      ],
      "metadata": {
        "id": "KIxuYeVO5QJO"
      },
      "execution_count": null,
      "outputs": []
    },
    {
      "cell_type": "code",
      "source": [
        "pred_s = pd.Series(time_stamps)"
      ],
      "metadata": {
        "id": "Ynl79_YndmCg"
      },
      "execution_count": null,
      "outputs": []
    },
    {
      "cell_type": "code",
      "source": [
        "pred_s_f = pd.DataFrame({'Timestamp':time_stamps,'Frame_number':preds})"
      ],
      "metadata": {
        "id": "DT570wfVIRj6"
      },
      "execution_count": null,
      "outputs": []
    },
    {
      "cell_type": "code",
      "source": [
        "video_name = annolid_results_csv.split('dataset_')[-1].split('_mask')[0]"
      ],
      "metadata": {
        "id": "FcihirilN89f"
      },
      "execution_count": null,
      "outputs": []
    },
    {
      "cell_type": "code",
      "source": [
        "timestamp_frame_number_csv = f'timestamps_frame_number_predicted_{video_name}.csv'"
      ],
      "metadata": {
        "id": "TYU7nsMjdAhV"
      },
      "execution_count": null,
      "outputs": []
    },
    {
      "cell_type": "code",
      "source": [
        "pred_s_f.to_csv(timestamp_frame_number_csv, index=False)"
      ],
      "metadata": {
        "id": "8FfPNvLzIkwO"
      },
      "execution_count": null,
      "outputs": []
    },
    {
      "cell_type": "code",
      "source": [
        "pred_timestamp_csv = f'predicted_{video_name}.csv'"
      ],
      "metadata": {
        "id": "2JBfbXgZdJnZ"
      },
      "execution_count": null,
      "outputs": []
    },
    {
      "cell_type": "code",
      "source": [
        "pred_s.to_csv(pred_timestamp_csv, index=False)"
      ],
      "metadata": {
        "id": "RzZXtIhZd3Kc"
      },
      "execution_count": null,
      "outputs": []
    },
    {
      "cell_type": "code",
      "source": [
        "# create the plot\n",
        "fig, ax = plt.subplots(figsize=(16, 8))\n",
        "\n",
        "# plot the data\n",
        "#ax.plot(iou_df[\"frame_number\"], iou_df[\"smoothed_iou\"], label=\"Smoothed IoU\")\n",
        "#ax.plot(iou_df[\"frame_number\"], iou_df[\"diff_iou\"], label=\"Difference of IoU\")\n",
        "\n",
        "if has_gt:\n",
        "    # plot the special marks\n",
        "    x_gt = df_gt.values\n",
        "    y_gt = [ax.get_ylim()[1]] * len(x_gt)\n",
        "    ax.scatter(x_gt, y_gt, marker=\"|\", color=\"red\", s=150, label=\"Ground Truth\")\n",
        "x_pred = [int(eval(x)[0]) for x in df_spike_time_save[\"Frame_number\"].values]\n",
        "y_pred = [ax.get_ylim()[1]] * len(x_pred)\n",
        "ax.scatter(x_pred, y_pred, marker='|',color='green', s=150, label=\"Predictions\")\n",
        "\n",
        "# add legend\n",
        "ax.legend(loc=\"lower left\")\n",
        "\n",
        "# show the plot\n",
        "plt.show()"
      ],
      "metadata": {
        "id": "3yYbcmqqbyXy"
      },
      "execution_count": null,
      "outputs": []
    },
    {
      "cell_type": "markdown",
      "source": [
        "# Download the timestamp results"
      ],
      "metadata": {
        "id": "cr89QkOOmHt_"
      }
    },
    {
      "cell_type": "code",
      "source": [
        "from google.colab.files import download"
      ],
      "metadata": {
        "id": "sS0Tre5ec1YA"
      },
      "execution_count": null,
      "outputs": []
    },
    {
      "cell_type": "code",
      "source": [
        "download(pred_timestamp_csv)\n",
        "download(timestamp_frame_number_csv)"
      ],
      "metadata": {
        "id": "n6dbWq5Dc8Xq"
      },
      "execution_count": null,
      "outputs": []
    }
  ],
  "metadata": {
    "colab": {
      "provenance": []
    },
    "kernelspec": {
      "display_name": "Python 3",
      "language": "python",
      "name": "python3"
    },
    "language_info": {
      "codemirror_mode": {
        "name": "ipython",
        "version": 3
      },
      "file_extension": ".py",
      "mimetype": "text/x-python",
      "name": "python",
      "nbconvert_exporter": "python",
      "pygments_lexer": "ipython3",
      "version": "3.6.12"
    }
  },
  "nbformat": 4,
  "nbformat_minor": 0
}