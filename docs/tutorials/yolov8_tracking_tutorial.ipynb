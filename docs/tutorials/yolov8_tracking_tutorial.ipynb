{
  "nbformat": 4,
  "nbformat_minor": 0,
  "metadata": {
    "colab": {
      "provenance": []
    },
    "kernelspec": {
      "name": "python3",
      "display_name": "Python 3"
    },
    "language_info": {
      "name": "python"
    },
    "accelerator": "GPU",
    "gpuClass": "standard"
  },
  "cells": [
    {
      "cell_type": "markdown",
      "source": [
        "<a href=\"https://colab.research.google.com/github/healthonrails/annolid/blob/main/docs/tutorials/yolov8_tracking_tutorial.ipynb\" target=\"_blank\"><img src=\"https://colab.research.google.com/assets/colab-badge.svg\" alt=\"Open In Colab\"/></a>\n",
        "# Annolid on YOLOv8 \n",
        "This notebook show examples for how to upload a custom dataset, train a new model based on the dataset, and inference on provided videos.\n"
      ],
      "metadata": {
        "id": "yRdBY3VMA42Y"
      }
    },
    {
      "cell_type": "markdown",
      "metadata": {
        "id": "AIGuIpRFAo18"
      },
      "source": [
        "# Setup\n",
        "\n",
        "Clone repo, install dependencies and check PyTorch and GPU."
      ]
    },
    {
      "cell_type": "code",
      "metadata": {
        "id": "taGCP-gCgqX8"
      },
      "source": [
        "!git clone --recurse-submodules https://github.com/mikel-brostrom/yolov8_tracking.git  # clone repo\n",
        "%cd /content/yolov8_tracking\n",
        "%pip install -qr requirements.txt  # install dependencies\n",
        "%pip install thop                  # install dependencies\n",
        "%pip install sentry_sdk\n",
        "import torch\n",
        "from IPython.display import Image, clear_output  # to display images\n",
        "\n",
        "clear_output()\n",
        "print(f\"Setup complete. Using torch {torch.__version__} ({torch.cuda.get_device_properties(0).name if torch.cuda.is_available() else 'CPU'})\")"
      ],
      "execution_count": null,
      "outputs": []
    },
    {
      "cell_type": "code",
      "source": [
        "from google.colab import files\n",
        "upload = files.upload()\n",
        "dataset =  list(upload.keys())[0]"
      ],
      "metadata": {
        "id": "YLv8dBr-99Ok"
      },
      "execution_count": null,
      "outputs": []
    },
    {
      "cell_type": "code",
      "source": [
        "#!unzip /content/datasets/test_mouse.zip -d /content/datasets/\n",
        "!unzip $dataset -d /content/datasets"
      ],
      "metadata": {
        "id": "FyQwu_Va-O-k"
      },
      "execution_count": null,
      "outputs": []
    },
    {
      "cell_type": "markdown",
      "source": [
        "## Find the data.yaml file and change the train, val, and test absolute paths"
      ],
      "metadata": {
        "id": "BXNmDTYbJ_b_"
      }
    },
    {
      "cell_type": "code",
      "source": [
        "# find data.yaml file\n",
        "import glob\n",
        "data_ymals = glob.glob('/content/datasets/*/data.yaml')\n",
        "print(\"The data.yaml file is located at: \", data_ymals)\n",
        "dataset_dir = os.path.dirname(data_ymals[0])\n",
        "print(\"The dataset directory is located at :\", dataset_dir)"
      ],
      "metadata": {
        "id": "G9cGSeuFHSH5"
      },
      "execution_count": null,
      "outputs": []
    },
    {
      "cell_type": "markdown",
      "source": [
        "This function first searches for a data.yaml file in the specified root directory and its subdirectories. If the file is found, it reads its contents and replaces any lines that match the old_line argument with the new_line argument. It then saves the modified file and prints a message confirming the replacement. If the file is not found, it raises a ValueError."
      ],
      "metadata": {
        "id": "fM6j0z7TL2t9"
      }
    },
    {
      "cell_type": "code",
      "source": [
        "import os\n",
        "def replace_yaml_lines(root_dir, old_line, new_line):\n",
        "    # Find data.yaml file\n",
        "    for root, dirs, files in os.walk(root_dir):\n",
        "        if 'data.yaml' in files:\n",
        "            yaml_path = os.path.join(root, 'data.yaml')\n",
        "            break\n",
        "    else:\n",
        "        raise ValueError('No data.yaml file found in root directory or subdirectories')\n",
        "    \n",
        "    # Replace specified lines\n",
        "    with open(yaml_path, 'r') as f:\n",
        "        lines = f.readlines()\n",
        "    \n",
        "    with open(yaml_path, 'w') as f:\n",
        "        for line in lines:\n",
        "            if old_line in line:\n",
        "                line = new_line + '\\n'\n",
        "            f.write(line)\n",
        "    \n",
        "    print(f'Replaced {old_line} with {new_line} in {yaml_path}')\n"
      ],
      "metadata": {
        "id": "zo9HgTNlFwjp"
      },
      "execution_count": null,
      "outputs": []
    },
    {
      "cell_type": "code",
      "source": [
        "replace_yaml_lines(dataset_dir, 'train: ../train/images', f'train: {dataset_dir}/train/images')\n",
        "replace_yaml_lines(dataset_dir, 'val: ../val/images', f'val: {dataset_dir}/val/images')\n",
        "replace_yaml_lines(dataset_dir, 'test: ../test/images', f'test: {dataset_dir}/val/images')"
      ],
      "metadata": {
        "id": "5Osl7WanGW7V"
      },
      "execution_count": null,
      "outputs": []
    },
    {
      "cell_type": "markdown",
      "source": [
        "# Train a new model based on the custom new dataset\n"
      ],
      "metadata": {
        "id": "GIrPSu2AgRtq"
      }
    },
    {
      "cell_type": "code",
      "source": [
        "from ultralytics import YOLO\n",
        "\n",
        "# Load a model\n",
        "#model = YOLO(\"yolov8n-seg.yaml\")  # build a new model from scratch\n",
        "# load a pretrained model (recommended for training)\n",
        "model_name = \"yolov8n.pt\" #@param ['yolov8n-seg.pt','yolov8x-seg.pt','yolov8n.pt','yolov8x.pt']\n",
        "model = YOLO(model_name) \n",
        "data_yaml_file = data_ymals[0] \n",
        "num_epoches = 100 #@param\n",
        "# Train the model\n",
        "model.train(data=data_yaml_file, epochs=num_epoches)"
      ],
      "metadata": {
        "id": "rcrYk4lW931p"
      },
      "execution_count": null,
      "outputs": []
    },
    {
      "cell_type": "markdown",
      "metadata": {
        "id": "1JQRVPMtA9Cr"
      },
      "source": [
        "# Download data\n",
        "\n",
        "Get test video from repo and extract the first 2 seconds of it or your can upload your video by click the file upload button under Files menu on the left"
      ]
    },
    {
      "cell_type": "code",
      "metadata": {
        "id": "4Acf_nRZ7yS6"
      },
      "source": [
        "\n",
        "# upload your video or get the test video from the repo\n",
        "!wget -nc https://github.com/mikel-brostrom/yolov8_tracking/releases/download/v.2.0/test.avi\n",
        "# extract 3 seconds worth of video frames of it\n",
        "!yes | ffmpeg -ss 00:00:00 -i test.avi -t 00:00:01 -vf fps=30 out.avi"
      ],
      "execution_count": null,
      "outputs": []
    },
    {
      "cell_type": "markdown",
      "metadata": {
        "id": "oqIP5shr9HQd"
      },
      "source": [
        "## Run inference on video\n",
        "\n",
        "The ``cv2.imshow()`` and ``cv.imshow()`` functions from the [opencv-python](https://github.com/skvark/opencv-python) package are incompatible with Jupyter notebook; see https://github.com/jupyter/notebook/issues/3935. \n",
        "\n",
        "Hence we chose to save it to file in this notebook. Locally you can use the ``--show-vid`` flag in order visualize the tracking in real-time"
      ]
    },
    {
      "cell_type": "code",
      "metadata": {
        "id": "4yEraJfKhBku"
      },
      "source": [
        "!python track.py --yolo-weights /content/yolov8_tracking/runs/track/detect/train3/weights/last.pt --tracking-method ocsort --reid-weights osnet_x0_25_msmt17.pt --source /mouse.mp4 --save-vid"
      ],
      "execution_count": null,
      "outputs": []
    },
    {
      "cell_type": "code",
      "source": [
        "!pip install pytube"
      ],
      "metadata": {
        "id": "709TMkfuZKtV"
      },
      "execution_count": null,
      "outputs": []
    },
    {
      "cell_type": "code",
      "source": [
        "from pytube import YouTube\n",
        "import os\n",
        "\n",
        "def downloadYouTube(videourl, path):\n",
        "\n",
        "    yt = YouTube(videourl)\n",
        "    yt = yt.streams.filter(progressive=True, file_extension='mp4').order_by('resolution').desc().first()\n",
        "    if not os.path.exists(path):\n",
        "        os.makedirs(path)\n",
        "    yt.download(path)\n",
        "\n",
        "downloadYouTube('https://youtu.be/58z1OuCd6m8', '/content')"
      ],
      "metadata": {
        "id": "K2GRU2nrZJyt"
      },
      "execution_count": null,
      "outputs": []
    },
    {
      "cell_type": "code",
      "source": [
        "!python track.py --yolo-weights yolov8n-seg.pt --tracking-method ocsort --reid-weights osnet_x0_25_msmt17.pt --source '/content/bird.mp4' --save-vid\n"
      ],
      "metadata": {
        "id": "ghrzfpSbXkJV"
      },
      "execution_count": null,
      "outputs": []
    },
    {
      "cell_type": "markdown",
      "metadata": {
        "id": "vd-CFrVGBoEU"
      },
      "source": [
        "# Show results\n",
        "\n",
        "https://stackoverflow.com/questions/60977179/how-to-play-avi-file-in-google-colab\n",
        "\n",
        "https://stackoverflow.com/questions/57377185/how-play-mp4-video-in-google-colab\n",
        "\n",
        "Compress the video file to a format supported by Google Colab (mpeg4 (native) -> h264 (libx264))"
      ]
    },
    {
      "cell_type": "code",
      "metadata": {
        "id": "Q-4tlUaCBjDC"
      },
      "source": [
        "!ffmpeg -i /content/yolov8_tracking/runs/track/exp11/bird.mp4 -vf fps=30 -vcodec libx264 output.mp4"
      ],
      "execution_count": null,
      "outputs": []
    },
    {
      "cell_type": "markdown",
      "metadata": {
        "id": "j7XAlRteC9qI"
      },
      "source": [
        "Get the file content into data_url"
      ]
    },
    {
      "cell_type": "code",
      "metadata": {
        "id": "-ObuFb7dBwxK"
      },
      "source": [
        "from IPython.display import HTML\n",
        "from base64 import b64encode\n",
        "mp4 = open('output.mp4','rb').read()\n",
        "data_url = \"data:video/mp4;base64,\" + b64encode(mp4).decode()"
      ],
      "execution_count": null,
      "outputs": []
    },
    {
      "cell_type": "markdown",
      "metadata": {
        "id": "kLvggIUZDC6R"
      },
      "source": [
        "Display it with HTML"
      ]
    },
    {
      "cell_type": "code",
      "metadata": {
        "id": "RyXr0xsZB897"
      },
      "source": [
        "HTML(\"\"\"\n",
        "<video controls>\n",
        "      <source src=\"%s\" type=\"video/mp4\">\n",
        "</video>\n",
        "\"\"\" % data_url)"
      ],
      "execution_count": null,
      "outputs": []
    },
    {
      "cell_type": "markdown",
      "source": [
        "## Reference: https://github.com/mikel-brostrom/yolov8_tracking"
      ],
      "metadata": {
        "id": "JHQcY9mwWXc7"
      }
    }
  ]
}