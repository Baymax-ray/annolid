{
  "nbformat": 4,
  "nbformat_minor": 0,
  "metadata": {
    "kernelspec": {
      "name": "python3",
      "display_name": "Python 3"
    },
    "colab": {
      "name": "Annolid_post_processinng_masks_ious_and_areas.ipynb",
      "provenance": []
    },
    "language_info": {
      "name": "python"
    }
  },
  "cells": [
    {
      "cell_type": "markdown",
      "metadata": {
        "id": "VpAkyDs324lM"
      },
      "source": [
        "<a href=\"https://colab.research.google.com/github/healthonrails/annolid/blob/master/docs/tutorials/Annolid_post_processinng_masks_ious_and_areas.ipynb\" target=\"_blank\"><img src=\"https://colab.research.google.com/assets/colab-badge.svg\" alt=\"Open In Colab\"/></a>"
      ]
    },
    {
      "cell_type": "markdown",
      "metadata": {
        "id": "_AhSS0Mh24lX"
      },
      "source": [
        "# Post-processsing of masks based on mask area and IOUs"
      ]
    },
    {
      "cell_type": "code",
      "metadata": {
        "id": "weYGY3SM24lZ"
      },
      "source": [
        "import pandas as pd\n",
        "import numpy as np\n",
        "import cv2\n",
        "from pycocotools import mask as mask_util\n",
        "import ast\n",
        "import plotly.express as px\n",
        "import plotly.graph_objects as go\n",
        "import warnings\n",
        "warnings.filterwarnings('ignore')\n",
        "%matplotlib inline"
      ],
      "execution_count": null,
      "outputs": []
    },
    {
      "cell_type": "code",
      "metadata": {
        "id": "ewWK9hAB24lb"
      },
      "source": [
        "TRACKING_CSV_FILE = \"tracking_results_with_segmenation.csv\" "
      ],
      "execution_count": null,
      "outputs": []
    },
    {
      "cell_type": "code",
      "metadata": {
        "id": "p6UIFGVN24lc"
      },
      "source": [
        "df = pd.read_csv(TRACKING_CSV_FILE)"
      ],
      "execution_count": null,
      "outputs": []
    },
    {
      "cell_type": "code",
      "metadata": {
        "id": "hu5KHZ9a24lc"
      },
      "source": [
        "df.head()"
      ],
      "execution_count": null,
      "outputs": []
    },
    {
      "cell_type": "code",
      "metadata": {
        "id": "Dk6y-io0MWQg"
      },
      "source": [
        "# remove predictions with class score less than or equal to 0.5\n",
        "df = df[df.class_score > 0.5]"
      ],
      "execution_count": null,
      "outputs": []
    },
    {
      "cell_type": "code",
      "metadata": {
        "id": "xIgKjQU624ld"
      },
      "source": [
        "video_height, video_width = ast.literal_eval(df.iloc[0].segmentation)['size']"
      ],
      "execution_count": null,
      "outputs": []
    },
    {
      "cell_type": "code",
      "metadata": {
        "id": "rBwJlkyk24le"
      },
      "source": [
        "cx = (df.x1 + df.x2)/2\n",
        "cy = (df.y1 + df.y2)/2\n",
        "df['cx'] = cx\n",
        "df['cy'] = cy"
      ],
      "execution_count": null,
      "outputs": []
    },
    {
      "cell_type": "code",
      "metadata": {
        "id": "tawKnTY624lg"
      },
      "source": [
        "def mask_perimeter(mask):\n",
        "    \"\"\"calculate perimeter for a given binary mask\n",
        "    \"\"\"\n",
        "    try:\n",
        "        mask = mask_util.decode(mask)\n",
        "    except TypeError:\n",
        "        mask = ast.literal_eval(mask)\n",
        "        rle = [mask]\n",
        "        mask = mask_util.decode(rle)\n",
        "    contours, hierarchy = cv2.findContours(mask, cv2.RETR_CCOMP,\n",
        "                           cv2.CHAIN_APPROX_SIMPLE)\n",
        "    cnt = contours[0]\n",
        "    perimeter = cv2.arcLength(cnt, True)\n",
        "    return perimeter"
      ],
      "execution_count": null,
      "outputs": []
    },
    {
      "cell_type": "code",
      "metadata": {
        "id": "-4RgOc5924lm"
      },
      "source": [
        "df['mask_perimeter'] = df.segmentation.apply(mask_perimeter)"
      ],
      "execution_count": null,
      "outputs": []
    },
    {
      "cell_type": "code",
      "metadata": {
        "id": "nKSou4aH24lo"
      },
      "source": [
        "def mask_iou(this_mask, other_mask):\n",
        "    \"\"\"\n",
        "    Calculate intersection over union between two masks.\n",
        "    \"\"\"\n",
        "    try:\n",
        "        _iou = mask_util.iou([this_mask],[other_mask],[False,False])\n",
        "    except Exception:\n",
        "        this_mask = ast.literal_eval(this_mask)\n",
        "        other_mask = ast.literal_eval(other_mask)\n",
        "        _iou = mask_util.iou([this_mask],[other_mask],[False,False])\n",
        "    return _iou.flatten()[0]"
      ],
      "execution_count": null,
      "outputs": []
    },
    {
      "cell_type": "code",
      "metadata": {
        "id": "bXeHisvG24lp"
      },
      "source": [
        "def mask_area(mask):\n",
        "    \"\"\"Calulate the area of a RLE mask.\n",
        "    \"\"\"\n",
        "    try:\n",
        "        area = mask_util.area(mask)\n",
        "    except TypeError:\n",
        "        mask = ast.literal_eval(mask)\n",
        "        area = mask_util.area(mask)\n",
        "    return area"
      ],
      "execution_count": null,
      "outputs": []
    },
    {
      "cell_type": "code",
      "metadata": {
        "id": "Mn65aK_i24ls"
      },
      "source": [
        "df['mask_area'] = df.segmentation.apply(mask_area)"
      ],
      "execution_count": null,
      "outputs": []
    },
    {
      "cell_type": "markdown",
      "metadata": {
        "id": "NA9v02nC2jtl"
      },
      "source": [
        "# The following sections are optional example filter based on mask area of mask perimeter. \n",
        "Note: Please uncomment and run the cells if you want to filter predictions."
      ]
    },
    {
      "cell_type": "code",
      "metadata": {
        "id": "jVzeWgWX24lt"
      },
      "source": [
        "#mask_perimeter_threshold=df[df.instance_name=='P6_Lone'].mask_perimeter.mean()"
      ],
      "execution_count": null,
      "outputs": []
    },
    {
      "cell_type": "code",
      "metadata": {
        "id": "6C8w1PoX24lw"
      },
      "source": [
        "#mask_perimeter_threshold"
      ],
      "execution_count": null,
      "outputs": []
    },
    {
      "cell_type": "code",
      "metadata": {
        "id": "7eYJdQm924lw"
      },
      "source": [
        "# remove P6_Lone instances with perimeter of 1 /2 size of average P6_Lone mask perimeter\n",
        "#df = df[~(df.mask_perimeter <= (mask_perimeter_threshold /2))]"
      ],
      "execution_count": null,
      "outputs": []
    },
    {
      "cell_type": "code",
      "metadata": {
        "id": "qfxrq7le24lx"
      },
      "source": [
        "# remove P6_Huddle instances with mask perimeter less than 1.1 times of the avarge perimeter of P6_Lone\n",
        "#df = df[~((df.mask_perimeter <= 1.1 * mask_perimeter_threshold) & (df.instance_name == 'P6_Huddle'))]"
      ],
      "execution_count": null,
      "outputs": []
    },
    {
      "cell_type": "code",
      "metadata": {
        "id": "V5Hs82EE24lx"
      },
      "source": [
        "# remove P6_Lone instances with mask perimeter greater than 1.3 the average perimeter of the P6_Lone\n",
        "#df = df[~((df.instance_name == 'P6_Lone') & (df.mask_perimeter > 1.3 * mask_perimeter_threshold))]"
      ],
      "execution_count": null,
      "outputs": []
    },
    {
      "cell_type": "markdown",
      "metadata": {
        "id": "5vjLgjCu3f-p"
      },
      "source": [
        "#Overlapping masks ---IOU based Mask merging and removing"
      ]
    },
    {
      "cell_type": "code",
      "metadata": {
        "id": "8l_SMq1924ly"
      },
      "source": [
        "def iou_values(row):\n",
        "    frame_number = row.frame_number\n",
        "    df_cur = df[df[\"frame_number\"]==frame_number].sort_values(by=['Unnamed: 0'])\n",
        "    masks = df_cur['segmentation'].values\n",
        "    masks = [ast.literal_eval(mask) for mask in masks]\n",
        "    ious = mask_util.iou(masks, masks, [False]*len(masks))\n",
        "    ious[np.diag_indices_from(ious)] = 0\n",
        "    return ious"
      ],
      "execution_count": null,
      "outputs": []
    },
    {
      "cell_type": "code",
      "metadata": {
        "id": "-xeFu1Sv24l0"
      },
      "source": [
        "df['iou_values'] = df.apply(lambda row: iou_values(row),axis=1)"
      ],
      "execution_count": null,
      "outputs": []
    },
    {
      "cell_type": "code",
      "metadata": {
        "id": "Bg2PIsnD24l1"
      },
      "source": [
        "df['overlap_indxs'] = df.iou_values.apply(lambda iou: np.argwhere(np.tril(iou)>0))"
      ],
      "execution_count": null,
      "outputs": []
    },
    {
      "cell_type": "code",
      "metadata": {
        "id": "FRkX7zVL24l6"
      },
      "source": [
        "df['ious'] = df.iou_values.apply(lambda iou_arr: np.sum(np.nonzero(np.tril(iou_arr))))"
      ],
      "execution_count": null,
      "outputs": []
    },
    {
      "cell_type": "code",
      "metadata": {
        "id": "VbHNvegv24l6"
      },
      "source": [
        "df_no_overlap =df[df.ious <= 0]"
      ],
      "execution_count": null,
      "outputs": []
    },
    {
      "cell_type": "markdown",
      "metadata": {
        "id": "DdqQDw-hxWsx"
      },
      "source": [
        "## Keep all the no overlapping masks"
      ]
    },
    {
      "cell_type": "code",
      "metadata": {
        "id": "QoLZN_JvwrWP"
      },
      "source": [
        "df_no_overlap['is_removed'] = False"
      ],
      "execution_count": null,
      "outputs": []
    },
    {
      "cell_type": "markdown",
      "metadata": {
        "id": "yb-Xmu9byV1F"
      },
      "source": [
        "## Merge overlapping masks "
      ]
    },
    {
      "cell_type": "code",
      "metadata": {
        "id": "5EXqPcjG24l7"
      },
      "source": [
        "df_overlap = df[df.ious > 0]"
      ],
      "execution_count": null,
      "outputs": []
    },
    {
      "cell_type": "code",
      "metadata": {
        "id": "eUqCpZky24l7"
      },
      "source": [
        "def merge_overlapped_masks(row):\n",
        "    frame_number = row.frame_number\n",
        "    df_cur_ = df_overlap[df_overlap.frame_number == frame_number]\n",
        "    df_cur_.reset_index(inplace=True)\n",
        "    overlapped_pairs = df_cur_.iou_values.apply(lambda mx: np.nonzero(np.tril(mx)))\n",
        "    unique_overlapped_masks = []\n",
        "    for pair in overlapped_pairs:\n",
        "        om = tuple(set(list(pair[0]) + list(pair[1])))\n",
        "        unique_overlapped_masks.append(om)\n",
        "    oms = set(unique_overlapped_masks)\n",
        "    if len(oms) > 0:\n",
        "        mask_idxs = list(oms)[0]\n",
        "        df_cur_ = df_cur_.iloc[list(mask_idxs)]\n",
        "        masks = df_cur_['segmentation'].values\n",
        "        masks = [ast.literal_eval(mask) for mask in masks]\n",
        "        merged_mask = mask_util.merge(masks)\n",
        "        if 'P6_Huddle' in df_cur_.instance_name.unique():\n",
        "            merged_idx = df_cur_[df_cur_.instance_name=='P6_Huddle']['Unnamed: 0'].values[0]\n",
        "            df_overlap.loc[merged_idx, 'segmentation'] = str(merged_mask)\n",
        "            remove_idx = set(df_cur_['Unnamed: 0'].to_list()) - set([merged_idx])\n",
        "            if row['Unnamed: 0'] in remove_idx:\n",
        "                return True\n",
        "        else:\n",
        "            merged_idx = df_cur_[df_cur_.instance_name=='P6_Lone']['Unnamed: 0'].values[0]\n",
        "            df_overlap.loc[merged_idx, 'segmentation'] = str(merged_mask)\n",
        "            df_overlap.loc[merged_idx, 'instance_name'] = 'P6_Huddle'\n",
        "            remove_idx = set(df_cur_['Unnamed: 0'].to_list()) - set([merged_idx])\n",
        "            if row['Unnamed: 0'] in remove_idx:\n",
        "                return True\n",
        "    return False\n"
      ],
      "execution_count": null,
      "outputs": []
    },
    {
      "cell_type": "code",
      "metadata": {
        "id": "CyP6RqaN24l7"
      },
      "source": [
        "df_overlap['is_removed'] = df_overlap.apply(lambda row: merge_overlapped_masks(row),axis=1)\n"
      ],
      "execution_count": null,
      "outputs": []
    },
    {
      "cell_type": "code",
      "metadata": {
        "id": "jM3xRJ2424l7"
      },
      "source": [
        "frames = [df_no_overlap, df_overlap]\n",
        "df_final = pd.concat(frames)"
      ],
      "execution_count": null,
      "outputs": []
    },
    {
      "cell_type": "code",
      "metadata": {
        "id": "0vGHgH6P24l9"
      },
      "source": [
        "df_final = df_final.drop(df_final[df_final.is_removed==True].index)\n",
        "df_final.dropna(inplace=True)"
      ],
      "execution_count": null,
      "outputs": []
    },
    {
      "cell_type": "code",
      "metadata": {
        "id": "oUVSXtaa24l-"
      },
      "source": [
        "print(f\"Removed {len(df)-len(df_final)} overlapping predictions\")"
      ],
      "execution_count": null,
      "outputs": []
    },
    {
      "cell_type": "markdown",
      "metadata": {
        "id": "O3c2u4Je3ynM"
      },
      "source": [
        "# Save the the tracking results with overlapped masks merged and removed."
      ]
    },
    {
      "cell_type": "code",
      "metadata": {
        "id": "pE4wkzQS24l-"
      },
      "source": [
        "df_final.to_csv(TRACKING_CSV_FILE.replace('.csv','_remove_overlapped.csv'))"
      ],
      "execution_count": null,
      "outputs": []
    },
    {
      "cell_type": "markdown",
      "metadata": {
        "id": "p9lpa4AQ4ECs"
      },
      "source": [
        "# Data visualization"
      ]
    },
    {
      "cell_type": "code",
      "metadata": {
        "id": "yC_xzHTw24l_"
      },
      "source": [
        "fig = px.scatter(df_final, \n",
        "                 x=\"cx\",\n",
        "                 y=\"cy\", \n",
        "                 range_x=[0,video_width],\n",
        "                 range_y=[0,video_height],\n",
        "                 color=\"instance_name\",\n",
        "                 hover_data=['frame_number','cx','cy'])\n",
        "fig.show()"
      ],
      "execution_count": null,
      "outputs": []
    },
    {
      "cell_type": "code",
      "metadata": {
        "id": "AJoiJ1Q_24l_"
      },
      "source": [
        "fig2 = px.violin(df_final, \n",
        "                 x='instance_name',\n",
        "                 y=\"mask_area\",\n",
        "                 box=True,\n",
        "                 color=\"instance_name\",\n",
        "                 points=\"outliers\",\n",
        "                 hover_data=['frame_number','cx','cy','mask_perimeter']\n",
        "               )\n",
        "fig2.show()"
      ],
      "execution_count": null,
      "outputs": []
    },
    {
      "cell_type": "code",
      "metadata": {
        "id": "hvlQGW9m24mA"
      },
      "source": [
        "FPS = 30"
      ],
      "execution_count": null,
      "outputs": []
    },
    {
      "cell_type": "code",
      "metadata": {
        "id": "fkp1c-_824mA"
      },
      "source": [
        "df_final['time_in_seconds'] = df_final.frame_number / FPS"
      ],
      "execution_count": null,
      "outputs": []
    },
    {
      "cell_type": "code",
      "metadata": {
        "id": "fXmuyTLW24mA"
      },
      "source": [
        "df_final_sec = df_final.groupby(['instance_name'])['frame_number'].count() / FPS "
      ],
      "execution_count": null,
      "outputs": []
    },
    {
      "cell_type": "code",
      "metadata": {
        "id": "IVFWPrMV24mA"
      },
      "source": [
        "df_final_sec.plot.bar(ylabel='Time in seconds')"
      ],
      "execution_count": null,
      "outputs": []
    },
    {
      "cell_type": "code",
      "metadata": {
        "id": "1ddqlLCV24mB"
      },
      "source": [
        "fig3 = px.violin(df_final, \n",
        "                 x='instance_name',\n",
        "                 y=\"time_in_seconds\",\n",
        "                 box=True,\n",
        "                 color=\"instance_name\",\n",
        "                 points=\"outliers\",\n",
        "                 hover_data=['frame_number','cx','cy','mask_perimeter']\n",
        "               )\n",
        "fig3.show()"
      ],
      "execution_count": null,
      "outputs": []
    }
  ]
}