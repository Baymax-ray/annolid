{
 "cells": [
  {
   "cell_type": "markdown",
   "metadata": {
    "id": "mlCWlQ2pTc88"
   },
   "source": [
    "<a href=\"https://colab.research.google.com/github/healthonrails/annolid/blob/main/docs/tutorials/Annolid_on_Detectron2_Tutorial.ipynb\" target=\"_blank\"><img src=\"https://colab.research.google.com/assets/colab-badge.svg\" alt=\"Open In Colab\"/></a>"
   ]
  },
  {
   "cell_type": "markdown",
   "metadata": {
    "id": "QHnVupBBn9eR"
   },
   "source": [
    "# Annolid on Detectron2 Tutorial\n",
    "\n",
    "<img src=\"https://dl.fbaipublicfiles.com/detectron2/Detectron2-Logo-Horz.png\" width=\"500\">\n",
    "\n",
    "Welcome to Annolid on detectron2! This is modified from the official colab tutorial of detectron2. Here, we will go through some basics usage of detectron2, including the following:\n",
    "* Run inference on images or videos, with an existing detectron2 model\n",
    "* Train a detectron2 model on a new dataset\n",
    "\n",
    "You can make a copy of this tutorial by \"File -> Open in playground mode\" and play with it yourself. __DO NOT__ request access to this tutorial.\n"
   ]
  },
  {
   "cell_type": "markdown",
   "metadata": {
    "id": "vM54r6jlKTII"
   },
   "source": [
    "# Install detectron2"
   ]
  },
  {
   "cell_type": "code",
   "execution_count": 2,
   "metadata": {},
   "outputs": [],
   "source": [
    "# Is running in colab or in jupyter-notebook\n",
    "try:\n",
    "  import google.colab\n",
    "  IN_COLAB = True\n",
    "except:\n",
    "  IN_COLAB = False"
   ]
  },
  {
   "cell_type": "code",
   "execution_count": 3,
   "metadata": {
    "id": "9_FzH13EjseR"
   },
   "outputs": [
    {
     "name": "stdout",
     "output_type": "stream",
     "text": [
      "Requirement already satisfied: pyyaml==5.3 in /home/jeremy/anaconda3/envs/annolid/lib/python3.7/site-packages (5.3)\n",
      "torch:  1.10 ; cuda:  cu102\n",
      "Looking in links: https://dl.fbaipublicfiles.com/detectron2/wheels/cu102/torch1.10/index.html\n",
      "Requirement already satisfied: detectron2 in /home/jeremy/anaconda3/envs/annolid/lib/python3.7/site-packages (0.6+cu102)\n",
      "Requirement already satisfied: termcolor>=1.1 in /home/jeremy/anaconda3/envs/annolid/lib/python3.7/site-packages (from detectron2) (1.1.0)\n",
      "Requirement already satisfied: future in /home/jeremy/anaconda3/envs/annolid/lib/python3.7/site-packages (from detectron2) (0.18.2)\n",
      "Requirement already satisfied: yacs>=0.1.8 in /home/jeremy/anaconda3/envs/annolid/lib/python3.7/site-packages (from detectron2) (0.1.8)\n",
      "Requirement already satisfied: tensorboard in /home/jeremy/anaconda3/envs/annolid/lib/python3.7/site-packages (from detectron2) (2.7.0)\n",
      "Requirement already satisfied: hydra-core>=1.1 in /home/jeremy/anaconda3/envs/annolid/lib/python3.7/site-packages (from detectron2) (1.1.1)\n",
      "Requirement already satisfied: pydot in /home/jeremy/anaconda3/envs/annolid/lib/python3.7/site-packages (from detectron2) (1.4.2)\n",
      "Requirement already satisfied: Pillow>=7.1 in /home/jeremy/anaconda3/envs/annolid/lib/python3.7/site-packages (from detectron2) (8.4.0)\n",
      "Requirement already satisfied: black==21.4b2 in /home/jeremy/anaconda3/envs/annolid/lib/python3.7/site-packages (from detectron2) (21.4b2)\n",
      "Requirement already satisfied: fvcore<0.1.6,>=0.1.5 in /home/jeremy/anaconda3/envs/annolid/lib/python3.7/site-packages (from detectron2) (0.1.5.post20211023)\n",
      "Requirement already satisfied: cloudpickle in /home/jeremy/anaconda3/envs/annolid/lib/python3.7/site-packages (from detectron2) (2.0.0)\n",
      "Requirement already satisfied: pycocotools>=2.0.2 in /home/jeremy/anaconda3/envs/annolid/lib/python3.7/site-packages (from detectron2) (2.0.2)\n",
      "Requirement already satisfied: matplotlib in /home/jeremy/anaconda3/envs/annolid/lib/python3.7/site-packages (from detectron2) (3.2.2)\n",
      "Requirement already satisfied: omegaconf>=2.1 in /home/jeremy/anaconda3/envs/annolid/lib/python3.7/site-packages (from detectron2) (2.1.1)\n",
      "Requirement already satisfied: tqdm>4.29.0 in /home/jeremy/anaconda3/envs/annolid/lib/python3.7/site-packages (from detectron2) (4.62.3)\n",
      "Requirement already satisfied: tabulate in /home/jeremy/anaconda3/envs/annolid/lib/python3.7/site-packages (from detectron2) (0.8.9)\n",
      "Requirement already satisfied: iopath<0.1.10,>=0.1.7 in /home/jeremy/anaconda3/envs/annolid/lib/python3.7/site-packages (from detectron2) (0.1.9)\n",
      "Requirement already satisfied: regex>=2020.1.8 in /home/jeremy/anaconda3/envs/annolid/lib/python3.7/site-packages (from black==21.4b2->detectron2) (2021.11.10)\n",
      "Requirement already satisfied: typed-ast>=1.4.2 in /home/jeremy/anaconda3/envs/annolid/lib/python3.7/site-packages (from black==21.4b2->detectron2) (1.5.1)\n",
      "Requirement already satisfied: mypy-extensions>=0.4.3 in /home/jeremy/anaconda3/envs/annolid/lib/python3.7/site-packages (from black==21.4b2->detectron2) (0.4.3)\n",
      "Requirement already satisfied: appdirs in /home/jeremy/anaconda3/envs/annolid/lib/python3.7/site-packages (from black==21.4b2->detectron2) (1.4.4)\n",
      "Requirement already satisfied: click>=7.1.2 in /home/jeremy/anaconda3/envs/annolid/lib/python3.7/site-packages (from black==21.4b2->detectron2) (7.1.2)\n",
      "Requirement already satisfied: typing-extensions>=3.7.4 in /home/jeremy/anaconda3/envs/annolid/lib/python3.7/site-packages (from black==21.4b2->detectron2) (3.10.0.2)\n",
      "Requirement already satisfied: pathspec<1,>=0.8.1 in /home/jeremy/anaconda3/envs/annolid/lib/python3.7/site-packages (from black==21.4b2->detectron2) (0.9.0)\n",
      "Requirement already satisfied: toml>=0.10.1 in /home/jeremy/anaconda3/envs/annolid/lib/python3.7/site-packages (from black==21.4b2->detectron2) (0.10.2)\n",
      "Requirement already satisfied: pyyaml>=5.1 in /home/jeremy/anaconda3/envs/annolid/lib/python3.7/site-packages (from fvcore<0.1.6,>=0.1.5->detectron2) (5.3)\n",
      "Requirement already satisfied: numpy in /home/jeremy/anaconda3/envs/annolid/lib/python3.7/site-packages (from fvcore<0.1.6,>=0.1.5->detectron2) (1.21.3)\n",
      "Requirement already satisfied: antlr4-python3-runtime==4.8 in /home/jeremy/anaconda3/envs/annolid/lib/python3.7/site-packages (from hydra-core>=1.1->detectron2) (4.8)\n",
      "Requirement already satisfied: importlib-resources in /home/jeremy/anaconda3/envs/annolid/lib/python3.7/site-packages (from hydra-core>=1.1->detectron2) (5.4.0)\n",
      "Requirement already satisfied: portalocker in /home/jeremy/anaconda3/envs/annolid/lib/python3.7/site-packages (from iopath<0.1.10,>=0.1.7->detectron2) (2.3.2)\n",
      "Requirement already satisfied: setuptools>=18.0 in /home/jeremy/anaconda3/envs/annolid/lib/python3.7/site-packages (from pycocotools>=2.0.2->detectron2) (58.0.4)\n",
      "Requirement already satisfied: cython>=0.27.3 in /home/jeremy/anaconda3/envs/annolid/lib/python3.7/site-packages (from pycocotools>=2.0.2->detectron2) (0.29.24)\n",
      "Requirement already satisfied: pyparsing!=2.0.4,!=2.1.2,!=2.1.6,>=2.0.1 in /home/jeremy/anaconda3/envs/annolid/lib/python3.7/site-packages (from matplotlib->detectron2) (3.0.4)\n",
      "Requirement already satisfied: kiwisolver>=1.0.1 in /home/jeremy/anaconda3/envs/annolid/lib/python3.7/site-packages (from matplotlib->detectron2) (1.3.2)\n",
      "Requirement already satisfied: cycler>=0.10 in /home/jeremy/anaconda3/envs/annolid/lib/python3.7/site-packages (from matplotlib->detectron2) (0.10.0)\n",
      "Requirement already satisfied: python-dateutil>=2.1 in /home/jeremy/anaconda3/envs/annolid/lib/python3.7/site-packages (from matplotlib->detectron2) (2.8.2)\n",
      "Requirement already satisfied: six in /home/jeremy/anaconda3/envs/annolid/lib/python3.7/site-packages (from cycler>=0.10->matplotlib->detectron2) (1.16.0)\n",
      "Requirement already satisfied: zipp>=3.1.0 in /home/jeremy/anaconda3/envs/annolid/lib/python3.7/site-packages (from importlib-resources->hydra-core>=1.1->detectron2) (3.7.0)\n",
      "Requirement already satisfied: requests<3,>=2.21.0 in /home/jeremy/anaconda3/envs/annolid/lib/python3.7/site-packages (from tensorboard->detectron2) (2.26.0)\n",
      "Requirement already satisfied: tensorboard-data-server<0.7.0,>=0.6.0 in /home/jeremy/anaconda3/envs/annolid/lib/python3.7/site-packages (from tensorboard->detectron2) (0.6.1)\n",
      "Requirement already satisfied: protobuf>=3.6.0 in /home/jeremy/anaconda3/envs/annolid/lib/python3.7/site-packages (from tensorboard->detectron2) (3.19.0)\n",
      "Requirement already satisfied: absl-py>=0.4 in /home/jeremy/anaconda3/envs/annolid/lib/python3.7/site-packages (from tensorboard->detectron2) (0.15.0)\n",
      "Requirement already satisfied: werkzeug>=0.11.15 in /home/jeremy/anaconda3/envs/annolid/lib/python3.7/site-packages (from tensorboard->detectron2) (2.0.2)\n",
      "Requirement already satisfied: grpcio>=1.24.3 in /home/jeremy/anaconda3/envs/annolid/lib/python3.7/site-packages (from tensorboard->detectron2) (1.41.1)\n",
      "Requirement already satisfied: google-auth<3,>=1.6.3 in /home/jeremy/anaconda3/envs/annolid/lib/python3.7/site-packages (from tensorboard->detectron2) (2.3.1)\n",
      "Requirement already satisfied: wheel>=0.26 in /home/jeremy/anaconda3/envs/annolid/lib/python3.7/site-packages (from tensorboard->detectron2) (0.37.0)\n",
      "Requirement already satisfied: google-auth-oauthlib<0.5,>=0.4.1 in /home/jeremy/anaconda3/envs/annolid/lib/python3.7/site-packages (from tensorboard->detectron2) (0.4.6)\n",
      "Requirement already satisfied: markdown>=2.6.8 in /home/jeremy/anaconda3/envs/annolid/lib/python3.7/site-packages (from tensorboard->detectron2) (3.3.4)\n",
      "Requirement already satisfied: tensorboard-plugin-wit>=1.6.0 in /home/jeremy/anaconda3/envs/annolid/lib/python3.7/site-packages (from tensorboard->detectron2) (1.8.0)\n",
      "Requirement already satisfied: pyasn1-modules>=0.2.1 in /home/jeremy/anaconda3/envs/annolid/lib/python3.7/site-packages (from google-auth<3,>=1.6.3->tensorboard->detectron2) (0.2.8)\n",
      "Requirement already satisfied: rsa<5,>=3.1.4 in /home/jeremy/anaconda3/envs/annolid/lib/python3.7/site-packages (from google-auth<3,>=1.6.3->tensorboard->detectron2) (4.7.2)\n",
      "Requirement already satisfied: cachetools<5.0,>=2.0.0 in /home/jeremy/anaconda3/envs/annolid/lib/python3.7/site-packages (from google-auth<3,>=1.6.3->tensorboard->detectron2) (4.2.4)\n",
      "Requirement already satisfied: requests-oauthlib>=0.7.0 in /home/jeremy/anaconda3/envs/annolid/lib/python3.7/site-packages (from google-auth-oauthlib<0.5,>=0.4.1->tensorboard->detectron2) (1.3.0)\n",
      "Requirement already satisfied: importlib-metadata in /home/jeremy/anaconda3/envs/annolid/lib/python3.7/site-packages (from markdown>=2.6.8->tensorboard->detectron2) (4.8.2)\n"
     ]
    },
    {
     "name": "stdout",
     "output_type": "stream",
     "text": [
      "Requirement already satisfied: pyasn1<0.5.0,>=0.4.6 in /home/jeremy/anaconda3/envs/annolid/lib/python3.7/site-packages (from pyasn1-modules>=0.2.1->google-auth<3,>=1.6.3->tensorboard->detectron2) (0.4.8)\r\n",
      "Requirement already satisfied: certifi>=2017.4.17 in /home/jeremy/anaconda3/envs/annolid/lib/python3.7/site-packages (from requests<3,>=2.21.0->tensorboard->detectron2) (2021.10.8)\r\n",
      "Requirement already satisfied: idna<4,>=2.5 in /home/jeremy/anaconda3/envs/annolid/lib/python3.7/site-packages (from requests<3,>=2.21.0->tensorboard->detectron2) (3.3)\r\n",
      "Requirement already satisfied: urllib3<1.27,>=1.21.1 in /home/jeremy/anaconda3/envs/annolid/lib/python3.7/site-packages (from requests<3,>=2.21.0->tensorboard->detectron2) (1.26.7)\r\n",
      "Requirement already satisfied: charset-normalizer~=2.0.0 in /home/jeremy/anaconda3/envs/annolid/lib/python3.7/site-packages (from requests<3,>=2.21.0->tensorboard->detectron2) (2.0.7)\r\n",
      "Requirement already satisfied: oauthlib>=3.0.0 in /home/jeremy/anaconda3/envs/annolid/lib/python3.7/site-packages (from requests-oauthlib>=0.7.0->google-auth-oauthlib<0.5,>=0.4.1->tensorboard->detectron2) (3.1.1)\r\n"
     ]
    }
   ],
   "source": [
    "# install dependencies: \n",
    "!pip install pyyaml==5.3\n",
    "import torch, torchvision\n",
    "TORCH_VERSION = \".\".join(torch.__version__.split(\".\")[:2])\n",
    "CUDA_VERSION = torch.__version__.split(\"+\")[-1]\n",
    "print(\"torch: \", TORCH_VERSION, \"; cuda: \", CUDA_VERSION)\n",
    "# Install detectron2 that matches the above pytorch version\n",
    "# See https://detectron2.readthedocs.io/tutorials/install.html for instructions\n",
    "!pip install detectron2 -f https://dl.fbaipublicfiles.com/detectron2/wheels/$CUDA_VERSION/torch$TORCH_VERSION/index.html\n",
    "# If there is not yet a detectron2 release that matches the given torch + CUDA version, you need to install a different pytorch.\n",
    "\n",
    "# exit(0)  # After installation, you may need to \"restart runtime\" in Colab. This line can also restart runtime"
   ]
  },
  {
   "cell_type": "code",
   "execution_count": 4,
   "metadata": {
    "id": "ZyAvNCJMmvFF"
   },
   "outputs": [],
   "source": [
    "# import some common libraries\n",
    "import json\n",
    "import os\n",
    "import cv2\n",
    "import random\n",
    "import glob\n",
    "import numpy as np\n",
    "if IN_COLAB:\n",
    "  from google.colab.patches import cv2_imshow\n",
    "import matplotlib.pyplot as plt\n",
    "%matplotlib inline"
   ]
  },
  {
   "cell_type": "code",
   "execution_count": 5,
   "metadata": {},
   "outputs": [],
   "source": [
    "# Setup detectron2 logger\n",
    "import detectron2\n",
    "from detectron2.utils.logger import setup_logger\n",
    "setup_logger()\n",
    "\n",
    "# import some common detectron2 utilities\n",
    "from detectron2 import model_zoo\n",
    "from detectron2.engine import DefaultPredictor\n",
    "from detectron2.config import get_cfg\n",
    "from detectron2.utils.visualizer import Visualizer\n",
    "from detectron2.data import MetadataCatalog, DatasetCatalog\n"
   ]
  },
  {
   "cell_type": "code",
   "execution_count": 6,
   "metadata": {},
   "outputs": [
    {
     "name": "stdout",
     "output_type": "stream",
     "text": [
      "no gpu\n"
     ]
    }
   ],
   "source": [
    "# is there a gpu\n",
    "if torch.cuda.is_available():\n",
    "    GPU = True\n",
    "    print('gpu available')\n",
    "else:\n",
    "    GPU = False\n",
    "    print('no gpu')"
   ]
  },
  {
   "cell_type": "markdown",
   "metadata": {
    "id": "9GXik0-s9zda"
   },
   "source": [
    "## Upload a labeled dataset.\n",
    "The following code is expecting the dataset in the COCO format to be in a ***.zip*** file. For example here we are going to use the example dataset we provide that is named ```novelctrlk6_8_coco_dataset.zip``` \\\n",
    "Note: please make sure there is no white space in your file path if you encounter file not found issues."
   ]
  },
  {
   "cell_type": "code",
   "execution_count": 7,
   "metadata": {},
   "outputs": [
    {
     "name": "stdout",
     "output_type": "stream",
     "text": [
      "Requirement already satisfied: gdown in /home/jeremy/anaconda3/envs/annolid/lib/python3.7/site-packages (4.2.0)\n",
      "Requirement already satisfied: beautifulsoup4 in /home/jeremy/anaconda3/envs/annolid/lib/python3.7/site-packages (from gdown) (4.10.0)\n",
      "Requirement already satisfied: tqdm in /home/jeremy/anaconda3/envs/annolid/lib/python3.7/site-packages (from gdown) (4.62.3)\n",
      "Requirement already satisfied: filelock in /home/jeremy/anaconda3/envs/annolid/lib/python3.7/site-packages (from gdown) (3.4.2)\n",
      "Requirement already satisfied: requests[socks] in /home/jeremy/anaconda3/envs/annolid/lib/python3.7/site-packages (from gdown) (2.26.0)\n",
      "Requirement already satisfied: six in /home/jeremy/anaconda3/envs/annolid/lib/python3.7/site-packages (from gdown) (1.16.0)\n",
      "Requirement already satisfied: soupsieve>1.2 in /home/jeremy/anaconda3/envs/annolid/lib/python3.7/site-packages (from beautifulsoup4->gdown) (2.3.1)\n",
      "Requirement already satisfied: idna<4,>=2.5 in /home/jeremy/anaconda3/envs/annolid/lib/python3.7/site-packages (from requests[socks]->gdown) (3.3)\n",
      "Requirement already satisfied: urllib3<1.27,>=1.21.1 in /home/jeremy/anaconda3/envs/annolid/lib/python3.7/site-packages (from requests[socks]->gdown) (1.26.7)\n",
      "Requirement already satisfied: certifi>=2017.4.17 in /home/jeremy/anaconda3/envs/annolid/lib/python3.7/site-packages (from requests[socks]->gdown) (2021.10.8)\n",
      "Requirement already satisfied: charset-normalizer~=2.0.0 in /home/jeremy/anaconda3/envs/annolid/lib/python3.7/site-packages (from requests[socks]->gdown) (2.0.7)\n",
      "Requirement already satisfied: PySocks!=1.5.7,>=1.5.6 in /home/jeremy/anaconda3/envs/annolid/lib/python3.7/site-packages (from requests[socks]->gdown) (1.7.1)\n",
      "Downloading...\n",
      "From: https://drive.google.com/uc?id=1fUXCLnoJ5SwXg54mj0NBKGzidsV8ALVR\n",
      "To: /mnt/home_nas/jeremy/Recherches/Postdoc/CPLab/Projects/Annolid/annolid/book/tutorials/novelctrlk6_8_coco_dataset.zip\n",
      "100%|██████████████████████████████████████| 10.3M/10.3M [00:00<00:00, 13.2MB/s]\n"
     ]
    }
   ],
   "source": [
    "!pip install gdown\n",
    "!gdown --id 1fUXCLnoJ5SwXg54mj0NBKGzidsV8ALVR"
   ]
  },
  {
   "cell_type": "code",
   "execution_count": 8,
   "metadata": {},
   "outputs": [],
   "source": [
    "if IN_COLAB:\n",
    "    dataset = 'content/novelctrlk6_8_coco_dataset.zip'\n",
    "else:\n",
    "    dataset = 'novelctrlk6_8_coco_dataset.zip'"
   ]
  },
  {
   "cell_type": "code",
   "execution_count": 9,
   "metadata": {
    "id": "7gD2vEWtmZQ8"
   },
   "outputs": [
    {
     "name": "stdout",
     "output_type": "stream",
     "text": [
      "Archive:  novelctrlk6_8_coco_dataset.zip\n",
      "  inflating: ./novelctrlk6_8_coco_dataset/valid/JPEGImages/00001416_41.jpg  \n",
      "  inflating: ./novelctrlk6_8_coco_dataset/valid/JPEGImages/00004233_81.jpg  \n",
      "  inflating: ./novelctrlk6_8_coco_dataset/valid/JPEGImages/00004515_22.jpg  \n",
      "  inflating: ./novelctrlk6_8_coco_dataset/valid/JPEGImages/00000636_6.jpg  \n",
      "  inflating: ./novelctrlk6_8_coco_dataset/valid/JPEGImages/00006297_11.jpg  \n",
      "  inflating: ./novelctrlk6_8_coco_dataset/valid/JPEGImages/00006818_79.jpg  \n",
      "  inflating: ./novelctrlk6_8_coco_dataset/valid/JPEGImages/00006056_25.jpg  \n",
      "  inflating: ./novelctrlk6_8_coco_dataset/valid/JPEGImages/00006094_12.jpg  \n",
      "  inflating: ./novelctrlk6_8_coco_dataset/valid/JPEGImages/00004340_96.jpg  \n",
      "  inflating: ./novelctrlk6_8_coco_dataset/valid/JPEGImages/00000557_50.jpg  \n",
      "  inflating: ./novelctrlk6_8_coco_dataset/valid/JPEGImages/00000979_94.jpg  \n",
      "  inflating: ./novelctrlk6_8_coco_dataset/valid/JPEGImages/00005018_19.jpg  \n",
      "  inflating: ./novelctrlk6_8_coco_dataset/valid/JPEGImages/00001257_80.jpg  \n",
      "  inflating: ./novelctrlk6_8_coco_dataset/valid/JPEGImages/00004335_26.jpg  \n",
      "  inflating: ./novelctrlk6_8_coco_dataset/valid/JPEGImages/00004804_39.jpg  \n",
      "  inflating: ./novelctrlk6_8_coco_dataset/valid/JPEGImages/00006396_43.jpg  \n",
      "  inflating: ./novelctrlk6_8_coco_dataset/valid/JPEGImages/00006993_65.jpg  \n",
      "  inflating: ./novelctrlk6_8_coco_dataset/valid/JPEGImages/00000865_92.jpg  \n",
      "  inflating: ./novelctrlk6_8_coco_dataset/valid/JPEGImages/00003114_35.jpg  \n",
      "  inflating: ./novelctrlk6_8_coco_dataset/valid/JPEGImages/00001918_2.jpg  \n",
      "  inflating: ./novelctrlk6_8_coco_dataset/valid/JPEGImages/00004935_56.jpg  \n",
      "  inflating: ./novelctrlk6_8_coco_dataset/valid/JPEGImages/00006959_78.jpg  \n",
      "  inflating: ./novelctrlk6_8_coco_dataset/valid/JPEGImages/00005216_14.jpg  \n",
      "  inflating: ./novelctrlk6_8_coco_dataset/valid/JPEGImages/00003092_22.jpg  \n",
      "  inflating: ./novelctrlk6_8_coco_dataset/valid/JPEGImages/00001528_44.jpg  \n",
      "  inflating: ./novelctrlk6_8_coco_dataset/valid/JPEGImages/00003208_12.jpg  \n",
      "  inflating: ./novelctrlk6_8_coco_dataset/valid/JPEGImages/00004966_35.jpg  \n",
      "  inflating: ./novelctrlk6_8_coco_dataset/valid/JPEGImages/00004517_47.jpg  \n",
      "  inflating: ./novelctrlk6_8_coco_dataset/valid/JPEGImages/00004769_82.jpg  \n",
      "  inflating: ./novelctrlk6_8_coco_dataset/valid/JPEGImages/00004767_87.jpg  \n",
      "  inflating: ./novelctrlk6_8_coco_dataset/valid/JPEGImages/00000378_62.jpg  \n",
      "  inflating: ./novelctrlk6_8_coco_dataset/valid/JPEGImages/00006563_31.jpg  \n",
      "  inflating: ./novelctrlk6_8_coco_dataset/valid/JPEGImages/00001476_48.jpg  \n",
      "  inflating: ./novelctrlk6_8_coco_dataset/valid/JPEGImages/00004555_67.jpg  \n",
      "  inflating: ./novelctrlk6_8_coco_dataset/valid/JPEGImages/00003070_62.jpg  \n",
      "  inflating: ./novelctrlk6_8_coco_dataset/valid/JPEGImages/00005007_38.jpg  \n",
      "  inflating: ./novelctrlk6_8_coco_dataset/valid/JPEGImages/00003342_41.jpg  \n",
      "  inflating: ./novelctrlk6_8_coco_dataset/valid/JPEGImages/00002267_91.jpg  \n",
      "  inflating: ./novelctrlk6_8_coco_dataset/valid/JPEGImages/00002248_99.jpg  \n",
      "  inflating: ./novelctrlk6_8_coco_dataset/valid/JPEGImages/00000702_46.jpg  \n",
      "  inflating: ./novelctrlk6_8_coco_dataset/valid/JPEGImages/00003237_15.jpg  \n",
      "  inflating: ./novelctrlk6_8_coco_dataset/valid/JPEGImages/00002412_96.jpg  \n",
      "  inflating: ./novelctrlk6_8_coco_dataset/valid/JPEGImages/00001322_73.jpg  \n",
      "  inflating: ./novelctrlk6_8_coco_dataset/valid/JPEGImages/00002328_97.jpg  \n",
      "  inflating: ./novelctrlk6_8_coco_dataset/valid/JPEGImages/00004312_85.jpg  \n",
      "  inflating: ./novelctrlk6_8_coco_dataset/valid/JPEGImages/00004443_46.jpg  \n",
      "  inflating: ./novelctrlk6_8_coco_dataset/valid/JPEGImages/00003783_81.jpg  \n",
      "  inflating: ./novelctrlk6_8_coco_dataset/valid/JPEGImages/00000779_3.jpg  \n",
      "  inflating: ./novelctrlk6_8_coco_dataset/valid/JPEGImages/00002654_1.jpg  \n",
      "  inflating: ./novelctrlk6_8_coco_dataset/valid/JPEGImages/00004685_90.jpg  \n",
      "  inflating: ./novelctrlk6_8_coco_dataset/valid/JPEGImages/00004098_59.jpg  \n",
      "  inflating: ./novelctrlk6_8_coco_dataset/valid/JPEGImages/00006538_99.jpg  \n",
      "  inflating: ./novelctrlk6_8_coco_dataset/valid/JPEGImages/00006832_71.jpg  \n",
      "  inflating: ./novelctrlk6_8_coco_dataset/valid/JPEGImages/00007024_26.jpg  \n",
      "  inflating: ./novelctrlk6_8_coco_dataset/valid/JPEGImages/00005772_51.jpg  \n",
      "  inflating: ./novelctrlk6_8_coco_dataset/valid/JPEGImages/00006330_76.jpg  \n",
      "  inflating: ./novelctrlk6_8_coco_dataset/valid/JPEGImages/00000871_10.jpg  \n",
      "  inflating: ./novelctrlk6_8_coco_dataset/valid/JPEGImages/00003034_64.jpg  \n",
      "  inflating: ./novelctrlk6_8_coco_dataset/valid/JPEGImages/00004539_89.jpg  \n",
      "  inflating: ./novelctrlk6_8_coco_dataset/valid/JPEGImages/00005788_49.jpg  \n",
      "  inflating: ./novelctrlk6_8_coco_dataset/valid/annotations.json  \n",
      "  inflating: ./novelctrlk6_8_coco_dataset/.DS_Store  \n",
      "  inflating: ./__MACOSX/novelctrlk6_8_coco_dataset/._.DS_Store  \n",
      "  inflating: ./novelctrlk6_8_coco_dataset/data.yaml  \n",
      "  inflating: ./novelctrlk6_8_coco_dataset/train/.DS_Store  \n",
      "  inflating: ./__MACOSX/novelctrlk6_8_coco_dataset/train/._.DS_Store  \n",
      "  inflating: ./novelctrlk6_8_coco_dataset/train/JPEGImages/00001466_29.jpg  \n",
      "  inflating: ./novelctrlk6_8_coco_dataset/train/JPEGImages/00006804_57.jpg  \n",
      "  inflating: ./novelctrlk6_8_coco_dataset/train/JPEGImages/00007044_50.jpg  \n",
      "  inflating: ./novelctrlk6_8_coco_dataset/train/JPEGImages/00006232_55.jpg  \n",
      "  inflating: ./novelctrlk6_8_coco_dataset/train/JPEGImages/00000759_28.jpg  \n",
      "  inflating: ./novelctrlk6_8_coco_dataset/train/JPEGImages/00003680_32.jpg  \n",
      "  inflating: ./novelctrlk6_8_coco_dataset/train/JPEGImages/00004441_88.jpg  \n",
      "  inflating: ./novelctrlk6_8_coco_dataset/train/JPEGImages/00005090_94.jpg  \n",
      "  inflating: ./novelctrlk6_8_coco_dataset/train/JPEGImages/00002476_27.jpg  \n",
      "  inflating: ./novelctrlk6_8_coco_dataset/train/JPEGImages/00000965_42.jpg  \n",
      "  inflating: ./novelctrlk6_8_coco_dataset/train/JPEGImages/00001652_55.jpg  \n",
      "  inflating: ./novelctrlk6_8_coco_dataset/train/JPEGImages/00002000_18.jpg  \n",
      "  inflating: ./novelctrlk6_8_coco_dataset/train/JPEGImages/00002333_0.jpg  \n",
      "  inflating: ./novelctrlk6_8_coco_dataset/train/JPEGImages/00005752_39.jpg  \n",
      "  inflating: ./novelctrlk6_8_coco_dataset/train/JPEGImages/00006670_0.jpg  \n",
      "  inflating: ./novelctrlk6_8_coco_dataset/train/JPEGImages/00005763_18.jpg  \n",
      "  inflating: ./novelctrlk6_8_coco_dataset/train/JPEGImages/00004469_75.jpg  \n",
      "  inflating: ./novelctrlk6_8_coco_dataset/train/JPEGImages/00005566_43.jpg  \n",
      "  inflating: ./novelctrlk6_8_coco_dataset/train/JPEGImages/00004336_74.jpg  \n",
      "  inflating: ./novelctrlk6_8_coco_dataset/train/JPEGImages/00006574_88.jpg  \n",
      "  inflating: ./novelctrlk6_8_coco_dataset/train/JPEGImages/00001922_1.jpg  \n",
      "  inflating: ./novelctrlk6_8_coco_dataset/train/JPEGImages/00001795_5.jpg  \n",
      "  inflating: ./novelctrlk6_8_coco_dataset/train/JPEGImages/00005755_34.jpg  \n",
      "  inflating: ./novelctrlk6_8_coco_dataset/train/JPEGImages/00003576_54.jpg  \n",
      "  inflating: ./novelctrlk6_8_coco_dataset/train/JPEGImages/00002647_78.jpg  \n",
      "  inflating: ./novelctrlk6_8_coco_dataset/train/JPEGImages/00004295_47.jpg  \n",
      "  inflating: ./novelctrlk6_8_coco_dataset/train/JPEGImages/00003667_56.jpg  \n",
      "  inflating: ./novelctrlk6_8_coco_dataset/train/JPEGImages/00006131_85.jpg  \n",
      "  inflating: ./novelctrlk6_8_coco_dataset/train/JPEGImages/00000311_77.jpg  \n",
      "  inflating: ./novelctrlk6_8_coco_dataset/train/JPEGImages/00000879_40.jpg  \n",
      "  inflating: ./novelctrlk6_8_coco_dataset/train/JPEGImages/00002991_7.jpg  \n",
      "  inflating: ./novelctrlk6_8_coco_dataset/train/JPEGImages/00000757_5.jpg  \n",
      "  inflating: ./novelctrlk6_8_coco_dataset/train/JPEGImages/00004628_68.jpg  \n",
      "  inflating: ./novelctrlk6_8_coco_dataset/train/JPEGImages/00004348_33.jpg  \n",
      "  inflating: ./novelctrlk6_8_coco_dataset/train/JPEGImages/00003269_66.jpg  \n",
      "  inflating: ./novelctrlk6_8_coco_dataset/train/JPEGImages/00003224_49.jpg  \n",
      "  inflating: ./novelctrlk6_8_coco_dataset/train/JPEGImages/00002628_21.jpg  \n",
      "  inflating: ./novelctrlk6_8_coco_dataset/train/JPEGImages/00001838_25.jpg  \n",
      "  inflating: ./novelctrlk6_8_coco_dataset/train/JPEGImages/00002825_40.jpg  \n",
      "  inflating: ./novelctrlk6_8_coco_dataset/train/JPEGImages/00002247_29.jpg  \n",
      "  inflating: ./novelctrlk6_8_coco_dataset/train/JPEGImages/00003100_30.jpg  \n",
      "  inflating: ./novelctrlk6_8_coco_dataset/train/JPEGImages/00001922_57.jpg  \n",
      "  inflating: ./novelctrlk6_8_coco_dataset/train/JPEGImages/00001320_92.jpg  \n",
      "  inflating: ./novelctrlk6_8_coco_dataset/train/JPEGImages/00006299_63.jpg  \n"
     ]
    },
    {
     "name": "stdout",
     "output_type": "stream",
     "text": [
      "  inflating: ./novelctrlk6_8_coco_dataset/train/JPEGImages/00000952_60.jpg  \n",
      "  inflating: ./novelctrlk6_8_coco_dataset/train/JPEGImages/00000842_70.jpg  \n",
      "  inflating: ./__MACOSX/novelctrlk6_8_coco_dataset/train/JPEGImages/._00000842_70.jpg  \n",
      "  inflating: ./novelctrlk6_8_coco_dataset/train/JPEGImages/00002295_32.jpg  \n",
      "  inflating: ./novelctrlk6_8_coco_dataset/train/JPEGImages/00004117_59.jpg  \n",
      "  inflating: ./novelctrlk6_8_coco_dataset/train/JPEGImages/00003976_44.jpg  \n",
      "  inflating: ./novelctrlk6_8_coco_dataset/train/JPEGImages/00004032_20.jpg  \n",
      "  inflating: ./novelctrlk6_8_coco_dataset/train/JPEGImages/00006212_69.jpg  \n",
      "  inflating: ./novelctrlk6_8_coco_dataset/train/JPEGImages/00003134_31.jpg  \n",
      "  inflating: ./novelctrlk6_8_coco_dataset/train/JPEGImages/00006169_98.jpg  \n",
      "  inflating: ./novelctrlk6_8_coco_dataset/train/JPEGImages/00006830_36.jpg  \n",
      "  inflating: ./novelctrlk6_8_coco_dataset/train/JPEGImages/00004570_24.jpg  \n",
      "  inflating: ./novelctrlk6_8_coco_dataset/train/JPEGImages/00000735_23.jpg  \n",
      "  inflating: ./novelctrlk6_8_coco_dataset/train/JPEGImages/00003905_42.jpg  \n",
      "  inflating: ./novelctrlk6_8_coco_dataset/train/JPEGImages/00003012_37.jpg  \n",
      "  inflating: ./novelctrlk6_8_coco_dataset/train/JPEGImages/00005456_95.jpg  \n",
      "  inflating: ./novelctrlk6_8_coco_dataset/train/JPEGImages/00002456_9.jpg  \n",
      "  inflating: ./novelctrlk6_8_coco_dataset/train/JPEGImages/00002433_90.jpg  \n",
      "  inflating: ./novelctrlk6_8_coco_dataset/train/JPEGImages/00006715_97.jpg  \n",
      "  inflating: ./novelctrlk6_8_coco_dataset/train/JPEGImages/00005597_15.jpg  \n",
      "  inflating: ./novelctrlk6_8_coco_dataset/train/JPEGImages/00006319_53.jpg  \n",
      "  inflating: ./novelctrlk6_8_coco_dataset/train/JPEGImages/00005025_83.jpg  \n",
      "  inflating: ./novelctrlk6_8_coco_dataset/train/JPEGImages/00000530_64.jpg  \n",
      "  inflating: ./novelctrlk6_8_coco_dataset/train/JPEGImages/00002362_63.jpg  \n",
      "  inflating: ./novelctrlk6_8_coco_dataset/train/JPEGImages/00002311_72.jpg  \n",
      "  inflating: ./novelctrlk6_8_coco_dataset/train/JPEGImages/00005068_37.jpg  \n",
      "  inflating: ./novelctrlk6_8_coco_dataset/train/JPEGImages/00006353_11.jpg  \n",
      "  inflating: ./novelctrlk6_8_coco_dataset/train/JPEGImages/00005056_91.jpg  \n",
      "  inflating: ./novelctrlk6_8_coco_dataset/train/JPEGImages/00000970_34.jpg  \n",
      "  inflating: ./novelctrlk6_8_coco_dataset/train/JPEGImages/00002577_24.jpg  \n",
      "  inflating: ./novelctrlk6_8_coco_dataset/train/JPEGImages/00006601_16.jpg  \n",
      "  inflating: ./novelctrlk6_8_coco_dataset/train/JPEGImages/00000652_65.jpg  \n",
      "  inflating: ./novelctrlk6_8_coco_dataset/train/JPEGImages/00002639_95.jpg  \n",
      "  inflating: ./novelctrlk6_8_coco_dataset/train/JPEGImages/00005953_8.jpg  \n",
      "  inflating: ./novelctrlk6_8_coco_dataset/train/JPEGImages/00006000_27.jpg  \n",
      "  inflating: ./novelctrlk6_8_coco_dataset/train/JPEGImages/00005700_89.jpg  \n",
      "  inflating: ./novelctrlk6_8_coco_dataset/train/JPEGImages/00004672_51.jpg  \n",
      "  inflating: ./novelctrlk6_8_coco_dataset/train/JPEGImages/00004062_19.jpg  \n",
      "  inflating: ./novelctrlk6_8_coco_dataset/train/JPEGImages/00005246_28.jpg  \n",
      "  inflating: ./novelctrlk6_8_coco_dataset/train/JPEGImages/00005154_53.jpg  \n",
      "  inflating: ./novelctrlk6_8_coco_dataset/train/JPEGImages/00005584_93.jpg  \n",
      "  inflating: ./novelctrlk6_8_coco_dataset/train/JPEGImages/00003834_80.jpg  \n",
      "  inflating: ./novelctrlk6_8_coco_dataset/train/JPEGImages/00004711_6.jpg  \n",
      "  inflating: ./novelctrlk6_8_coco_dataset/train/JPEGImages/00006038_20.jpg  \n",
      "  inflating: ./novelctrlk6_8_coco_dataset/train/JPEGImages/00006373_2.jpg  \n",
      "  inflating: ./novelctrlk6_8_coco_dataset/train/JPEGImages/00006470_84.jpg  \n",
      "  inflating: ./novelctrlk6_8_coco_dataset/train/JPEGImages/00003956_16.jpg  \n",
      "  inflating: ./novelctrlk6_8_coco_dataset/train/JPEGImages/00002625_79.jpg  \n",
      "  inflating: ./novelctrlk6_8_coco_dataset/train/JPEGImages/00006270_45.jpg  \n",
      "  inflating: ./novelctrlk6_8_coco_dataset/train/JPEGImages/00006521_86.jpg  \n",
      "  inflating: ./novelctrlk6_8_coco_dataset/train/JPEGImages/00001999_45.jpg  \n",
      "  inflating: ./novelctrlk6_8_coco_dataset/train/JPEGImages/00004081_4.jpg  \n",
      "  inflating: ./novelctrlk6_8_coco_dataset/train/JPEGImages/00000776_14.jpg  \n",
      "  inflating: ./novelctrlk6_8_coco_dataset/train/JPEGImages/00002546_58.jpg  \n",
      "  inflating: ./novelctrlk6_8_coco_dataset/train/JPEGImages/00001181_61.jpg  \n",
      "  inflating: ./novelctrlk6_8_coco_dataset/train/JPEGImages/00002226_87.jpg  \n",
      "  inflating: ./novelctrlk6_8_coco_dataset/train/JPEGImages/00001632_33.jpg  \n",
      "  inflating: ./novelctrlk6_8_coco_dataset/train/JPEGImages/00006218_71.jpg  \n",
      "  inflating: ./novelctrlk6_8_coco_dataset/train/JPEGImages/00005400_9.jpg  \n",
      "  inflating: ./novelctrlk6_8_coco_dataset/train/JPEGImages/00001299_86.jpg  \n",
      "  inflating: ./novelctrlk6_8_coco_dataset/train/JPEGImages/00002067_75.jpg  \n",
      "  inflating: ./novelctrlk6_8_coco_dataset/train/JPEGImages/00006844_69.jpg  \n",
      "  inflating: ./novelctrlk6_8_coco_dataset/train/JPEGImages/00001892_72.jpg  \n",
      "  inflating: ./novelctrlk6_8_coco_dataset/train/JPEGImages/00001153_93.jpg  \n",
      "  inflating: ./novelctrlk6_8_coco_dataset/train/JPEGImages/00001389_82.jpg  \n",
      "  inflating: ./novelctrlk6_8_coco_dataset/train/JPEGImages/00001439_52.jpg  \n",
      "  inflating: ./novelctrlk6_8_coco_dataset/train/JPEGImages/00006367_98.jpg  \n",
      "  inflating: ./novelctrlk6_8_coco_dataset/train/JPEGImages/00004018_67.jpg  \n",
      "  inflating: ./novelctrlk6_8_coco_dataset/train/JPEGImages/00004535_48.jpg  \n",
      "  inflating: ./novelctrlk6_8_coco_dataset/train/JPEGImages/00006361_13.jpg  \n",
      "  inflating: ./novelctrlk6_8_coco_dataset/train/JPEGImages/00003167_10.jpg  \n",
      "  inflating: ./novelctrlk6_8_coco_dataset/train/JPEGImages/00006832_66.jpg  \n",
      "  inflating: ./novelctrlk6_8_coco_dataset/train/JPEGImages/00004956_38.jpg  \n",
      "  inflating: ./novelctrlk6_8_coco_dataset/train/JPEGImages/00001980_61.jpg  \n",
      "  inflating: ./novelctrlk6_8_coco_dataset/train/JPEGImages/00003364_13.jpg  \n",
      "  inflating: ./novelctrlk6_8_coco_dataset/train/annotations.json  \n"
     ]
    }
   ],
   "source": [
    "if IN_COLAB:\n",
    "    !unzip $dataset -d /content/\n",
    "else:\n",
    "    #TODO generalize this\n",
    "    !unzip -o $dataset -d ."
   ]
  },
  {
   "cell_type": "code",
   "execution_count": 10,
   "metadata": {
    "id": "21PxYqli7Y67"
   },
   "outputs": [],
   "source": [
    "DATASET_NAME = DATASET_DIR = f\"{dataset.replace('.zip','')}\""
   ]
  },
  {
   "cell_type": "markdown",
   "metadata": {
    "id": "Vk4gID50K03a"
   },
   "source": [
    "# Run a pre-trained detectron2 model"
   ]
  },
  {
   "cell_type": "markdown",
   "metadata": {
    "id": "JgKyUL4pngvE"
   },
   "source": [
    "First, we check a random selected image from our training dataset:"
   ]
  },
  {
   "cell_type": "code",
   "execution_count": 11,
   "metadata": {
    "id": "dq9GY37ml1kr"
   },
   "outputs": [
    {
     "data": {
      "image/png": "[encoded data removed]",
      "text/plain": [
       "<Figure size 432x288 with 1 Axes>"
      ]
     },
     "metadata": {
      "needs_background": "light"
     },
     "output_type": "display_data"
    }
   ],
   "source": [
    "# select and display one random image from the training set\n",
    "img_file = random.choice(glob.glob(f\"{DATASET_DIR}/train/JPEGImages/*.*\"))\n",
    "im = cv2.imread(img_file)\n",
    "if IN_COLAB:\n",
    "    cv2_imshow(im)\n",
    "else:\n",
    "    plt.imshow(im)"
   ]
  },
  {
   "cell_type": "markdown",
   "metadata": {
    "id": "uM1thbN-ntjI"
   },
   "source": [
    "Then, we create a Detectron2 config and a detectron2 `DefaultPredictor` to run inference on this image."
   ]
  },
  {
   "cell_type": "code",
   "execution_count": 12,
   "metadata": {},
   "outputs": [],
   "source": [
    "cfg = get_cfg()"
   ]
  },
  {
   "cell_type": "code",
   "execution_count": 13,
   "metadata": {},
   "outputs": [],
   "source": [
    "if GPU:\n",
    "    pass\n",
    "else:\n",
    "    cfg.MODEL.DEVICE='cpu'"
   ]
  },
  {
   "cell_type": "code",
   "execution_count": 14,
   "metadata": {
    "id": "HUjkwRsOn1O0"
   },
   "outputs": [
    {
     "name": "stderr",
     "output_type": "stream",
     "text": [
      "/home/jeremy/anaconda3/envs/annolid/lib/python3.7/site-packages/detectron2/structures/image_list.py:88: UserWarning: __floordiv__ is deprecated, and its behavior will change in a future version of pytorch. It currently rounds toward 0 (like the 'trunc' function NOT 'floor'). This results in incorrect rounding for negative values. To keep the current behavior, use torch.div(a, b, rounding_mode='trunc'), or for actual floor division, use torch.div(a, b, rounding_mode='floor').\n",
      "  max_size = (max_size + (stride - 1)) // stride * stride\n",
      "/home/jeremy/anaconda3/envs/annolid/lib/python3.7/site-packages/torch/functional.py:445: UserWarning: torch.meshgrid: in an upcoming release, it will be required to pass the indexing argument. (Triggered internally at  ../aten/src/ATen/native/TensorShape.cpp:2157.)\n",
      "  return _VF.meshgrid(tensors, **kwargs)  # type: ignore[attr-defined]\n"
     ]
    }
   ],
   "source": [
    "# add project-specific config (e.g., TensorMask) here if you're not running a model in detectron2's core library\n",
    "cfg.merge_from_file(model_zoo.get_config_file(\"COCO-InstanceSegmentation/mask_rcnn_R_50_FPN_3x.yaml\"))\n",
    "cfg.MODEL.ROI_HEADS.SCORE_THRESH_TEST = 0.1  # set threshold for this model\n",
    "# Find a model from Detectron2's model zoo. You can use the https://dl.fbaipublicfiles... url as well\n",
    "cfg.MODEL.WEIGHTS = model_zoo.get_checkpoint_url(\"COCO-InstanceSegmentation/mask_rcnn_R_50_FPN_3x.yaml\")\n",
    "predictor = DefaultPredictor(cfg)\n",
    "outputs = predictor(im)"
   ]
  },
  {
   "cell_type": "code",
   "execution_count": 15,
   "metadata": {
    "id": "7d3KxiHO_0gb"
   },
   "outputs": [
    {
     "name": "stdout",
     "output_type": "stream",
     "text": [
      "tensor([ 6, 65, 74, 74, 56])\n",
      "Boxes(tensor([[  75.6154,   37.8977, 1273.1077,  985.7012],\n",
      "        [  18.1820,  134.1059,  163.1887,  981.1087],\n",
      "        [ 898.1162,  518.6722,  948.0486,  567.4241],\n",
      "        [ 504.1673,  541.2513,  551.8248,  588.9865],\n",
      "        [   0.0000,   35.3450,  163.4191, 1012.4688]]))\n"
     ]
    }
   ],
   "source": [
    "# look at the outputs. See https://detectron2.readthedocs.io/tutorials/models.html#model-output-format for specification\n",
    "print(outputs[\"instances\"].pred_classes)\n",
    "print(outputs[\"instances\"].pred_boxes)"
   ]
  },
  {
   "cell_type": "code",
   "execution_count": 16,
   "metadata": {
    "id": "eM728kMR0ACL"
   },
   "outputs": [
    {
     "data": {
      "text/plain": [
       "tensor([[[False, False, False,  ..., False, False, False],\n",
       "         [False, False, False,  ..., False, False, False],\n",
       "         [False, False, False,  ..., False, False, False],\n",
       "         ...,\n",
       "         [False, False, False,  ..., False, False, False],\n",
       "         [False, False, False,  ..., False, False, False],\n",
       "         [False, False, False,  ..., False, False, False]],\n",
       "\n",
       "        [[False, False, False,  ..., False, False, False],\n",
       "         [False, False, False,  ..., False, False, False],\n",
       "         [False, False, False,  ..., False, False, False],\n",
       "         ...,\n",
       "         [False, False, False,  ..., False, False, False],\n",
       "         [False, False, False,  ..., False, False, False],\n",
       "         [False, False, False,  ..., False, False, False]],\n",
       "\n",
       "        [[False, False, False,  ..., False, False, False],\n",
       "         [False, False, False,  ..., False, False, False],\n",
       "         [False, False, False,  ..., False, False, False],\n",
       "         ...,\n",
       "         [False, False, False,  ..., False, False, False],\n",
       "         [False, False, False,  ..., False, False, False],\n",
       "         [False, False, False,  ..., False, False, False]],\n",
       "\n",
       "        [[False, False, False,  ..., False, False, False],\n",
       "         [False, False, False,  ..., False, False, False],\n",
       "         [False, False, False,  ..., False, False, False],\n",
       "         ...,\n",
       "         [False, False, False,  ..., False, False, False],\n",
       "         [False, False, False,  ..., False, False, False],\n",
       "         [False, False, False,  ..., False, False, False]],\n",
       "\n",
       "        [[False, False, False,  ..., False, False, False],\n",
       "         [False, False, False,  ..., False, False, False],\n",
       "         [False, False, False,  ..., False, False, False],\n",
       "         ...,\n",
       "         [False, False, False,  ..., False, False, False],\n",
       "         [False, False, False,  ..., False, False, False],\n",
       "         [False, False, False,  ..., False, False, False]]])"
      ]
     },
     "execution_count": 16,
     "metadata": {},
     "output_type": "execute_result"
    }
   ],
   "source": [
    "outputs['instances'].pred_masks"
   ]
  },
  {
   "cell_type": "code",
   "execution_count": 17,
   "metadata": {
    "id": "NWnR6KMx2KK7"
   },
   "outputs": [
    {
     "data": {
      "text/plain": [
       "namespace(name='coco_2017_train',\n",
       "          json_file='datasets/coco/annotations/instances_train2017.json',\n",
       "          image_root='datasets/coco/train2017',\n",
       "          evaluator_type='coco',\n",
       "          thing_dataset_id_to_contiguous_id={1: 0,\n",
       "                                             2: 1,\n",
       "                                             3: 2,\n",
       "                                             4: 3,\n",
       "                                             5: 4,\n",
       "                                             6: 5,\n",
       "                                             7: 6,\n",
       "                                             8: 7,\n",
       "                                             9: 8,\n",
       "                                             10: 9,\n",
       "                                             11: 10,\n",
       "                                             13: 11,\n",
       "                                             14: 12,\n",
       "                                             15: 13,\n",
       "                                             16: 14,\n",
       "                                             17: 15,\n",
       "                                             18: 16,\n",
       "                                             19: 17,\n",
       "                                             20: 18,\n",
       "                                             21: 19,\n",
       "                                             22: 20,\n",
       "                                             23: 21,\n",
       "                                             24: 22,\n",
       "                                             25: 23,\n",
       "                                             27: 24,\n",
       "                                             28: 25,\n",
       "                                             31: 26,\n",
       "                                             32: 27,\n",
       "                                             33: 28,\n",
       "                                             34: 29,\n",
       "                                             35: 30,\n",
       "                                             36: 31,\n",
       "                                             37: 32,\n",
       "                                             38: 33,\n",
       "                                             39: 34,\n",
       "                                             40: 35,\n",
       "                                             41: 36,\n",
       "                                             42: 37,\n",
       "                                             43: 38,\n",
       "                                             44: 39,\n",
       "                                             46: 40,\n",
       "                                             47: 41,\n",
       "                                             48: 42,\n",
       "                                             49: 43,\n",
       "                                             50: 44,\n",
       "                                             51: 45,\n",
       "                                             52: 46,\n",
       "                                             53: 47,\n",
       "                                             54: 48,\n",
       "                                             55: 49,\n",
       "                                             56: 50,\n",
       "                                             57: 51,\n",
       "                                             58: 52,\n",
       "                                             59: 53,\n",
       "                                             60: 54,\n",
       "                                             61: 55,\n",
       "                                             62: 56,\n",
       "                                             63: 57,\n",
       "                                             64: 58,\n",
       "                                             65: 59,\n",
       "                                             67: 60,\n",
       "                                             70: 61,\n",
       "                                             72: 62,\n",
       "                                             73: 63,\n",
       "                                             74: 64,\n",
       "                                             75: 65,\n",
       "                                             76: 66,\n",
       "                                             77: 67,\n",
       "                                             78: 68,\n",
       "                                             79: 69,\n",
       "                                             80: 70,\n",
       "                                             81: 71,\n",
       "                                             82: 72,\n",
       "                                             84: 73,\n",
       "                                             85: 74,\n",
       "                                             86: 75,\n",
       "                                             87: 76,\n",
       "                                             88: 77,\n",
       "                                             89: 78,\n",
       "                                             90: 79},\n",
       "          thing_classes=['person',\n",
       "                         'bicycle',\n",
       "                         'car',\n",
       "                         'motorcycle',\n",
       "                         'airplane',\n",
       "                         'bus',\n",
       "                         'train',\n",
       "                         'truck',\n",
       "                         'boat',\n",
       "                         'traffic light',\n",
       "                         'fire hydrant',\n",
       "                         'stop sign',\n",
       "                         'parking meter',\n",
       "                         'bench',\n",
       "                         'bird',\n",
       "                         'cat',\n",
       "                         'dog',\n",
       "                         'horse',\n",
       "                         'sheep',\n",
       "                         'cow',\n",
       "                         'elephant',\n",
       "                         'bear',\n",
       "                         'zebra',\n",
       "                         'giraffe',\n",
       "                         'backpack',\n",
       "                         'umbrella',\n",
       "                         'handbag',\n",
       "                         'tie',\n",
       "                         'suitcase',\n",
       "                         'frisbee',\n",
       "                         'skis',\n",
       "                         'snowboard',\n",
       "                         'sports ball',\n",
       "                         'kite',\n",
       "                         'baseball bat',\n",
       "                         'baseball glove',\n",
       "                         'skateboard',\n",
       "                         'surfboard',\n",
       "                         'tennis racket',\n",
       "                         'bottle',\n",
       "                         'wine glass',\n",
       "                         'cup',\n",
       "                         'fork',\n",
       "                         'knife',\n",
       "                         'spoon',\n",
       "                         'bowl',\n",
       "                         'banana',\n",
       "                         'apple',\n",
       "                         'sandwich',\n",
       "                         'orange',\n",
       "                         'broccoli',\n",
       "                         'carrot',\n",
       "                         'hot dog',\n",
       "                         'pizza',\n",
       "                         'donut',\n",
       "                         'cake',\n",
       "                         'chair',\n",
       "                         'couch',\n",
       "                         'potted plant',\n",
       "                         'bed',\n",
       "                         'dining table',\n",
       "                         'toilet',\n",
       "                         'tv',\n",
       "                         'laptop',\n",
       "                         'mouse',\n",
       "                         'remote',\n",
       "                         'keyboard',\n",
       "                         'cell phone',\n",
       "                         'microwave',\n",
       "                         'oven',\n",
       "                         'toaster',\n",
       "                         'sink',\n",
       "                         'refrigerator',\n",
       "                         'book',\n",
       "                         'clock',\n",
       "                         'vase',\n",
       "                         'scissors',\n",
       "                         'teddy bear',\n",
       "                         'hair drier',\n",
       "                         'toothbrush'],\n",
       "          thing_colors=[[220, 20, 60],\n",
       "                        [119, 11, 32],\n",
       "                        [0, 0, 142],\n",
       "                        [0, 0, 230],\n",
       "                        [106, 0, 228],\n",
       "                        [0, 60, 100],\n",
       "                        [0, 80, 100],\n",
       "                        [0, 0, 70],\n",
       "                        [0, 0, 192],\n",
       "                        [250, 170, 30],\n",
       "                        [100, 170, 30],\n",
       "                        [220, 220, 0],\n",
       "                        [175, 116, 175],\n",
       "                        [250, 0, 30],\n",
       "                        [165, 42, 42],\n",
       "                        [255, 77, 255],\n",
       "                        [0, 226, 252],\n",
       "                        [182, 182, 255],\n",
       "                        [0, 82, 0],\n",
       "                        [120, 166, 157],\n",
       "                        [110, 76, 0],\n",
       "                        [174, 57, 255],\n",
       "                        [199, 100, 0],\n",
       "                        [72, 0, 118],\n",
       "                        [255, 179, 240],\n",
       "                        [0, 125, 92],\n",
       "                        [209, 0, 151],\n",
       "                        [188, 208, 182],\n",
       "                        [0, 220, 176],\n",
       "                        [255, 99, 164],\n",
       "                        [92, 0, 73],\n",
       "                        [133, 129, 255],\n",
       "                        [78, 180, 255],\n",
       "                        [0, 228, 0],\n",
       "                        [174, 255, 243],\n",
       "                        [45, 89, 255],\n",
       "                        [134, 134, 103],\n",
       "                        [145, 148, 174],\n",
       "                        [255, 208, 186],\n",
       "                        [197, 226, 255],\n",
       "                        [171, 134, 1],\n",
       "                        [109, 63, 54],\n",
       "                        [207, 138, 255],\n",
       "                        [151, 0, 95],\n",
       "                        [9, 80, 61],\n",
       "                        [84, 105, 51],\n",
       "                        [74, 65, 105],\n",
       "                        [166, 196, 102],\n",
       "                        [208, 195, 210],\n",
       "                        [255, 109, 65],\n",
       "                        [0, 143, 149],\n",
       "                        [179, 0, 194],\n",
       "                        [209, 99, 106],\n",
       "                        [5, 121, 0],\n",
       "                        [227, 255, 205],\n",
       "                        [147, 186, 208],\n",
       "                        [153, 69, 1],\n",
       "                        [3, 95, 161],\n",
       "                        [163, 255, 0],\n",
       "                        [119, 0, 170],\n",
       "                        [0, 182, 199],\n",
       "                        [0, 165, 120],\n",
       "                        [183, 130, 88],\n",
       "                        [95, 32, 0],\n",
       "                        [130, 114, 135],\n",
       "                        [110, 129, 133],\n",
       "                        [166, 74, 118],\n",
       "                        [219, 142, 185],\n",
       "                        [79, 210, 114],\n",
       "                        [178, 90, 62],\n",
       "                        [65, 70, 15],\n",
       "                        [127, 167, 115],\n",
       "                        [59, 105, 106],\n",
       "                        [142, 108, 45],\n",
       "                        [196, 172, 0],\n",
       "                        [95, 54, 80],\n",
       "                        [128, 76, 255],\n",
       "                        [201, 57, 1],\n",
       "                        [246, 0, 122],\n",
       "                        [191, 162, 208]])"
      ]
     },
     "execution_count": 17,
     "metadata": {},
     "output_type": "execute_result"
    }
   ],
   "source": [
    "MetadataCatalog.get(cfg.DATASETS.TRAIN[0])"
   ]
  },
  {
   "cell_type": "code",
   "execution_count": 18,
   "metadata": {
    "id": "8IRGo8d0qkgR"
   },
   "outputs": [
    {
     "data": {
      "image/png": "[encoded data removed]",
      "text/plain": [
       "<Figure size 432x288 with 1 Axes>"
      ]
     },
     "metadata": {
      "needs_background": "light"
     },
     "output_type": "display_data"
    }
   ],
   "source": [
    "# We can use `Visualizer` to draw the predictions on the image.\n",
    "v = Visualizer(im[:, :, ::-1], MetadataCatalog.get(cfg.DATASETS.TRAIN[0]), scale=1.2)\n",
    "out = v.draw_instance_predictions(outputs[\"instances\"].to(\"cpu\"))\n",
    "if IN_COLAB:\n",
    "    cv2_imshow(out.get_image()[:, :, ::-1])\n",
    "else:\n",
    "    plt.imshow(out.get_image()[:, :, ::-1])"
   ]
  },
  {
   "cell_type": "markdown",
   "metadata": {},
   "source": [
    "As we can see, the network doesn't detect what we want. That is expected as we have not fine-tuned the network with our custom dataset. We are going to do that in the next steps."
   ]
  },
  {
   "cell_type": "markdown",
   "metadata": {
    "id": "b2bjrfb2LDeo"
   },
   "source": [
    "# Train on a custom dataset"
   ]
  },
  {
   "cell_type": "markdown",
   "metadata": {
    "id": "tjbUIhSxUdm_"
   },
   "source": [
    "In this section, we show how to train an existing detectron2 model on a custom dataset in COCO format.\n",
    "\n",
    "## Prepare the dataset"
   ]
  },
  {
   "cell_type": "markdown",
   "metadata": {
    "id": "tVJoOm6LVJwW"
   },
   "source": [
    "Register the custom dataset to Detectron2, following the [detectron2 custom dataset tutorial](https://detectron2.readthedocs.io/tutorials/datasets.html).\n",
    "Here, the dataset is in COCO format, therefore we register  into Detectron2's standard format. User should write such a function when using a dataset in custom format. See the tutorial for more details.\n"
   ]
  },
  {
   "cell_type": "code",
   "execution_count": 19,
   "metadata": {
    "id": "PIbAM2pv-urF"
   },
   "outputs": [],
   "source": [
    "from detectron2.data.datasets import register_coco_instances\n",
    "from detectron2.data import get_detection_dataset_dicts\n",
    "from detectron2.data.datasets import  builtin_meta"
   ]
  },
  {
   "cell_type": "code",
   "execution_count": 20,
   "metadata": {},
   "outputs": [],
   "source": [
    "register_coco_instances(f\"{DATASET_NAME}_train\", {}, f\"{DATASET_DIR}/train/annotations.json\", f\"{DATASET_DIR}/train/\")\n",
    "register_coco_instances(f\"{DATASET_NAME}_valid\", {}, f\"{DATASET_DIR}/valid/annotations.json\", f\"{DATASET_DIR}/valid/\")"
   ]
  },
  {
   "cell_type": "code",
   "execution_count": 21,
   "metadata": {
    "id": "GzKzTlwU_iHh"
   },
   "outputs": [
    {
     "name": "stdout",
     "output_type": "stream",
     "text": [
      "\u001b[32m[01/21 05:30:27 d2.data.datasets.coco]: \u001b[0mLoaded 118 images in COCO format from novelctrlk6_8_coco_dataset/train/annotations.json\n",
      "\u001b[32m[01/21 05:30:27 d2.data.build]: \u001b[0mRemoved 0 images with no usable annotations. 118 images left.\n",
      "\u001b[32m[01/21 05:30:27 d2.data.build]: \u001b[0mDistribution of instances among all 7 categories:\n",
      "\u001b[36m|   category   | #instances   |  category  | #instances   |  category  | #instances   |\n",
      "|:------------:|:-------------|:----------:|:-------------|:----------:|:-------------|\n",
      "| _background_ | 0            |    nose    | 118          |  left_ear  | 118          |\n",
      "|  right_ear   | 117          | tail_base  | 119          |   mouse    | 118          |\n",
      "|   centroid   | 1            |            |              |            |              |\n",
      "|    total     | 591          |            |              |            |              |\u001b[0m\n"
     ]
    }
   ],
   "source": [
    "dataset_dicts = get_detection_dataset_dicts([f\"{DATASET_NAME}_train\"])"
   ]
  },
  {
   "cell_type": "code",
   "execution_count": 22,
   "metadata": {
    "id": "FVJnolv9__eE"
   },
   "outputs": [],
   "source": [
    "_dataset_metadata = MetadataCatalog.get(f\"{DATASET_NAME}_train\")\n",
    "_dataset_metadata.thing_colors = [cc['color'] for cc in builtin_meta.COCO_CATEGORIES]"
   ]
  },
  {
   "cell_type": "code",
   "execution_count": 23,
   "metadata": {
    "id": "h-dEBJmW447_"
   },
   "outputs": [
    {
     "data": {
      "text/plain": [
       "namespace(name='novelctrlk6_8_coco_dataset_train',\n",
       "          json_file='novelctrlk6_8_coco_dataset/train/annotations.json',\n",
       "          image_root='novelctrlk6_8_coco_dataset/train/',\n",
       "          evaluator_type='coco',\n",
       "          thing_classes=['_background_',\n",
       "                         'nose',\n",
       "                         'left_ear',\n",
       "                         'right_ear',\n",
       "                         'tail_base',\n",
       "                         'mouse',\n",
       "                         'centroid'],\n",
       "          thing_dataset_id_to_contiguous_id={0: 0,\n",
       "                                             1: 1,\n",
       "                                             2: 2,\n",
       "                                             3: 3,\n",
       "                                             4: 4,\n",
       "                                             5: 5,\n",
       "                                             6: 6},\n",
       "          thing_colors=[[220, 20, 60],\n",
       "                        [119, 11, 32],\n",
       "                        [0, 0, 142],\n",
       "                        [0, 0, 230],\n",
       "                        [106, 0, 228],\n",
       "                        [0, 60, 100],\n",
       "                        [0, 80, 100],\n",
       "                        [0, 0, 70],\n",
       "                        [0, 0, 192],\n",
       "                        [250, 170, 30],\n",
       "                        [100, 170, 30],\n",
       "                        [220, 220, 0],\n",
       "                        [175, 116, 175],\n",
       "                        [250, 0, 30],\n",
       "                        [165, 42, 42],\n",
       "                        [255, 77, 255],\n",
       "                        [0, 226, 252],\n",
       "                        [182, 182, 255],\n",
       "                        [0, 82, 0],\n",
       "                        [120, 166, 157],\n",
       "                        [110, 76, 0],\n",
       "                        [174, 57, 255],\n",
       "                        [199, 100, 0],\n",
       "                        [72, 0, 118],\n",
       "                        [255, 179, 240],\n",
       "                        [0, 125, 92],\n",
       "                        [209, 0, 151],\n",
       "                        [188, 208, 182],\n",
       "                        [0, 220, 176],\n",
       "                        [255, 99, 164],\n",
       "                        [92, 0, 73],\n",
       "                        [133, 129, 255],\n",
       "                        [78, 180, 255],\n",
       "                        [0, 228, 0],\n",
       "                        [174, 255, 243],\n",
       "                        [45, 89, 255],\n",
       "                        [134, 134, 103],\n",
       "                        [145, 148, 174],\n",
       "                        [255, 208, 186],\n",
       "                        [197, 226, 255],\n",
       "                        [171, 134, 1],\n",
       "                        [109, 63, 54],\n",
       "                        [207, 138, 255],\n",
       "                        [151, 0, 95],\n",
       "                        [9, 80, 61],\n",
       "                        [84, 105, 51],\n",
       "                        [74, 65, 105],\n",
       "                        [166, 196, 102],\n",
       "                        [208, 195, 210],\n",
       "                        [255, 109, 65],\n",
       "                        [0, 143, 149],\n",
       "                        [179, 0, 194],\n",
       "                        [209, 99, 106],\n",
       "                        [5, 121, 0],\n",
       "                        [227, 255, 205],\n",
       "                        [147, 186, 208],\n",
       "                        [153, 69, 1],\n",
       "                        [3, 95, 161],\n",
       "                        [163, 255, 0],\n",
       "                        [119, 0, 170],\n",
       "                        [0, 182, 199],\n",
       "                        [0, 165, 120],\n",
       "                        [183, 130, 88],\n",
       "                        [95, 32, 0],\n",
       "                        [130, 114, 135],\n",
       "                        [110, 129, 133],\n",
       "                        [166, 74, 118],\n",
       "                        [219, 142, 185],\n",
       "                        [79, 210, 114],\n",
       "                        [178, 90, 62],\n",
       "                        [65, 70, 15],\n",
       "                        [127, 167, 115],\n",
       "                        [59, 105, 106],\n",
       "                        [142, 108, 45],\n",
       "                        [196, 172, 0],\n",
       "                        [95, 54, 80],\n",
       "                        [128, 76, 255],\n",
       "                        [201, 57, 1],\n",
       "                        [246, 0, 122],\n",
       "                        [191, 162, 208],\n",
       "                        [255, 255, 128],\n",
       "                        [147, 211, 203],\n",
       "                        [150, 100, 100],\n",
       "                        [168, 171, 172],\n",
       "                        [146, 112, 198],\n",
       "                        [210, 170, 100],\n",
       "                        [92, 136, 89],\n",
       "                        [218, 88, 184],\n",
       "                        [241, 129, 0],\n",
       "                        [217, 17, 255],\n",
       "                        [124, 74, 181],\n",
       "                        [70, 70, 70],\n",
       "                        [255, 228, 255],\n",
       "                        [154, 208, 0],\n",
       "                        [193, 0, 92],\n",
       "                        [76, 91, 113],\n",
       "                        [255, 180, 195],\n",
       "                        [106, 154, 176],\n",
       "                        [230, 150, 140],\n",
       "                        [60, 143, 255],\n",
       "                        [128, 64, 128],\n",
       "                        [92, 82, 55],\n",
       "                        [254, 212, 124],\n",
       "                        [73, 77, 174],\n",
       "                        [255, 160, 98],\n",
       "                        [255, 255, 255],\n",
       "                        [104, 84, 109],\n",
       "                        [169, 164, 131],\n",
       "                        [225, 199, 255],\n",
       "                        [137, 54, 74],\n",
       "                        [135, 158, 223],\n",
       "                        [7, 246, 231],\n",
       "                        [107, 255, 200],\n",
       "                        [58, 41, 149],\n",
       "                        [183, 121, 142],\n",
       "                        [255, 73, 97],\n",
       "                        [107, 142, 35],\n",
       "                        [190, 153, 153],\n",
       "                        [146, 139, 141],\n",
       "                        [70, 130, 180],\n",
       "                        [134, 199, 156],\n",
       "                        [209, 226, 140],\n",
       "                        [96, 36, 108],\n",
       "                        [96, 96, 96],\n",
       "                        [64, 170, 64],\n",
       "                        [152, 251, 152],\n",
       "                        [208, 229, 228],\n",
       "                        [206, 186, 171],\n",
       "                        [152, 161, 64],\n",
       "                        [116, 112, 0],\n",
       "                        [0, 114, 143],\n",
       "                        [102, 102, 156],\n",
       "                        [250, 141, 255]])"
      ]
     },
     "execution_count": 23,
     "metadata": {},
     "output_type": "execute_result"
    }
   ],
   "source": [
    "_dataset_metadata"
   ]
  },
  {
   "cell_type": "code",
   "execution_count": 24,
   "metadata": {
    "id": "llntrPobA2CM"
   },
   "outputs": [
    {
     "name": "stdout",
     "output_type": "stream",
     "text": [
      "7 Number of classes in the dataset\n"
     ]
    }
   ],
   "source": [
    "NUM_CLASSES = len(_dataset_metadata.thing_classes)\n",
    "print(f\"{NUM_CLASSES} Number of classes in the dataset\")"
   ]
  },
  {
   "cell_type": "markdown",
   "metadata": {
    "id": "6ljbWTX0Wi8E"
   },
   "source": [
    "To verify the data loading is correct, let's visualize the annotations of a randomly selected sample in the training set:\n",
    "\n"
   ]
  },
  {
   "cell_type": "code",
   "execution_count": 25,
   "metadata": {
    "id": "UkNbUzUOLYf0"
   },
   "outputs": [
    {
     "data": {
      "image/png": "[encoded data removed]",
      "text/plain": [
       "<Figure size 432x288 with 1 Axes>"
      ]
     },
     "metadata": {
      "needs_background": "light"
     },
     "output_type": "display_data"
    }
   ],
   "source": [
    "for d in random.sample(dataset_dicts, 2):\n",
    "    if '\\\\' in d['file_name']:\n",
    "        d['file_name'] = d['file_name'].replace('\\\\','/')\n",
    "    img = cv2.imread(d[\"file_name\"])\n",
    "    visualizer = Visualizer(img[:, :, ::-1], metadata=_dataset_metadata, scale=0.5)\n",
    "    out = visualizer.draw_dataset_dict(d)\n",
    "    if IN_COLAB:\n",
    "        cv2_imshow(out.get_image()[:, :, ::-1])\n",
    "    else:\n",
    "        plt.imshow(out.get_image()[:, :, ::-1])\n",
    "        "
   ]
  },
  {
   "cell_type": "markdown",
   "metadata": {
    "id": "wlqXIXXhW8dA"
   },
   "source": [
    "## Train!\n",
    "\n",
    "Now, let's fine-tune the COCO-pretrained R50-FPN Mask R-CNN model with our custom dataset. It takes ~2 hours to train 3000 iterations on Colab's K80 GPU, or ~1.5 hours on a P100 GPU.\n"
   ]
  },
  {
   "cell_type": "code",
   "execution_count": 26,
   "metadata": {
    "id": "w9vyoXX0xZcM",
    "scrolled": false
   },
   "outputs": [],
   "source": [
    "if GPU:\n",
    "    !nvidia-smi"
   ]
  },
  {
   "cell_type": "code",
   "execution_count": 27,
   "metadata": {},
   "outputs": [],
   "source": [
    "from detectron2.engine import DefaultTrainer"
   ]
  },
  {
   "cell_type": "code",
   "execution_count": 28,
   "metadata": {},
   "outputs": [],
   "source": [
    "cfg = get_cfg()"
   ]
  },
  {
   "cell_type": "code",
   "execution_count": 29,
   "metadata": {},
   "outputs": [],
   "source": [
    "if GPU:\n",
    "    pass\n",
    "else:\n",
    "    cfg.MODEL.DEVICE='cpu'"
   ]
  },
  {
   "cell_type": "code",
   "execution_count": 30,
   "metadata": {
    "id": "7unkuuiqLdqd"
   },
   "outputs": [
    {
     "name": "stdout",
     "output_type": "stream",
     "text": [
      "\u001b[32m[01/21 05:30:28 d2.engine.defaults]: \u001b[0mModel:\n",
      "GeneralizedRCNN(\n",
      "  (backbone): FPN(\n",
      "    (fpn_lateral2): Conv2d(256, 256, kernel_size=(1, 1), stride=(1, 1))\n",
      "    (fpn_output2): Conv2d(256, 256, kernel_size=(3, 3), stride=(1, 1), padding=(1, 1))\n",
      "    (fpn_lateral3): Conv2d(512, 256, kernel_size=(1, 1), stride=(1, 1))\n",
      "    (fpn_output3): Conv2d(256, 256, kernel_size=(3, 3), stride=(1, 1), padding=(1, 1))\n",
      "    (fpn_lateral4): Conv2d(1024, 256, kernel_size=(1, 1), stride=(1, 1))\n",
      "    (fpn_output4): Conv2d(256, 256, kernel_size=(3, 3), stride=(1, 1), padding=(1, 1))\n",
      "    (fpn_lateral5): Conv2d(2048, 256, kernel_size=(1, 1), stride=(1, 1))\n",
      "    (fpn_output5): Conv2d(256, 256, kernel_size=(3, 3), stride=(1, 1), padding=(1, 1))\n",
      "    (top_block): LastLevelMaxPool()\n",
      "    (bottom_up): ResNet(\n",
      "      (stem): BasicStem(\n",
      "        (conv1): Conv2d(\n",
      "          3, 64, kernel_size=(7, 7), stride=(2, 2), padding=(3, 3), bias=False\n",
      "          (norm): FrozenBatchNorm2d(num_features=64, eps=1e-05)\n",
      "        )\n",
      "      )\n",
      "      (res2): Sequential(\n",
      "        (0): BottleneckBlock(\n",
      "          (shortcut): Conv2d(\n",
      "            64, 256, kernel_size=(1, 1), stride=(1, 1), bias=False\n",
      "            (norm): FrozenBatchNorm2d(num_features=256, eps=1e-05)\n",
      "          )\n",
      "          (conv1): Conv2d(\n",
      "            64, 64, kernel_size=(1, 1), stride=(1, 1), bias=False\n",
      "            (norm): FrozenBatchNorm2d(num_features=64, eps=1e-05)\n",
      "          )\n",
      "          (conv2): Conv2d(\n",
      "            64, 64, kernel_size=(3, 3), stride=(1, 1), padding=(1, 1), bias=False\n",
      "            (norm): FrozenBatchNorm2d(num_features=64, eps=1e-05)\n",
      "          )\n",
      "          (conv3): Conv2d(\n",
      "            64, 256, kernel_size=(1, 1), stride=(1, 1), bias=False\n",
      "            (norm): FrozenBatchNorm2d(num_features=256, eps=1e-05)\n",
      "          )\n",
      "        )\n",
      "        (1): BottleneckBlock(\n",
      "          (conv1): Conv2d(\n",
      "            256, 64, kernel_size=(1, 1), stride=(1, 1), bias=False\n",
      "            (norm): FrozenBatchNorm2d(num_features=64, eps=1e-05)\n",
      "          )\n",
      "          (conv2): Conv2d(\n",
      "            64, 64, kernel_size=(3, 3), stride=(1, 1), padding=(1, 1), bias=False\n",
      "            (norm): FrozenBatchNorm2d(num_features=64, eps=1e-05)\n",
      "          )\n",
      "          (conv3): Conv2d(\n",
      "            64, 256, kernel_size=(1, 1), stride=(1, 1), bias=False\n",
      "            (norm): FrozenBatchNorm2d(num_features=256, eps=1e-05)\n",
      "          )\n",
      "        )\n",
      "        (2): BottleneckBlock(\n",
      "          (conv1): Conv2d(\n",
      "            256, 64, kernel_size=(1, 1), stride=(1, 1), bias=False\n",
      "            (norm): FrozenBatchNorm2d(num_features=64, eps=1e-05)\n",
      "          )\n",
      "          (conv2): Conv2d(\n",
      "            64, 64, kernel_size=(3, 3), stride=(1, 1), padding=(1, 1), bias=False\n",
      "            (norm): FrozenBatchNorm2d(num_features=64, eps=1e-05)\n",
      "          )\n",
      "          (conv3): Conv2d(\n",
      "            64, 256, kernel_size=(1, 1), stride=(1, 1), bias=False\n",
      "            (norm): FrozenBatchNorm2d(num_features=256, eps=1e-05)\n",
      "          )\n",
      "        )\n",
      "      )\n",
      "      (res3): Sequential(\n",
      "        (0): BottleneckBlock(\n",
      "          (shortcut): Conv2d(\n",
      "            256, 512, kernel_size=(1, 1), stride=(2, 2), bias=False\n",
      "            (norm): FrozenBatchNorm2d(num_features=512, eps=1e-05)\n",
      "          )\n",
      "          (conv1): Conv2d(\n",
      "            256, 128, kernel_size=(1, 1), stride=(2, 2), bias=False\n",
      "            (norm): FrozenBatchNorm2d(num_features=128, eps=1e-05)\n",
      "          )\n",
      "          (conv2): Conv2d(\n",
      "            128, 128, kernel_size=(3, 3), stride=(1, 1), padding=(1, 1), bias=False\n",
      "            (norm): FrozenBatchNorm2d(num_features=128, eps=1e-05)\n",
      "          )\n",
      "          (conv3): Conv2d(\n",
      "            128, 512, kernel_size=(1, 1), stride=(1, 1), bias=False\n",
      "            (norm): FrozenBatchNorm2d(num_features=512, eps=1e-05)\n",
      "          )\n",
      "        )\n",
      "        (1): BottleneckBlock(\n",
      "          (conv1): Conv2d(\n",
      "            512, 128, kernel_size=(1, 1), stride=(1, 1), bias=False\n",
      "            (norm): FrozenBatchNorm2d(num_features=128, eps=1e-05)\n",
      "          )\n",
      "          (conv2): Conv2d(\n",
      "            128, 128, kernel_size=(3, 3), stride=(1, 1), padding=(1, 1), bias=False\n",
      "            (norm): FrozenBatchNorm2d(num_features=128, eps=1e-05)\n",
      "          )\n",
      "          (conv3): Conv2d(\n",
      "            128, 512, kernel_size=(1, 1), stride=(1, 1), bias=False\n",
      "            (norm): FrozenBatchNorm2d(num_features=512, eps=1e-05)\n",
      "          )\n",
      "        )\n",
      "        (2): BottleneckBlock(\n",
      "          (conv1): Conv2d(\n",
      "            512, 128, kernel_size=(1, 1), stride=(1, 1), bias=False\n",
      "            (norm): FrozenBatchNorm2d(num_features=128, eps=1e-05)\n",
      "          )\n",
      "          (conv2): Conv2d(\n",
      "            128, 128, kernel_size=(3, 3), stride=(1, 1), padding=(1, 1), bias=False\n",
      "            (norm): FrozenBatchNorm2d(num_features=128, eps=1e-05)\n",
      "          )\n",
      "          (conv3): Conv2d(\n",
      "            128, 512, kernel_size=(1, 1), stride=(1, 1), bias=False\n",
      "            (norm): FrozenBatchNorm2d(num_features=512, eps=1e-05)\n",
      "          )\n",
      "        )\n",
      "        (3): BottleneckBlock(\n",
      "          (conv1): Conv2d(\n",
      "            512, 128, kernel_size=(1, 1), stride=(1, 1), bias=False\n",
      "            (norm): FrozenBatchNorm2d(num_features=128, eps=1e-05)\n",
      "          )\n",
      "          (conv2): Conv2d(\n",
      "            128, 128, kernel_size=(3, 3), stride=(1, 1), padding=(1, 1), bias=False\n",
      "            (norm): FrozenBatchNorm2d(num_features=128, eps=1e-05)\n",
      "          )\n",
      "          (conv3): Conv2d(\n",
      "            128, 512, kernel_size=(1, 1), stride=(1, 1), bias=False\n",
      "            (norm): FrozenBatchNorm2d(num_features=512, eps=1e-05)\n",
      "          )\n",
      "        )\n",
      "      )\n",
      "      (res4): Sequential(\n",
      "        (0): BottleneckBlock(\n",
      "          (shortcut): Conv2d(\n",
      "            512, 1024, kernel_size=(1, 1), stride=(2, 2), bias=False\n",
      "            (norm): FrozenBatchNorm2d(num_features=1024, eps=1e-05)\n",
      "          )\n",
      "          (conv1): Conv2d(\n",
      "            512, 256, kernel_size=(1, 1), stride=(2, 2), bias=False\n",
      "            (norm): FrozenBatchNorm2d(num_features=256, eps=1e-05)\n",
      "          )\n",
      "          (conv2): Conv2d(\n",
      "            256, 256, kernel_size=(3, 3), stride=(1, 1), padding=(1, 1), bias=False\n",
      "            (norm): FrozenBatchNorm2d(num_features=256, eps=1e-05)\n",
      "          )\n",
      "          (conv3): Conv2d(\n",
      "            256, 1024, kernel_size=(1, 1), stride=(1, 1), bias=False\n",
      "            (norm): FrozenBatchNorm2d(num_features=1024, eps=1e-05)\n",
      "          )\n",
      "        )\n",
      "        (1): BottleneckBlock(\n",
      "          (conv1): Conv2d(\n",
      "            1024, 256, kernel_size=(1, 1), stride=(1, 1), bias=False\n",
      "            (norm): FrozenBatchNorm2d(num_features=256, eps=1e-05)\n",
      "          )\n",
      "          (conv2): Conv2d(\n",
      "            256, 256, kernel_size=(3, 3), stride=(1, 1), padding=(1, 1), bias=False\n",
      "            (norm): FrozenBatchNorm2d(num_features=256, eps=1e-05)\n",
      "          )\n",
      "          (conv3): Conv2d(\n",
      "            256, 1024, kernel_size=(1, 1), stride=(1, 1), bias=False\n",
      "            (norm): FrozenBatchNorm2d(num_features=1024, eps=1e-05)\n",
      "          )\n",
      "        )\n",
      "        (2): BottleneckBlock(\n",
      "          (conv1): Conv2d(\n",
      "            1024, 256, kernel_size=(1, 1), stride=(1, 1), bias=False\n",
      "            (norm): FrozenBatchNorm2d(num_features=256, eps=1e-05)\n",
      "          )\n",
      "          (conv2): Conv2d(\n",
      "            256, 256, kernel_size=(3, 3), stride=(1, 1), padding=(1, 1), bias=False\n",
      "            (norm): FrozenBatchNorm2d(num_features=256, eps=1e-05)\n",
      "          )\n",
      "          (conv3): Conv2d(\n",
      "            256, 1024, kernel_size=(1, 1), stride=(1, 1), bias=False\n",
      "            (norm): FrozenBatchNorm2d(num_features=1024, eps=1e-05)\n",
      "          )\n",
      "        )\n",
      "        (3): BottleneckBlock(\n",
      "          (conv1): Conv2d(\n",
      "            1024, 256, kernel_size=(1, 1), stride=(1, 1), bias=False\n",
      "            (norm): FrozenBatchNorm2d(num_features=256, eps=1e-05)\n",
      "          )\n",
      "          (conv2): Conv2d(\n",
      "            256, 256, kernel_size=(3, 3), stride=(1, 1), padding=(1, 1), bias=False\n",
      "            (norm): FrozenBatchNorm2d(num_features=256, eps=1e-05)\n",
      "          )\n",
      "          (conv3): Conv2d(\n",
      "            256, 1024, kernel_size=(1, 1), stride=(1, 1), bias=False\n",
      "            (norm): FrozenBatchNorm2d(num_features=1024, eps=1e-05)\n",
      "          )\n",
      "        )\n",
      "        (4): BottleneckBlock(\n",
      "          (conv1): Conv2d(\n",
      "            1024, 256, kernel_size=(1, 1), stride=(1, 1), bias=False\n",
      "            (norm): FrozenBatchNorm2d(num_features=256, eps=1e-05)\n",
      "          )\n",
      "          (conv2): Conv2d(\n",
      "            256, 256, kernel_size=(3, 3), stride=(1, 1), padding=(1, 1), bias=False\n",
      "            (norm): FrozenBatchNorm2d(num_features=256, eps=1e-05)\n",
      "          )\n",
      "          (conv3): Conv2d(\n",
      "            256, 1024, kernel_size=(1, 1), stride=(1, 1), bias=False\n",
      "            (norm): FrozenBatchNorm2d(num_features=1024, eps=1e-05)\n",
      "          )\n",
      "        )\n",
      "        (5): BottleneckBlock(\n",
      "          (conv1): Conv2d(\n",
      "            1024, 256, kernel_size=(1, 1), stride=(1, 1), bias=False\n",
      "            (norm): FrozenBatchNorm2d(num_features=256, eps=1e-05)\n",
      "          )\n",
      "          (conv2): Conv2d(\n",
      "            256, 256, kernel_size=(3, 3), stride=(1, 1), padding=(1, 1), bias=False\n",
      "            (norm): FrozenBatchNorm2d(num_features=256, eps=1e-05)\n",
      "          )\n",
      "          (conv3): Conv2d(\n",
      "            256, 1024, kernel_size=(1, 1), stride=(1, 1), bias=False\n",
      "            (norm): FrozenBatchNorm2d(num_features=1024, eps=1e-05)\n",
      "          )\n",
      "        )\n",
      "      )\n",
      "      (res5): Sequential(\n",
      "        (0): BottleneckBlock(\n",
      "          (shortcut): Conv2d(\n",
      "            1024, 2048, kernel_size=(1, 1), stride=(2, 2), bias=False\n",
      "            (norm): FrozenBatchNorm2d(num_features=2048, eps=1e-05)\n",
      "          )\n",
      "          (conv1): Conv2d(\n",
      "            1024, 512, kernel_size=(1, 1), stride=(2, 2), bias=False\n",
      "            (norm): FrozenBatchNorm2d(num_features=512, eps=1e-05)\n",
      "          )\n",
      "          (conv2): Conv2d(\n",
      "            512, 512, kernel_size=(3, 3), stride=(1, 1), padding=(1, 1), bias=False\n",
      "            (norm): FrozenBatchNorm2d(num_features=512, eps=1e-05)\n",
      "          )\n",
      "          (conv3): Conv2d(\n",
      "            512, 2048, kernel_size=(1, 1), stride=(1, 1), bias=False\n",
      "            (norm): FrozenBatchNorm2d(num_features=2048, eps=1e-05)\n",
      "          )\n",
      "        )\n",
      "        (1): BottleneckBlock(\n",
      "          (conv1): Conv2d(\n",
      "            2048, 512, kernel_size=(1, 1), stride=(1, 1), bias=False\n",
      "            (norm): FrozenBatchNorm2d(num_features=512, eps=1e-05)\n",
      "          )\n",
      "          (conv2): Conv2d(\n",
      "            512, 512, kernel_size=(3, 3), stride=(1, 1), padding=(1, 1), bias=False\n",
      "            (norm): FrozenBatchNorm2d(num_features=512, eps=1e-05)\n",
      "          )\n",
      "          (conv3): Conv2d(\n",
      "            512, 2048, kernel_size=(1, 1), stride=(1, 1), bias=False\n",
      "            (norm): FrozenBatchNorm2d(num_features=2048, eps=1e-05)\n",
      "          )\n",
      "        )\n",
      "        (2): BottleneckBlock(\n",
      "          (conv1): Conv2d(\n",
      "            2048, 512, kernel_size=(1, 1), stride=(1, 1), bias=False\n",
      "            (norm): FrozenBatchNorm2d(num_features=512, eps=1e-05)\n",
      "          )\n",
      "          (conv2): Conv2d(\n",
      "            512, 512, kernel_size=(3, 3), stride=(1, 1), padding=(1, 1), bias=False\n",
      "            (norm): FrozenBatchNorm2d(num_features=512, eps=1e-05)\n",
      "          )\n",
      "          (conv3): Conv2d(\n",
      "            512, 2048, kernel_size=(1, 1), stride=(1, 1), bias=False\n",
      "            (norm): FrozenBatchNorm2d(num_features=2048, eps=1e-05)\n",
      "          )\n",
      "        )\n",
      "      )\n",
      "    )\n",
      "  )\n",
      "  (proposal_generator): RPN(\n",
      "    (rpn_head): StandardRPNHead(\n",
      "      (conv): Conv2d(\n",
      "        256, 256, kernel_size=(3, 3), stride=(1, 1), padding=(1, 1)\n",
      "        (activation): ReLU()\n",
      "      )\n",
      "      (objectness_logits): Conv2d(256, 3, kernel_size=(1, 1), stride=(1, 1))\n",
      "      (anchor_deltas): Conv2d(256, 12, kernel_size=(1, 1), stride=(1, 1))\n",
      "    )\n",
      "    (anchor_generator): DefaultAnchorGenerator(\n",
      "      (cell_anchors): BufferList()\n",
      "    )\n",
      "  )\n",
      "  (roi_heads): StandardROIHeads(\n",
      "    (box_pooler): ROIPooler(\n",
      "      (level_poolers): ModuleList(\n",
      "        (0): ROIAlign(output_size=(7, 7), spatial_scale=0.25, sampling_ratio=0, aligned=True)\n",
      "        (1): ROIAlign(output_size=(7, 7), spatial_scale=0.125, sampling_ratio=0, aligned=True)\n",
      "        (2): ROIAlign(output_size=(7, 7), spatial_scale=0.0625, sampling_ratio=0, aligned=True)\n",
      "        (3): ROIAlign(output_size=(7, 7), spatial_scale=0.03125, sampling_ratio=0, aligned=True)\n",
      "      )\n",
      "    )\n",
      "    (box_head): FastRCNNConvFCHead(\n",
      "      (flatten): Flatten(start_dim=1, end_dim=-1)\n",
      "      (fc1): Linear(in_features=12544, out_features=1024, bias=True)\n",
      "      (fc_relu1): ReLU()\n",
      "      (fc2): Linear(in_features=1024, out_features=1024, bias=True)\n",
      "      (fc_relu2): ReLU()\n",
      "    )\n",
      "    (box_predictor): FastRCNNOutputLayers(\n",
      "      (cls_score): Linear(in_features=1024, out_features=8, bias=True)\n",
      "      (bbox_pred): Linear(in_features=1024, out_features=28, bias=True)\n",
      "    )\n",
      "    (mask_pooler): ROIPooler(\n",
      "      (level_poolers): ModuleList(\n",
      "        (0): ROIAlign(output_size=(14, 14), spatial_scale=0.25, sampling_ratio=0, aligned=True)\n",
      "        (1): ROIAlign(output_size=(14, 14), spatial_scale=0.125, sampling_ratio=0, aligned=True)\n",
      "        (2): ROIAlign(output_size=(14, 14), spatial_scale=0.0625, sampling_ratio=0, aligned=True)\n",
      "        (3): ROIAlign(output_size=(14, 14), spatial_scale=0.03125, sampling_ratio=0, aligned=True)\n",
      "      )\n",
      "    )\n",
      "    (mask_head): MaskRCNNConvUpsampleHead(\n",
      "      (mask_fcn1): Conv2d(\n",
      "        256, 256, kernel_size=(3, 3), stride=(1, 1), padding=(1, 1)\n",
      "        (activation): ReLU()\n",
      "      )\n",
      "      (mask_fcn2): Conv2d(\n",
      "        256, 256, kernel_size=(3, 3), stride=(1, 1), padding=(1, 1)\n",
      "        (activation): ReLU()\n",
      "      )\n",
      "      (mask_fcn3): Conv2d(\n",
      "        256, 256, kernel_size=(3, 3), stride=(1, 1), padding=(1, 1)\n",
      "        (activation): ReLU()\n",
      "      )\n",
      "      (mask_fcn4): Conv2d(\n",
      "        256, 256, kernel_size=(3, 3), stride=(1, 1), padding=(1, 1)\n",
      "        (activation): ReLU()\n",
      "      )\n",
      "      (deconv): ConvTranspose2d(256, 256, kernel_size=(2, 2), stride=(2, 2))\n",
      "      (deconv_relu): ReLU()\n",
      "      (predictor): Conv2d(256, 7, kernel_size=(1, 1), stride=(1, 1))\n",
      "    )\n",
      "  )\n",
      ")\n"
     ]
    },
    {
     "name": "stdout",
     "output_type": "stream",
     "text": [
      "\u001b[32m[01/21 05:30:28 d2.data.datasets.coco]: \u001b[0mLoaded 118 images in COCO format from novelctrlk6_8_coco_dataset/train/annotations.json\n",
      "\u001b[32m[01/21 05:30:28 d2.data.build]: \u001b[0mRemoved 0 images with no usable annotations. 118 images left.\n",
      "\u001b[32m[01/21 05:30:28 d2.data.dataset_mapper]: \u001b[0m[DatasetMapper] Augmentations used in training: [ResizeShortestEdge(short_edge_length=(640, 672, 704, 736, 768, 800), max_size=1333, sample_style='choice'), RandomFlip()]\n",
      "\u001b[32m[01/21 05:30:28 d2.data.build]: \u001b[0mUsing training sampler RepeatFactorTrainingSampler\n",
      "\u001b[32m[01/21 05:30:28 d2.data.common]: \u001b[0mSerializing 118 elements to byte tensors and concatenating them all ...\n",
      "\u001b[32m[01/21 05:30:28 d2.data.common]: \u001b[0mSerialized dataset takes 0.31 MiB\n",
      "\u001b[5m\u001b[31mWARNING\u001b[0m \u001b[32m[01/21 05:30:28 d2.solver.build]: \u001b[0mSOLVER.STEPS contains values larger than SOLVER.MAX_ITER. These values will be ignored.\n"
     ]
    },
    {
     "name": "stderr",
     "output_type": "stream",
     "text": [
      "Skip loading parameter 'roi_heads.box_predictor.cls_score.weight' to the model due to incompatible shapes: (81, 1024) in the checkpoint but (8, 1024) in the model! You might want to double check if this is expected.\n",
      "Skip loading parameter 'roi_heads.box_predictor.cls_score.bias' to the model due to incompatible shapes: (81,) in the checkpoint but (8,) in the model! You might want to double check if this is expected.\n",
      "Skip loading parameter 'roi_heads.box_predictor.bbox_pred.weight' to the model due to incompatible shapes: (320, 1024) in the checkpoint but (28, 1024) in the model! You might want to double check if this is expected.\n",
      "Skip loading parameter 'roi_heads.box_predictor.bbox_pred.bias' to the model due to incompatible shapes: (320,) in the checkpoint but (28,) in the model! You might want to double check if this is expected.\n",
      "Skip loading parameter 'roi_heads.mask_head.predictor.weight' to the model due to incompatible shapes: (80, 256, 1, 1) in the checkpoint but (7, 256, 1, 1) in the model! You might want to double check if this is expected.\n",
      "Skip loading parameter 'roi_heads.mask_head.predictor.bias' to the model due to incompatible shapes: (80,) in the checkpoint but (7,) in the model! You might want to double check if this is expected.\n",
      "Some model parameters or buffers are not found in the checkpoint:\n",
      "\u001b[34mroi_heads.box_predictor.bbox_pred.{bias, weight}\u001b[0m\n",
      "\u001b[34mroi_heads.box_predictor.cls_score.{bias, weight}\u001b[0m\n",
      "\u001b[34mroi_heads.mask_head.predictor.{bias, weight}\u001b[0m\n"
     ]
    }
   ],
   "source": [
    "cfg.merge_from_file(model_zoo.get_config_file(\"COCO-InstanceSegmentation/mask_rcnn_R_50_FPN_3x.yaml\"))\n",
    "cfg.DATASETS.TRAIN = (f\"{DATASET_NAME}_train\",)\n",
    "cfg.DATASETS.TEST = ()\n",
    "cfg.DATALOADER.NUM_WORKERS = 2 #@param\n",
    "cfg.DATALOADER.SAMPLER_TRAIN = \"RepeatFactorTrainingSampler\"\n",
    "cfg.DATALOADER.REPEAT_THRESHOLD = 0.3\n",
    "cfg.MODEL.WEIGHTS = model_zoo.get_checkpoint_url(\"COCO-InstanceSegmentation/mask_rcnn_R_50_FPN_3x.yaml\")  # Let training initialize from model zoo\n",
    "cfg.SOLVER.IMS_PER_BATCH =  8 #@param\n",
    "cfg.SOLVER.BASE_LR = 0.0025 #@param # pick a good LR\n",
    "cfg.SOLVER.MAX_ITER = 3000 #@param    # 300 iterations seems good enough for 100 frames dataset; you will need to train longer for a practical dataset\n",
    "cfg.SOLVER.CHECKPOINT_PERIOD = 1000 #@param \n",
    "cfg.MODEL.ROI_HEADS.BATCH_SIZE_PER_IMAGE = 128 #@param   # faster, and good enough for this toy dataset (default: 512)\n",
    "cfg.MODEL.ROI_HEADS.NUM_CLASSES = NUM_CLASSES  #  (see https://detectron2.readthedocs.io/tutorials/datasets.html#update-the-config-for-new-datasets)\n",
    "os.makedirs(cfg.OUTPUT_DIR, exist_ok=True)\n",
    "trainer = DefaultTrainer(cfg) \n",
    "trainer.resume_or_load(resume=False)\n"
   ]
  },
  {
   "cell_type": "code",
   "execution_count": 31,
   "metadata": {
    "id": "hBXeH8UXFcqU",
    "scrolled": true
   },
   "outputs": [
    {
     "data": {
      "text/html": [
       "\n",
       "      <iframe id=\"tensorboard-frame-fca08d0d9041cf7c\" width=\"100%\" height=\"800\" frameborder=\"0\">\n",
       "      </iframe>\n",
       "      <script>\n",
       "        (function() {\n",
       "          const frame = document.getElementById(\"tensorboard-frame-fca08d0d9041cf7c\");\n",
       "          const url = new URL(\"/\", window.location);\n",
       "          const port = 6006;\n",
       "          if (port) {\n",
       "            url.port = port;\n",
       "          }\n",
       "          frame.src = url;\n",
       "        })();\n",
       "      </script>\n",
       "    "
      ],
      "text/plain": [
       "<IPython.core.display.HTML object>"
      ]
     },
     "metadata": {},
     "output_type": "display_data"
    }
   ],
   "source": [
    "# Look at training curves in tensorboard:\n",
    "%load_ext tensorboard\n",
    "%tensorboard --logdir output"
   ]
  },
  {
   "cell_type": "code",
   "execution_count": null,
   "metadata": {
    "id": "aKs8eu8u8_mr",
    "scrolled": true
   },
   "outputs": [
    {
     "name": "stdout",
     "output_type": "stream",
     "text": [
      "\u001b[32m[01/21 05:30:32 d2.engine.train_loop]: \u001b[0mStarting training from iteration 0\n"
     ]
    },
    {
     "name": "stderr",
     "output_type": "stream",
     "text": [
      "/home/jeremy/anaconda3/envs/annolid/lib/python3.7/site-packages/detectron2/structures/image_list.py:88: UserWarning: __floordiv__ is deprecated, and its behavior will change in a future version of pytorch. It currently rounds toward 0 (like the 'trunc' function NOT 'floor'). This results in incorrect rounding for negative values. To keep the current behavior, use torch.div(a, b, rounding_mode='trunc'), or for actual floor division, use torch.div(a, b, rounding_mode='floor').\n",
      "  max_size = (max_size + (stride - 1)) // stride * stride\n"
     ]
    },
    {
     "name": "stdout",
     "output_type": "stream",
     "text": [
      "\u001b[32m[01/21 05:45:21 d2.utils.events]: \u001b[0m eta: 1 day, 11:17:38  iter: 19  total_loss: 5.468  loss_cls: 2.148  loss_box_reg: 0.5272  loss_mask: 0.6881  loss_rpn_cls: 1.72  loss_rpn_loc: 0.3729  time: 43.2125  data_time: 0.9429  lr: 4.9952e-05  \n",
      "\u001b[32m[01/21 06:00:07 d2.utils.events]: \u001b[0m eta: 1 day, 11:08:08  iter: 39  total_loss: 3.097  loss_cls: 1.367  loss_box_reg: 0.7502  loss_mask: 0.6692  loss_rpn_cls: 0.0581  loss_rpn_loc: 0.2386  time: 43.7766  data_time: 0.1620  lr: 9.9902e-05  \n",
      "\u001b[32m[01/21 06:15:11 d2.utils.events]: \u001b[0m eta: 1 day, 11:23:44  iter: 59  total_loss: 2.656  loss_cls: 0.9361  loss_box_reg: 0.8174  loss_mask: 0.6501  loss_rpn_cls: 0.04557  loss_rpn_loc: 0.2009  time: 44.2544  data_time: 0.3378  lr: 0.00014985  \n",
      "\u001b[32m[01/21 06:30:06 d2.utils.events]: \u001b[0m eta: 1 day, 11:36:27  iter: 79  total_loss: 2.546  loss_cls: 0.8501  loss_box_reg: 0.8529  loss_mask: 0.6259  loss_rpn_cls: 0.03656  loss_rpn_loc: 0.171  time: 44.3795  data_time: 0.2600  lr: 0.0001998  \n",
      "\u001b[32m[01/21 06:45:25 d2.utils.events]: \u001b[0m eta: 1 day, 11:49:31  iter: 99  total_loss: 2.398  loss_cls: 0.7593  loss_box_reg: 0.8424  loss_mask: 0.5998  loss_rpn_cls: 0.02868  loss_rpn_loc: 0.1571  time: 44.7053  data_time: 0.2938  lr: 0.00024975  \n",
      "\u001b[32m[01/21 07:00:40 d2.utils.events]: \u001b[0m eta: 1 day, 12:00:27  iter: 119  total_loss: 2.246  loss_cls: 0.6708  loss_box_reg: 0.8458  loss_mask: 0.5625  loss_rpn_cls: 0.02621  loss_rpn_loc: 0.1413  time: 44.8800  data_time: 0.2338  lr: 0.0002997  \n",
      "\u001b[32m[01/21 07:15:43 d2.utils.events]: \u001b[0m eta: 1 day, 11:45:27  iter: 139  total_loss: 2.088  loss_cls: 0.5662  loss_box_reg: 0.8213  loss_mask: 0.516  loss_rpn_cls: 0.0241  loss_rpn_loc: 0.1524  time: 44.9145  data_time: 0.3756  lr: 0.00034965  \n",
      "\u001b[32m[01/21 07:30:58 d2.utils.events]: \u001b[0m eta: 1 day, 11:35:28  iter: 159  total_loss: 1.935  loss_cls: 0.4962  loss_box_reg: 0.8112  loss_mask: 0.4783  loss_rpn_cls: 0.01789  loss_rpn_loc: 0.1299  time: 45.0222  data_time: 0.2637  lr: 0.0003996  \n",
      "\u001b[32m[01/21 07:45:27 d2.utils.events]: \u001b[0m eta: 1 day, 10:58:47  iter: 179  total_loss: 1.76  loss_cls: 0.4156  loss_box_reg: 0.7409  loss_mask: 0.4555  loss_rpn_cls: 0.01664  loss_rpn_loc: 0.1159  time: 44.8434  data_time: 0.3959  lr: 0.00044955  \n",
      "\u001b[32m[01/21 08:00:15 d2.utils.events]: \u001b[0m eta: 1 day, 10:45:20  iter: 199  total_loss: 1.601  loss_cls: 0.3544  loss_box_reg: 0.6466  loss_mask: 0.4189  loss_rpn_cls: 0.01428  loss_rpn_loc: 0.155  time: 44.7952  data_time: 0.1965  lr: 0.0004995  \n",
      "\u001b[32m[01/21 08:19:34 d2.utils.events]: \u001b[0m eta: 1 day, 10:53:54  iter: 219  total_loss: 1.503  loss_cls: 0.332  loss_box_reg: 0.627  loss_mask: 0.412  loss_rpn_cls: 0.01383  loss_rpn_loc: 0.1079  time: 46.0042  data_time: 0.2561  lr: 0.00054945  \n",
      "\u001b[32m[01/21 08:37:55 d2.utils.events]: \u001b[0m eta: 1 day, 10:57:54  iter: 239  total_loss: 1.451  loss_cls: 0.3034  loss_box_reg: 0.6088  loss_mask: 0.3939  loss_rpn_cls: 0.01198  loss_rpn_loc: 0.1344  time: 46.7601  data_time: 1.9454  lr: 0.0005994  \n",
      "\u001b[32m[01/21 08:55:18 d2.utils.events]: \u001b[0m eta: 1 day, 11:08:11  iter: 259  total_loss: 1.427  loss_cls: 0.2782  loss_box_reg: 0.5884  loss_mask: 0.3941  loss_rpn_cls: 0.01654  loss_rpn_loc: 0.1403  time: 47.1773  data_time: 0.6930  lr: 0.00064935  \n"
     ]
    }
   ],
   "source": [
    "trainer.train()"
   ]
  },
  {
   "cell_type": "markdown",
   "metadata": {
    "id": "0e4vdDIOXyxF"
   },
   "source": [
    "## Inference & evaluation using the trained model\n",
    "Now, let's run inference with the trained model on the validation dataset. First, let's create a predictor using the model we just trained:\n",
    "\n"
   ]
  },
  {
   "cell_type": "code",
   "execution_count": null,
   "metadata": {
    "id": "Ya5nEuMELeq8"
   },
   "outputs": [],
   "source": [
    "# Inference should use the config with parameters that are used in training\n",
    "# cfg now already contains everything we've set previously. \n",
    "# We simply update the weights with the newly trained ones to perform inference:\n",
    "cfg.MODEL.WEIGHTS = os.path.join(cfg.OUTPUT_DIR, \"model_final.pth\")  # path to the model we just trained\n",
    "# set a custom testing threshold\n",
    "cfg.MODEL.ROI_HEADS.SCORE_THRESH_TEST = 0.15   #@param {type: \"slider\", min:0.0, max:1.0, step: 0.01}\n",
    "predictor = DefaultPredictor(cfg)"
   ]
  },
  {
   "cell_type": "markdown",
   "metadata": {
    "id": "qWq1XHfDWiXO"
   },
   "source": [
    "Then, we randomly select several samples to visualize the prediction results."
   ]
  },
  {
   "cell_type": "code",
   "execution_count": null,
   "metadata": {},
   "outputs": [],
   "source": [
    "from detectron2.utils.visualizer import ColorMode"
   ]
  },
  {
   "cell_type": "code",
   "execution_count": null,
   "metadata": {
    "id": "U5LhISJqWXgM"
   },
   "outputs": [],
   "source": [
    "dataset_dicts = get_detection_dataset_dicts([f\"{DATASET_NAME}_valid\"])\n",
    "for d in random.sample(dataset_dicts, 4):    \n",
    "    im = cv2.imread(d[\"file_name\"])\n",
    "    outputs = predictor(im)  # format is documented at https://detectron2.readthedocs.io/tutorials/models.html#model-output-format\n",
    "    v = Visualizer(im[:, :, ::-1],\n",
    "                   metadata=_dataset_metadata, \n",
    "                   scale=0.5, \n",
    "                   instance_mode=ColorMode.SEGMENTATION   # remove the colors of unsegmented pixels. This option is only available for segmentation models\n",
    "    )\n",
    "    out = v.draw_instance_predictions(outputs[\"instances\"].to(\"cpu\"))\n",
    "    if IN_COLAB:\n",
    "        cv2_imshow(out.get_image()[:, :, ::-1])\n",
    "    else:\n",
    "        plt.imshow(out.get_image()[:, :, ::-1])\n",
    "        plt.show()\n",
    "        "
   ]
  },
  {
   "cell_type": "markdown",
   "metadata": {
    "id": "kblA1IyFvWbT"
   },
   "source": [
    "A more robust way to evaluate the model is to use a metric called Average Precision (AP) already implemented in the detectron2 package. If you want more precision on what the AP is, you can take a look [here](https://scikit-learn.org/stable/modules/generated/sklearn.metrics.average_precision_score.html#sklearn.metrics.average_precision_score) and [here](https://en.wikipedia.org/w/index.php?title=Information_retrieval&oldid=793358396#Average_precision). "
   ]
  },
  {
   "cell_type": "markdown",
   "metadata": {},
   "source": [
    "### #TODO: expand on  how to interpret AP"
   ]
  },
  {
   "cell_type": "code",
   "execution_count": null,
   "metadata": {},
   "outputs": [],
   "source": [
    "from detectron2.evaluation import COCOEvaluator, inference_on_dataset\n",
    "from detectron2.data import build_detection_test_loader"
   ]
  },
  {
   "cell_type": "code",
   "execution_count": null,
   "metadata": {
    "id": "h9tECBQCvMv3"
   },
   "outputs": [],
   "source": [
    "if IN_COLAB:\n",
    "    evaluator = COCOEvaluator(f\"{DATASET_NAME}_valid\", cfg, False, output_dir=\"/content/eval_output/\")\n",
    "else:\n",
    "    evaluator = COCOEvaluator(f\"{DATASET_NAME}_valid\", cfg, False, output_dir=\"eval_output/\")\n",
    "\n",
    "val_loader = build_detection_test_loader(cfg, f\"{DATASET_NAME}_valid\")\n",
    "print(inference_on_dataset(predictor.model, val_loader, evaluator))\n",
    "# another equivalent way to evaluate the model is to use `trainer.test`"
   ]
  },
  {
   "cell_type": "markdown",
   "metadata": {
    "id": "HFuPzChWzU6Q"
   },
   "source": [
    "# Let's test our newly trained mode on a new video"
   ]
  },
  {
   "cell_type": "markdown",
   "metadata": {
    "id": "Ajsf88l3AAWU"
   },
   "source": [
    "## We download a video from a URL"
   ]
  },
  {
   "cell_type": "code",
   "execution_count": null,
   "metadata": {
    "id": "GY5wFYbotW9i"
   },
   "outputs": [],
   "source": [
    "#e.g.\n",
    "#!wget https://hosting-website.com/your-video.mp4"
   ]
  },
  {
   "cell_type": "markdown",
   "metadata": {
    "id": "606Pdue7BRP3"
   },
   "source": [
    "### Please change the VIDEO_INPUT to the path of your inference video"
   ]
  },
  {
   "cell_type": "code",
   "execution_count": null,
   "metadata": {
    "id": "5K5hZpsWDqnY"
   },
   "outputs": [],
   "source": [
    "VIDEO_INPUT=\"/content/video60.mkv\"\n",
    "OUTPUT_DIR = \"/content/eval_output\""
   ]
  },
  {
   "cell_type": "code",
   "execution_count": null,
   "metadata": {},
   "outputs": [],
   "source": [
    "VIDEO_INPUT = '../../sample_dataset/sample_video.mp4'\n",
    "OUTPUT_DIR = \"../../sample_dataset/\""
   ]
  },
  {
   "cell_type": "code",
   "execution_count": null,
   "metadata": {},
   "outputs": [],
   "source": [
    "import cv2"
   ]
  },
  {
   "cell_type": "code",
   "execution_count": null,
   "metadata": {
    "id": "xn0LVJTWtLhJ"
   },
   "outputs": [],
   "source": [
    "video = cv2.VideoCapture(VIDEO_INPUT)\n",
    "width = int(video.get(cv2.CAP_PROP_FRAME_WIDTH))\n",
    "height = int(video.get(cv2.CAP_PROP_FRAME_HEIGHT))\n",
    "frames_per_second = video.get(cv2.CAP_PROP_FPS)\n",
    "num_frames = int(video.get(cv2.CAP_PROP_FRAME_COUNT))\n",
    "basename = os.path.basename(VIDEO_INPUT)"
   ]
  },
  {
   "cell_type": "code",
   "execution_count": null,
   "metadata": {
    "id": "TXLpO4_AtgGO"
   },
   "outputs": [],
   "source": [
    "import os \n",
    "os.makedirs(OUTPUT_DIR,exist_ok=True)"
   ]
  },
  {
   "cell_type": "code",
   "execution_count": null,
   "metadata": {
    "id": "14VKYjHr2gGg"
   },
   "outputs": [],
   "source": [
    "def _frame_from_video(video):\n",
    "  attempt = 0\n",
    "  for i in range(num_frames):\n",
    "      success, frame = video.read()\n",
    "      if success:\n",
    "          yield frame\n",
    "      else:\n",
    "          attempt += 1\n",
    "          if attempt >= 2000:\n",
    "              break\n",
    "          else:\n",
    "              video.set(cv2.CAP_PROP_POS_FRAMES, i+1)\n",
    "              print('Cannot read this frame:', i)\n",
    "              continue"
   ]
  },
  {
   "cell_type": "code",
   "execution_count": null,
   "metadata": {
    "id": "_JHTT5XKIBsf"
   },
   "outputs": [],
   "source": [
    "import pandas as pd\n",
    "import pycocotools.mask as mask_util"
   ]
  },
  {
   "cell_type": "code",
   "execution_count": null,
   "metadata": {
    "id": "AIG71LHZPsgs"
   },
   "outputs": [],
   "source": [
    "class_names = _dataset_metadata.thing_classes\n",
    "print(class_names)"
   ]
  },
  {
   "cell_type": "code",
   "execution_count": null,
   "metadata": {
    "id": "MYI_Cv-GBplZ"
   },
   "outputs": [],
   "source": [
    "frame_number = 0\n",
    "tracking_results = []\n",
    "VIS = True\n",
    "for frame in _frame_from_video(video): \n",
    "    im = frame\n",
    "    outputs = predictor(im)\n",
    "    out_dict = {}  \n",
    "    instances = outputs[\"instances\"].to(\"cpu\")\n",
    "    num_instance = len(instances)\n",
    "    if num_instance == 0:\n",
    "        out_dict['frame_number'] = frame_number\n",
    "        out_dict['x1'] = None\n",
    "        out_dict['y1'] = None\n",
    "        out_dict['x2'] = None\n",
    "        out_dict['y2'] = None\n",
    "        out_dict['instance_name'] = None\n",
    "        out_dict['class_score'] = None\n",
    "        out_dict['segmentation'] = None\n",
    "        tracking_results.append(out_dict)\n",
    "        out_dict = {}\n",
    "    else:\n",
    "        boxes = instances.pred_boxes.tensor.numpy()\n",
    "        boxes = boxes.tolist()\n",
    "        scores = instances.scores.tolist()\n",
    "        classes = instances.pred_classes.tolist()\n",
    "\n",
    "        has_mask = instances.has(\"pred_masks\")\n",
    "\n",
    "        if has_mask:\n",
    "            rles =[\n",
    "                   mask_util.encode(np.array(mask[:,:,None], order=\"F\", dtype=\"uint8\"))[0]\n",
    "                   for mask in instances.pred_masks\n",
    "            ]\n",
    "            for rle in rles:\n",
    "              rle[\"counts\"] = rle[\"counts\"].decode(\"utf-8\")\n",
    "\n",
    "        assert len(rles) == len(boxes)\n",
    "        for k in range(num_instance):\n",
    "            box = boxes[k]\n",
    "            out_dict['frame_number'] = frame_number\n",
    "            out_dict['x1'] = box[0]\n",
    "            out_dict['y1'] = box[1]\n",
    "            out_dict['x2'] = box[2]\n",
    "            out_dict['y2'] = box[3]\n",
    "            out_dict['instance_name'] = class_names[classes[k]]\n",
    "            out_dict['class_score'] = scores[k]\n",
    "            out_dict['segmentation'] = rles[k]\n",
    "            if frame_number % 1000 == 0:\n",
    "              print(f\"Frame number {frame_number}: {out_dict}\")\n",
    "            tracking_results.append(out_dict)\n",
    "            out_dict = {}\n",
    "        \n",
    "    # format is documented at https://detectron2.readthedocs.io/tutorials/models.html#model-output-format\n",
    "    if VIS:\n",
    "        v = Visualizer(im[:, :, ::-1],\n",
    "                    metadata=_dataset_metadata, \n",
    "                    scale=0.5, \n",
    "                    instance_mode=ColorMode.IMAGE_BW   # remove the colors of unsegmented pixels. This option is only available for segmentation models\n",
    "         )\n",
    "        out = v.draw_instance_predictions(outputs[\"instances\"].to(\"cpu\"))\n",
    "        out_image = out.get_image()[:, :, ::-1]\n",
    "        if frame_number % 1000 == 0:\n",
    "            if IN_COLAB:\n",
    "                cv2_imshow(out_image)\n",
    "            else:\n",
    "                plt.imshow(out_image)\n",
    "                plt.show()\n",
    "            #Trun off the visulization to save time after the first frame\n",
    "            VIS = False\n",
    "    frame_number += 1\n",
    "    print(f\"Processing frame number {frame_number}\")\n",
    "\n",
    "video.release()"
   ]
  },
  {
   "cell_type": "markdown",
   "metadata": {
    "id": "uGtm3KALxyqp"
   },
   "source": [
    "## All the tracking results will be saved to this Pandas dataframe. \n",
    "\n"
   ]
  },
  {
   "cell_type": "code",
   "execution_count": null,
   "metadata": {
    "id": "3W6dRQXoN85C"
   },
   "outputs": [],
   "source": [
    "df = pd.DataFrame(tracking_results)"
   ]
  },
  {
   "cell_type": "code",
   "execution_count": null,
   "metadata": {
    "id": "lIR1fe6zODRq"
   },
   "outputs": [],
   "source": [
    "df.head()"
   ]
  },
  {
   "cell_type": "markdown",
   "metadata": {
    "id": "DgI8caT9-mlO"
   },
   "source": [
    "## Calculate the bbox center point x, y locations"
   ]
  },
  {
   "cell_type": "code",
   "execution_count": null,
   "metadata": {
    "id": "UGBFdG8RIcZo"
   },
   "outputs": [],
   "source": [
    "cx = (df.x1 + df.x2)/2\n",
    "cy = (df.y1 + df.y2)/2\n",
    "df['cx'] = cx\n",
    "df['cy'] = cy"
   ]
  },
  {
   "cell_type": "code",
   "execution_count": null,
   "metadata": {
    "id": "1R2Xii899cob",
    "scrolled": true
   },
   "outputs": [],
   "source": [
    "df.head()"
   ]
  },
  {
   "cell_type": "markdown",
   "metadata": {
    "id": "_0NJtjZUsoQK"
   },
   "source": [
    "## Only save the top 1 prediction for each frame for each class\n",
    "Note: You can change the number to save top n predictions for each frame and an instance name. head(2), head(5), or head(n)\n",
    "To save all the predictions, please use `df.to_csv('my_tracking_results.csv')`."
   ]
  },
  {
   "cell_type": "code",
   "execution_count": null,
   "metadata": {
    "id": "qAJ5dU-EhDXP"
   },
   "outputs": [],
   "source": [
    "df_top = df.groupby(['frame_number','instance_name'],sort=False).head(1)"
   ]
  },
  {
   "cell_type": "code",
   "execution_count": null,
   "metadata": {
    "id": "27jn0z3_hTKS"
   },
   "outputs": [],
   "source": [
    "df_top.head()"
   ]
  },
  {
   "cell_type": "markdown",
   "metadata": {
    "id": "5A1KvDDe_K8P"
   },
   "source": [
    "## Visualize the center points with plotly scatter plot"
   ]
  },
  {
   "cell_type": "code",
   "execution_count": null,
   "metadata": {
    "id": "5oY3tHTOTc-Z"
   },
   "outputs": [],
   "source": [
    "df_vis = df_top[df_top.instance_name != 'Text'][['frame_number','cx','cy','instance_name']]"
   ]
  },
  {
   "cell_type": "code",
   "execution_count": null,
   "metadata": {
    "id": "ZhxX1tpGI1LX"
   },
   "outputs": [],
   "source": [
    "import plotly.express as px\n",
    "import plotly.graph_objects as go\n",
    "import numpy as np\n",
    "\n",
    "fig = px.scatter(df_vis, \n",
    "                 x=\"cx\",\n",
    "                 y=\"cy\", \n",
    "                 color=\"instance_name\",\n",
    "                 hover_data=['frame_number','cx','cy'])\n",
    "fig.show()"
   ]
  },
  {
   "cell_type": "code",
   "execution_count": null,
   "metadata": {
    "id": "2pfF0eecelCY"
   },
   "outputs": [],
   "source": [
    "from pathlib import  Path\n",
    "tracking_results_csv = f\"{Path(dataset).stem}_{Path(VIDEO_INPUT).stem}_{cfg.SOLVER.MAX_ITER}_iters_mask_rcnn_tracking_results_with_segmenation.csv\"\n",
    "df_top.to_csv(tracking_results_csv)"
   ]
  },
  {
   "cell_type": "markdown",
   "metadata": {
    "id": "DlVKcxTW5tIa"
   },
   "source": [
    "## Download the tracking result CSV file to your local device"
   ]
  },
  {
   "cell_type": "code",
   "execution_count": null,
   "metadata": {
    "id": "dFpaGUfsPvJZ"
   },
   "outputs": [],
   "source": [
    "if IN_COLAB:\n",
    "    from google.colab import files\n",
    "    files.download(tracking_results_csv)"
   ]
  },
  {
   "cell_type": "markdown",
   "metadata": {
    "id": "zQUPfuDFNGLK"
   },
   "source": [
    "# The following sections are optional. "
   ]
  },
  {
   "cell_type": "markdown",
   "metadata": {
    "id": "KcHDEwHF_t0k"
   },
   "source": [
    "## Caculate the distance of a pair of instances in a given frame"
   ]
  },
  {
   "cell_type": "code",
   "execution_count": null,
   "metadata": {
    "id": "AG2I6f50FeQW"
   },
   "outputs": [],
   "source": [
    "def paired_distance(frame_number,\n",
    "                    this_instance='frog_m_2',\n",
    "                    other_instance='frog_f_2'):\n",
    "    df_dis = df_top[df_top[\"frame_number\"]==frame_number][['cx','cy','instance_name']]\n",
    "    df_this = df_dis[df_dis.instance_name == this_instance]\n",
    "    df_other = df_dis[df_dis.instance_name == other_instance]\n",
    "    try:\n",
    "      dist = np.linalg.norm(df_this[['cx','cy']].values-df_other[['cx','cy']].values)\n",
    "    except:\n",
    "      dist = None\n",
    "\n",
    "\n",
    "    return dist"
   ]
  },
  {
   "cell_type": "markdown",
   "metadata": {
    "id": "HdofIPlHMy_F"
   },
   "source": [
    "## Calculate the distance of the instance from the current and previous frame"
   ]
  },
  {
   "cell_type": "code",
   "execution_count": null,
   "metadata": {
    "id": "gOqMSj-_tqCI"
   },
   "outputs": [],
   "source": [
    "def instance_distance_between_frame(frame_number,\n",
    "                                    instance_name='frog_m_1'):\n",
    "    if frame_number < 1:\n",
    "      return 0\n",
    "    previous_frame_number = frame_number - 1\n",
    "    df_dis = df_top[df_top[\"frame_number\"]==frame_number][['cx','cy','instance_name']]\n",
    "    df_dis_prev = df_top[df_top[\"frame_number\"]==previous_frame_number][['cx','cy','instance_name']]\n",
    "    df_dis = df_dis[df_dis.instance_name == instance_name]\n",
    "    df_dis_prev = df_dis_prev[df_dis_prev.instance_name == instance_name]\n",
    "\n",
    "    try:\n",
    "      dist = np.linalg.norm(df_dis[['cx','cy']].values-df_dis_prev[['cx','cy']].values)\n",
    "    except:\n",
    "      dist = None\n",
    "    \n",
    "    return dist\n",
    "    "
   ]
  },
  {
   "cell_type": "code",
   "execution_count": null,
   "metadata": {
    "id": "mJ2njLTh1ykg"
   },
   "outputs": [],
   "source": [
    "df_top['dist_from_previous_frame_frog_m_1'] = df_top.frame_number.apply(instance_distance_between_frame)"
   ]
  },
  {
   "cell_type": "markdown",
   "metadata": {
    "id": "-aePsYWl9aZD"
   },
   "source": [
    "## The total distance traveled for frog male in Tank 1 in pixels"
   ]
  },
  {
   "cell_type": "code",
   "execution_count": null,
   "metadata": {
    "id": "FHHbQ1k48E3o"
   },
   "outputs": [],
   "source": [
    "df_top['dist_from_previous_frame_frog_m_1'].sum()\n"
   ]
  },
  {
   "cell_type": "code",
   "execution_count": null,
   "metadata": {
    "id": "Hmu7v7mq4hXc"
   },
   "outputs": [],
   "source": [
    "\n",
    "fig = px.line(x=df_top.frame_number, y=df_top.dist_from_previous_frame_frog_m_1, labels={'x':'frame_number', 'y':'distance from previous frame frog_m_1'})\n",
    "fig.show()"
   ]
  },
  {
   "cell_type": "markdown",
   "metadata": {
    "id": "oZhLFRIPTUzj"
   },
   "source": [
    "## Download and save the results to your local device"
   ]
  },
  {
   "cell_type": "markdown",
   "metadata": {
    "id": "fHgj_P1rCJ7D"
   },
   "source": [
    "### Please change the desired CSV file name"
   ]
  },
  {
   "cell_type": "code",
   "execution_count": null,
   "metadata": {
    "id": "rh8dfLzzrBEQ"
   },
   "outputs": [],
   "source": [
    "tracking_results_with_area_perimeter_csv = f\"{tracking_results_csv.replace('.csv','_final.csv')}\"\n",
    "df_top.to_csv(tracking_results_with_area_perimeter_csv)\n",
    "files.download(tracking_results_with_area_perimeter_csv)"
   ]
  },
  {
   "cell_type": "markdown",
   "metadata": {
    "id": "N8a6yPdm9xLn"
   },
   "source": [
    "## Distance between frog male in tank 2 and frog female in tank 2 in pixels"
   ]
  },
  {
   "cell_type": "code",
   "execution_count": null,
   "metadata": {
    "id": "Y_foH7jn-DQe"
   },
   "outputs": [],
   "source": [
    "df_top['dist_frog_m2_f2'] = df_top.frame_number.apply(paired_distance)"
   ]
  },
  {
   "cell_type": "code",
   "execution_count": null,
   "metadata": {
    "id": "Dbscz2qYgHHg"
   },
   "outputs": [],
   "source": [
    "\n",
    "fig = px.line(x=df_top.frame_number, y=df_top.dist_frog_m2_f2, labels={'x':'frame_number', 'y':'distance between frog male in tank 2 to frog female in tank 2'})\n",
    "fig.show()"
   ]
  },
  {
   "cell_type": "markdown",
   "metadata": {
    "id": "-u2dGs54Ctuo"
   },
   "source": [
    "## Save and download the trained model weights"
   ]
  },
  {
   "cell_type": "code",
   "execution_count": null,
   "metadata": {
    "id": "BSpX5Yr-Cyq-"
   },
   "outputs": [],
   "source": [
    "final_model_file = os.path.join(cfg.OUTPUT_DIR,'model_final.pth')\n",
    "files.download(final_model_file)"
   ]
  }
 ],
 "metadata": {
  "accelerator": "GPU",
  "colab": {
   "collapsed_sections": [],
   "name": "Annolid of Detectron2 Tutorial.ipynb",
   "provenance": []
  },
  "kernelspec": {
   "display_name": "annolid-env",
   "language": "python",
   "name": "annolid-env"
  },
  "language_info": {
   "codemirror_mode": {
    "name": "ipython",
    "version": 3
   },
   "file_extension": ".py",
   "mimetype": "text/x-python",
   "name": "python",
   "nbconvert_exporter": "python",
   "pygments_lexer": "ipython3",
   "version": "3.7.11"
  }
 },
 "nbformat": 4,
 "nbformat_minor": 2
}
