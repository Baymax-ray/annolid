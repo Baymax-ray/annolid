{
  "nbformat": 4,
  "nbformat_minor": 0,
  "metadata": {
    "colab": {
      "name": "Annolid_video_batch_inference",
      "provenance": [],
      "collapsed_sections": []
    },
    "kernelspec": {
      "display_name": "Python 3",
      "name": "python3"
    },
    "accelerator": "GPU"
  },
  "cells": [
    {
      "cell_type": "markdown",
      "metadata": {
        "id": "gtCYnCrB8BxZ"
      },
      "source": [
        "<a href=\"https://colab.research.google.com/github/healthonrails/annolid/blob/master/docs/tutorials/Annolid_video_batch_inference.ipynb\" target=\"_blank\"><img src=\"https://colab.research.google.com/assets/colab-badge.svg\" alt=\"Open In Colab\"/></a>"
      ]
    },
    {
      "cell_type": "markdown",
      "metadata": {
        "id": "7Z2jcRKwUHqV"
      },
      "source": [
        "*This* notebook provides recipes for batch inference on your videos with a trained model and the datasets used for training the model.\n",
        "You need to upload your the following files from your local drive or mount the Google Drive that contains them. \n",
        "1. Custom COCO Format Dataset (e.g. my_coco_dataset.zip)\n",
        "2. A trained model saved as .pth format (e.g. model_final.pth)\n",
        "3. A folder contains all the videos (e.g. my_videos folder has video files like 1.mp4, 2.avi ...)"
      ]
    },
    {
      "cell_type": "markdown",
      "metadata": {
        "id": "7he396rSMrBX"
      },
      "source": [
        "# Install Detectron2"
      ]
    },
    {
      "cell_type": "code",
      "metadata": {
        "id": "vlSWv54MMpNx"
      },
      "source": [
        "# install dependencies: \n",
        "!pip install pyyaml==5.3\n",
        "import torch, torchvision\n",
        "print(torch.__version__, torch.cuda.is_available())\n",
        "!gcc --version\n",
        "# opencv is pre-installed on colab"
      ],
      "execution_count": null,
      "outputs": []
    },
    {
      "cell_type": "code",
      "metadata": {
        "id": "iW0omgjJMUDC"
      },
      "source": [
        "!pip install detectron2 -f https://dl.fbaipublicfiles.com/detectron2/wheels/cu102/torch1.9/index.html"
      ],
      "execution_count": null,
      "outputs": []
    },
    {
      "cell_type": "markdown",
      "metadata": {
        "id": "Yf7YXWfFZsmf"
      },
      "source": [
        "# Download and install Annolid"
      ]
    },
    {
      "cell_type": "code",
      "metadata": {
        "id": "3HnNyOswKbC5"
      },
      "source": [
        "!git clone --recurse-submodules https://github.com/healthonrails/annolid.git"
      ],
      "execution_count": null,
      "outputs": []
    },
    {
      "cell_type": "code",
      "metadata": {
        "id": "WlKFjlxuLRA3"
      },
      "source": [
        "%cd annolid"
      ],
      "execution_count": null,
      "outputs": []
    },
    {
      "cell_type": "code",
      "metadata": {
        "id": "cdgJJckJLTv2"
      },
      "source": [
        "!pip install -e ."
      ],
      "execution_count": null,
      "outputs": []
    },
    {
      "cell_type": "code",
      "metadata": {
        "id": "wsW5Q6dwcrta"
      },
      "source": [
        "import numpy as np\n",
        "import cv2\n",
        "import glob\n",
        "import requests\n",
        "import pandas as pd\n",
        "from pathlib import Path\n",
        "from annolid.annotation.keypoints import save_labels\n",
        "from annolid.postprocessing.quality_control import pred_dict_to_labelme\n",
        "from annolid.data.videos import frame_from_video\n",
        "from annolid.inference.predict import Segmentor"
      ],
      "execution_count": null,
      "outputs": []
    },
    {
      "cell_type": "markdown",
      "metadata": {
        "id": "eikfzi8ZT_rW"
      },
      "source": [
        "# Local file system (Please skip this section if you want to use the files in your Google Drive)"
      ]
    },
    {
      "cell_type": "markdown",
      "metadata": {
        "id": "BaCkyg5CV5jF"
      },
      "source": [
        "## Uploading files from your local file system\n",
        "\n",
        "`files.upload` returns a dictionary of the files which were uploaded.\n",
        "The dictionary is keyed by the file name and values are the data which were uploaded."
      ]
    },
    {
      "cell_type": "code",
      "metadata": {
        "id": "vz-jH8T_Uk2c"
      },
      "source": [
        "from google.colab import files\n",
        "\n",
        "uploaded = files.upload()\n",
        "\n",
        "for fn in uploaded.keys():\n",
        "  print('User uploaded file \"{name}\" with length {length} bytes'.format(\n",
        "      name=fn, length=len(uploaded[fn])))"
      ],
      "execution_count": null,
      "outputs": []
    },
    {
      "cell_type": "markdown",
      "metadata": {
        "id": "64TzYFFufN8t"
      },
      "source": [
        "# Mount your Google Drive on this runtime"
      ]
    },
    {
      "cell_type": "code",
      "metadata": {
        "id": "dhVnij13fm1e"
      },
      "source": [
        "from google.colab import drive\n",
        "drive.mount('/content/drive')"
      ],
      "execution_count": null,
      "outputs": []
    },
    {
      "cell_type": "markdown",
      "metadata": {
        "id": "VrhkLihIiKpt"
      },
      "source": [
        "# Example for unzip your COCO format dataset zip file"
      ]
    },
    {
      "cell_type": "code",
      "metadata": {
        "id": "ymtCoovZM85D"
      },
      "source": [
        "!unzip /content/my_coco_dataset.zip -d /content"
      ],
      "execution_count": null,
      "outputs": []
    },
    {
      "cell_type": "code",
      "metadata": {
        "id": "UqPPW1kMM-AH"
      },
      "source": [
        "DATASET_DIR = \"/content/my_coco_dataset\"\n",
        "MODEL_PATH =  \"/content/model_final.pth\"\n",
        "VIDEOS_FOLDER = '/content/my_videos'"
      ],
      "execution_count": null,
      "outputs": []
    },
    {
      "cell_type": "markdown",
      "metadata": {
        "id": "hPPf4-n7aLMF"
      },
      "source": [
        "#Load the predictor"
      ]
    },
    {
      "cell_type": "code",
      "metadata": {
        "id": "RWJ0BeYdOpdP"
      },
      "source": [
        "predictor = Segmentor(DATASET_DIR,MODEL_PATH)"
      ],
      "execution_count": null,
      "outputs": []
    },
    {
      "cell_type": "markdown",
      "metadata": {
        "id": "O5b7pb7oljyO"
      },
      "source": [
        "# Find all the video files in the given `VIDEOS_FOLDER`"
      ]
    },
    {
      "cell_type": "code",
      "metadata": {
        "id": "frXbD7n6ZG5b"
      },
      "source": [
        "video_files = glob.glob(VIDEOS_FOLDER + '/*.*')"
      ],
      "execution_count": null,
      "outputs": []
    },
    {
      "cell_type": "markdown",
      "metadata": {
        "id": "zxe7zEbZl1nS"
      },
      "source": [
        "# Batch inference for the videos"
      ]
    },
    {
      "cell_type": "code",
      "metadata": {
        "id": "UGe0hazbahlS"
      },
      "source": [
        "for video_file in video_files:\n",
        "  cap = cv2.VideoCapture(video_file)\n",
        "  if cap.isOpened():\n",
        "    cap.release()\n",
        "    print(\"Working on video, \", video_file)\n",
        "    predictor.on_video(video_file)\n",
        "  else:\n",
        "    print(\"Cannot open this file\", video_file)\n",
        "    cap.release()"
      ],
      "execution_count": null,
      "outputs": []
    },
    {
      "cell_type": "markdown",
      "metadata": {
        "id": "hauvGV4hV-Mh"
      },
      "source": [
        "## Downloading files to your local file system\n",
        "\n",
        "`files.download` will invoke a browser download of the file to your local computer.\n"
      ]
    },
    {
      "cell_type": "code",
      "metadata": {
        "id": "p2E4EKhCWEC5"
      },
      "source": [
        "from google.colab import files\n",
        "tracking_csv_files = glob.glob(str(Path(DATASET_DIR).parent) + '/*mask*tracking*.csv')\n",
        "for tcf in tracking_csv_files:\n",
        "    files.download(tcf)"
      ],
      "execution_count": null,
      "outputs": []
    },
    {
      "cell_type": "markdown",
      "metadata": {
        "id": "u22w3BFiOveA"
      },
      "source": [
        "## Or saving the tracking results csv files to your Google Drive\n",
        "\n"
      ]
    },
    {
      "cell_type": "code",
      "metadata": {
        "id": "RWSJpsyKqHjH"
      },
      "source": [
        "import shutil"
      ],
      "execution_count": null,
      "outputs": []
    },
    {
      "cell_type": "code",
      "metadata": {
        "id": "tYXQViLfAvwk"
      },
      "source": [
        "for tcf in tracking_csv_files:\n",
        "    shutil.copy(tcf, '/content/drive/MyDrive/')"
      ],
      "execution_count": null,
      "outputs": []
    },
    {
      "cell_type": "code",
      "metadata": {
        "id": "D78AM1fFt2ty"
      },
      "source": [
        "drive.flush_and_unmount()\n",
        "print('All changes made in this colab session should now be visible in Drive.')"
      ],
      "execution_count": null,
      "outputs": []
    }
  ]
}